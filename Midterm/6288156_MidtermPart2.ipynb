{
 "cells": [
  {
   "cell_type": "code",
   "execution_count": 2,
   "id": "b6fb1d25",
   "metadata": {},
   "outputs": [],
   "source": [
    "#By Sirada Vitoonvarakorn (Grace) 6288156\n",
    "#import library\n",
    "import os\n",
    "import pandas as pd\n",
    "import numpy as np\n",
    "import matplotlib.pyplot as plt\n",
    "import seaborn as sns\n",
    "%matplotlib inline"
   ]
  },
  {
   "cell_type": "markdown",
   "id": "5f4de477",
   "metadata": {},
   "source": [
    "## 1. Data Preparation"
   ]
  },
  {
   "cell_type": "markdown",
   "id": "24c27851",
   "metadata": {},
   "source": [
    "To begin with the dataset for machine learning, we first have to prepare and clean the data by removing any unnecessary values, drop/fill in blank values to make the dataset ready for machine learning. "
   ]
  },
  {
   "cell_type": "code",
   "execution_count": 3,
   "id": "a165b08f",
   "metadata": {},
   "outputs": [],
   "source": [
    "#Load dataset.csv\n",
    "df = pd.read_csv('fire.csv')"
   ]
  },
  {
   "cell_type": "code",
   "execution_count": 4,
   "id": "ff3b9df7",
   "metadata": {},
   "outputs": [
    {
     "data": {
      "text/plain": [
       "(17442, 7)"
      ]
     },
     "execution_count": 4,
     "metadata": {},
     "output_type": "execute_result"
    }
   ],
   "source": [
    "# Dataframe dimensions\n",
    "df.shape"
   ]
  },
  {
   "cell_type": "code",
   "execution_count": 5,
   "id": "a784dccf",
   "metadata": {},
   "outputs": [
    {
     "data": {
      "text/html": [
       "<div>\n",
       "<style scoped>\n",
       "    .dataframe tbody tr th:only-of-type {\n",
       "        vertical-align: middle;\n",
       "    }\n",
       "\n",
       "    .dataframe tbody tr th {\n",
       "        vertical-align: top;\n",
       "    }\n",
       "\n",
       "    .dataframe thead th {\n",
       "        text-align: right;\n",
       "    }\n",
       "</style>\n",
       "<table border=\"1\" class=\"dataframe\">\n",
       "  <thead>\n",
       "    <tr style=\"text-align: right;\">\n",
       "      <th></th>\n",
       "      <th>SIZE</th>\n",
       "      <th>FUEL</th>\n",
       "      <th>DISTANCE</th>\n",
       "      <th>DESIBEL</th>\n",
       "      <th>AIRFLOW</th>\n",
       "      <th>FREQUENCY</th>\n",
       "      <th>STATUS</th>\n",
       "    </tr>\n",
       "  </thead>\n",
       "  <tbody>\n",
       "    <tr>\n",
       "      <th>0</th>\n",
       "      <td>1.0</td>\n",
       "      <td>gasoline</td>\n",
       "      <td>10.0</td>\n",
       "      <td>96.0</td>\n",
       "      <td>0.0</td>\n",
       "      <td>75.0</td>\n",
       "      <td>0</td>\n",
       "    </tr>\n",
       "    <tr>\n",
       "      <th>1</th>\n",
       "      <td>1.0</td>\n",
       "      <td>NaN</td>\n",
       "      <td>10.0</td>\n",
       "      <td>96.0</td>\n",
       "      <td>0.0</td>\n",
       "      <td>72.0</td>\n",
       "      <td>1</td>\n",
       "    </tr>\n",
       "    <tr>\n",
       "      <th>2</th>\n",
       "      <td>1.0</td>\n",
       "      <td>gasoline</td>\n",
       "      <td>10.0</td>\n",
       "      <td>96.0</td>\n",
       "      <td>NaN</td>\n",
       "      <td>NaN</td>\n",
       "      <td>1</td>\n",
       "    </tr>\n",
       "    <tr>\n",
       "      <th>3</th>\n",
       "      <td>NaN</td>\n",
       "      <td>gasoline</td>\n",
       "      <td>10.0</td>\n",
       "      <td>96.0</td>\n",
       "      <td>NaN</td>\n",
       "      <td>68.0</td>\n",
       "      <td>1</td>\n",
       "    </tr>\n",
       "    <tr>\n",
       "      <th>4</th>\n",
       "      <td>1.0</td>\n",
       "      <td>gasoline</td>\n",
       "      <td>10.0</td>\n",
       "      <td>109.0</td>\n",
       "      <td>4.5</td>\n",
       "      <td>67.0</td>\n",
       "      <td>1</td>\n",
       "    </tr>\n",
       "    <tr>\n",
       "      <th>5</th>\n",
       "      <td>1.0</td>\n",
       "      <td>gasoline</td>\n",
       "      <td>10.0</td>\n",
       "      <td>109.0</td>\n",
       "      <td>7.8</td>\n",
       "      <td>66.0</td>\n",
       "      <td>1</td>\n",
       "    </tr>\n",
       "    <tr>\n",
       "      <th>6</th>\n",
       "      <td>1.0</td>\n",
       "      <td>gasoline</td>\n",
       "      <td>10.0</td>\n",
       "      <td>103.0</td>\n",
       "      <td>9.7</td>\n",
       "      <td>NaN</td>\n",
       "      <td>1</td>\n",
       "    </tr>\n",
       "    <tr>\n",
       "      <th>7</th>\n",
       "      <td>1.0</td>\n",
       "      <td>NaN</td>\n",
       "      <td>10.0</td>\n",
       "      <td>95.0</td>\n",
       "      <td>12.0</td>\n",
       "      <td>NaN</td>\n",
       "      <td>1</td>\n",
       "    </tr>\n",
       "    <tr>\n",
       "      <th>8</th>\n",
       "      <td>1.0</td>\n",
       "      <td>gasoline</td>\n",
       "      <td>10.0</td>\n",
       "      <td>102.0</td>\n",
       "      <td>13.3</td>\n",
       "      <td>NaN</td>\n",
       "      <td>1</td>\n",
       "    </tr>\n",
       "    <tr>\n",
       "      <th>9</th>\n",
       "      <td>1.0</td>\n",
       "      <td>gasoline</td>\n",
       "      <td>10.0</td>\n",
       "      <td>93.0</td>\n",
       "      <td>15.4</td>\n",
       "      <td>52.0</td>\n",
       "      <td>1</td>\n",
       "    </tr>\n",
       "  </tbody>\n",
       "</table>\n",
       "</div>"
      ],
      "text/plain": [
       "   SIZE      FUEL  DISTANCE  DESIBEL  AIRFLOW  FREQUENCY  STATUS\n",
       "0   1.0  gasoline      10.0     96.0      0.0       75.0       0\n",
       "1   1.0       NaN      10.0     96.0      0.0       72.0       1\n",
       "2   1.0  gasoline      10.0     96.0      NaN        NaN       1\n",
       "3   NaN  gasoline      10.0     96.0      NaN       68.0       1\n",
       "4   1.0  gasoline      10.0    109.0      4.5       67.0       1\n",
       "5   1.0  gasoline      10.0    109.0      7.8       66.0       1\n",
       "6   1.0  gasoline      10.0    103.0      9.7        NaN       1\n",
       "7   1.0       NaN      10.0     95.0     12.0        NaN       1\n",
       "8   1.0  gasoline      10.0    102.0     13.3        NaN       1\n",
       "9   1.0  gasoline      10.0     93.0     15.4       52.0       1"
      ]
     },
     "execution_count": 5,
     "metadata": {},
     "output_type": "execute_result"
    }
   ],
   "source": [
    "# First 10 rows of data\n",
    "df.head(10)"
   ]
  },
  {
   "cell_type": "code",
   "execution_count": 6,
   "id": "ab8b6c6b",
   "metadata": {},
   "outputs": [],
   "source": [
    "#Need to drop size and fuel column for default setting \n",
    "df.drop(['SIZE','FUEL'], inplace=True, axis=1)"
   ]
  },
  {
   "cell_type": "code",
   "execution_count": 7,
   "id": "1fdd732e",
   "metadata": {},
   "outputs": [
    {
     "data": {
      "text/plain": [
       "DISTANCE     3471\n",
       "DESIBEL      3424\n",
       "AIRFLOW      3393\n",
       "FREQUENCY    3566\n",
       "STATUS          0\n",
       "dtype: int64"
      ]
     },
     "execution_count": 7,
     "metadata": {},
     "output_type": "execute_result"
    }
   ],
   "source": [
    "# Missing data by feature\n",
    "df.isnull().sum()"
   ]
  },
  {
   "cell_type": "code",
   "execution_count": 8,
   "id": "4448402b",
   "metadata": {},
   "outputs": [],
   "source": [
    "#Make clean dataset by dropping each NaN columns one by one, use subset to prevent from lowering too many data. \n",
    "clean_df = df.dropna(subset=['DISTANCE', 'DESIBEL','AIRFLOW','FREQUENCY'])"
   ]
  },
  {
   "cell_type": "code",
   "execution_count": 9,
   "id": "d15f192b",
   "metadata": {},
   "outputs": [
    {
     "data": {
      "text/html": [
       "<div>\n",
       "<style scoped>\n",
       "    .dataframe tbody tr th:only-of-type {\n",
       "        vertical-align: middle;\n",
       "    }\n",
       "\n",
       "    .dataframe tbody tr th {\n",
       "        vertical-align: top;\n",
       "    }\n",
       "\n",
       "    .dataframe thead th {\n",
       "        text-align: right;\n",
       "    }\n",
       "</style>\n",
       "<table border=\"1\" class=\"dataframe\">\n",
       "  <thead>\n",
       "    <tr style=\"text-align: right;\">\n",
       "      <th></th>\n",
       "      <th>DISTANCE</th>\n",
       "      <th>DESIBEL</th>\n",
       "      <th>AIRFLOW</th>\n",
       "      <th>FREQUENCY</th>\n",
       "      <th>STATUS</th>\n",
       "    </tr>\n",
       "  </thead>\n",
       "  <tbody>\n",
       "    <tr>\n",
       "      <th>0</th>\n",
       "      <td>10.0</td>\n",
       "      <td>96.0</td>\n",
       "      <td>0.0</td>\n",
       "      <td>75.0</td>\n",
       "      <td>0</td>\n",
       "    </tr>\n",
       "    <tr>\n",
       "      <th>1</th>\n",
       "      <td>10.0</td>\n",
       "      <td>96.0</td>\n",
       "      <td>0.0</td>\n",
       "      <td>72.0</td>\n",
       "      <td>1</td>\n",
       "    </tr>\n",
       "    <tr>\n",
       "      <th>4</th>\n",
       "      <td>10.0</td>\n",
       "      <td>109.0</td>\n",
       "      <td>4.5</td>\n",
       "      <td>67.0</td>\n",
       "      <td>1</td>\n",
       "    </tr>\n",
       "    <tr>\n",
       "      <th>5</th>\n",
       "      <td>10.0</td>\n",
       "      <td>109.0</td>\n",
       "      <td>7.8</td>\n",
       "      <td>66.0</td>\n",
       "      <td>1</td>\n",
       "    </tr>\n",
       "    <tr>\n",
       "      <th>9</th>\n",
       "      <td>10.0</td>\n",
       "      <td>93.0</td>\n",
       "      <td>15.4</td>\n",
       "      <td>52.0</td>\n",
       "      <td>1</td>\n",
       "    </tr>\n",
       "    <tr>\n",
       "      <th>...</th>\n",
       "      <td>...</td>\n",
       "      <td>...</td>\n",
       "      <td>...</td>\n",
       "      <td>...</td>\n",
       "      <td>...</td>\n",
       "    </tr>\n",
       "    <tr>\n",
       "      <th>17433</th>\n",
       "      <td>190.0</td>\n",
       "      <td>92.0</td>\n",
       "      <td>2.0</td>\n",
       "      <td>9.0</td>\n",
       "      <td>0</td>\n",
       "    </tr>\n",
       "    <tr>\n",
       "      <th>17434</th>\n",
       "      <td>190.0</td>\n",
       "      <td>91.0</td>\n",
       "      <td>1.9</td>\n",
       "      <td>8.0</td>\n",
       "      <td>0</td>\n",
       "    </tr>\n",
       "    <tr>\n",
       "      <th>17436</th>\n",
       "      <td>190.0</td>\n",
       "      <td>87.0</td>\n",
       "      <td>2.5</td>\n",
       "      <td>6.0</td>\n",
       "      <td>0</td>\n",
       "    </tr>\n",
       "    <tr>\n",
       "      <th>17437</th>\n",
       "      <td>190.0</td>\n",
       "      <td>86.0</td>\n",
       "      <td>2.2</td>\n",
       "      <td>5.0</td>\n",
       "      <td>0</td>\n",
       "    </tr>\n",
       "    <tr>\n",
       "      <th>17438</th>\n",
       "      <td>190.0</td>\n",
       "      <td>84.0</td>\n",
       "      <td>2.0</td>\n",
       "      <td>4.0</td>\n",
       "      <td>0</td>\n",
       "    </tr>\n",
       "  </tbody>\n",
       "</table>\n",
       "<p>7199 rows × 5 columns</p>\n",
       "</div>"
      ],
      "text/plain": [
       "       DISTANCE  DESIBEL  AIRFLOW  FREQUENCY  STATUS\n",
       "0          10.0     96.0      0.0       75.0       0\n",
       "1          10.0     96.0      0.0       72.0       1\n",
       "4          10.0    109.0      4.5       67.0       1\n",
       "5          10.0    109.0      7.8       66.0       1\n",
       "9          10.0     93.0     15.4       52.0       1\n",
       "...         ...      ...      ...        ...     ...\n",
       "17433     190.0     92.0      2.0        9.0       0\n",
       "17434     190.0     91.0      1.9        8.0       0\n",
       "17436     190.0     87.0      2.5        6.0       0\n",
       "17437     190.0     86.0      2.2        5.0       0\n",
       "17438     190.0     84.0      2.0        4.0       0\n",
       "\n",
       "[7199 rows x 5 columns]"
      ]
     },
     "execution_count": 9,
     "metadata": {},
     "output_type": "execute_result"
    }
   ],
   "source": [
    "clean_df"
   ]
  },
  {
   "cell_type": "code",
   "execution_count": 10,
   "id": "4066d867",
   "metadata": {},
   "outputs": [
    {
     "data": {
      "text/plain": [
       "DISTANCE     0\n",
       "DESIBEL      0\n",
       "AIRFLOW      0\n",
       "FREQUENCY    0\n",
       "STATUS       0\n",
       "dtype: int64"
      ]
     },
     "execution_count": 10,
     "metadata": {},
     "output_type": "execute_result"
    }
   ],
   "source": [
    "clean_df.isnull().sum()"
   ]
  },
  {
   "cell_type": "markdown",
   "id": "c93136cd",
   "metadata": {},
   "source": [
    "## 2. Feature Selection\n",
    "To find the best features to select for the machine learning from these four features, we do the comparison by..."
   ]
  },
  {
   "cell_type": "code",
   "execution_count": 70,
   "id": "436e025e",
   "metadata": {},
   "outputs": [
    {
     "name": "stderr",
     "output_type": "stream",
     "text": [
      "C:\\Users\\AAA\\AppData\\Local\\Temp/ipykernel_6208/3808552847.py:3: DeprecationWarning: `np.bool` is a deprecated alias for the builtin `bool`. To silence this warning, use `bool` by itself. Doing this will not modify any behavior and is safe. If you specifically wanted the numpy scalar type, use `np.bool_` here.\n",
      "Deprecated in NumPy 1.20; for more details and guidance: https://numpy.org/devdocs/release/1.20.0-notes.html#deprecations\n",
      "  sns.heatmap(corr, mask=np.zeros_like(corr, dtype=np.bool), cmap=sns.diverging_palette(200,10,as_cmap=True),\n"
     ]
    },
    {
     "data": {
      "text/plain": [
       "<AxesSubplot:>"
      ]
     },
     "execution_count": 70,
     "metadata": {},
     "output_type": "execute_result"
    },
    {
     "data": {
      "image/png": "[encoded data removed]",
      "text/plain": [
       "<Figure size 720x576 with 2 Axes>"
      ]
     },
     "metadata": {
      "needs_background": "light"
     },
     "output_type": "display_data"
    }
   ],
   "source": [
    "fi, axis = plt.subplots(figsize=(10, 8))\n",
    "corr = clean_df.corr()\n",
    "sns.heatmap(corr, mask=np.zeros_like(corr, dtype=np.bool), cmap=sns.diverging_palette(200,10,as_cmap=True), \n",
    "           square=True, ax=axis)"
   ]
  },
  {
   "cell_type": "code",
   "execution_count": 98,
   "id": "5f9129f9",
   "metadata": {},
   "outputs": [
    {
     "data": {
      "text/plain": [
       "<seaborn.axisgrid.FacetGrid at 0x2170a49deb0>"
      ]
     },
     "execution_count": 98,
     "metadata": {},
     "output_type": "execute_result"
    },
    {
     "data": {
      "image/png": "[encoded data removed]",
      "text/plain": [
       "<Figure size 765.25x360 with 1 Axes>"
      ]
     },
     "metadata": {
      "needs_background": "light"
     },
     "output_type": "display_data"
    }
   ],
   "source": [
    "sns.displot(data=clean_df, x=\"DISTANCE\", hue='STATUS', kde=True,palette='pastel', aspect=2)"
   ]
  },
  {
   "cell_type": "code",
   "execution_count": 99,
   "id": "10dcee26",
   "metadata": {},
   "outputs": [
    {
     "data": {
      "text/plain": [
       "<seaborn.axisgrid.FacetGrid at 0x2170d297520>"
      ]
     },
     "execution_count": 99,
     "metadata": {},
     "output_type": "execute_result"
    },
    {
     "data": {
      "image/png": "[encoded data removed]",
      "text/plain": [
       "<Figure size 765.25x360 with 1 Axes>"
      ]
     },
     "metadata": {
      "needs_background": "light"
     },
     "output_type": "display_data"
    }
   ],
   "source": [
    "sns.displot(data=clean_df, x=\"AIRFLOW\", hue='STATUS', kde=True,palette='pastel', aspect=2)"
   ]
  },
  {
   "cell_type": "code",
   "execution_count": 100,
   "id": "976c5cf9",
   "metadata": {},
   "outputs": [
    {
     "data": {
      "text/plain": [
       "<seaborn.axisgrid.FacetGrid at 0x2170d1d7af0>"
      ]
     },
     "execution_count": 100,
     "metadata": {},
     "output_type": "execute_result"
    },
    {
     "data": {
      "image/png": "[encoded data removed]",
      "text/plain": [
       "<Figure size 765.25x360 with 1 Axes>"
      ]
     },
     "metadata": {
      "needs_background": "light"
     },
     "output_type": "display_data"
    }
   ],
   "source": [
    "sns.displot(data=clean_df, x=\"FREQUENCY\", hue='STATUS',palette='pastel',kde=True, aspect=2)"
   ]
  },
  {
   "cell_type": "code",
   "execution_count": 101,
   "id": "9b569fd0",
   "metadata": {},
   "outputs": [
    {
     "data": {
      "text/plain": [
       "<seaborn.axisgrid.FacetGrid at 0x2170a50d610>"
      ]
     },
     "execution_count": 101,
     "metadata": {},
     "output_type": "execute_result"
    },
    {
     "data": {
      "image/png": "[encoded data removed]",
      "text/plain": [
       "<Figure size 765.25x360 with 1 Axes>"
      ]
     },
     "metadata": {
      "needs_background": "light"
     },
     "output_type": "display_data"
    }
   ],
   "source": [
    "sns.displot(data=clean_df, x=\"DESIBEL\", hue='STATUS', kde=True,palette='pastel', aspect=2)"
   ]
  },
  {
   "cell_type": "code",
   "execution_count": 102,
   "id": "46775c04",
   "metadata": {},
   "outputs": [
    {
     "name": "stdout",
     "output_type": "stream",
     "text": [
      "Best features: Index(['DISTANCE', 'AIRFLOW', 'STATUS'], dtype='object')\n"
     ]
    }
   ],
   "source": [
    "#REF: RFE FEATURE SELECTION TRAIN FROM https://www.kaggle.com/kanncaa1/feature-selection-and-data-visualization/notebook\n",
    "\n",
    "from sklearn.model_selection import train_test_split\n",
    "from sklearn.ensemble import RandomForestClassifier\n",
    "from sklearn.metrics import f1_score,confusion_matrix\n",
    "from sklearn.metrics import accuracy_score\n",
    "\n",
    "# split data train 70 % and test 30 %\n",
    "x_train, x_test, y_train, y_test = train_test_split(clean_df, clean_df.STATUS, test_size=0.3, random_state=42)\n",
    "\n",
    "#random forest classifier with n_estimators=10 (default)\n",
    "clf_rf = RandomForestClassifier(random_state=43)      \n",
    "clr_rf = clf_rf.fit(x_train,y_train)\n",
    "\n",
    "from sklearn.feature_selection import RFE\n",
    "# Create the RFE object and rank each pixel\n",
    "clf_rf_3 = RandomForestClassifier()      \n",
    "rfe = RFE(estimator=clf_rf_3, n_features_to_select=3, step=1)\n",
    "rfe = rfe.fit(x_train, y_train)\n",
    "\n",
    "print('Best features:',x_train.columns[rfe.support_])"
   ]
  },
  {
   "cell_type": "markdown",
   "id": "693b172d",
   "metadata": {},
   "source": [
    "By observing from the following visual inspection. It has come to the conclusion that the distance, afterflow may be the best features to be used in machine learning as it has high connection with the status to how the fire can be extinguish succesfully or not. While the frequency and desibel features could be a bit random and unstable at times. \n",
    "\n",
    "The reason I also used RandomForestClassifier in order to do feature selection training because random forests are generally have good predictive performance as they calculate the importance of each variable in the section. Thus occasionally give a good result without having to overfit the values. "
   ]
  },
  {
   "cell_type": "markdown",
   "id": "fbf1ea78",
   "metadata": {},
   "source": [
    "## 3. Prepare training and testing datasets for Machine Learning\n"
   ]
  },
  {
   "cell_type": "code",
   "execution_count": 76,
   "id": "9ddf92b8",
   "metadata": {},
   "outputs": [],
   "source": [
    "X = clean_df.drop(columns=['STATUS']).values\n",
    "y = clean_df['STATUS'].values"
   ]
  },
  {
   "cell_type": "code",
   "execution_count": 77,
   "id": "b3e43022",
   "metadata": {},
   "outputs": [
    {
     "name": "stdout",
     "output_type": "stream",
     "text": [
      "Training set: (5759, 4), (5759,)\n",
      "Validation set: (720, 4), (720,)\n",
      "Test set: (720, 4), (720,)\n"
     ]
    }
   ],
   "source": [
    "from sklearn.model_selection import train_test_split\n",
    "\n",
    "# YOUR CODE HERE\n",
    "X_train, X_test, y_train, y_test = train_test_split(\n",
    "    X, y, \n",
    "    random_state=42,\n",
    "    test_size=0.20)\n",
    "X_valid, X_test, y_valid, y_test = train_test_split(\n",
    "    X_test, y_test,\n",
    "    random_state=42,\n",
    "    test_size=0.50)\n",
    "\n",
    "print(f'Training set: {X_train.shape}, {y_train.shape}')\n",
    "print(f'Validation set: {X_valid.shape}, {y_valid.shape}')\n",
    "print(f'Test set: {X_test.shape}, {y_test.shape}')"
   ]
  },
  {
   "cell_type": "markdown",
   "id": "afb549b4",
   "metadata": {},
   "source": [
    "## 4. Model Selection"
   ]
  },
  {
   "cell_type": "markdown",
   "id": "31a1b639",
   "metadata": {},
   "source": [
    "For selecting the best model option for machine learning. After consideration I decided to lower the option down to two, which is DecisionTreeClassifier and RandomTreeClassifier as both models are generally preferred for classification problems. And as we are focusing on predicting only one class it is better to compute while also considering the value of the important variable, hence the two selections are being used for the machine learning today. "
   ]
  },
  {
   "cell_type": "code",
   "execution_count": 78,
   "id": "914ab297",
   "metadata": {},
   "outputs": [],
   "source": [
    "from sklearn.tree import DecisionTreeClassifier\n",
    "\n",
    "model = DecisionTreeClassifier()\n",
    "model = model.fit(X_train, y_train)"
   ]
  },
  {
   "cell_type": "markdown",
   "id": "eede6413",
   "metadata": {},
   "source": [
    "^From this point, we tried to first use the DecisionTreeClassifier because it is a basic approach in doing classification for machine learning. So it can predict the class from each of the split value in the dataset to be able to tell the desired value easily. "
   ]
  },
  {
   "cell_type": "code",
   "execution_count": 79,
   "id": "7faa2dc1",
   "metadata": {},
   "outputs": [],
   "source": [
    "# YOUR CODE HERE\n",
    "y_hat_train = model.predict(X_train)\n",
    "y_hat_valid = model.predict(X_valid)"
   ]
  },
  {
   "cell_type": "code",
   "execution_count": 80,
   "id": "bf2436cc",
   "metadata": {},
   "outputs": [
    {
     "name": "stdout",
     "output_type": "stream",
     "text": [
      "Training Set\n",
      "[[2675  213]\n",
      " [ 299 2572]]\n",
      "Accuracy: 0.911\n",
      "Precision: 0.924\n",
      "Recall: 0.896\n",
      "F1-score: 0.909\n",
      "\n",
      "Validation Set\n",
      "[[319  32]\n",
      " [ 48 321]]\n",
      "Accuracy: 0.889\n",
      "Precision: 0.909\n",
      "Recall: 0.870\n",
      "F1-score: 0.889\n"
     ]
    }
   ],
   "source": [
    "from sklearn.metrics import confusion_matrix\n",
    "from sklearn.metrics import accuracy_score, precision_score, recall_score, f1_score\n",
    "\n",
    "print('Training Set')\n",
    "print(confusion_matrix(y_true=y_train, y_pred=y_hat_train))\n",
    "print(f'Accuracy: {accuracy_score(y_true=y_train, y_pred=y_hat_train):.3f}')\n",
    "print(f'Precision: {precision_score(y_true=y_train, y_pred=y_hat_train):.3f}')\n",
    "print(f'Recall: {recall_score(y_true=y_train, y_pred=y_hat_train):.3f}')\n",
    "print(f'F1-score: {f1_score(y_true=y_train, y_pred=y_hat_train):.3f}')\n",
    "print('')\n",
    "print('Validation Set')\n",
    "print(confusion_matrix(y_true=y_valid, y_pred=y_hat_valid))\n",
    "print(f'Accuracy: {accuracy_score(y_true=y_valid, y_pred=y_hat_valid):.3f}')\n",
    "print(f'Precision: {precision_score(y_true=y_valid, y_pred=y_hat_valid):.3f}')\n",
    "print(f'Recall: {recall_score(y_true=y_valid, y_pred=y_hat_valid):.3f}')\n",
    "print(f'F1-score: {f1_score(y_true=y_valid, y_pred=y_hat_valid):.3f}')"
   ]
  },
  {
   "cell_type": "code",
   "execution_count": 81,
   "id": "427bd6cd",
   "metadata": {},
   "outputs": [],
   "source": [
    "y_hat_test = model.predict(X_test)"
   ]
  },
  {
   "cell_type": "code",
   "execution_count": 82,
   "id": "684426b4",
   "metadata": {},
   "outputs": [
    {
     "name": "stdout",
     "output_type": "stream",
     "text": [
      "\n",
      "Test Set\n",
      "Accuracy: 0.882\n",
      "F1-score: 0.874\n"
     ]
    }
   ],
   "source": [
    "print('\\nTest Set')\n",
    "print(f'Accuracy: {accuracy_score(y_true=y_test, y_pred=y_hat_test):.3f}')\n",
    "print(f'F1-score: {f1_score(y_true=y_test, y_pred=y_hat_test):.3f}')"
   ]
  },
  {
   "cell_type": "code",
   "execution_count": 92,
   "id": "e07b4ae6",
   "metadata": {},
   "outputs": [],
   "source": [
    "from sklearn.ensemble import RandomForestClassifier\n",
    "from sklearn.preprocessing import StandardScaler\n",
    "\n",
    "scaler = StandardScaler()\n",
    "scaler.fit(X_train)\n",
    "s_X_train = scaler.transform(X_train)\n",
    "model = RandomForestClassifier(n_estimators=100, max_depth=8, min_samples_leaf=4)\n",
    "model = model.fit(s_X_train, y_train)"
   ]
  },
  {
   "cell_type": "markdown",
   "id": "22dde500",
   "metadata": {},
   "source": [
    "^I also tried doing Random Forest Classifier with the same reason done in Feature Selection. For good predictive results and lessen the overfitting, this time also introduce the StandardScaler in order to normalize the variables before applying to the machine model. I also messed with the parameters from n_estimators to max_depth as well as min_sample_leaf. The reason I decided to use these amounts is also because 100 is the default amount number of forests for balance. Max depth at 8 as I think is the balaneced amount for the dataset as more depth requires even more computational amount and strain on the model. The min_samples_leaf is also set to 4 as it can look at more observation before split, helping to less the risk to get overfitting values. "
   ]
  },
  {
   "cell_type": "code",
   "execution_count": 95,
   "id": "35bf8c89",
   "metadata": {},
   "outputs": [],
   "source": [
    "y_hat_train = model.predict(s_X_train)\n",
    "s_X_valid = scaler.transform(X_valid)\n",
    "y_hat_valid = model.predict(s_X_valid)"
   ]
  },
  {
   "cell_type": "code",
   "execution_count": 96,
   "id": "77ea7408",
   "metadata": {},
   "outputs": [
    {
     "name": "stdout",
     "output_type": "stream",
     "text": [
      "Training Set\n",
      "[[2639  249]\n",
      " [ 278 2593]]\n",
      "Accuracy: 0.908\n",
      "Precision: 0.912\n",
      "Recall: 0.903\n",
      "F1-score: 0.908\n",
      "\n",
      "Validation Set\n",
      "[[316  35]\n",
      " [ 42 327]]\n",
      "Accuracy: 0.893\n",
      "Precision: 0.903\n",
      "Recall: 0.886\n",
      "F1-score: 0.895\n",
      "\n",
      "Test Set\n",
      "Accuracy: 0.903\n",
      "F1-score: 0.899\n"
     ]
    }
   ],
   "source": [
    "from sklearn.metrics import confusion_matrix\n",
    "from sklearn.metrics import accuracy_score, precision_score, recall_score, f1_score\n",
    "\n",
    "print('Training Set')\n",
    "print(confusion_matrix(y_true=y_train, y_pred=y_hat_train))\n",
    "print(f'Accuracy: {accuracy_score(y_true=y_train, y_pred=y_hat_train):.3f}')\n",
    "print(f'Precision: {precision_score(y_true=y_train, y_pred=y_hat_train):.3f}')\n",
    "print(f'Recall: {recall_score(y_true=y_train, y_pred=y_hat_train):.3f}')\n",
    "print(f'F1-score: {f1_score(y_true=y_train, y_pred=y_hat_train):.3f}')\n",
    "print('')\n",
    "print('Validation Set')\n",
    "print(confusion_matrix(y_true=y_valid, y_pred=y_hat_valid))\n",
    "print(f'Accuracy: {accuracy_score(y_true=y_valid, y_pred=y_hat_valid):.3f}')\n",
    "print(f'Precision: {precision_score(y_true=y_valid, y_pred=y_hat_valid):.3f}')\n",
    "print(f'Recall: {recall_score(y_true=y_valid, y_pred=y_hat_valid):.3f}')\n",
    "print(f'F1-score: {f1_score(y_true=y_valid, y_pred=y_hat_valid):.3f}')\n",
    "\n",
    "s_X_test = scaler.transform(X_test)\n",
    "y_hat_test = model.predict(s_X_test)\n",
    "\n",
    "print('\\nTest Set')\n",
    "print(f'Accuracy: {accuracy_score(y_true=y_test, y_pred=y_hat_test):.3f}')\n",
    "print(f'F1-score: {f1_score(y_true=y_test, y_pred=y_hat_test):.3f}')"
   ]
  },
  {
   "cell_type": "markdown",
   "id": "25ca1200",
   "metadata": {},
   "source": [
    "## 5. Conclusion"
   ]
  },
  {
   "cell_type": "markdown",
   "id": "9f128413",
   "metadata": {},
   "source": [
    "In conclusion, from the prediction model results I think that it is possible to solve the prediction task with the given features left even if we are unable to use the fuel or the fire size features in order to get the class whether the fire is in extinction or non-extinction state. As per mentioned in the feature selection. The key features that would provide the decisive role in determining the results would be the distance and the airflow features as the more distance is, the lesser chance the fire will be extinguished. The more airflow is then the higher chance the fire will be extinguished as well. The best model to select for the Machine Learning however would have to be the RandomForestClassifier as it provides a more balanced results in the training and validation set, as well as better result in the test set later on when compared to the DecisionTreeClassifier."
   ]
  },
  {
   "cell_type": "code",
   "execution_count": null,
   "id": "f07f83ad",
   "metadata": {},
   "outputs": [],
   "source": []
  }
 ],
 "metadata": {
  "kernelspec": {
   "display_name": "Python 3 (ipykernel)",
   "language": "python",
   "name": "python3"
  },
  "language_info": {
   "codemirror_mode": {
    "name": "ipython",
    "version": 3
   },
   "file_extension": ".py",
   "mimetype": "text/x-python",
   "name": "python",
   "nbconvert_exporter": "python",
   "pygments_lexer": "ipython3",
   "version": "3.9.7"
  }
 },
 "nbformat": 4,
 "nbformat_minor": 5
}
