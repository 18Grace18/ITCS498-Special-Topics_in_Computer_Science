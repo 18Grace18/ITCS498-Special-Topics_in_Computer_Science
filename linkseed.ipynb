{
 "cells": [
  {
   "cell_type": "code",
   "execution_count": 1,
   "id": "a511a437",
   "metadata": {},
   "outputs": [],
   "source": [
    "import requests\n",
    "import pandas as pd\n",
    "import json\n",
    "from bs4 import BeautifulSoup\n",
    "from selenium import webdriver\n",
    "from selenium.webdriver.common.keys import Keys\n",
    "import time"
   ]
  },
  {
   "cell_type": "code",
   "execution_count": 2,
   "id": "f746f637",
   "metadata": {},
   "outputs": [
    {
     "name": "stderr",
     "output_type": "stream",
     "text": [
      "C:\\Users\\AAA\\AppData\\Local\\Temp\\ipykernel_14380\\3428977919.py:1: DeprecationWarning: executable_path has been deprecated, please pass in a Service object\n",
      "  driver = webdriver.Chrome(executable_path=r'C:\\Users\\AAA\\Desktop\\Computer Science\\KBTG\\chromedriver')\n"
     ]
    }
   ],
   "source": [
    "driver = webdriver.Chrome(executable_path=r'C:\\Users\\AAA\\Desktop\\Computer Science\\KBTG\\chromedriver')\n",
    "driver.get('https://www.baania.com/s/%E0%B8%97%E0%B8%B1%E0%B9%89%E0%B8%87%E0%B8%AB%E0%B8%A1%E0%B8%94/listing?propertyType=2&province=3781&sort.updated=d')\n",
    "time.sleep(2) \n",
    "#driver.execute_script(\"document.body.style.zoom='100%'\")\n",
    "#data = driver.page_source"
   ]
  },
  {
   "cell_type": "code",
   "execution_count": 3,
   "id": "5d844833",
   "metadata": {},
   "outputs": [
    {
     "name": "stderr",
     "output_type": "stream",
     "text": [
      "C:\\Users\\AAA\\AppData\\Local\\Temp\\ipykernel_14380\\1945983425.py:1: DeprecationWarning: find_element_by_xpath is deprecated. Please use find_element(by=By.XPATH, value=xpath) instead\n",
      "  popup_button = driver.find_element_by_xpath('/html/body/div[6]/div/div/div/div/div/div')\n"
     ]
    }
   ],
   "source": [
    "popup_button = driver.find_element_by_xpath('/html/body/div[6]/div/div/div/div/div/div')\n",
    "popup_button.click()"
   ]
  },
  {
   "cell_type": "code",
   "execution_count": 4,
   "id": "94576bf1",
   "metadata": {},
   "outputs": [
    {
     "name": "stderr",
     "output_type": "stream",
     "text": [
      "C:\\Users\\AAA\\AppData\\Local\\Temp\\ipykernel_14380\\3747176346.py:1: DeprecationWarning: find_element_by_xpath is deprecated. Please use find_element(by=By.XPATH, value=xpath) instead\n",
      "  input_button = driver.find_element_by_xpath('/html/body/div[2]/div[1]/header/div/div/div/div/div/div[1]')\n"
     ]
    }
   ],
   "source": [
    "input_button = driver.find_element_by_xpath('/html/body/div[2]/div[1]/header/div/div/div/div/div/div[1]')\n",
    "input_button.click() "
   ]
  },
  {
   "cell_type": "code",
   "execution_count": 5,
   "id": "c4e21d65",
   "metadata": {},
   "outputs": [
    {
     "name": "stderr",
     "output_type": "stream",
     "text": [
      "C:\\Users\\AAA\\AppData\\Local\\Temp\\ipykernel_14380\\2583403595.py:1: DeprecationWarning: find_element_by_xpath is deprecated. Please use find_element(by=By.XPATH, value=xpath) instead\n",
      "  search = driver.find_element_by_xpath('/html/body/div[6]/div/div/div[2]/div[1]/div/input')\n"
     ]
    }
   ],
   "source": [
    "search = driver.find_element_by_xpath('/html/body/div[6]/div/div/div[2]/div[1]/div/input')\n",
    "#search = driver.find_element_by_xpath('/html/body/div[2]/div[1]/header/div/div/div/div/div/div[1]/div[2]/div[1]/div/form/div/div[1]/div[1]/div[2]/input') \n",
    "\n",
    "query = 'Plum condo'\n",
    "search.send_keys(query)\n",
    "search.send_keys(Keys.ENTER)"
   ]
  },
  {
   "cell_type": "code",
   "execution_count": 6,
   "id": "5fc49a10",
   "metadata": {},
   "outputs": [
    {
     "name": "stdout",
     "output_type": "stream",
     "text": [
      "Link seed for Plum condo is:\n",
      "https://www.baania.com/s/Plum%20condo/listing?propertyType=2&province=3781&sellState=on-sale,sale-rent&sort.updated=d\n"
     ]
    }
   ],
   "source": [
    "time.sleep(3)\n",
    "find_linkseed = driver.current_url\n",
    "print(\"Link seed for \" + query + \":\\n\" + find_linkseed)"
   ]
  },
  {
   "cell_type": "code",
   "execution_count": null,
   "id": "761a0445",
   "metadata": {},
   "outputs": [],
   "source": []
  }
 ],
 "metadata": {
  "kernelspec": {
   "display_name": "Python 3 (ipykernel)",
   "language": "python",
   "name": "python3"
  },
  "language_info": {
   "codemirror_mode": {
    "name": "ipython",
    "version": 3
   },
   "file_extension": ".py",
   "mimetype": "text/x-python",
   "name": "python",
   "nbconvert_exporter": "python",
   "pygments_lexer": "ipython3",
   "version": "3.9.7"
  }
 },
 "nbformat": 4,
 "nbformat_minor": 5
}
