{
 "cells": [
  {
   "cell_type": "code",
   "execution_count": 1,
   "id": "1695cccf",
   "metadata": {},
   "outputs": [],
   "source": [
    "#!pip install icypher\n",
    "#!pip install neo4j\n",
    "#!pip install py2neo\n",
    "#!pip install ipycytoscape\n",
    "#!pip install neo4jupyter"
   ]
  },
  {
   "cell_type": "code",
   "execution_count": 2,
   "id": "d4683b95",
   "metadata": {},
   "outputs": [],
   "source": [
    "import random\n",
    "import ipycytoscape\n",
    "from py2neo import Graph, Node, Relationship"
   ]
  },
  {
   "cell_type": "code",
   "execution_count": 3,
   "id": "7c88e635",
   "metadata": {},
   "outputs": [],
   "source": [
    "# style for nodes with node names\n",
    "node_centered = {'selector': 'node',\n",
    "                 'style': {'font-size': '10px',\n",
    "                           'label': 'data(name)',\n",
    "                           'height': '60px',\n",
    "                           'width': '80px',\n",
    "                           'text-max-width': '80px',\n",
    "                           'text-wrap': 'wrap',\n",
    "                           'text-valign': 'center',\n",
    "                           'background-color': 'blue',\n",
    "                           'background-opacity': 0.6}\n",
    "                }\n",
    "\n",
    "# style for directed graph with arrows\n",
    "edge_directed = {'selector': 'edge',\n",
    "                 'style':  {'line-color': '#9dbaea',\n",
    "                            'curve-style': 'bezier',\n",
    "                            'target-arrow-shape': 'triangle',\n",
    "                            'target-arrow-color': '#9dbaea'}\n",
    "                }\n",
    "\n",
    "# style for directed graph with arrows and relationship names\n",
    "edge_directed_named = {'selector': 'edge',\n",
    "                       'style':  {'font-size': '8px',\n",
    "                                  'label': 'data(name)',\n",
    "                                  'line-color': '#9dbaea',\n",
    "                                  'text-rotation': 'autorotate',\n",
    "                                  'curve-style': 'bezier',\n",
    "                                  'target-arrow-shape': 'triangle',\n",
    "                                  'target-arrow-color': '#9dbaea'}\n",
    "                      }\n",
    "\n",
    "# style for undirected graph\n",
    "edge_undirected = {'selector': 'edge',\n",
    "                   'style':  {'line-color': '#9dbaea'}\n",
    "                  }"
   ]
  },
  {
   "cell_type": "code",
   "execution_count": 4,
   "id": "e97dd80f",
   "metadata": {},
   "outputs": [],
   "source": [
    "def random_color_palette(n_colors, seed=3):\n",
    "    \"\"\" \n",
    "    Creates a random color palette of n_colors \n",
    "    See https://stackoverflow.com/questions/28999287/generate-random-colors-rgb)\n",
    "    \n",
    "    \"\"\"\n",
    "    random.seed(seed)\n",
    "    return ['#'+''.join([random.choice('0123456789ABCDEF') for j in range(6)]) for i in range(n_colors)]"
   ]
  },
  {
   "cell_type": "code",
   "execution_count": 5,
   "id": "0341f93f",
   "metadata": {},
   "outputs": [],
   "source": [
    "#change everytime for new project\n",
    "graph = Graph(\"bolt://3.239.37.72:7687\", user=\"neo4j\", password=\"commendation-routes-winters\")"
   ]
  },
  {
   "cell_type": "code",
   "execution_count": 6,
   "id": "b0711a7d",
   "metadata": {},
   "outputs": [
    {
     "data": {
      "text/html": [
       "(No data)"
      ],
      "text/plain": [
       "(No data)"
      ]
     },
     "execution_count": 6,
     "metadata": {},
     "output_type": "execute_result"
    }
   ],
   "source": [
    "graph.run(\"CREATE CONSTRAINT ON (c:Client) ASSERT c.id IS UNIQUE;\")\n",
    "graph.run(\"CREATE CONSTRAINT ON (b:Bank) ASSERT b.id IS UNIQUE;\")\n",
    "graph.run(\"CREATE CONSTRAINT ON (m:Merchant) ASSERT m.id IS UNIQUE;\")\n",
    "graph.run(\"CREATE CONSTRAINT ON (m:Mule) ASSERT m.id IS UNIQUE;\")\n",
    "graph.run(\"CREATE CONSTRAINT ON (e:Email) ASSERT e.email IS UNIQUE;\")\n",
    "graph.run(\"CREATE CONSTRAINT ON (s:SSN) ASSERT s.ssn IS UNIQUE;\")\n",
    "graph.run(\"CREATE CONSTRAINT ON (p:Phone) ASSERT p.phoneNumber IS UNIQUE;\")"
   ]
  },
  {
   "cell_type": "code",
   "execution_count": 7,
   "id": "bfa37876",
   "metadata": {},
   "outputs": [
    {
     "data": {
      "text/html": [
       "(No data)"
      ],
      "text/plain": [
       "(No data)"
      ]
     },
     "execution_count": 7,
     "metadata": {},
     "output_type": "execute_result"
    }
   ],
   "source": [
    "#import client \n",
    "client  = \"\"\"\n",
    "LOAD CSV WITH HEADERS\n",
    "FROM 'https://raw.githubusercontent.com/18Grace18/ITCS498-Special-Topics_in_Computer_Science/main/clients.csv'\n",
    "AS row \n",
    "MERGE (c:Client {clientID: row.ID})\n",
    "ON CREATE SET\n",
    "c.email = row.EMAIL,\n",
    "c.id= row.ID,\n",
    "c.isfraud = row.ISFRAUD,\n",
    "c.name = row.NAME,\n",
    "c.phoneNumber = row.PHONENUMBER,\n",
    "c.ssn = row.SSN\n",
    "\"\"\"\n",
    "\n",
    "graph.run(client)"
   ]
  },
  {
   "cell_type": "code",
   "execution_count": 8,
   "id": "c1e643e2",
   "metadata": {
    "scrolled": true
   },
   "outputs": [],
   "source": [
    "unwind_email = graph.begin()\n",
    "unwind_email.run(\"\"\"\n",
    "MATCH (c:Client)\n",
    "UNWIND c.email AS email\n",
    "WITH  email, collect(c) AS emails\n",
    "MERGE (e:Email {email:email})\n",
    "WITH e, emails\n",
    "UNWIND emails AS c\n",
    "WITH e,c\n",
    "MERGE (c)-[:HAS_EMAIL]->(e);\n",
    "\"\"\")\n",
    "unwind_email.run(\"\"\"MATCH (c:Client) SET c.email = null\"\"\")\n",
    "\n",
    "graph.commit(unwind_email)"
   ]
  },
  {
   "cell_type": "code",
   "execution_count": 9,
   "id": "de1a2440",
   "metadata": {},
   "outputs": [],
   "source": [
    "unwind_ssn = graph.begin()\n",
    "unwind_ssn.run(\"\"\"\n",
    "MATCH (c:Client)\n",
    "UNWIND c.ssn AS ssn\n",
    "WITH  ssn, collect(c) AS ssns\n",
    "MERGE (s:SSN {ssn:ssn})\n",
    "WITH s, ssns\n",
    "UNWIND ssns AS c\n",
    "WITH s,c\n",
    "MERGE (c)-[:HAS_SSN]->(s);\n",
    "\"\"\")\n",
    "unwind_ssn.run(\"\"\"MATCH (c:Client) SET c.ssn = null\"\"\")\n",
    "\n",
    "graph.commit(unwind_ssn)"
   ]
  },
  {
   "cell_type": "code",
   "execution_count": 10,
   "id": "d9573abd",
   "metadata": {},
   "outputs": [],
   "source": [
    "unwind_phone = graph.begin()\n",
    "unwind_phone.run(\"\"\"\n",
    "MATCH (c:Client)\n",
    "UNWIND c.phoneNumber AS phoneNumber\n",
    "WITH  phoneNumber, collect(c) AS phoneNumbers\n",
    "MERGE (p:Phone {phoneNumber:phoneNumber})\n",
    "WITH p, phoneNumbers\n",
    "UNWIND phoneNumbers AS c\n",
    "WITH p,c\n",
    "MERGE (c)-[:HAS_PHONE]->(p);\n",
    "\"\"\")\n",
    "unwind_phone.run(\"\"\"MATCH (c:Client) SET c.phoneNumber = null\"\"\")\n",
    "\n",
    "graph.commit(unwind_phone)"
   ]
  },
  {
   "cell_type": "code",
   "execution_count": 11,
   "id": "c100181a",
   "metadata": {},
   "outputs": [
    {
     "data": {
      "text/html": [
       "(No data)"
      ],
      "text/plain": [
       "(No data)"
      ]
     },
     "execution_count": 11,
     "metadata": {},
     "output_type": "execute_result"
    }
   ],
   "source": [
    "#import merchant\n",
    "merchant = \"\"\"\n",
    "LOAD CSV WITH HEADERS\n",
    "FROM 'https://raw.githubusercontent.com/18Grace18/ITCS498-Special-Topics_in_Computer_Science/main/merchants.csv'\n",
    "AS row \n",
    "MERGE (m:Merchant {merchantID: row.ID})\n",
    "ON CREATE SET\n",
    "m.highrisk = row.HIGHRISK,\n",
    "m.id = row.ID,\n",
    "m.name = row.NAME\n",
    "\"\"\"\n",
    "\n",
    "graph.run(merchant)"
   ]
  },
  {
   "cell_type": "code",
   "execution_count": 12,
   "id": "e18bc289",
   "metadata": {},
   "outputs": [
    {
     "data": {
      "text/html": [
       "(No data)"
      ],
      "text/plain": [
       "(No data)"
      ]
     },
     "execution_count": 12,
     "metadata": {},
     "output_type": "execute_result"
    }
   ],
   "source": [
    "#import bank\n",
    "bank = \"\"\"\n",
    "LOAD CSV WITH HEADERS\n",
    "FROM 'https://raw.githubusercontent.com/18Grace18/ITCS498-Special-Topics_in_Computer_Science/main/transactions.csv'\n",
    "AS row\n",
    "WITH row WHERE row.TYPEDEST = \"BANK\"\n",
    "MERGE (b:Bank {bankID: row.IDDEST})\n",
    "ON CREATE SET\n",
    "b.id = row.IDDEST,\n",
    "b.name = row.NAMEDEST\n",
    "\"\"\"\n",
    "\n",
    "graph.run(bank)"
   ]
  },
  {
   "cell_type": "code",
   "execution_count": 13,
   "id": "06bdca8e",
   "metadata": {},
   "outputs": [
    {
     "data": {
      "text/html": [
       "(No data)"
      ],
      "text/plain": [
       "(No data)"
      ]
     },
     "execution_count": 13,
     "metadata": {},
     "output_type": "execute_result"
    }
   ],
   "source": [
    "#import mule\n",
    "mule1 = \"\"\"\n",
    "LOAD CSV WITH HEADERS\n",
    "FROM 'https://raw.githubusercontent.com/18Grace18/ITCS498-Special-Topics_in_Computer_Science/main/transactions.csv'\n",
    "AS row\n",
    "WITH row WHERE row.TYPEDEST = \"MULE\"\n",
    "MATCH (c:Client {id: row.IDDEST})\n",
    "SET c:Mule\n",
    "\"\"\"\n",
    "\n",
    "graph.run(mule1)"
   ]
  },
  {
   "cell_type": "code",
   "execution_count": 14,
   "id": "20383cbc",
   "metadata": {},
   "outputs": [
    {
     "data": {
      "text/html": [
       "(No data)"
      ],
      "text/plain": [
       "(No data)"
      ]
     },
     "execution_count": 14,
     "metadata": {},
     "output_type": "execute_result"
    }
   ],
   "source": [
    "mule2 = \"\"\"\n",
    "LOAD CSV WITH HEADERS\n",
    "FROM 'https://raw.githubusercontent.com/18Grace18/ITCS498-Special-Topics_in_Computer_Science/main/transactions.csv'\n",
    "AS row\n",
    "WITH row WHERE row.TYPEORIG = \"MULE\"\n",
    "MATCH (c:Client {id: row.IDORIG})\n",
    "SET c:Mule\n",
    "\"\"\"\n",
    "\n",
    "graph.run(mule2)"
   ]
  },
  {
   "cell_type": "code",
   "execution_count": 15,
   "id": "c660393a",
   "metadata": {},
   "outputs": [
    {
     "data": {
      "text/html": [
       "(No data)"
      ],
      "text/plain": [
       "(No data)"
      ]
     },
     "execution_count": 15,
     "metadata": {},
     "output_type": "execute_result"
    }
   ],
   "source": [
    "#import relationships\n",
    "#CASH_IN: Client -> Merchant\n",
    "#CASH_OUT: Client -> Merchant\n",
    "#PAYMENT: Client -> Merchant\n",
    "#TRANSFER: Client -> Client or Mule \n",
    "#DEBIT: Client -> Bank\n",
    "\n",
    "cash_in = \"\"\"\n",
    "LOAD CSV WITH HEADERS\n",
    "FROM 'https://raw.githubusercontent.com/18Grace18/ITCS498-Special-Topics_in_Computer_Science/main/transactions.csv'\n",
    "AS row\n",
    "WITH row WHERE row.ACTION = \"CASH_IN\" AND row.TYPEORIG = \"CLIENT\" AND row.TYPEDEST = \"MERCHANT\"\n",
    "MATCH (o:Client {id: row.IDORIG})\n",
    "MATCH (d:Merchant {id: row.IDDEST})\n",
    "MERGE (o)-[r:CASH_IN]->(d)\n",
    "ON CREATE\n",
    "SET r.amount=toInteger(row.AMOUNT),\n",
    "r.id=row.GLOBALSTEP,\n",
    "r.isFraud = row.ISFRAUD,\n",
    "r.nameDest = row.NAMEDEST,\n",
    "r.nameOrig = row.NAMEORIG\n",
    "\"\"\"\n",
    "\n",
    "graph.run(cash_in)"
   ]
  },
  {
   "cell_type": "code",
   "execution_count": 16,
   "id": "49623b15",
   "metadata": {},
   "outputs": [
    {
     "data": {
      "text/html": [
       "(No data)"
      ],
      "text/plain": [
       "(No data)"
      ]
     },
     "execution_count": 16,
     "metadata": {},
     "output_type": "execute_result"
    }
   ],
   "source": [
    "cash_out = \"\"\"\n",
    "LOAD CSV WITH HEADERS\n",
    "FROM 'https://raw.githubusercontent.com/18Grace18/ITCS498-Special-Topics_in_Computer_Science/main/transactions.csv'\n",
    "AS row\n",
    "WITH row WHERE row.ACTION = \"CASH_OUT\" AND row.TYPEORIG = \"CLIENT\" AND row.TYPEDEST = \"MERCHANT\"\n",
    "MATCH (o:Client {id: row.IDORIG})\n",
    "MATCH (d:Merchant {id: row.IDDEST})\n",
    "MERGE (o)-[r:CASH_OUT]->(d)\n",
    "ON CREATE\n",
    "SET r.amount=toInteger(row.AMOUNT),\n",
    "r.id=row.GLOBALSTEP,\n",
    "r.isFraud = row.ISFRAUD,\n",
    "r.nameDest = row.NAMEDEST,\n",
    "r.nameOrig = row.NAMEORIG\n",
    "\"\"\"\n",
    "\n",
    "graph.run(cash_out)"
   ]
  },
  {
   "cell_type": "code",
   "execution_count": 17,
   "id": "6afe1f2e",
   "metadata": {},
   "outputs": [
    {
     "data": {
      "text/html": [
       "(No data)"
      ],
      "text/plain": [
       "(No data)"
      ]
     },
     "execution_count": 17,
     "metadata": {},
     "output_type": "execute_result"
    }
   ],
   "source": [
    "payment = \"\"\"\n",
    "LOAD CSV WITH HEADERS\n",
    "FROM 'https://raw.githubusercontent.com/18Grace18/ITCS498-Special-Topics_in_Computer_Science/main/transactions.csv'\n",
    "AS row\n",
    "WITH row WHERE row.ACTION = \"PAYMENT\" AND row.TYPEORIG = \"CLIENT\" AND row.TYPEDEST = \"MERCHANT\"\n",
    "MATCH (o:Client {id: row.IDORIG})\n",
    "MATCH (d:Merchant {id: row.IDDEST})\n",
    "MERGE (o)-[r:PAYMENT]->(d)\n",
    "ON CREATE\n",
    "SET r.amount=toInteger(row.AMOUNT),\n",
    "r.id=row.GLOBALSTEP,\n",
    "r.isFraud = row.ISFRAUD,\n",
    "r.nameDest = row.NAMEDEST,\n",
    "r.nameOrig = row.NAMEORIG\n",
    "\"\"\"\n",
    "\n",
    "graph.run(payment)"
   ]
  },
  {
   "cell_type": "code",
   "execution_count": 18,
   "id": "e63aa2f6",
   "metadata": {},
   "outputs": [
    {
     "data": {
      "text/html": [
       "(No data)"
      ],
      "text/plain": [
       "(No data)"
      ]
     },
     "execution_count": 18,
     "metadata": {},
     "output_type": "execute_result"
    }
   ],
   "source": [
    "debit = \"\"\"\n",
    "LOAD CSV WITH HEADERS\n",
    "FROM 'https://raw.githubusercontent.com/18Grace18/ITCS498-Special-Topics_in_Computer_Science/main/transactions.csv'\n",
    "AS row\n",
    "WITH row WHERE row.ACTION = \"DEBIT\" AND row.TYPEORIG = \"CLIENT\" AND row.TYPEDEST = \"BANK\"\n",
    "MATCH (o:Client {id: row.IDORIG})\n",
    "MATCH (d:Bank {id: row.IDDEST})\n",
    "MERGE (o)-[r:DEBIT]->(d)\n",
    "ON CREATE\n",
    "SET r.amount=toInteger(row.AMOUNT),\n",
    "r.id=row.GLOBALSTEP,\n",
    "r.isFraud = row.ISFRAUD,\n",
    "r.nameDest = row.NAMEDEST,\n",
    "r.nameOrig = row.NAMEORIG\n",
    "\"\"\"\n",
    "\n",
    "graph.run(debit)"
   ]
  },
  {
   "cell_type": "code",
   "execution_count": 19,
   "id": "b53e1cac",
   "metadata": {},
   "outputs": [
    {
     "data": {
      "text/html": [
       "(No data)"
      ],
      "text/plain": [
       "(No data)"
      ]
     },
     "execution_count": 19,
     "metadata": {},
     "output_type": "execute_result"
    }
   ],
   "source": [
    "transfer_client = \"\"\"\n",
    "LOAD CSV WITH HEADERS\n",
    "FROM 'https://raw.githubusercontent.com/18Grace18/ITCS498-Special-Topics_in_Computer_Science/main/transactions.csv'\n",
    "AS row\n",
    "WITH row WHERE row.ACTION = \"TRANSFER\" AND row.TYPEORIG = \"CLIENT\" AND row.TYPEDEST = \"CLIENT\"\n",
    "MATCH (o:Client {id: row.IDORIG})\n",
    "MATCH (d:Client {id: row.IDDEST})\n",
    "MERGE (o)-[r:TRANSFER]->(d)\n",
    "ON CREATE\n",
    "SET r.amount=toInteger(row.AMOUNT),\n",
    "r.id=row.GLOBALSTEP,\n",
    "r.isFraud = row.ISFRAUD,\n",
    "r.nameDest = row.NAMEDEST,\n",
    "r.nameOrig = row.NAMEORIG\n",
    "\"\"\"\n",
    "\n",
    "graph.run(transfer_client)"
   ]
  },
  {
   "cell_type": "code",
   "execution_count": 20,
   "id": "9676cbc8",
   "metadata": {},
   "outputs": [
    {
     "data": {
      "text/html": [
       "(No data)"
      ],
      "text/plain": [
       "(No data)"
      ]
     },
     "execution_count": 20,
     "metadata": {},
     "output_type": "execute_result"
    }
   ],
   "source": [
    "transfer_mule = \"\"\"\n",
    "LOAD CSV WITH HEADERS\n",
    "FROM 'https://raw.githubusercontent.com/18Grace18/ITCS498-Special-Topics_in_Computer_Science/main/transactions.csv'\n",
    "AS row\n",
    "WITH row WHERE row.ACTION = \"TRANSFER\" AND row.TYPEORIG = \"CLIENT\" AND row.TYPEDEST = \"MULE\"\n",
    "MATCH (o:Client {id: row.IDORIG})\n",
    "MATCH (d:Mule {id: row.IDDEST})\n",
    "MERGE (o)-[r:TRANSFER]->(d)\n",
    "ON CREATE\n",
    "SET r.amount=toInteger(row.AMOUNT),\n",
    "r.id=row.GLOBALSTEP,\n",
    "r.isFraud = row.ISFRAUD,\n",
    "r.nameDest = row.NAMEDEST,\n",
    "r.nameOrig = row.NAMEORIG\n",
    "\"\"\"\n",
    "graph.run(transfer_mule)"
   ]
  },
  {
   "cell_type": "code",
   "execution_count": 21,
   "id": "305ca205",
   "metadata": {},
   "outputs": [
    {
     "data": {
      "text/html": [
       "<div>\n",
       "<style scoped>\n",
       "    .dataframe tbody tr th:only-of-type {\n",
       "        vertical-align: middle;\n",
       "    }\n",
       "\n",
       "    .dataframe tbody tr th {\n",
       "        vertical-align: top;\n",
       "    }\n",
       "\n",
       "    .dataframe thead th {\n",
       "        text-align: right;\n",
       "    }\n",
       "</style>\n",
       "<table border=\"1\" class=\"dataframe\">\n",
       "  <thead>\n",
       "    <tr style=\"text-align: right;\">\n",
       "      <th></th>\n",
       "      <th>c1.id</th>\n",
       "      <th>c2.id</th>\n",
       "      <th>freq</th>\n",
       "    </tr>\n",
       "  </thead>\n",
       "  <tbody>\n",
       "    <tr>\n",
       "      <th>0</th>\n",
       "      <td>4627465846191385</td>\n",
       "      <td>4040883736607030</td>\n",
       "      <td>2</td>\n",
       "    </tr>\n",
       "    <tr>\n",
       "      <th>1</th>\n",
       "      <td>4511492141916398</td>\n",
       "      <td>4101656599767539</td>\n",
       "      <td>1</td>\n",
       "    </tr>\n",
       "    <tr>\n",
       "      <th>2</th>\n",
       "      <td>4034960908626119</td>\n",
       "      <td>4762898444698945</td>\n",
       "      <td>1</td>\n",
       "    </tr>\n",
       "    <tr>\n",
       "      <th>3</th>\n",
       "      <td>4970667320743580</td>\n",
       "      <td>4997299681357575</td>\n",
       "      <td>1</td>\n",
       "    </tr>\n",
       "  </tbody>\n",
       "</table>\n",
       "</div>"
      ],
      "text/plain": [
       "              c1.id             c2.id  freq\n",
       "0  4627465846191385  4040883736607030     2\n",
       "1  4511492141916398  4101656599767539     1\n",
       "2  4034960908626119  4762898444698945     1\n",
       "3  4970667320743580  4997299681357575     1"
      ]
     },
     "execution_count": 21,
     "metadata": {},
     "output_type": "execute_result"
    }
   ],
   "source": [
    "#Identify clients sharing PII\n",
    "shared_pii = \"\"\"\n",
    "MATCH (c1:Client)-[:HAS_EMAIL|:HAS_PHONE|:HAS_SSN]->(n) <-[:HAS_EMAIL|:HAS_PHONE|:HAS_SSN]-(c2:Client)\n",
    "WHERE id(c1) < id(c2)\n",
    "RETURN c1.id, c2.id, count(*) AS freq\n",
    "ORDER BY freq DESC;\n",
    "\"\"\"\n",
    "\n",
    "graph.run(shared_pii).to_data_frame()"
   ]
  },
  {
   "cell_type": "code",
   "execution_count": 22,
   "id": "4f561336",
   "metadata": {},
   "outputs": [
    {
     "data": {
      "text/html": [
       "<table><tr><th>freq</th></tr><tr><td style=\"text-align:right\">8</td></tr></table>"
      ],
      "text/plain": [
       " freq \n",
       "------\n",
       "    8 "
      ]
     },
     "execution_count": 22,
     "metadata": {},
     "output_type": "execute_result"
    }
   ],
   "source": [
    "unique_pii = \"\"\"\n",
    "MATCH (c1:Client)-[:HAS_EMAIL|:HAS_PHONE|:HAS_SSN]->(n) <-[:HAS_EMAIL|:HAS_PHONE|:HAS_SSN]-(c2:Client)\n",
    "WHERE id(c1) <> id(c2)\n",
    "RETURN count(DISTINCT c1.id) AS freq;\"\"\"\n",
    "\n",
    "graph.run(unique_pii)"
   ]
  },
  {
   "cell_type": "code",
   "execution_count": 23,
   "id": "e84fb854",
   "metadata": {},
   "outputs": [
    {
     "data": {
      "text/html": [
       "(No data)"
      ],
      "text/plain": [
       "(No data)"
      ]
     },
     "execution_count": 23,
     "metadata": {},
     "output_type": "execute_result"
    }
   ],
   "source": [
    "#Create a new relationship to connect clients that share identifiers and add the number of shared identifiers as a property on that relationship\n",
    "shared_identifiers = \"\"\"MATCH (c1:Client)-[:HAS_EMAIL|:HAS_PHONE|:HAS_SSN] ->(n)<- [:HAS_EMAIL|:HAS_PHONE|:HAS_SSN]-(c2:Client)\n",
    "WHERE id(c1) < id(c2)\n",
    "WITH c1, c2, count(*) as cnt\n",
    "MERGE (c1) - [:SHARED_IDENTIFIERS {count: cnt}] -> (c2);\"\"\"\n",
    "\n",
    "graph.run(shared_identifiers)"
   ]
  },
  {
   "cell_type": "code",
   "execution_count": 24,
   "id": "fe9a7238",
   "metadata": {},
   "outputs": [
    {
     "data": {
      "text/html": [
       "<table><tr><th>p</th></tr><tr><td style=\"text-align:left\">(Kayden Payne)-[:SHARED_IDENTIFIERS {count: 1}]-&gt;(Tyler Turner)</td></tr><tr><td style=\"text-align:left\">(Tyler Leon)-[:SHARED_IDENTIFIERS {count: 2}]-&gt;(Aiden Burns)</td></tr><tr><td style=\"text-align:left\">(Lillian Atkins)-[:SHARED_IDENTIFIERS {count: 1}]-&gt;(Levi Moss)</td></tr></table>"
      ],
      "text/plain": [
       " p                                                               \n",
       "-----------------------------------------------------------------\n",
       " (Kayden Payne)-[:SHARED_IDENTIFIERS {count: 1}]->(Tyler Turner) \n",
       " (Tyler Leon)-[:SHARED_IDENTIFIERS {count: 2}]->(Aiden Burns)    \n",
       " (Lillian Atkins)-[:SHARED_IDENTIFIERS {count: 1}]->(Levi Moss)  "
      ]
     },
     "execution_count": 24,
     "metadata": {},
     "output_type": "execute_result"
    }
   ],
   "source": [
    "shared_identifiers1 = \"\"\"\n",
    "MATCH p = (:Client) - [s:SHARED_IDENTIFIERS] -> (:Client) WHERE s.count >= 1 RETURN p \n",
    "\"\"\"\n",
    "\n",
    "graph.run(shared_identifiers1)"
   ]
  },
  {
   "cell_type": "code",
   "execution_count": 25,
   "id": "bf8dca22",
   "metadata": {},
   "outputs": [
    {
     "name": "stdout",
     "output_type": "stream",
     "text": [
      "Node labels: ['Mule', 'Client']\n"
     ]
    },
    {
     "data": {
      "application/vnd.jupyter.widget-view+json": {
       "model_id": "5a5e9ac5d95249768581ff8fb6b1f95b",
       "version_major": 2,
       "version_minor": 0
      },
      "text/plain": [
       "CytoscapeWidget(cytoscape_layout={'name': 'cola', 'padding': 0, 'nodeSpacing': 65, 'nodeDimensionsIncludeLabel…"
      ]
     },
     "metadata": {},
     "output_type": "display_data"
    }
   ],
   "source": [
    "graph1 = graph.run(shared_identifiers1).to_subgraph()\n",
    "\n",
    "widget = ipycytoscape.CytoscapeWidget()\n",
    "widget.graph.add_graph_from_neo4j(graph1)\n",
    "\n",
    "style = [node_centered, edge_directed_named]\n",
    "labels = list(graph1.labels())\n",
    "print('Node labels:', labels)\n",
    "\n",
    "colors = random_color_palette(len(labels))\n",
    "\n",
    "for label, color in zip(labels, colors):\n",
    "    style.append({'selector': 'node[label = \"' + label + '\"]', 'style': {'background-color': color}})\n",
    "    \n",
    "widget.set_layout(name='cola', padding=0, nodeSpacing=65, nodeDimensionsIncludeLabels=True, unconstrIter=5000)\n",
    "widget.set_tooltip_source('tooltip')\n",
    "widget"
   ]
  },
  {
   "cell_type": "code",
   "execution_count": 26,
   "id": "5f31ed93",
   "metadata": {},
   "outputs": [
    {
     "data": {
      "text/html": [
       "<table><tr><th>graphName</th><th>nodeCount</th><th>relationshipCount</th><th>projectMillis</th></tr><tr><td style=\"text-align:left\">wcc</td><td style=\"text-align:right\">2129</td><td style=\"text-align:right\">8</td><td style=\"text-align:right\">876</td></tr></table>"
      ],
      "text/plain": [
       " graphName | nodeCount | relationshipCount | projectMillis \n",
       "-----------|-----------|-------------------|---------------\n",
       " wcc       |      2129 |                 8 |           876 "
      ]
     },
     "execution_count": 26,
     "metadata": {},
     "output_type": "execute_result"
    }
   ],
   "source": [
    "#Create project graph called 'wcc' to refer to gds library\n",
    "gds = \"\"\"\n",
    "CALL gds.graph.project('wcc',\n",
    "    {\n",
    "        Client: {\n",
    "            label: 'Client'\n",
    "        }\n",
    "    },\n",
    "    {\n",
    "        SHARED_IDENTIFIERS:{\n",
    "            type: 'SHARED_IDENTIFIERS',\n",
    "            orientation: 'UNDIRECTED',\n",
    "            properties: {\n",
    "                count: {\n",
    "                    property: 'count'\n",
    "                }\n",
    "            }\n",
    "        }\n",
    "    }\n",
    ") YIELD graphName,nodeCount,relationshipCount,projectMillis;\"\"\"\n",
    "\n",
    "graph.run(gds)"
   ]
  },
  {
   "cell_type": "code",
   "execution_count": 27,
   "id": "20ac3ea1",
   "metadata": {},
   "outputs": [
    {
     "data": {
      "text/html": [
       "<div>\n",
       "<style scoped>\n",
       "    .dataframe tbody tr th:only-of-type {\n",
       "        vertical-align: middle;\n",
       "    }\n",
       "\n",
       "    .dataframe tbody tr th {\n",
       "        vertical-align: top;\n",
       "    }\n",
       "\n",
       "    .dataframe thead th {\n",
       "        text-align: right;\n",
       "    }\n",
       "</style>\n",
       "<table border=\"1\" class=\"dataframe\">\n",
       "  <thead>\n",
       "    <tr style=\"text-align: right;\">\n",
       "      <th></th>\n",
       "      <th>clientId</th>\n",
       "      <th>componentId</th>\n",
       "    </tr>\n",
       "  </thead>\n",
       "  <tbody>\n",
       "    <tr>\n",
       "      <th>0</th>\n",
       "      <td>4403346685586374</td>\n",
       "      <td>0</td>\n",
       "    </tr>\n",
       "    <tr>\n",
       "      <th>1</th>\n",
       "      <td>4889592132732003</td>\n",
       "      <td>1</td>\n",
       "    </tr>\n",
       "    <tr>\n",
       "      <th>2</th>\n",
       "      <td>4876281590420864</td>\n",
       "      <td>2</td>\n",
       "    </tr>\n",
       "    <tr>\n",
       "      <th>3</th>\n",
       "      <td>4111314778042310</td>\n",
       "      <td>3</td>\n",
       "    </tr>\n",
       "    <tr>\n",
       "      <th>4</th>\n",
       "      <td>4756225504544454</td>\n",
       "      <td>4</td>\n",
       "    </tr>\n",
       "    <tr>\n",
       "      <th>5</th>\n",
       "      <td>4221203098728012</td>\n",
       "      <td>5</td>\n",
       "    </tr>\n",
       "    <tr>\n",
       "      <th>6</th>\n",
       "      <td>4948980857801641</td>\n",
       "      <td>6</td>\n",
       "    </tr>\n",
       "    <tr>\n",
       "      <th>7</th>\n",
       "      <td>4713875011658379</td>\n",
       "      <td>7</td>\n",
       "    </tr>\n",
       "    <tr>\n",
       "      <th>8</th>\n",
       "      <td>4905261316152319</td>\n",
       "      <td>8</td>\n",
       "    </tr>\n",
       "    <tr>\n",
       "      <th>9</th>\n",
       "      <td>4530290273653129</td>\n",
       "      <td>9</td>\n",
       "    </tr>\n",
       "    <tr>\n",
       "      <th>10</th>\n",
       "      <td>4745580981564332</td>\n",
       "      <td>10</td>\n",
       "    </tr>\n",
       "    <tr>\n",
       "      <th>11</th>\n",
       "      <td>4560248735199209</td>\n",
       "      <td>11</td>\n",
       "    </tr>\n",
       "    <tr>\n",
       "      <th>12</th>\n",
       "      <td>4472094239361557</td>\n",
       "      <td>12</td>\n",
       "    </tr>\n",
       "    <tr>\n",
       "      <th>13</th>\n",
       "      <td>4882234888667276</td>\n",
       "      <td>13</td>\n",
       "    </tr>\n",
       "    <tr>\n",
       "      <th>14</th>\n",
       "      <td>4889699965998161</td>\n",
       "      <td>14</td>\n",
       "    </tr>\n",
       "    <tr>\n",
       "      <th>15</th>\n",
       "      <td>4978060199279401</td>\n",
       "      <td>15</td>\n",
       "    </tr>\n",
       "    <tr>\n",
       "      <th>16</th>\n",
       "      <td>4117062741319265</td>\n",
       "      <td>16</td>\n",
       "    </tr>\n",
       "    <tr>\n",
       "      <th>17</th>\n",
       "      <td>4703706549747693</td>\n",
       "      <td>17</td>\n",
       "    </tr>\n",
       "    <tr>\n",
       "      <th>18</th>\n",
       "      <td>4544742466390244</td>\n",
       "      <td>18</td>\n",
       "    </tr>\n",
       "    <tr>\n",
       "      <th>19</th>\n",
       "      <td>4145736574359086</td>\n",
       "      <td>19</td>\n",
       "    </tr>\n",
       "  </tbody>\n",
       "</table>\n",
       "</div>"
      ],
      "text/plain": [
       "            clientId  componentId\n",
       "0   4403346685586374            0\n",
       "1   4889592132732003            1\n",
       "2   4876281590420864            2\n",
       "3   4111314778042310            3\n",
       "4   4756225504544454            4\n",
       "5   4221203098728012            5\n",
       "6   4948980857801641            6\n",
       "7   4713875011658379            7\n",
       "8   4905261316152319            8\n",
       "9   4530290273653129            9\n",
       "10  4745580981564332           10\n",
       "11  4560248735199209           11\n",
       "12  4472094239361557           12\n",
       "13  4882234888667276           13\n",
       "14  4889699965998161           14\n",
       "15  4978060199279401           15\n",
       "16  4117062741319265           16\n",
       "17  4703706549747693           17\n",
       "18  4544742466390244           18\n",
       "19  4145736574359086           19"
      ]
     },
     "execution_count": 27,
     "metadata": {},
     "output_type": "execute_result"
    }
   ],
   "source": [
    "#run Weakly connected components to find clusters of clients sharing PII.\n",
    "wcc = \"\"\"\n",
    "CALL gds.wcc.stream('wcc',\n",
    "    {\n",
    "        nodeLabels: ['Client'],\n",
    "        relationshipTypes: ['SHARED_IDENTIFIERS'],\n",
    "        consecutiveIds: true\n",
    "    }\n",
    ")\n",
    "YIELD nodeId, componentId\n",
    "RETURN gds.util.asNode(nodeId).id AS clientId, componentId\n",
    "ORDER BY componentId LIMIT 20\"\"\"\n",
    "\n",
    "graph.run(wcc).to_data_frame()"
   ]
  },
  {
   "cell_type": "code",
   "execution_count": 28,
   "id": "a99561a2",
   "metadata": {},
   "outputs": [
    {
     "data": {
      "text/html": [
       "(No data)"
      ],
      "text/plain": [
       "(No data)"
      ]
     },
     "execution_count": 28,
     "metadata": {},
     "output_type": "execute_result"
    }
   ],
   "source": [
    "#write results back to database and label the node that has more than one cluster size as for potential first party fraud group\n",
    "firstgroup = \"\"\"\n",
    "CALL gds.wcc.stream('wcc',\n",
    "    {\n",
    "        nodeLabels: ['Client'],\n",
    "        relationshipTypes: ['SHARED_IDENTIFIERS'],\n",
    "        consecutiveIds: true\n",
    "    }\n",
    ")\n",
    "YIELD componentId, nodeId\n",
    "WITH componentId AS cluster, gds.util.asNode(nodeId) AS client\n",
    "WITH cluster, collect(client.id) AS clients\n",
    "WITH cluster, clients, size(clients) AS clusterSize WHERE clusterSize > 1\n",
    "UNWIND clients AS client\n",
    "MATCH (c:Client) WHERE c.id = client\n",
    "SET c.firstPartyFraudGroup=cluster;\"\"\"\n",
    "\n",
    "graph.run(firstgroup)"
   ]
  },
  {
   "cell_type": "code",
   "execution_count": 29,
   "id": "b4107845",
   "metadata": {},
   "outputs": [
    {
     "data": {
      "text/html": [
       "<table><tr><th>graphName</th><th>nodeCount</th><th>relationshipCount</th><th>projectMillis</th></tr><tr><td style=\"text-align:left\">similarity</td><td style=\"text-align:right\">6390</td><td style=\"text-align:right\">24</td><td style=\"text-align:right\">2413</td></tr></table>"
      ],
      "text/plain": [
       " graphName  | nodeCount | relationshipCount | projectMillis \n",
       "------------|-----------|-------------------|---------------\n",
       " similarity |      6390 |                24 |          2413 "
      ]
     },
     "execution_count": 29,
     "metadata": {},
     "output_type": "execute_result"
    }
   ],
   "source": [
    "#project client nodes (one type) and three identifiers nodes (that are considered as second type) into \n",
    "#similarity memory graph to prepare for calculation using node similarity algorithm\n",
    "graph_projection = \"\"\"\n",
    "MATCH(c:Client) WHERE c.firstPartyFraudGroup is not NULL\n",
    "WITH collect(c) as clients\n",
    "MATCH(n) WHERE n:Email OR n:Phone OR n:SSN\n",
    "WITH clients, collect(n) as identifiers\n",
    "WITH clients + identifiers as nodes\n",
    "\n",
    "MATCH(c:Client) -[:HAS_EMAIL|:HAS_PHONE|:HAS_SSN]->(id)\n",
    "WHERE c.firstPartyFraudGroup is not NULL\n",
    "WITH nodes, collect({source: c, target: id}) as relationships\n",
    "\n",
    "CALL gds.graph.project.cypher('similarity',\n",
    "    \"UNWIND $nodes as n RETURN id(n) AS id,labels(n) AS labels\",\n",
    "    \"UNWIND $relationships as r RETURN id(r['source']) AS source, id(r['target']) AS target, 'HAS_IDENTIFIER' as type\",\n",
    "    { parameters: {nodes: nodes, relationships: relationships}}\n",
    ")\n",
    "YIELD graphName, nodeCount, relationshipCount, projectMillis\n",
    "RETURN graphName, nodeCount, relationshipCount, projectMillis\"\"\"\n",
    "\n",
    "graph.run(graph_projection)"
   ]
  },
  {
   "cell_type": "code",
   "execution_count": 30,
   "id": "8ecbc62e",
   "metadata": {},
   "outputs": [
    {
     "data": {
      "text/html": [
       "<table><tr><th>preProcessingMillis</th><th>computeMillis</th><th>mutateMillis</th><th>postProcessingMillis</th><th>nodesCompared</th><th>relationshipsWritten</th><th>similarityDistribution</th><th>configuration</th></tr><tr><td style=\"text-align:right\">0</td><td style=\"text-align:right\">194</td><td style=\"text-align:right\">93</td><td style=\"text-align:right\">-1</td><td style=\"text-align:right\">8</td><td style=\"text-align:right\">8</td><td style=\"text-align:left\">{p1: 0.19999980926513672, max: 0.5000028610229492, p5: 0.19999980926513672, p90: 0.5000028610229492, p50: 0.19999980926513672, p95: 0.5000028610229492, p10: 0.19999980926513672, p75: 0.19999980926513672, p99: 0.5000028610229492, p25: 0.19999980926513672, p100: 0.5000028610229492, min: 0.19999980926513672, mean: 0.27500033378601074, stdDev: 0.12990471906446924}</td><td style=\"text-align:left\">{topK: 15, similarityMetric: &#039;JACCARD&#039;, bottomK: 10, bottomN: 0, relationshipWeightProperty: null, mutateRelationshipType: &#039;SIMILAR_TO&#039;, topN: 0, concurrency: 4, degreeCutoff: 1, similarityCutoff: 1e-42, nodeLabels: [&#039;*&#039;], sudo: false, relationshipTypes: [&#039;*&#039;], mutateProperty: &#039;jaccardScore&#039;, username: null}</td></tr></table>"
      ],
      "text/plain": [
       " preProcessingMillis | computeMillis | mutateMillis | postProcessingMillis | nodesCompared | relationshipsWritten | similarityDistribution                                                                                                                                                                                                                                                                                                                                                     | configuration                                                                                                                                                                                                                                                                                                         \n",
       "---------------------|---------------|--------------|----------------------|---------------|----------------------|----------------------------------------------------------------------------------------------------------------------------------------------------------------------------------------------------------------------------------------------------------------------------------------------------------------------------------------------------------------------------|-----------------------------------------------------------------------------------------------------------------------------------------------------------------------------------------------------------------------------------------------------------------------------------------------------------------------\n",
       "                   0 |           194 |           93 |                   -1 |             8 |                    8 | {p1: 0.19999980926513672, max: 0.5000028610229492, p5: 0.19999980926513672, p90: 0.5000028610229492, p50: 0.19999980926513672, p95: 0.5000028610229492, p10: 0.19999980926513672, p75: 0.19999980926513672, p99: 0.5000028610229492, p25: 0.19999980926513672, p100: 0.5000028610229492, min: 0.19999980926513672, mean: 0.27500033378601074, stdDev: 0.12990471906446924} | {topK: 15, similarityMetric: 'JACCARD', bottomK: 10, bottomN: 0, relationshipWeightProperty: null, mutateRelationshipType: 'SIMILAR_TO', topN: 0, concurrency: 4, degreeCutoff: 1, similarityCutoff: 1e-42, nodeLabels: ['*'], sudo: false, relationshipTypes: ['*'], mutateProperty: 'jaccardScore', username: null} "
      ]
     },
     "execution_count": 30,
     "metadata": {},
     "output_type": "execute_result"
    }
   ],
   "source": [
    "#mutate the similarity score calculated using jaccard metric into memory graph\n",
    "mutate = \"\"\"\n",
    "CALL gds.nodeSimilarity.mutate('similarity',\n",
    "    {\n",
    "        topK:15,\n",
    "        mutateProperty: 'jaccardScore',\n",
    "        mutateRelationshipType:'SIMILAR_TO'\n",
    "    }\n",
    ");\"\"\"\n",
    "\n",
    "graph.run(mutate)"
   ]
  },
  {
   "cell_type": "code",
   "execution_count": 31,
   "id": "2f6fb355",
   "metadata": {},
   "outputs": [
    {
     "data": {
      "text/html": [
       "<table><tr><th>writeMillis</th><th>graphName</th><th>relationshipType</th><th>relationshipProperty</th><th>relationshipsWritten</th><th>propertiesWritten</th></tr><tr><td style=\"text-align:right\">27</td><td style=\"text-align:left\">similarity</td><td style=\"text-align:left\">SIMILAR_TO</td><td style=\"text-align:left\">jaccardScore</td><td style=\"text-align:right\">8</td><td style=\"text-align:right\">8</td></tr></table>"
      ],
      "text/plain": [
       " writeMillis | graphName  | relationshipType | relationshipProperty | relationshipsWritten | propertiesWritten \n",
       "-------------|------------|------------------|----------------------|----------------------|-------------------\n",
       "          27 | similarity | SIMILAR_TO       | jaccardScore         |                    8 |                 8 "
      ]
     },
     "execution_count": 31,
     "metadata": {},
     "output_type": "execute_result"
    }
   ],
   "source": [
    "mutate2 = \"\"\"CALL gds.graph.writeRelationship('similarity', 'SIMILAR_TO', 'jaccardScore');\"\"\"\n",
    "\n",
    "graph.run(mutate2)"
   ]
  },
  {
   "cell_type": "code",
   "execution_count": 32,
   "id": "a9ad94d6",
   "metadata": {},
   "outputs": [
    {
     "data": {
      "text/html": [
       "<table><tr><th>nodePropertiesWritten</th><th>centralityDistribution</th><th>writeMillis</th><th>postProcessingMillis</th><th>preProcessingMillis</th><th>computeMillis</th><th>configuration</th></tr><tr><td style=\"text-align:right\">8</td><td style=\"text-align:left\">{p99: 0.5000028610229492, min: 0.19999980926513672, max: 0.5000028610229492, mean: 0.27500033378601074, p90: 0.5000028610229492, p50: 0.19999980926513672, p999: 0.5000028610229492, p95: 0.5000028610229492, p75: 0.19999980926513672}</td><td style=\"text-align:right\">71</td><td style=\"text-align:right\">700</td><td style=\"text-align:right\">1</td><td style=\"text-align:right\">6</td><td style=\"text-align:left\">{orientation: &#039;NATURAL&#039;, writeConcurrency: 4, writeProperty: &#039;firstPartyFraudScore&#039;, relationshipWeightProperty: &#039;jaccardScore&#039;, nodeLabels: [&#039;Client&#039;], sudo: false, relationshipTypes: [&#039;SIMILAR_TO&#039;], username: null, concurrency: 4}</td></tr></table>"
      ],
      "text/plain": [
       " nodePropertiesWritten | centralityDistribution                                                                                                                                                                                                                  | writeMillis | postProcessingMillis | preProcessingMillis | computeMillis | configuration                                                                                                                                                                                                                            \n",
       "-----------------------|-----------------------------------------------------------------------------------------------------------------------------------------------------------------------------------------------------------------------------------------|-------------|----------------------|---------------------|---------------|------------------------------------------------------------------------------------------------------------------------------------------------------------------------------------------------------------------------------------------\n",
       "                     8 | {p99: 0.5000028610229492, min: 0.19999980926513672, max: 0.5000028610229492, mean: 0.27500033378601074, p90: 0.5000028610229492, p50: 0.19999980926513672, p999: 0.5000028610229492, p95: 0.5000028610229492, p75: 0.19999980926513672} |          71 |                  700 |                   1 |             6 | {orientation: 'NATURAL', writeConcurrency: 4, writeProperty: 'firstPartyFraudScore', relationshipWeightProperty: 'jaccardScore', nodeLabels: ['Client'], sudo: false, relationshipTypes: ['SIMILAR_TO'], username: null, concurrency: 4} "
      ]
     },
     "execution_count": 32,
     "metadata": {},
     "output_type": "execute_result"
    }
   ],
   "source": [
    "#write the similarity score calculated in memory graph back to the real database\n",
    "write_score = \"\"\"\n",
    "CALL gds.degree.write('similarity',\n",
    "    {\n",
    "        nodeLabels: ['Client'],\n",
    "        relationshipTypes: ['SIMILAR_TO'],\n",
    "        relationshipWeightProperty: 'jaccardScore',\n",
    "        writeProperty: 'firstPartyFraudScore'\n",
    "    }\n",
    ");\"\"\"\n",
    "\n",
    "graph.run(write_score)"
   ]
  },
  {
   "cell_type": "code",
   "execution_count": 33,
   "id": "ecd34461",
   "metadata": {},
   "outputs": [
    {
     "data": {
      "text/html": [
       "(No data)"
      ],
      "text/plain": [
       "(No data)"
      ]
     },
     "execution_count": 33,
     "metadata": {},
     "output_type": "execute_result"
    }
   ],
   "source": [
    "#label client having higher score than the threshold as a fraudster\n",
    "firstfraudster = \"\"\"\n",
    "MATCH(c:Client)\n",
    "WHERE c.firstPartyFraudScore IS NOT NULL\n",
    "WITH percentileCont(c.firstPartyFraudScore, 0.80) AS firstPartyFraudThreshold\n",
    "\n",
    "MATCH(c:Client)\n",
    "WHERE c.firstPartyFraudScore > firstPartyFraudThreshold\n",
    "SET c:FirstPartyFraudster;\"\"\"\n",
    "\n",
    "graph.run(firstfraudster)"
   ]
  },
  {
   "cell_type": "code",
   "execution_count": 34,
   "id": "161fdd46",
   "metadata": {},
   "outputs": [
    {
     "name": "stdout",
     "output_type": "stream",
     "text": [
      "Node labels: ['SSN', 'Phone', 'Email', 'FirstPartyFraudster', 'Mule', 'Client']\n"
     ]
    },
    {
     "data": {
      "application/vnd.jupyter.widget-view+json": {
       "model_id": "4de6afee7c5c4259bf9a90e4737cfe3b",
       "version_major": 2,
       "version_minor": 0
      },
      "text/plain": [
       "CytoscapeWidget(cytoscape_layout={'name': 'cola', 'padding': 0, 'nodeSpacing': 65, 'nodeDimensionsIncludeLabel…"
      ]
     },
     "metadata": {},
     "output_type": "display_data"
    }
   ],
   "source": [
    "#visualize the first party fraud groups\n",
    "firstgroup_visual = \"\"\"MATCH (c:Client)\n",
    "WITH c.firstPartyFraudGroup AS fpGroupID, collect(c.id) AS fGroup\n",
    "WITH *, size(fGroup) AS groupSize WHERE groupSize >= 1\n",
    "WITH collect(fpGroupID) AS fraudRings\n",
    "MATCH p=(c:Client)-[:HAS_SSN|HAS_EMAIL|HAS_PHONE]->()\n",
    "WHERE c.firstPartyFraudGroup IN fraudRings\n",
    "RETURN p\"\"\"\n",
    "\n",
    "graph2 = graph.run(firstgroup_visual).to_subgraph()\n",
    "\n",
    "widget2 = ipycytoscape.CytoscapeWidget()\n",
    "widget2.graph.add_graph_from_neo4j(graph2)\n",
    "\n",
    "labels2 = list(graph2.labels())\n",
    "print('Node labels:', labels2)\n",
    "\n",
    "colors2 = random_color_palette(len(labels2))\n",
    "\n",
    "for label, color in zip(labels2, colors2):\n",
    "    style.append({'selector': 'node[label = \"' + label + '\"]', 'style': {'background-color': color}})\n",
    "    \n",
    "widget2.set_layout(name='cola', padding=0, nodeSpacing=65, nodeDimensionsIncludeLabels=True, unconstrIter=5000)\n",
    "widget2.set_tooltip_source('tooltip')\n",
    "widget2"
   ]
  },
  {
   "cell_type": "code",
   "execution_count": 35,
   "id": "d5da0b2e",
   "metadata": {},
   "outputs": [
    {
     "data": {
      "text/html": [
       "(No data)"
      ],
      "text/plain": [
       "(No data)"
      ]
     },
     "execution_count": 35,
     "metadata": {},
     "output_type": "execute_result"
    }
   ],
   "source": [
    "#Set labels between clients who had a hand in transaction with mules to be second party fraud suspect\n",
    "secondfraudsuspect = \"\"\"\n",
    "MATCH (c1:Mule)<-[t:TRANSFER]-(c2:Client)\n",
    "WHERE NOT c2:Mule\n",
    "WITH c1, c2, sum(t.amount) AS totalAmount\n",
    "SET c2:SecondPartyFraudSuspect\n",
    "CREATE (c1)<-[:TRANSFER_TO {amount:totalAmount}]-(c2);\"\"\"\n",
    "\n",
    "graph.run(secondfraudsuspect)"
   ]
  },
  {
   "cell_type": "code",
   "execution_count": 36,
   "id": "5a9b2c9b",
   "metadata": {},
   "outputs": [
    {
     "data": {
      "text/html": [
       "(No data)"
      ],
      "text/plain": [
       "(No data)"
      ]
     },
     "execution_count": 36,
     "metadata": {},
     "output_type": "execute_result"
    }
   ],
   "source": [
    "delete_transfer = \"\"\"\n",
    "MATCH (p:Mule)<-[r:TRANSFER]-(c)\n",
    "WHERE c:SecondPartyFraudSuspect\n",
    "DELETE r\"\"\"\n",
    "\n",
    "graph.run(delete_transfer)"
   ]
  },
  {
   "cell_type": "code",
   "execution_count": 37,
   "id": "b6f4e487",
   "metadata": {},
   "outputs": [
    {
     "data": {
      "text/html": [
       "<table><tr><th>nodeProjection</th><th>relationshipProjection</th><th>graphName</th><th>nodeCount</th><th>relationshipCount</th><th>projectMillis</th></tr><tr><td style=\"text-align:left\">{Client: {label: &#039;Client&#039;, properties: {}}}</td><td style=\"text-align:left\">{TRANSFER_TO: {orientation: &#039;NATURAL&#039;, aggregation: &#039;DEFAULT&#039;, type: &#039;TRANSFER_TO&#039;, properties: {amount: {defaultValue: null, property: &#039;amount&#039;, aggregation: &#039;DEFAULT&#039;}}}}</td><td style=\"text-align:left\">SecondPartyFraudNetwork</td><td style=\"text-align:right\">2129</td><td style=\"text-align:right\">239</td><td style=\"text-align:right\">293</td></tr></table>"
      ],
      "text/plain": [
       " nodeProjection                              | relationshipProjection                                                                                                                                                       | graphName               | nodeCount | relationshipCount | projectMillis \n",
       "---------------------------------------------|------------------------------------------------------------------------------------------------------------------------------------------------------------------------------|-------------------------|-----------|-------------------|---------------\n",
       " {Client: {label: 'Client', properties: {}}} | {TRANSFER_TO: {orientation: 'NATURAL', aggregation: 'DEFAULT', type: 'TRANSFER_TO', properties: {amount: {defaultValue: null, property: 'amount', aggregation: 'DEFAULT'}}}} | SecondPartyFraudNetwork |      2129 |               239 |           293 "
      ]
     },
     "execution_count": 37,
     "metadata": {},
     "output_type": "execute_result"
    }
   ],
   "source": [
    "#create another projection graph with TRANSFER_TO relationships\n",
    "transfer_to = \"\"\"\n",
    "CALL gds.graph.project('SecondPartyFraudNetwork',\n",
    "    'Client',\n",
    "    'TRANSFER_TO',\n",
    "    {relationshipProperties:'amount'}\n",
    ");\"\"\"\n",
    "\n",
    "graph.run(transfer_to)"
   ]
  },
  {
   "cell_type": "code",
   "execution_count": 38,
   "id": "a86db682",
   "metadata": {},
   "outputs": [
    {
     "data": {
      "text/html": [
       "(No data)"
      ],
      "text/plain": [
       "(No data)"
      ]
     },
     "execution_count": 38,
     "metadata": {},
     "output_type": "execute_result"
    }
   ],
   "source": [
    "#tag second fraud clusterid to groups that may have more than one client size using wcc\n",
    "wcc2 = \"\"\"\n",
    "CALL gds.wcc.stream('SecondPartyFraudNetwork')\n",
    "YIELD nodeId, componentId\n",
    "WITH gds.util.asNode(nodeId) AS client, componentId AS clusterId\n",
    "WITH clusterId, collect(client.id) AS cluster\n",
    "WITH clusterId, size(cluster) AS clusterSize, cluster\n",
    "WHERE clusterSize > 1\n",
    "UNWIND cluster AS client\n",
    "MATCH(c:Client {id:client})\n",
    "SET c.secondPartyFraudGroup=clusterId;\"\"\"\n",
    "\n",
    "graph.run(wcc2)"
   ]
  },
  {
   "cell_type": "code",
   "execution_count": 39,
   "id": "ebd651c0",
   "metadata": {},
   "outputs": [
    {
     "data": {
      "text/html": [
       "(No data)"
      ],
      "text/plain": [
       "(No data)"
      ]
     },
     "execution_count": 39,
     "metadata": {},
     "output_type": "execute_result"
    }
   ],
   "source": [
    "#using pagerank algorithm to find second party fraud who has higher score - likely chance to commit \n",
    "#weighted by the amount of money transfered to fraud mules\n",
    "pagerank = \"\"\"\n",
    "CALL gds.pageRank.stream('SecondPartyFraudNetwork',\n",
    "    {relationshipWeightProperty:'amount'}\n",
    ")YIELD nodeId, score\n",
    "WITH gds.util.asNode(nodeId) AS client, score AS pageRankScore\n",
    "\n",
    "WHERE client.secondPartyFraudGroup IS NOT NULL\n",
    "        AND pageRankScore > 0 AND NOT client:Mule\n",
    "\n",
    "MATCH(c:Client {id:client.id})\n",
    "SET c:SecondPartyFraud\n",
    "SET c.secondPartyFraudScore = pageRankScore;\"\"\"\n",
    "\n",
    "graph.run(pagerank)"
   ]
  },
  {
   "cell_type": "code",
   "execution_count": 43,
   "id": "d87c1736",
   "metadata": {},
   "outputs": [
    {
     "name": "stdout",
     "output_type": "stream",
     "text": [
      "Node labels: ['SSN', 'Phone', 'Email', 'FirstPartyFraudster', 'Mule', 'Client']\n"
     ]
    },
    {
     "data": {
      "application/vnd.jupyter.widget-view+json": {
       "model_id": "da055bffc10c416fb38a930556de8d9c",
       "version_major": 2,
       "version_minor": 0
      },
      "text/plain": [
       "CytoscapeWidget(cytoscape_layout={'name': 'cola', 'padding': 0, 'nodeSpacing': 65, 'nodeDimensionsIncludeLabel…"
      ]
     },
     "metadata": {},
     "output_type": "display_data"
    }
   ],
   "source": [
    "#visualize the second party fraud groups\n",
    "secondgroup_visual = \"\"\"MATCH (p:Mule)<-[r:TRANSFER_TO]-(c)\n",
    "WHERE c:SecondPartyFraud\n",
    "RETURN p,c,r\n",
    "LIMIT 40\n",
    "\"\"\"\n",
    "\n",
    "graph3 = graph.run(secondgroup_visual).to_subgraph()\n",
    "\n",
    "widget3 = ipycytoscape.CytoscapeWidget()\n",
    "widget3.graph.add_graph_from_neo4j(graph3)\n",
    "\n",
    "labels3 = list(graph2.labels())\n",
    "print('Node labels:', labels3)\n",
    "\n",
    "colors3 = random_color_palette(len(labels3))\n",
    "\n",
    "for label, color in zip(labels3, colors3):\n",
    "    style.append({'selector': 'node[label = \"' + label + '\"]', 'style': {'background-color': color}})\n",
    "    \n",
    "widget3.set_layout(name='cola', padding=0, nodeSpacing=65, nodeDimensionsIncludeLabels=True, unconstrIter=5000)\n",
    "widget3.set_tooltip_source('tooltip')\n",
    "widget3"
   ]
  }
 ],
 "metadata": {
  "kernelspec": {
   "display_name": "Python 3 (ipykernel)",
   "language": "python",
   "name": "python3"
  },
  "language_info": {
   "codemirror_mode": {
    "name": "ipython",
    "version": 3
   },
   "file_extension": ".py",
   "mimetype": "text/x-python",
   "name": "python",
   "nbconvert_exporter": "python",
   "pygments_lexer": "ipython3",
   "version": "3.9.7"
  }
 },
 "nbformat": 4,
 "nbformat_minor": 5
}
