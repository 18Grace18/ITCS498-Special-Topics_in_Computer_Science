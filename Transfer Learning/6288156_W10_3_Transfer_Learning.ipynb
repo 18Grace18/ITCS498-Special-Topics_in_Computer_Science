{
  "cells": [
    {
      "cell_type": "markdown",
      "metadata": {
        "id": "ZFsA9Wz5bFND"
      },
      "source": [
        "# Prepare Environment"
      ]
    },
    {
      "cell_type": "code",
      "execution_count": 1,
      "metadata": {
        "id": "Mzmie6ThbFNG"
      },
      "outputs": [],
      "source": [
        "from __future__ import absolute_import\n",
        "from __future__ import division\n",
        "from __future__ import print_function\n",
        "\n",
        "from IPython.display import display\n",
        "\n",
        "import os\n",
        "import pandas as pd\n",
        "import numpy as np\n",
        "\n",
        "import matplotlib\n",
        "import matplotlib.pyplot as plt\n",
        "plt.rcParams[\"axes.grid\"] = False\n",
        "%matplotlib inline"
      ]
    },
    {
      "cell_type": "code",
      "execution_count": 2,
      "metadata": {
        "colab": {
          "base_uri": "https://localhost:8080/"
        },
        "id": "Zum3VI_bcVED",
        "outputId": "3c0dbb49-13ca-44be-e212-8aa33167abd0"
      },
      "outputs": [
        {
          "output_type": "stream",
          "name": "stdout",
          "text": [
            "2.8.0\n"
          ]
        }
      ],
      "source": [
        "# TensorFlow and tf.keras\n",
        "import tensorflow as tf\n",
        "from tensorflow import keras\n",
        "print(tf.__version__)"
      ]
    },
    {
      "cell_type": "markdown",
      "metadata": {
        "id": "2exEeWccbFNI"
      },
      "source": [
        "# Prepare Classification Dataset\n",
        "\n",
        "This section contains the steps to prepare our own dataset. Here we will create a dataset for classification."
      ]
    },
    {
      "cell_type": "markdown",
      "metadata": {
        "id": "hNWZCcjzCl6a"
      },
      "source": [
        "## Download Images from the Internet\n",
        "\n",
        "Collect and label a new dataset for at least 50 examples. The maximum number of classes is 3.\n",
        "\n",
        "The classes for the dataset are:\n",
        "\n",
        "*   Omurice\n",
        "*   Curry\n",
        "*   Ramen"
      ]
    },
    {
      "cell_type": "markdown",
      "metadata": {
        "id": "uH5zHzp2dCBF"
      },
      "source": [
        "Here we create a dictionary that can be used to convert from the class number into text."
      ]
    },
    {
      "cell_type": "code",
      "execution_count": 3,
      "metadata": {
        "id": "XvbJRqN0btXQ"
      },
      "outputs": [],
      "source": [
        "class2text = {\n",
        "    0: 'Omurice',\n",
        "    1: 'Curry',\n",
        "    2: 'Ramen',\n",
        "}"
      ]
    },
    {
      "cell_type": "code",
      "execution_count": 4,
      "metadata": {
        "id": "CONJphAmkOVY"
      },
      "outputs": [],
      "source": [
        "class_names = [v for k, v in class2text.items()]"
      ]
    },
    {
      "cell_type": "markdown",
      "metadata": {
        "id": "Fe_A6XrhGiJ8"
      },
      "source": [
        "## Upload Images to Your Google Drive\n",
        "\n",
        "Next we will upload the downloaded images into our Google Drive folder. You may create a new folder, named `food_dataset` and then uploaded the images into such folder."
      ]
    },
    {
      "cell_type": "markdown",
      "metadata": {
        "id": "6_oljLqAE5bs"
      },
      "source": [
        "## Create a Google Spreadsheet Containing a List of Images and Their Classes\n",
        "\n",
        "Next we will create a Google Spreadsheet, consisting of TWO columns:\n",
        "\n",
        "1.   `filename`: specify the filename of an image\n",
        "2.   `class`: specify the class of an image (i.e., food type in this example)\n",
        "\n"
      ]
    },
    {
      "cell_type": "markdown",
      "metadata": {
        "id": "4W_fBXFnHKB8"
      },
      "source": [
        "## Mount Google Drive to Google Colab\n",
        "\n",
        "Next we will connect our Google Colab to the `food_dataset` folder in Google Drive. This allows us to read/write files to/from the Google Drive."
      ]
    },
    {
      "cell_type": "code",
      "execution_count": 5,
      "metadata": {
        "colab": {
          "base_uri": "https://localhost:8080/"
        },
        "id": "oUDndv8dHrvW",
        "outputId": "55e95051-a3e3-4763-fab2-1208fdce55aa"
      },
      "outputs": [
        {
          "output_type": "stream",
          "name": "stdout",
          "text": [
            "Drive already mounted at /content/drive; to attempt to forcibly remount, call drive.mount(\"/content/drive\", force_remount=True).\n"
          ]
        }
      ],
      "source": [
        "from google.colab import drive\n",
        "drive.mount('/content/drive')"
      ]
    },
    {
      "cell_type": "markdown",
      "metadata": {
        "id": "FknPPyVAIbKT"
      },
      "source": [
        "Then we specify the path to our `food_dataset` folder in Google Drive. If you created the `food_dataset` folder under `My Drive` folder. You can use the following path:\n",
        "\n",
        "`data_dir = '/content/drive/My Drive/food_dataset'`"
      ]
    },
    {
      "cell_type": "code",
      "execution_count": 6,
      "metadata": {
        "id": "V0VImm_zIbnf"
      },
      "outputs": [],
      "source": [
        "# e.g., data_dir = '/content/drive/My Drive/food_dataset'\n",
        "data_dir = '/content/drive/My Drive/Colab Notebooks/data/japanfood_dataset'\n",
        "num_classes = 3"
      ]
    },
    {
      "cell_type": "markdown",
      "metadata": {
        "id": "yoXe2D2oJBoM"
      },
      "source": [
        "You can use the following code to verify that you can reach the `food_dataset` folder from Google Colab. You should see the list of images, `train_dataset.csv` and `test_dataset.csv`."
      ]
    },
    {
      "cell_type": "code",
      "execution_count": 7,
      "metadata": {
        "colab": {
          "base_uri": "https://localhost:8080/"
        },
        "id": "6kNGjwj8I5sl",
        "outputId": "b09aa711-7e13-4a22-c2af-4939b43167bd"
      },
      "outputs": [
        {
          "output_type": "stream",
          "name": "stdout",
          "text": [
            "10.jpg\t17.jpg\t23.jpg\t2.jpg\t36.jpg\t42.jpg\t49.jpg\t55.jpg\t6.jpg\n",
            "11.jpg\t18.jpg\t24.jpg\t30.jpg\t37.jpg\t43.jpg\t4.jpg\t56.jpg\t7.jpg\n",
            "12.jpg\t19.jpg\t25.jpg\t31.jpg\t38.jpg\t44.jpg\t50.jpg\t57.jpg\t8.jpg\n",
            "13.jpg\t1.jpg\t26.jpg\t32.jpg\t39.jpg\t45.jpg\t51.jpg\t58.jpg\t9.jpg\n",
            "14.jpg\t20.jpg\t27.jpg\t33.jpg\t3.jpg\t46.jpg\t52.jpg\t59.jpg\tdataset.csv\n",
            "15.jpg\t21.jpg\t28.jpg\t34.jpg\t40.jpg\t47.jpg\t53.jpg\t5.jpg\n",
            "16.jpg\t22.jpg\t29.jpg\t35.jpg\t41.jpg\t48.jpg\t54.jpg\t60.jpg\n"
          ]
        }
      ],
      "source": [
        "!ls '$data_dir'"
      ]
    },
    {
      "cell_type": "markdown",
      "metadata": {
        "id": "TSnT3lcvFnpq"
      },
      "source": [
        "# Load Classification Dataset\n",
        "\n",
        "This section contains scripts to load the annotated (or labelled) images from the `food_dataset` folder. These data will used to train a model for food classification."
      ]
    },
    {
      "cell_type": "code",
      "execution_count": 8,
      "metadata": {
        "id": "AbhRnJ5Fi_YK"
      },
      "outputs": [],
      "source": [
        "IMG_SIZE = (224, 224)"
      ]
    },
    {
      "cell_type": "markdown",
      "metadata": {
        "id": "ETr5K0bBTffy"
      },
      "source": [
        "## Load Annotated Images\n",
        "\n",
        "Here we define the function used to load the dataset."
      ]
    },
    {
      "cell_type": "code",
      "execution_count": 9,
      "metadata": {
        "id": "HD5BgSjLzjYW"
      },
      "outputs": [],
      "source": [
        "from keras.preprocessing import image\n",
        "\n",
        "def load_dataset(data_df):\n",
        "    '''Function to load dataset.'''\n",
        "    x = []\n",
        "    y = []\n",
        "    for i, r in data_df.iterrows():\n",
        "        f = os.path.join(data_dir, r['filename'])   # filename\n",
        "        c = r['class']                              # class\n",
        "\n",
        "        # Load and resize the image\n",
        "        img = image.load_img(f, target_size=IMG_SIZE)\n",
        "\n",
        "        # Convert the Image object into a numpy array\n",
        "        img = image.img_to_array(img)\n",
        "\n",
        "        # Add to a list of images and classes\n",
        "        x.append(img)\n",
        "        y.append(c)\n",
        "    x = np.asarray(x)\n",
        "    y = np.asarray(y)\n",
        "    return x, y"
      ]
    },
    {
      "cell_type": "markdown",
      "metadata": {
        "id": "a9TIZjYST7Pb"
      },
      "source": [
        "Next, we use the `load_dataset` function to load the training and test sets, according to the specification from `dataset.csv`."
      ]
    },
    {
      "cell_type": "code",
      "execution_count": 10,
      "metadata": {
        "id": "Bl9d6CvxKZJf"
      },
      "outputs": [],
      "source": [
        "# Load dataset\n",
        "data_df = pd.read_csv(os.path.join(data_dir, 'dataset.csv'))\n",
        "X, y = load_dataset(data_df)"
      ]
    },
    {
      "cell_type": "code",
      "execution_count": 11,
      "metadata": {
        "colab": {
          "base_uri": "https://localhost:8080/"
        },
        "id": "ldOYPDH_cJd4",
        "outputId": "0218ac11-d951-4de9-b2b1-64402bfc13d1"
      },
      "outputs": [
        {
          "output_type": "stream",
          "name": "stdout",
          "text": [
            "Training set: (48, 224, 224, 3), (48,)\n",
            "Validation set: (6, 224, 224, 3), (6,)\n",
            "Test set: (6, 224, 224, 3), (6,)\n"
          ]
        }
      ],
      "source": [
        "from sklearn.model_selection import train_test_split\n",
        "\n",
        "X_train, X_test, y_train, y_test = train_test_split(\n",
        "    X, y, \n",
        "    random_state=42,\n",
        "    test_size=0.2)\n",
        "\n",
        "X_valid, X_test, y_valid, y_test = train_test_split(\n",
        "    X_test, y_test, \n",
        "    random_state=42,\n",
        "    test_size=0.5)\n",
        "\n",
        "print(f'Training set: {X_train.shape}, {y_train.shape}')\n",
        "print(f'Validation set: {X_valid.shape}, {y_valid.shape}')\n",
        "print(f'Test set: {X_test.shape}, {y_test.shape}')"
      ]
    },
    {
      "cell_type": "markdown",
      "metadata": {
        "id": "nQjiYIAEOU63"
      },
      "source": [
        "## Preprocessing\n",
        "\n",
        "Next, we preprocess the data such that they can be used to train a model."
      ]
    },
    {
      "cell_type": "code",
      "execution_count": 12,
      "metadata": {
        "colab": {
          "base_uri": "https://localhost:8080/"
        },
        "id": "jwxDHaLkOTQc",
        "outputId": "5aa309c4-e6c4-4f3d-974f-80ae31490362"
      },
      "outputs": [
        {
          "output_type": "stream",
          "name": "stdout",
          "text": [
            "Requirement already satisfied: keras.utils in /usr/local/lib/python3.7/dist-packages (1.0.13)\n",
            "Requirement already satisfied: Keras>=2.1.5 in /usr/local/lib/python3.7/dist-packages (from keras.utils) (2.8.0)\n"
          ]
        }
      ],
      "source": [
        "!pip install keras.utils "
      ]
    },
    {
      "cell_type": "code",
      "execution_count": 13,
      "metadata": {
        "colab": {
          "base_uri": "https://localhost:8080/"
        },
        "id": "A8wz82T1iazY",
        "outputId": "e8ff2b6e-4697-4b15-d1dd-645cb411a575"
      },
      "outputs": [
        {
          "output_type": "stream",
          "name": "stdout",
          "text": [
            "Training Set: (48, 224, 224, 3), (48,)\n",
            "Validation Set: (6, 224, 224, 3), (6,)\n",
            "Test Set: (6, 224, 224, 3), (6,)\n"
          ]
        },
        {
          "output_type": "stream",
          "name": "stderr",
          "text": [
            "/usr/local/lib/python3.7/dist-packages/ipykernel_launcher.py:16: DeprecationWarning: `np.int` is a deprecated alias for the builtin `int`. To silence this warning, use `int` by itself. Doing this will not modify any behavior and is safe. When replacing `np.int`, you may wish to use e.g. `np.int64` or `np.int32` to specify the precision. If you wish to review your current use, check the release note link for additional information.\n",
            "Deprecated in NumPy 1.20; for more details and guidance: https://numpy.org/devdocs/release/1.20.0-notes.html#deprecations\n",
            "  app.launch_new_instance()\n",
            "/usr/local/lib/python3.7/dist-packages/ipykernel_launcher.py:17: DeprecationWarning: `np.int` is a deprecated alias for the builtin `int`. To silence this warning, use `int` by itself. Doing this will not modify any behavior and is safe. When replacing `np.int`, you may wish to use e.g. `np.int64` or `np.int32` to specify the precision. If you wish to review your current use, check the release note link for additional information.\n",
            "Deprecated in NumPy 1.20; for more details and guidance: https://numpy.org/devdocs/release/1.20.0-notes.html#deprecations\n",
            "/usr/local/lib/python3.7/dist-packages/ipykernel_launcher.py:18: DeprecationWarning: `np.int` is a deprecated alias for the builtin `int`. To silence this warning, use `int` by itself. Doing this will not modify any behavior and is safe. When replacing `np.int`, you may wish to use e.g. `np.int64` or `np.int32` to specify the precision. If you wish to review your current use, check the release note link for additional information.\n",
            "Deprecated in NumPy 1.20; for more details and guidance: https://numpy.org/devdocs/release/1.20.0-notes.html#deprecations\n"
          ]
        }
      ],
      "source": [
        "from keras.applications.mobilenet_v2 import preprocess_input\n",
        "from tensorflow.keras.utils import to_categorical\n",
        "#from keras.utils import to_categorical\n",
        "\n",
        "# Preprocess the input array\n",
        "X_train = preprocess_input(X_train)\n",
        "X_valid = preprocess_input(X_valid)\n",
        "X_test = preprocess_input(X_test)\n",
        "\n",
        "# Convert the preprocessing images into `float32`\n",
        "X_train = X_train.astype(np.float32)\n",
        "X_valid = X_valid.astype(np.float32)\n",
        "X_test = X_test.astype(np.float32)\n",
        "\n",
        "# Convert the one-hot vector into `int`\n",
        "y_train = y_train.astype(np.int)\n",
        "X_valid = X_valid.astype(np.int)\n",
        "y_test = y_test.astype(np.int)\n",
        "\n",
        "print(f'Training Set: {X_train.shape}, {y_train.shape}')\n",
        "print(f'Validation Set: {X_valid.shape}, {y_valid.shape}')\n",
        "print(f'Test Set: {X_test.shape}, {y_test.shape}')"
      ]
    },
    {
      "cell_type": "markdown",
      "metadata": {
        "id": "WGexgwNfOuii"
      },
      "source": [
        "# Transfer Learning\n",
        "\n",
        "This section contains the steps to load the pretrained model, which is `MobileNetV2` in this example, and then replace to top layers with a new ones for food classification."
      ]
    },
    {
      "cell_type": "markdown",
      "metadata": {
        "id": "vYgLoZf0Rwog"
      },
      "source": [
        "## Adjust the Existing Model for Classification: MobileNetV2 version.\n",
        "\n",
        "---\n",
        "\n",
        "\n",
        "\n",
        "First we need to load the existing `MobileNetV2` model, without the top layers."
      ]
    },
    {
      "cell_type": "code",
      "execution_count": 14,
      "metadata": {
        "id": "2rGZ8pF7OoWY"
      },
      "outputs": [],
      "source": [
        "from keras.applications.mobilenet_v2 import MobileNetV2\n",
        "\n",
        "# Create the base pre-trained model\n",
        "# Note: include_top=False --> do not include the top layers\n",
        "#       This allows us to replace the top with new layers for transfer learning\n",
        "base_model = MobileNetV2(\n",
        "    input_shape=IMG_SIZE + (3,),  # plus (3, ) for the color channel\n",
        "    weights='imagenet',\n",
        "    # weights=None,\n",
        "    include_top=False)"
      ]
    },
    {
      "cell_type": "code",
      "execution_count": 15,
      "metadata": {
        "colab": {
          "base_uri": "https://localhost:8080/"
        },
        "id": "lrVzmzOYkw6i",
        "outputId": "c723330d-c842-45aa-9159-59bcf0b5a5e3"
      },
      "outputs": [
        {
          "output_type": "stream",
          "name": "stdout",
          "text": [
            "Model: \"mobilenetv2_1.00_224\"\n",
            "__________________________________________________________________________________________________\n",
            " Layer (type)                   Output Shape         Param #     Connected to                     \n",
            "==================================================================================================\n",
            " input_1 (InputLayer)           [(None, 224, 224, 3  0           []                               \n",
            "                                )]                                                                \n",
            "                                                                                                  \n",
            " Conv1 (Conv2D)                 (None, 112, 112, 32  864         ['input_1[0][0]']                \n",
            "                                )                                                                 \n",
            "                                                                                                  \n",
            " bn_Conv1 (BatchNormalization)  (None, 112, 112, 32  128         ['Conv1[0][0]']                  \n",
            "                                )                                                                 \n",
            "                                                                                                  \n",
            " Conv1_relu (ReLU)              (None, 112, 112, 32  0           ['bn_Conv1[0][0]']               \n",
            "                                )                                                                 \n",
            "                                                                                                  \n",
            " expanded_conv_depthwise (Depth  (None, 112, 112, 32  288        ['Conv1_relu[0][0]']             \n",
            " wiseConv2D)                    )                                                                 \n",
            "                                                                                                  \n",
            " expanded_conv_depthwise_BN (Ba  (None, 112, 112, 32  128        ['expanded_conv_depthwise[0][0]']\n",
            " tchNormalization)              )                                                                 \n",
            "                                                                                                  \n",
            " expanded_conv_depthwise_relu (  (None, 112, 112, 32  0          ['expanded_conv_depthwise_BN[0][0\n",
            " ReLU)                          )                                ]']                              \n",
            "                                                                                                  \n",
            " expanded_conv_project (Conv2D)  (None, 112, 112, 16  512        ['expanded_conv_depthwise_relu[0]\n",
            "                                )                                [0]']                            \n",
            "                                                                                                  \n",
            " expanded_conv_project_BN (Batc  (None, 112, 112, 16  64         ['expanded_conv_project[0][0]']  \n",
            " hNormalization)                )                                                                 \n",
            "                                                                                                  \n",
            " block_1_expand (Conv2D)        (None, 112, 112, 96  1536        ['expanded_conv_project_BN[0][0]'\n",
            "                                )                                ]                                \n",
            "                                                                                                  \n",
            " block_1_expand_BN (BatchNormal  (None, 112, 112, 96  384        ['block_1_expand[0][0]']         \n",
            " ization)                       )                                                                 \n",
            "                                                                                                  \n",
            " block_1_expand_relu (ReLU)     (None, 112, 112, 96  0           ['block_1_expand_BN[0][0]']      \n",
            "                                )                                                                 \n",
            "                                                                                                  \n",
            " block_1_pad (ZeroPadding2D)    (None, 113, 113, 96  0           ['block_1_expand_relu[0][0]']    \n",
            "                                )                                                                 \n",
            "                                                                                                  \n",
            " block_1_depthwise (DepthwiseCo  (None, 56, 56, 96)  864         ['block_1_pad[0][0]']            \n",
            " nv2D)                                                                                            \n",
            "                                                                                                  \n",
            " block_1_depthwise_BN (BatchNor  (None, 56, 56, 96)  384         ['block_1_depthwise[0][0]']      \n",
            " malization)                                                                                      \n",
            "                                                                                                  \n",
            " block_1_depthwise_relu (ReLU)  (None, 56, 56, 96)   0           ['block_1_depthwise_BN[0][0]']   \n",
            "                                                                                                  \n",
            " block_1_project (Conv2D)       (None, 56, 56, 24)   2304        ['block_1_depthwise_relu[0][0]'] \n",
            "                                                                                                  \n",
            " block_1_project_BN (BatchNorma  (None, 56, 56, 24)  96          ['block_1_project[0][0]']        \n",
            " lization)                                                                                        \n",
            "                                                                                                  \n",
            " block_2_expand (Conv2D)        (None, 56, 56, 144)  3456        ['block_1_project_BN[0][0]']     \n",
            "                                                                                                  \n",
            " block_2_expand_BN (BatchNormal  (None, 56, 56, 144)  576        ['block_2_expand[0][0]']         \n",
            " ization)                                                                                         \n",
            "                                                                                                  \n",
            " block_2_expand_relu (ReLU)     (None, 56, 56, 144)  0           ['block_2_expand_BN[0][0]']      \n",
            "                                                                                                  \n",
            " block_2_depthwise (DepthwiseCo  (None, 56, 56, 144)  1296       ['block_2_expand_relu[0][0]']    \n",
            " nv2D)                                                                                            \n",
            "                                                                                                  \n",
            " block_2_depthwise_BN (BatchNor  (None, 56, 56, 144)  576        ['block_2_depthwise[0][0]']      \n",
            " malization)                                                                                      \n",
            "                                                                                                  \n",
            " block_2_depthwise_relu (ReLU)  (None, 56, 56, 144)  0           ['block_2_depthwise_BN[0][0]']   \n",
            "                                                                                                  \n",
            " block_2_project (Conv2D)       (None, 56, 56, 24)   3456        ['block_2_depthwise_relu[0][0]'] \n",
            "                                                                                                  \n",
            " block_2_project_BN (BatchNorma  (None, 56, 56, 24)  96          ['block_2_project[0][0]']        \n",
            " lization)                                                                                        \n",
            "                                                                                                  \n",
            " block_2_add (Add)              (None, 56, 56, 24)   0           ['block_1_project_BN[0][0]',     \n",
            "                                                                  'block_2_project_BN[0][0]']     \n",
            "                                                                                                  \n",
            " block_3_expand (Conv2D)        (None, 56, 56, 144)  3456        ['block_2_add[0][0]']            \n",
            "                                                                                                  \n",
            " block_3_expand_BN (BatchNormal  (None, 56, 56, 144)  576        ['block_3_expand[0][0]']         \n",
            " ization)                                                                                         \n",
            "                                                                                                  \n",
            " block_3_expand_relu (ReLU)     (None, 56, 56, 144)  0           ['block_3_expand_BN[0][0]']      \n",
            "                                                                                                  \n",
            " block_3_pad (ZeroPadding2D)    (None, 57, 57, 144)  0           ['block_3_expand_relu[0][0]']    \n",
            "                                                                                                  \n",
            " block_3_depthwise (DepthwiseCo  (None, 28, 28, 144)  1296       ['block_3_pad[0][0]']            \n",
            " nv2D)                                                                                            \n",
            "                                                                                                  \n",
            " block_3_depthwise_BN (BatchNor  (None, 28, 28, 144)  576        ['block_3_depthwise[0][0]']      \n",
            " malization)                                                                                      \n",
            "                                                                                                  \n",
            " block_3_depthwise_relu (ReLU)  (None, 28, 28, 144)  0           ['block_3_depthwise_BN[0][0]']   \n",
            "                                                                                                  \n",
            " block_3_project (Conv2D)       (None, 28, 28, 32)   4608        ['block_3_depthwise_relu[0][0]'] \n",
            "                                                                                                  \n",
            " block_3_project_BN (BatchNorma  (None, 28, 28, 32)  128         ['block_3_project[0][0]']        \n",
            " lization)                                                                                        \n",
            "                                                                                                  \n",
            " block_4_expand (Conv2D)        (None, 28, 28, 192)  6144        ['block_3_project_BN[0][0]']     \n",
            "                                                                                                  \n",
            " block_4_expand_BN (BatchNormal  (None, 28, 28, 192)  768        ['block_4_expand[0][0]']         \n",
            " ization)                                                                                         \n",
            "                                                                                                  \n",
            " block_4_expand_relu (ReLU)     (None, 28, 28, 192)  0           ['block_4_expand_BN[0][0]']      \n",
            "                                                                                                  \n",
            " block_4_depthwise (DepthwiseCo  (None, 28, 28, 192)  1728       ['block_4_expand_relu[0][0]']    \n",
            " nv2D)                                                                                            \n",
            "                                                                                                  \n",
            " block_4_depthwise_BN (BatchNor  (None, 28, 28, 192)  768        ['block_4_depthwise[0][0]']      \n",
            " malization)                                                                                      \n",
            "                                                                                                  \n",
            " block_4_depthwise_relu (ReLU)  (None, 28, 28, 192)  0           ['block_4_depthwise_BN[0][0]']   \n",
            "                                                                                                  \n",
            " block_4_project (Conv2D)       (None, 28, 28, 32)   6144        ['block_4_depthwise_relu[0][0]'] \n",
            "                                                                                                  \n",
            " block_4_project_BN (BatchNorma  (None, 28, 28, 32)  128         ['block_4_project[0][0]']        \n",
            " lization)                                                                                        \n",
            "                                                                                                  \n",
            " block_4_add (Add)              (None, 28, 28, 32)   0           ['block_3_project_BN[0][0]',     \n",
            "                                                                  'block_4_project_BN[0][0]']     \n",
            "                                                                                                  \n",
            " block_5_expand (Conv2D)        (None, 28, 28, 192)  6144        ['block_4_add[0][0]']            \n",
            "                                                                                                  \n",
            " block_5_expand_BN (BatchNormal  (None, 28, 28, 192)  768        ['block_5_expand[0][0]']         \n",
            " ization)                                                                                         \n",
            "                                                                                                  \n",
            " block_5_expand_relu (ReLU)     (None, 28, 28, 192)  0           ['block_5_expand_BN[0][0]']      \n",
            "                                                                                                  \n",
            " block_5_depthwise (DepthwiseCo  (None, 28, 28, 192)  1728       ['block_5_expand_relu[0][0]']    \n",
            " nv2D)                                                                                            \n",
            "                                                                                                  \n",
            " block_5_depthwise_BN (BatchNor  (None, 28, 28, 192)  768        ['block_5_depthwise[0][0]']      \n",
            " malization)                                                                                      \n",
            "                                                                                                  \n",
            " block_5_depthwise_relu (ReLU)  (None, 28, 28, 192)  0           ['block_5_depthwise_BN[0][0]']   \n",
            "                                                                                                  \n",
            " block_5_project (Conv2D)       (None, 28, 28, 32)   6144        ['block_5_depthwise_relu[0][0]'] \n",
            "                                                                                                  \n",
            " block_5_project_BN (BatchNorma  (None, 28, 28, 32)  128         ['block_5_project[0][0]']        \n",
            " lization)                                                                                        \n",
            "                                                                                                  \n",
            " block_5_add (Add)              (None, 28, 28, 32)   0           ['block_4_add[0][0]',            \n",
            "                                                                  'block_5_project_BN[0][0]']     \n",
            "                                                                                                  \n",
            " block_6_expand (Conv2D)        (None, 28, 28, 192)  6144        ['block_5_add[0][0]']            \n",
            "                                                                                                  \n",
            " block_6_expand_BN (BatchNormal  (None, 28, 28, 192)  768        ['block_6_expand[0][0]']         \n",
            " ization)                                                                                         \n",
            "                                                                                                  \n",
            " block_6_expand_relu (ReLU)     (None, 28, 28, 192)  0           ['block_6_expand_BN[0][0]']      \n",
            "                                                                                                  \n",
            " block_6_pad (ZeroPadding2D)    (None, 29, 29, 192)  0           ['block_6_expand_relu[0][0]']    \n",
            "                                                                                                  \n",
            " block_6_depthwise (DepthwiseCo  (None, 14, 14, 192)  1728       ['block_6_pad[0][0]']            \n",
            " nv2D)                                                                                            \n",
            "                                                                                                  \n",
            " block_6_depthwise_BN (BatchNor  (None, 14, 14, 192)  768        ['block_6_depthwise[0][0]']      \n",
            " malization)                                                                                      \n",
            "                                                                                                  \n",
            " block_6_depthwise_relu (ReLU)  (None, 14, 14, 192)  0           ['block_6_depthwise_BN[0][0]']   \n",
            "                                                                                                  \n",
            " block_6_project (Conv2D)       (None, 14, 14, 64)   12288       ['block_6_depthwise_relu[0][0]'] \n",
            "                                                                                                  \n",
            " block_6_project_BN (BatchNorma  (None, 14, 14, 64)  256         ['block_6_project[0][0]']        \n",
            " lization)                                                                                        \n",
            "                                                                                                  \n",
            " block_7_expand (Conv2D)        (None, 14, 14, 384)  24576       ['block_6_project_BN[0][0]']     \n",
            "                                                                                                  \n",
            " block_7_expand_BN (BatchNormal  (None, 14, 14, 384)  1536       ['block_7_expand[0][0]']         \n",
            " ization)                                                                                         \n",
            "                                                                                                  \n",
            " block_7_expand_relu (ReLU)     (None, 14, 14, 384)  0           ['block_7_expand_BN[0][0]']      \n",
            "                                                                                                  \n",
            " block_7_depthwise (DepthwiseCo  (None, 14, 14, 384)  3456       ['block_7_expand_relu[0][0]']    \n",
            " nv2D)                                                                                            \n",
            "                                                                                                  \n",
            " block_7_depthwise_BN (BatchNor  (None, 14, 14, 384)  1536       ['block_7_depthwise[0][0]']      \n",
            " malization)                                                                                      \n",
            "                                                                                                  \n",
            " block_7_depthwise_relu (ReLU)  (None, 14, 14, 384)  0           ['block_7_depthwise_BN[0][0]']   \n",
            "                                                                                                  \n",
            " block_7_project (Conv2D)       (None, 14, 14, 64)   24576       ['block_7_depthwise_relu[0][0]'] \n",
            "                                                                                                  \n",
            " block_7_project_BN (BatchNorma  (None, 14, 14, 64)  256         ['block_7_project[0][0]']        \n",
            " lization)                                                                                        \n",
            "                                                                                                  \n",
            " block_7_add (Add)              (None, 14, 14, 64)   0           ['block_6_project_BN[0][0]',     \n",
            "                                                                  'block_7_project_BN[0][0]']     \n",
            "                                                                                                  \n",
            " block_8_expand (Conv2D)        (None, 14, 14, 384)  24576       ['block_7_add[0][0]']            \n",
            "                                                                                                  \n",
            " block_8_expand_BN (BatchNormal  (None, 14, 14, 384)  1536       ['block_8_expand[0][0]']         \n",
            " ization)                                                                                         \n",
            "                                                                                                  \n",
            " block_8_expand_relu (ReLU)     (None, 14, 14, 384)  0           ['block_8_expand_BN[0][0]']      \n",
            "                                                                                                  \n",
            " block_8_depthwise (DepthwiseCo  (None, 14, 14, 384)  3456       ['block_8_expand_relu[0][0]']    \n",
            " nv2D)                                                                                            \n",
            "                                                                                                  \n",
            " block_8_depthwise_BN (BatchNor  (None, 14, 14, 384)  1536       ['block_8_depthwise[0][0]']      \n",
            " malization)                                                                                      \n",
            "                                                                                                  \n",
            " block_8_depthwise_relu (ReLU)  (None, 14, 14, 384)  0           ['block_8_depthwise_BN[0][0]']   \n",
            "                                                                                                  \n",
            " block_8_project (Conv2D)       (None, 14, 14, 64)   24576       ['block_8_depthwise_relu[0][0]'] \n",
            "                                                                                                  \n",
            " block_8_project_BN (BatchNorma  (None, 14, 14, 64)  256         ['block_8_project[0][0]']        \n",
            " lization)                                                                                        \n",
            "                                                                                                  \n",
            " block_8_add (Add)              (None, 14, 14, 64)   0           ['block_7_add[0][0]',            \n",
            "                                                                  'block_8_project_BN[0][0]']     \n",
            "                                                                                                  \n",
            " block_9_expand (Conv2D)        (None, 14, 14, 384)  24576       ['block_8_add[0][0]']            \n",
            "                                                                                                  \n",
            " block_9_expand_BN (BatchNormal  (None, 14, 14, 384)  1536       ['block_9_expand[0][0]']         \n",
            " ization)                                                                                         \n",
            "                                                                                                  \n",
            " block_9_expand_relu (ReLU)     (None, 14, 14, 384)  0           ['block_9_expand_BN[0][0]']      \n",
            "                                                                                                  \n",
            " block_9_depthwise (DepthwiseCo  (None, 14, 14, 384)  3456       ['block_9_expand_relu[0][0]']    \n",
            " nv2D)                                                                                            \n",
            "                                                                                                  \n",
            " block_9_depthwise_BN (BatchNor  (None, 14, 14, 384)  1536       ['block_9_depthwise[0][0]']      \n",
            " malization)                                                                                      \n",
            "                                                                                                  \n",
            " block_9_depthwise_relu (ReLU)  (None, 14, 14, 384)  0           ['block_9_depthwise_BN[0][0]']   \n",
            "                                                                                                  \n",
            " block_9_project (Conv2D)       (None, 14, 14, 64)   24576       ['block_9_depthwise_relu[0][0]'] \n",
            "                                                                                                  \n",
            " block_9_project_BN (BatchNorma  (None, 14, 14, 64)  256         ['block_9_project[0][0]']        \n",
            " lization)                                                                                        \n",
            "                                                                                                  \n",
            " block_9_add (Add)              (None, 14, 14, 64)   0           ['block_8_add[0][0]',            \n",
            "                                                                  'block_9_project_BN[0][0]']     \n",
            "                                                                                                  \n",
            " block_10_expand (Conv2D)       (None, 14, 14, 384)  24576       ['block_9_add[0][0]']            \n",
            "                                                                                                  \n",
            " block_10_expand_BN (BatchNorma  (None, 14, 14, 384)  1536       ['block_10_expand[0][0]']        \n",
            " lization)                                                                                        \n",
            "                                                                                                  \n",
            " block_10_expand_relu (ReLU)    (None, 14, 14, 384)  0           ['block_10_expand_BN[0][0]']     \n",
            "                                                                                                  \n",
            " block_10_depthwise (DepthwiseC  (None, 14, 14, 384)  3456       ['block_10_expand_relu[0][0]']   \n",
            " onv2D)                                                                                           \n",
            "                                                                                                  \n",
            " block_10_depthwise_BN (BatchNo  (None, 14, 14, 384)  1536       ['block_10_depthwise[0][0]']     \n",
            " rmalization)                                                                                     \n",
            "                                                                                                  \n",
            " block_10_depthwise_relu (ReLU)  (None, 14, 14, 384)  0          ['block_10_depthwise_BN[0][0]']  \n",
            "                                                                                                  \n",
            " block_10_project (Conv2D)      (None, 14, 14, 96)   36864       ['block_10_depthwise_relu[0][0]']\n",
            "                                                                                                  \n",
            " block_10_project_BN (BatchNorm  (None, 14, 14, 96)  384         ['block_10_project[0][0]']       \n",
            " alization)                                                                                       \n",
            "                                                                                                  \n",
            " block_11_expand (Conv2D)       (None, 14, 14, 576)  55296       ['block_10_project_BN[0][0]']    \n",
            "                                                                                                  \n",
            " block_11_expand_BN (BatchNorma  (None, 14, 14, 576)  2304       ['block_11_expand[0][0]']        \n",
            " lization)                                                                                        \n",
            "                                                                                                  \n",
            " block_11_expand_relu (ReLU)    (None, 14, 14, 576)  0           ['block_11_expand_BN[0][0]']     \n",
            "                                                                                                  \n",
            " block_11_depthwise (DepthwiseC  (None, 14, 14, 576)  5184       ['block_11_expand_relu[0][0]']   \n",
            " onv2D)                                                                                           \n",
            "                                                                                                  \n",
            " block_11_depthwise_BN (BatchNo  (None, 14, 14, 576)  2304       ['block_11_depthwise[0][0]']     \n",
            " rmalization)                                                                                     \n",
            "                                                                                                  \n",
            " block_11_depthwise_relu (ReLU)  (None, 14, 14, 576)  0          ['block_11_depthwise_BN[0][0]']  \n",
            "                                                                                                  \n",
            " block_11_project (Conv2D)      (None, 14, 14, 96)   55296       ['block_11_depthwise_relu[0][0]']\n",
            "                                                                                                  \n",
            " block_11_project_BN (BatchNorm  (None, 14, 14, 96)  384         ['block_11_project[0][0]']       \n",
            " alization)                                                                                       \n",
            "                                                                                                  \n",
            " block_11_add (Add)             (None, 14, 14, 96)   0           ['block_10_project_BN[0][0]',    \n",
            "                                                                  'block_11_project_BN[0][0]']    \n",
            "                                                                                                  \n",
            " block_12_expand (Conv2D)       (None, 14, 14, 576)  55296       ['block_11_add[0][0]']           \n",
            "                                                                                                  \n",
            " block_12_expand_BN (BatchNorma  (None, 14, 14, 576)  2304       ['block_12_expand[0][0]']        \n",
            " lization)                                                                                        \n",
            "                                                                                                  \n",
            " block_12_expand_relu (ReLU)    (None, 14, 14, 576)  0           ['block_12_expand_BN[0][0]']     \n",
            "                                                                                                  \n",
            " block_12_depthwise (DepthwiseC  (None, 14, 14, 576)  5184       ['block_12_expand_relu[0][0]']   \n",
            " onv2D)                                                                                           \n",
            "                                                                                                  \n",
            " block_12_depthwise_BN (BatchNo  (None, 14, 14, 576)  2304       ['block_12_depthwise[0][0]']     \n",
            " rmalization)                                                                                     \n",
            "                                                                                                  \n",
            " block_12_depthwise_relu (ReLU)  (None, 14, 14, 576)  0          ['block_12_depthwise_BN[0][0]']  \n",
            "                                                                                                  \n",
            " block_12_project (Conv2D)      (None, 14, 14, 96)   55296       ['block_12_depthwise_relu[0][0]']\n",
            "                                                                                                  \n",
            " block_12_project_BN (BatchNorm  (None, 14, 14, 96)  384         ['block_12_project[0][0]']       \n",
            " alization)                                                                                       \n",
            "                                                                                                  \n",
            " block_12_add (Add)             (None, 14, 14, 96)   0           ['block_11_add[0][0]',           \n",
            "                                                                  'block_12_project_BN[0][0]']    \n",
            "                                                                                                  \n",
            " block_13_expand (Conv2D)       (None, 14, 14, 576)  55296       ['block_12_add[0][0]']           \n",
            "                                                                                                  \n",
            " block_13_expand_BN (BatchNorma  (None, 14, 14, 576)  2304       ['block_13_expand[0][0]']        \n",
            " lization)                                                                                        \n",
            "                                                                                                  \n",
            " block_13_expand_relu (ReLU)    (None, 14, 14, 576)  0           ['block_13_expand_BN[0][0]']     \n",
            "                                                                                                  \n",
            " block_13_pad (ZeroPadding2D)   (None, 15, 15, 576)  0           ['block_13_expand_relu[0][0]']   \n",
            "                                                                                                  \n",
            " block_13_depthwise (DepthwiseC  (None, 7, 7, 576)   5184        ['block_13_pad[0][0]']           \n",
            " onv2D)                                                                                           \n",
            "                                                                                                  \n",
            " block_13_depthwise_BN (BatchNo  (None, 7, 7, 576)   2304        ['block_13_depthwise[0][0]']     \n",
            " rmalization)                                                                                     \n",
            "                                                                                                  \n",
            " block_13_depthwise_relu (ReLU)  (None, 7, 7, 576)   0           ['block_13_depthwise_BN[0][0]']  \n",
            "                                                                                                  \n",
            " block_13_project (Conv2D)      (None, 7, 7, 160)    92160       ['block_13_depthwise_relu[0][0]']\n",
            "                                                                                                  \n",
            " block_13_project_BN (BatchNorm  (None, 7, 7, 160)   640         ['block_13_project[0][0]']       \n",
            " alization)                                                                                       \n",
            "                                                                                                  \n",
            " block_14_expand (Conv2D)       (None, 7, 7, 960)    153600      ['block_13_project_BN[0][0]']    \n",
            "                                                                                                  \n",
            " block_14_expand_BN (BatchNorma  (None, 7, 7, 960)   3840        ['block_14_expand[0][0]']        \n",
            " lization)                                                                                        \n",
            "                                                                                                  \n",
            " block_14_expand_relu (ReLU)    (None, 7, 7, 960)    0           ['block_14_expand_BN[0][0]']     \n",
            "                                                                                                  \n",
            " block_14_depthwise (DepthwiseC  (None, 7, 7, 960)   8640        ['block_14_expand_relu[0][0]']   \n",
            " onv2D)                                                                                           \n",
            "                                                                                                  \n",
            " block_14_depthwise_BN (BatchNo  (None, 7, 7, 960)   3840        ['block_14_depthwise[0][0]']     \n",
            " rmalization)                                                                                     \n",
            "                                                                                                  \n",
            " block_14_depthwise_relu (ReLU)  (None, 7, 7, 960)   0           ['block_14_depthwise_BN[0][0]']  \n",
            "                                                                                                  \n",
            " block_14_project (Conv2D)      (None, 7, 7, 160)    153600      ['block_14_depthwise_relu[0][0]']\n",
            "                                                                                                  \n",
            " block_14_project_BN (BatchNorm  (None, 7, 7, 160)   640         ['block_14_project[0][0]']       \n",
            " alization)                                                                                       \n",
            "                                                                                                  \n",
            " block_14_add (Add)             (None, 7, 7, 160)    0           ['block_13_project_BN[0][0]',    \n",
            "                                                                  'block_14_project_BN[0][0]']    \n",
            "                                                                                                  \n",
            " block_15_expand (Conv2D)       (None, 7, 7, 960)    153600      ['block_14_add[0][0]']           \n",
            "                                                                                                  \n",
            " block_15_expand_BN (BatchNorma  (None, 7, 7, 960)   3840        ['block_15_expand[0][0]']        \n",
            " lization)                                                                                        \n",
            "                                                                                                  \n",
            " block_15_expand_relu (ReLU)    (None, 7, 7, 960)    0           ['block_15_expand_BN[0][0]']     \n",
            "                                                                                                  \n",
            " block_15_depthwise (DepthwiseC  (None, 7, 7, 960)   8640        ['block_15_expand_relu[0][0]']   \n",
            " onv2D)                                                                                           \n",
            "                                                                                                  \n",
            " block_15_depthwise_BN (BatchNo  (None, 7, 7, 960)   3840        ['block_15_depthwise[0][0]']     \n",
            " rmalization)                                                                                     \n",
            "                                                                                                  \n",
            " block_15_depthwise_relu (ReLU)  (None, 7, 7, 960)   0           ['block_15_depthwise_BN[0][0]']  \n",
            "                                                                                                  \n",
            " block_15_project (Conv2D)      (None, 7, 7, 160)    153600      ['block_15_depthwise_relu[0][0]']\n",
            "                                                                                                  \n",
            " block_15_project_BN (BatchNorm  (None, 7, 7, 160)   640         ['block_15_project[0][0]']       \n",
            " alization)                                                                                       \n",
            "                                                                                                  \n",
            " block_15_add (Add)             (None, 7, 7, 160)    0           ['block_14_add[0][0]',           \n",
            "                                                                  'block_15_project_BN[0][0]']    \n",
            "                                                                                                  \n",
            " block_16_expand (Conv2D)       (None, 7, 7, 960)    153600      ['block_15_add[0][0]']           \n",
            "                                                                                                  \n",
            " block_16_expand_BN (BatchNorma  (None, 7, 7, 960)   3840        ['block_16_expand[0][0]']        \n",
            " lization)                                                                                        \n",
            "                                                                                                  \n",
            " block_16_expand_relu (ReLU)    (None, 7, 7, 960)    0           ['block_16_expand_BN[0][0]']     \n",
            "                                                                                                  \n",
            " block_16_depthwise (DepthwiseC  (None, 7, 7, 960)   8640        ['block_16_expand_relu[0][0]']   \n",
            " onv2D)                                                                                           \n",
            "                                                                                                  \n",
            " block_16_depthwise_BN (BatchNo  (None, 7, 7, 960)   3840        ['block_16_depthwise[0][0]']     \n",
            " rmalization)                                                                                     \n",
            "                                                                                                  \n",
            " block_16_depthwise_relu (ReLU)  (None, 7, 7, 960)   0           ['block_16_depthwise_BN[0][0]']  \n",
            "                                                                                                  \n",
            " block_16_project (Conv2D)      (None, 7, 7, 320)    307200      ['block_16_depthwise_relu[0][0]']\n",
            "                                                                                                  \n",
            " block_16_project_BN (BatchNorm  (None, 7, 7, 320)   1280        ['block_16_project[0][0]']       \n",
            " alization)                                                                                       \n",
            "                                                                                                  \n",
            " Conv_1 (Conv2D)                (None, 7, 7, 1280)   409600      ['block_16_project_BN[0][0]']    \n",
            "                                                                                                  \n",
            " Conv_1_bn (BatchNormalization)  (None, 7, 7, 1280)  5120        ['Conv_1[0][0]']                 \n",
            "                                                                                                  \n",
            " out_relu (ReLU)                (None, 7, 7, 1280)   0           ['Conv_1_bn[0][0]']              \n",
            "                                                                                                  \n",
            "==================================================================================================\n",
            "Total params: 2,257,984\n",
            "Trainable params: 2,223,872\n",
            "Non-trainable params: 34,112\n",
            "__________________________________________________________________________________________________\n"
          ]
        }
      ],
      "source": [
        "base_model.summary()"
      ]
    },
    {
      "cell_type": "markdown",
      "metadata": {
        "id": "OoiY5vKUeiS_"
      },
      "source": [
        "Next we add new top layers that will classify the input images into types of food."
      ]
    },
    {
      "cell_type": "code",
      "execution_count": 16,
      "metadata": {
        "id": "XS9tV7OEeh_i"
      },
      "outputs": [],
      "source": [
        "from keras.models import Sequential\n",
        "from keras.layers import *\n",
        "\n",
        "model = Sequential()\n",
        "\n",
        "# Start with the base_model\n",
        "model.add(base_model)\n",
        "\n",
        "# Add a global spatial average pooling layer\n",
        "model.add(keras.layers.GlobalAveragePooling2D())\n",
        "\n",
        "# A fully-connected layer\n",
        "model.add(keras.layers.Dense(1024, activation='relu'))\n",
        "\n",
        "# A softmax layer -- note that we have 5 classes\n",
        "model.add(keras.layers.Dense(num_classes, activation='softmax'))"
      ]
    },
    {
      "cell_type": "code",
      "execution_count": 17,
      "metadata": {
        "colab": {
          "base_uri": "https://localhost:8080/"
        },
        "id": "y_LOJ5QNHwDO",
        "outputId": "55813c2f-62d7-48a6-ee49-89b79b91ad8d"
      },
      "outputs": [
        {
          "output_type": "stream",
          "name": "stdout",
          "text": [
            "Model: \"sequential\"\n",
            "_________________________________________________________________\n",
            " Layer (type)                Output Shape              Param #   \n",
            "=================================================================\n",
            " mobilenetv2_1.00_224 (Funct  (None, 7, 7, 1280)       2257984   \n",
            " ional)                                                          \n",
            "                                                                 \n",
            " global_average_pooling2d (G  (None, 1280)             0         \n",
            " lobalAveragePooling2D)                                          \n",
            "                                                                 \n",
            " dense (Dense)               (None, 1024)              1311744   \n",
            "                                                                 \n",
            " dense_1 (Dense)             (None, 3)                 3075      \n",
            "                                                                 \n",
            "=================================================================\n",
            "Total params: 3,572,803\n",
            "Trainable params: 3,538,691\n",
            "Non-trainable params: 34,112\n",
            "_________________________________________________________________\n"
          ]
        }
      ],
      "source": [
        "model.summary()"
      ]
    },
    {
      "cell_type": "markdown",
      "metadata": {
        "id": "69xQ0CvMe6RX"
      },
      "source": [
        "Here we print the list of newly added layers in the model."
      ]
    },
    {
      "cell_type": "code",
      "execution_count": 18,
      "metadata": {
        "colab": {
          "base_uri": "https://localhost:8080/"
        },
        "id": "UbMmTwdUwHo2",
        "outputId": "73d87807-1f85-48b0-a3c4-eef7e96dda3f"
      },
      "outputs": [
        {
          "output_type": "stream",
          "name": "stdout",
          "text": [
            "0 mobilenetv2_1.00_224\n",
            "1 global_average_pooling2d\n",
            "2 dense\n",
            "3 dense_1\n"
          ]
        }
      ],
      "source": [
        "for i, layer in enumerate(model.layers):\n",
        "   print(i, layer.name)"
      ]
    },
    {
      "cell_type": "markdown",
      "metadata": {
        "id": "K61WjkC3as-X"
      },
      "source": [
        "## Training Only Top Layers"
      ]
    },
    {
      "cell_type": "markdown",
      "metadata": {
        "id": "85I61anza0UJ"
      },
      "source": [
        "Before we start fine-tuning the model, it is a common practice to first train only the newly added layers at the top of the model. This is because the top layers are *randomly initialized*, which may not work well with the currrent parameters of the pretrained model. We need to train the top layers to make it compatible with the features extracted from the layers below."
      ]
    },
    {
      "cell_type": "markdown",
      "metadata": {
        "id": "d-NUevgHWwUw"
      },
      "source": [
        "First, we train only the top layers by making all of the layers from `base_model` (i.e., MobileNetV2) not trainable."
      ]
    },
    {
      "cell_type": "code",
      "execution_count": 19,
      "metadata": {
        "id": "or8f2udfVJ-j"
      },
      "outputs": [],
      "source": [
        "# Freeze all layers in the MobileNetV2, except the ones we have just added.\n",
        "for layer in base_model.layers:\n",
        "    layer.trainable = False"
      ]
    },
    {
      "cell_type": "markdown",
      "metadata": {
        "id": "t3adPtphW-nw"
      },
      "source": [
        "Next, we configure the model for training."
      ]
    },
    {
      "cell_type": "code",
      "execution_count": 20,
      "metadata": {
        "colab": {
          "base_uri": "https://localhost:8080/"
        },
        "id": "H2qSPcGpZifq",
        "outputId": "290150c3-d14d-4a7d-f40a-7f7cef68d4ca"
      },
      "outputs": [
        {
          "output_type": "stream",
          "name": "stderr",
          "text": [
            "/usr/local/lib/python3.7/dist-packages/keras/optimizer_v2/gradient_descent.py:102: UserWarning: The `lr` argument is deprecated, use `learning_rate` instead.\n",
            "  super(SGD, self).__init__(name, **kwargs)\n"
          ]
        }
      ],
      "source": [
        "epochs = 100\n",
        "batch_size = 25\n",
        "learning_rate = 0.001\n",
        "\n",
        "# SGD optimizer (you can use others)\n",
        "optimizer = keras.optimizers.SGD(lr=learning_rate)\n",
        "\n",
        "# Cross-entropy loss\n",
        "loss = tf.keras.losses.SparseCategoricalCrossentropy(from_logits=False)\n",
        "\n",
        "# Compile the model\n",
        "model.compile(\n",
        "    loss=loss,\n",
        "    optimizer=optimizer,\n",
        "    metrics=['accuracy'])"
      ]
    },
    {
      "cell_type": "markdown",
      "metadata": {
        "id": "2CeIwggcXJ2S"
      },
      "source": [
        "Let's start feeding the data to train the model and it will learn to classify food images."
      ]
    },
    {
      "cell_type": "code",
      "execution_count": 21,
      "metadata": {
        "colab": {
          "base_uri": "https://localhost:8080/"
        },
        "id": "-yONyff9XJVW",
        "outputId": "ac180aa2-98a6-4088-e95a-301fecc4038d"
      },
      "outputs": [
        {
          "output_type": "stream",
          "name": "stdout",
          "text": [
            "Epoch 1/100\n",
            "2/2 [==============================] - 8s 3s/step - loss: 1.3410 - accuracy: 0.3542 - val_loss: 1.0661 - val_accuracy: 0.1667\n",
            "Epoch 2/100\n",
            "2/2 [==============================] - 0s 133ms/step - loss: 1.2811 - accuracy: 0.4167 - val_loss: 1.0661 - val_accuracy: 0.1667\n",
            "Epoch 3/100\n",
            "2/2 [==============================] - 0s 165ms/step - loss: 1.2287 - accuracy: 0.4167 - val_loss: 1.0660 - val_accuracy: 0.1667\n",
            "Epoch 4/100\n",
            "2/2 [==============================] - 0s 216ms/step - loss: 1.1820 - accuracy: 0.4167 - val_loss: 1.0684 - val_accuracy: 0.1667\n",
            "Epoch 5/100\n",
            "2/2 [==============================] - 0s 138ms/step - loss: 1.1422 - accuracy: 0.4167 - val_loss: 1.0700 - val_accuracy: 0.1667\n",
            "Epoch 6/100\n",
            "2/2 [==============================] - 0s 194ms/step - loss: 1.1048 - accuracy: 0.4583 - val_loss: 1.0747 - val_accuracy: 0.1667\n",
            "Epoch 7/100\n",
            "2/2 [==============================] - 0s 132ms/step - loss: 1.0667 - accuracy: 0.4583 - val_loss: 1.0759 - val_accuracy: 0.1667\n",
            "Epoch 8/100\n",
            "2/2 [==============================] - 0s 180ms/step - loss: 1.0401 - accuracy: 0.4792 - val_loss: 1.0783 - val_accuracy: 0.1667\n",
            "Epoch 9/100\n",
            "2/2 [==============================] - 0s 164ms/step - loss: 1.0091 - accuracy: 0.4792 - val_loss: 1.0831 - val_accuracy: 0.1667\n",
            "Epoch 10/100\n",
            "2/2 [==============================] - 0s 142ms/step - loss: 0.9757 - accuracy: 0.5208 - val_loss: 1.0872 - val_accuracy: 0.1667\n",
            "Epoch 11/100\n",
            "2/2 [==============================] - 0s 187ms/step - loss: 0.9479 - accuracy: 0.5208 - val_loss: 1.0910 - val_accuracy: 0.1667\n",
            "Epoch 12/100\n",
            "2/2 [==============================] - 0s 142ms/step - loss: 0.9259 - accuracy: 0.5625 - val_loss: 1.0956 - val_accuracy: 0.1667\n",
            "Epoch 13/100\n",
            "2/2 [==============================] - 0s 136ms/step - loss: 0.8974 - accuracy: 0.6042 - val_loss: 1.0984 - val_accuracy: 0.1667\n",
            "Epoch 14/100\n",
            "2/2 [==============================] - 0s 133ms/step - loss: 0.8730 - accuracy: 0.6667 - val_loss: 1.1011 - val_accuracy: 0.1667\n",
            "Epoch 15/100\n",
            "2/2 [==============================] - 0s 132ms/step - loss: 0.8523 - accuracy: 0.6667 - val_loss: 1.1044 - val_accuracy: 0.1667\n",
            "Epoch 16/100\n",
            "2/2 [==============================] - 0s 219ms/step - loss: 0.8296 - accuracy: 0.6875 - val_loss: 1.1066 - val_accuracy: 0.1667\n",
            "Epoch 17/100\n",
            "2/2 [==============================] - 0s 186ms/step - loss: 0.8094 - accuracy: 0.7083 - val_loss: 1.1104 - val_accuracy: 0.1667\n",
            "Epoch 18/100\n",
            "2/2 [==============================] - 0s 135ms/step - loss: 0.7900 - accuracy: 0.7500 - val_loss: 1.1151 - val_accuracy: 0.1667\n",
            "Epoch 19/100\n",
            "2/2 [==============================] - 0s 213ms/step - loss: 0.7720 - accuracy: 0.7500 - val_loss: 1.1176 - val_accuracy: 0.1667\n",
            "Epoch 20/100\n",
            "2/2 [==============================] - 0s 163ms/step - loss: 0.7521 - accuracy: 0.7708 - val_loss: 1.1193 - val_accuracy: 0.1667\n",
            "Epoch 21/100\n",
            "2/2 [==============================] - 0s 133ms/step - loss: 0.7338 - accuracy: 0.7708 - val_loss: 1.1228 - val_accuracy: 0.1667\n",
            "Epoch 22/100\n",
            "2/2 [==============================] - 0s 189ms/step - loss: 0.7185 - accuracy: 0.8333 - val_loss: 1.1275 - val_accuracy: 0.1667\n",
            "Epoch 23/100\n",
            "2/2 [==============================] - 0s 151ms/step - loss: 0.7016 - accuracy: 0.8333 - val_loss: 1.1315 - val_accuracy: 0.1667\n",
            "Epoch 24/100\n",
            "2/2 [==============================] - 0s 164ms/step - loss: 0.6856 - accuracy: 0.8542 - val_loss: 1.1338 - val_accuracy: 0.1667\n",
            "Epoch 25/100\n",
            "2/2 [==============================] - 0s 137ms/step - loss: 0.6701 - accuracy: 0.8750 - val_loss: 1.1354 - val_accuracy: 0.1667\n",
            "Epoch 26/100\n",
            "2/2 [==============================] - 0s 179ms/step - loss: 0.6551 - accuracy: 0.8750 - val_loss: 1.1384 - val_accuracy: 0.1667\n",
            "Epoch 27/100\n",
            "2/2 [==============================] - 0s 164ms/step - loss: 0.6412 - accuracy: 0.8750 - val_loss: 1.1420 - val_accuracy: 0.1667\n",
            "Epoch 28/100\n",
            "2/2 [==============================] - 0s 205ms/step - loss: 0.6293 - accuracy: 0.8750 - val_loss: 1.1439 - val_accuracy: 0.1667\n",
            "Epoch 29/100\n",
            "2/2 [==============================] - 0s 185ms/step - loss: 0.6145 - accuracy: 0.9167 - val_loss: 1.1464 - val_accuracy: 0.1667\n",
            "Epoch 30/100\n",
            "2/2 [==============================] - 0s 164ms/step - loss: 0.6017 - accuracy: 0.9583 - val_loss: 1.1509 - val_accuracy: 0.1667\n",
            "Epoch 31/100\n",
            "2/2 [==============================] - 0s 196ms/step - loss: 0.5894 - accuracy: 0.9583 - val_loss: 1.1546 - val_accuracy: 0.1667\n",
            "Epoch 32/100\n",
            "2/2 [==============================] - 0s 140ms/step - loss: 0.5770 - accuracy: 0.9583 - val_loss: 1.1572 - val_accuracy: 0.1667\n",
            "Epoch 33/100\n",
            "2/2 [==============================] - 0s 144ms/step - loss: 0.5689 - accuracy: 0.9583 - val_loss: 1.1615 - val_accuracy: 0.1667\n",
            "Epoch 34/100\n",
            "2/2 [==============================] - 0s 172ms/step - loss: 0.5543 - accuracy: 0.9583 - val_loss: 1.1630 - val_accuracy: 0.1667\n",
            "Epoch 35/100\n",
            "2/2 [==============================] - 0s 143ms/step - loss: 0.5435 - accuracy: 0.9583 - val_loss: 1.1665 - val_accuracy: 0.1667\n",
            "Epoch 36/100\n",
            "2/2 [==============================] - 0s 149ms/step - loss: 0.5331 - accuracy: 0.9583 - val_loss: 1.1692 - val_accuracy: 0.1667\n",
            "Epoch 37/100\n",
            "2/2 [==============================] - 0s 192ms/step - loss: 0.5233 - accuracy: 0.9792 - val_loss: 1.1713 - val_accuracy: 0.1667\n",
            "Epoch 38/100\n",
            "2/2 [==============================] - 0s 146ms/step - loss: 0.5143 - accuracy: 0.9792 - val_loss: 1.1746 - val_accuracy: 0.1667\n",
            "Epoch 39/100\n",
            "2/2 [==============================] - 0s 154ms/step - loss: 0.5033 - accuracy: 0.9792 - val_loss: 1.1772 - val_accuracy: 0.1667\n",
            "Epoch 40/100\n",
            "2/2 [==============================] - 0s 150ms/step - loss: 0.4953 - accuracy: 0.9792 - val_loss: 1.1806 - val_accuracy: 0.1667\n",
            "Epoch 41/100\n",
            "2/2 [==============================] - 0s 170ms/step - loss: 0.4862 - accuracy: 0.9792 - val_loss: 1.1819 - val_accuracy: 0.1667\n",
            "Epoch 42/100\n",
            "2/2 [==============================] - 0s 211ms/step - loss: 0.4768 - accuracy: 0.9792 - val_loss: 1.1850 - val_accuracy: 0.1667\n",
            "Epoch 43/100\n",
            "2/2 [==============================] - 0s 169ms/step - loss: 0.4684 - accuracy: 0.9792 - val_loss: 1.1880 - val_accuracy: 0.1667\n",
            "Epoch 44/100\n",
            "2/2 [==============================] - 0s 168ms/step - loss: 0.4605 - accuracy: 0.9792 - val_loss: 1.1910 - val_accuracy: 0.1667\n",
            "Epoch 45/100\n",
            "2/2 [==============================] - 0s 206ms/step - loss: 0.4525 - accuracy: 0.9792 - val_loss: 1.1936 - val_accuracy: 0.1667\n",
            "Epoch 46/100\n",
            "2/2 [==============================] - 0s 165ms/step - loss: 0.4452 - accuracy: 0.9792 - val_loss: 1.1945 - val_accuracy: 0.1667\n",
            "Epoch 47/100\n",
            "2/2 [==============================] - 0s 191ms/step - loss: 0.4369 - accuracy: 0.9792 - val_loss: 1.1969 - val_accuracy: 0.1667\n",
            "Epoch 48/100\n",
            "2/2 [==============================] - 0s 214ms/step - loss: 0.4299 - accuracy: 0.9792 - val_loss: 1.1986 - val_accuracy: 0.1667\n",
            "Epoch 49/100\n",
            "2/2 [==============================] - 0s 218ms/step - loss: 0.4240 - accuracy: 0.9792 - val_loss: 1.2021 - val_accuracy: 0.1667\n",
            "Epoch 50/100\n",
            "2/2 [==============================] - 0s 169ms/step - loss: 0.4158 - accuracy: 0.9792 - val_loss: 1.2045 - val_accuracy: 0.1667\n",
            "Epoch 51/100\n",
            "2/2 [==============================] - 0s 164ms/step - loss: 0.4092 - accuracy: 0.9792 - val_loss: 1.2066 - val_accuracy: 0.1667\n",
            "Epoch 52/100\n",
            "2/2 [==============================] - 0s 122ms/step - loss: 0.4038 - accuracy: 0.9792 - val_loss: 1.2084 - val_accuracy: 0.1667\n",
            "Epoch 53/100\n",
            "2/2 [==============================] - 0s 160ms/step - loss: 0.3968 - accuracy: 0.9792 - val_loss: 1.2103 - val_accuracy: 0.1667\n",
            "Epoch 54/100\n",
            "2/2 [==============================] - 0s 166ms/step - loss: 0.3908 - accuracy: 1.0000 - val_loss: 1.2130 - val_accuracy: 0.1667\n",
            "Epoch 55/100\n",
            "2/2 [==============================] - 0s 164ms/step - loss: 0.3844 - accuracy: 1.0000 - val_loss: 1.2147 - val_accuracy: 0.1667\n",
            "Epoch 56/100\n",
            "2/2 [==============================] - 0s 146ms/step - loss: 0.3797 - accuracy: 1.0000 - val_loss: 1.2165 - val_accuracy: 0.1667\n",
            "Epoch 57/100\n",
            "2/2 [==============================] - 0s 245ms/step - loss: 0.3727 - accuracy: 1.0000 - val_loss: 1.2198 - val_accuracy: 0.1667\n",
            "Epoch 58/100\n",
            "2/2 [==============================] - 0s 171ms/step - loss: 0.3675 - accuracy: 1.0000 - val_loss: 1.2221 - val_accuracy: 0.1667\n",
            "Epoch 59/100\n",
            "2/2 [==============================] - 0s 151ms/step - loss: 0.3622 - accuracy: 1.0000 - val_loss: 1.2243 - val_accuracy: 0.1667\n",
            "Epoch 60/100\n",
            "2/2 [==============================] - 0s 195ms/step - loss: 0.3571 - accuracy: 1.0000 - val_loss: 1.2276 - val_accuracy: 0.1667\n",
            "Epoch 61/100\n",
            "2/2 [==============================] - 0s 168ms/step - loss: 0.3522 - accuracy: 1.0000 - val_loss: 1.2286 - val_accuracy: 0.1667\n",
            "Epoch 62/100\n",
            "2/2 [==============================] - 0s 193ms/step - loss: 0.3466 - accuracy: 1.0000 - val_loss: 1.2314 - val_accuracy: 0.1667\n",
            "Epoch 63/100\n",
            "2/2 [==============================] - 0s 161ms/step - loss: 0.3418 - accuracy: 1.0000 - val_loss: 1.2347 - val_accuracy: 0.1667\n",
            "Epoch 64/100\n",
            "2/2 [==============================] - 0s 177ms/step - loss: 0.3370 - accuracy: 1.0000 - val_loss: 1.2378 - val_accuracy: 0.1667\n",
            "Epoch 65/100\n",
            "2/2 [==============================] - 0s 176ms/step - loss: 0.3321 - accuracy: 1.0000 - val_loss: 1.2398 - val_accuracy: 0.1667\n",
            "Epoch 66/100\n",
            "2/2 [==============================] - 0s 174ms/step - loss: 0.3279 - accuracy: 1.0000 - val_loss: 1.2408 - val_accuracy: 0.1667\n",
            "Epoch 67/100\n",
            "2/2 [==============================] - 0s 187ms/step - loss: 0.3232 - accuracy: 1.0000 - val_loss: 1.2424 - val_accuracy: 0.1667\n",
            "Epoch 68/100\n",
            "2/2 [==============================] - 0s 180ms/step - loss: 0.3198 - accuracy: 1.0000 - val_loss: 1.2432 - val_accuracy: 0.1667\n",
            "Epoch 69/100\n",
            "2/2 [==============================] - 0s 209ms/step - loss: 0.3147 - accuracy: 1.0000 - val_loss: 1.2462 - val_accuracy: 0.1667\n",
            "Epoch 70/100\n",
            "2/2 [==============================] - 0s 148ms/step - loss: 0.3103 - accuracy: 1.0000 - val_loss: 1.2486 - val_accuracy: 0.1667\n",
            "Epoch 71/100\n",
            "2/2 [==============================] - 0s 185ms/step - loss: 0.3066 - accuracy: 1.0000 - val_loss: 1.2511 - val_accuracy: 0.1667\n",
            "Epoch 72/100\n",
            "2/2 [==============================] - 0s 184ms/step - loss: 0.3039 - accuracy: 1.0000 - val_loss: 1.2519 - val_accuracy: 0.1667\n",
            "Epoch 73/100\n",
            "2/2 [==============================] - 0s 191ms/step - loss: 0.2985 - accuracy: 1.0000 - val_loss: 1.2539 - val_accuracy: 0.1667\n",
            "Epoch 74/100\n",
            "2/2 [==============================] - 0s 171ms/step - loss: 0.2952 - accuracy: 1.0000 - val_loss: 1.2572 - val_accuracy: 0.1667\n",
            "Epoch 75/100\n",
            "2/2 [==============================] - 0s 168ms/step - loss: 0.2912 - accuracy: 1.0000 - val_loss: 1.2596 - val_accuracy: 0.1667\n",
            "Epoch 76/100\n",
            "2/2 [==============================] - 0s 149ms/step - loss: 0.2879 - accuracy: 1.0000 - val_loss: 1.2623 - val_accuracy: 0.1667\n",
            "Epoch 77/100\n",
            "2/2 [==============================] - 0s 134ms/step - loss: 0.2844 - accuracy: 1.0000 - val_loss: 1.2651 - val_accuracy: 0.1667\n",
            "Epoch 78/100\n",
            "2/2 [==============================] - 0s 149ms/step - loss: 0.2807 - accuracy: 1.0000 - val_loss: 1.2666 - val_accuracy: 0.1667\n",
            "Epoch 79/100\n",
            "2/2 [==============================] - 0s 255ms/step - loss: 0.2773 - accuracy: 1.0000 - val_loss: 1.2680 - val_accuracy: 0.1667\n",
            "Epoch 80/100\n",
            "2/2 [==============================] - 0s 212ms/step - loss: 0.2739 - accuracy: 1.0000 - val_loss: 1.2702 - val_accuracy: 0.1667\n",
            "Epoch 81/100\n",
            "2/2 [==============================] - 0s 202ms/step - loss: 0.2707 - accuracy: 1.0000 - val_loss: 1.2725 - val_accuracy: 0.1667\n",
            "Epoch 82/100\n",
            "2/2 [==============================] - 0s 182ms/step - loss: 0.2677 - accuracy: 1.0000 - val_loss: 1.2751 - val_accuracy: 0.1667\n",
            "Epoch 83/100\n",
            "2/2 [==============================] - 0s 147ms/step - loss: 0.2648 - accuracy: 1.0000 - val_loss: 1.2762 - val_accuracy: 0.1667\n",
            "Epoch 84/100\n",
            "2/2 [==============================] - 0s 184ms/step - loss: 0.2616 - accuracy: 1.0000 - val_loss: 1.2779 - val_accuracy: 0.1667\n",
            "Epoch 85/100\n",
            "2/2 [==============================] - 0s 160ms/step - loss: 0.2585 - accuracy: 1.0000 - val_loss: 1.2797 - val_accuracy: 0.1667\n",
            "Epoch 86/100\n",
            "2/2 [==============================] - 0s 167ms/step - loss: 0.2557 - accuracy: 1.0000 - val_loss: 1.2810 - val_accuracy: 0.1667\n",
            "Epoch 87/100\n",
            "2/2 [==============================] - 0s 133ms/step - loss: 0.2540 - accuracy: 1.0000 - val_loss: 1.2817 - val_accuracy: 0.1667\n",
            "Epoch 88/100\n",
            "2/2 [==============================] - 0s 176ms/step - loss: 0.2498 - accuracy: 1.0000 - val_loss: 1.2839 - val_accuracy: 0.1667\n",
            "Epoch 89/100\n",
            "2/2 [==============================] - 0s 156ms/step - loss: 0.2470 - accuracy: 1.0000 - val_loss: 1.2864 - val_accuracy: 0.1667\n",
            "Epoch 90/100\n",
            "2/2 [==============================] - 0s 126ms/step - loss: 0.2443 - accuracy: 1.0000 - val_loss: 1.2885 - val_accuracy: 0.1667\n",
            "Epoch 91/100\n",
            "2/2 [==============================] - 0s 161ms/step - loss: 0.2420 - accuracy: 1.0000 - val_loss: 1.2914 - val_accuracy: 0.1667\n",
            "Epoch 92/100\n",
            "2/2 [==============================] - 0s 150ms/step - loss: 0.2396 - accuracy: 1.0000 - val_loss: 1.2937 - val_accuracy: 0.1667\n",
            "Epoch 93/100\n",
            "2/2 [==============================] - 0s 146ms/step - loss: 0.2367 - accuracy: 1.0000 - val_loss: 1.2951 - val_accuracy: 0.1667\n",
            "Epoch 94/100\n",
            "2/2 [==============================] - 0s 266ms/step - loss: 0.2342 - accuracy: 1.0000 - val_loss: 1.2965 - val_accuracy: 0.1667\n",
            "Epoch 95/100\n",
            "2/2 [==============================] - 0s 145ms/step - loss: 0.2316 - accuracy: 1.0000 - val_loss: 1.2983 - val_accuracy: 0.1667\n",
            "Epoch 96/100\n",
            "2/2 [==============================] - 0s 173ms/step - loss: 0.2292 - accuracy: 1.0000 - val_loss: 1.3008 - val_accuracy: 0.1667\n",
            "Epoch 97/100\n",
            "2/2 [==============================] - 0s 250ms/step - loss: 0.2269 - accuracy: 1.0000 - val_loss: 1.3024 - val_accuracy: 0.1667\n",
            "Epoch 98/100\n",
            "2/2 [==============================] - 0s 167ms/step - loss: 0.2247 - accuracy: 1.0000 - val_loss: 1.3050 - val_accuracy: 0.1667\n",
            "Epoch 99/100\n",
            "2/2 [==============================] - 0s 199ms/step - loss: 0.2227 - accuracy: 1.0000 - val_loss: 1.3060 - val_accuracy: 0.1667\n",
            "Epoch 100/100\n",
            "2/2 [==============================] - 0s 169ms/step - loss: 0.2201 - accuracy: 1.0000 - val_loss: 1.3075 - val_accuracy: 0.1667\n"
          ]
        }
      ],
      "source": [
        "hist = model.fit(\n",
        "    X_train, y_train,\n",
        "    batch_size=batch_size,\n",
        "    epochs=epochs,\n",
        "    validation_data=(X_valid, y_valid),\n",
        "    verbose=1)"
      ]
    },
    {
      "cell_type": "markdown",
      "metadata": {
        "id": "oLMLdcKEXRoL"
      },
      "source": [
        "Here, we evaluate on the validation set."
      ]
    },
    {
      "cell_type": "code",
      "execution_count": 22,
      "metadata": {
        "colab": {
          "base_uri": "https://localhost:8080/"
        },
        "id": "6utNPYenj7DJ",
        "outputId": "6c9bc800-34f8-4dab-cbec-a42f8f8fdcf1"
      },
      "outputs": [
        {
          "output_type": "stream",
          "name": "stdout",
          "text": [
            "(6, 3)\n",
            "(6,)\n"
          ]
        }
      ],
      "source": [
        "# Predict the probability of each image\n",
        "y_hat_valid_probs = model.predict(X_valid)\n",
        "\n",
        "# Select the class with the highest probability as the predicted class.\n",
        "y_hat_valid = np.argmax(y_hat_valid_probs, axis=-1)\n",
        "\n",
        "print(y_hat_valid_probs.shape)\n",
        "print(y_hat_valid.shape)"
      ]
    },
    {
      "cell_type": "code",
      "execution_count": 23,
      "metadata": {
        "colab": {
          "base_uri": "https://localhost:8080/"
        },
        "id": "RFNleW1V6r7N",
        "outputId": "d4ca9abb-b400-4876-a521-af06a0319435"
      },
      "outputs": [
        {
          "output_type": "stream",
          "name": "stdout",
          "text": [
            "Validation Set\n",
            "[[0 0 2]\n",
            " [0 0 3]\n",
            " [0 0 1]]\n",
            "Accuracy: 0.17\n",
            "Macro F1-score: 0.10\n"
          ]
        }
      ],
      "source": [
        "from sklearn.metrics import confusion_matrix\n",
        "from sklearn.metrics import accuracy_score, precision_score, recall_score, f1_score\n",
        "\n",
        "print('Validation Set')\n",
        "print(confusion_matrix(y_true=y_valid, y_pred=y_hat_valid))\n",
        "print(f'Accuracy: {accuracy_score(y_true=y_valid, y_pred=y_hat_valid):.2f}')\n",
        "print(f'Macro F1-score: {f1_score(y_true=y_valid, y_pred=y_hat_valid, average=\"macro\"):.2f}')"
      ]
    },
    {
      "cell_type": "markdown",
      "metadata": {
        "id": "Q_fwpF3YYk4H"
      },
      "source": [
        "## Fine-tuning Model\n",
        "\n",
        "At this point, the top layers are well trained and we can start fine-tuning other layers from `MobileNetV2`.\n",
        "\n",
        "Let's visualize layer names and layer indices to see how many layers we should freeze."
      ]
    },
    {
      "cell_type": "code",
      "execution_count": 24,
      "metadata": {
        "colab": {
          "base_uri": "https://localhost:8080/"
        },
        "id": "9vNb8b5iYlgL",
        "outputId": "156fd736-5c44-4b0e-b7fe-1457ad9796a7"
      },
      "outputs": [
        {
          "output_type": "stream",
          "name": "stdout",
          "text": [
            "0 input_1\n",
            "1 Conv1\n",
            "2 bn_Conv1\n",
            "3 Conv1_relu\n",
            "4 expanded_conv_depthwise\n",
            "5 expanded_conv_depthwise_BN\n",
            "6 expanded_conv_depthwise_relu\n",
            "7 expanded_conv_project\n",
            "8 expanded_conv_project_BN\n",
            "9 block_1_expand\n",
            "10 block_1_expand_BN\n",
            "11 block_1_expand_relu\n",
            "12 block_1_pad\n",
            "13 block_1_depthwise\n",
            "14 block_1_depthwise_BN\n",
            "15 block_1_depthwise_relu\n",
            "16 block_1_project\n",
            "17 block_1_project_BN\n",
            "18 block_2_expand\n",
            "19 block_2_expand_BN\n",
            "20 block_2_expand_relu\n",
            "21 block_2_depthwise\n",
            "22 block_2_depthwise_BN\n",
            "23 block_2_depthwise_relu\n",
            "24 block_2_project\n",
            "25 block_2_project_BN\n",
            "26 block_2_add\n",
            "27 block_3_expand\n",
            "28 block_3_expand_BN\n",
            "29 block_3_expand_relu\n",
            "30 block_3_pad\n",
            "31 block_3_depthwise\n",
            "32 block_3_depthwise_BN\n",
            "33 block_3_depthwise_relu\n",
            "34 block_3_project\n",
            "35 block_3_project_BN\n",
            "36 block_4_expand\n",
            "37 block_4_expand_BN\n",
            "38 block_4_expand_relu\n",
            "39 block_4_depthwise\n",
            "40 block_4_depthwise_BN\n",
            "41 block_4_depthwise_relu\n",
            "42 block_4_project\n",
            "43 block_4_project_BN\n",
            "44 block_4_add\n",
            "45 block_5_expand\n",
            "46 block_5_expand_BN\n",
            "47 block_5_expand_relu\n",
            "48 block_5_depthwise\n",
            "49 block_5_depthwise_BN\n",
            "50 block_5_depthwise_relu\n",
            "51 block_5_project\n",
            "52 block_5_project_BN\n",
            "53 block_5_add\n",
            "54 block_6_expand\n",
            "55 block_6_expand_BN\n",
            "56 block_6_expand_relu\n",
            "57 block_6_pad\n",
            "58 block_6_depthwise\n",
            "59 block_6_depthwise_BN\n",
            "60 block_6_depthwise_relu\n",
            "61 block_6_project\n",
            "62 block_6_project_BN\n",
            "63 block_7_expand\n",
            "64 block_7_expand_BN\n",
            "65 block_7_expand_relu\n",
            "66 block_7_depthwise\n",
            "67 block_7_depthwise_BN\n",
            "68 block_7_depthwise_relu\n",
            "69 block_7_project\n",
            "70 block_7_project_BN\n",
            "71 block_7_add\n",
            "72 block_8_expand\n",
            "73 block_8_expand_BN\n",
            "74 block_8_expand_relu\n",
            "75 block_8_depthwise\n",
            "76 block_8_depthwise_BN\n",
            "77 block_8_depthwise_relu\n",
            "78 block_8_project\n",
            "79 block_8_project_BN\n",
            "80 block_8_add\n",
            "81 block_9_expand\n",
            "82 block_9_expand_BN\n",
            "83 block_9_expand_relu\n",
            "84 block_9_depthwise\n",
            "85 block_9_depthwise_BN\n",
            "86 block_9_depthwise_relu\n",
            "87 block_9_project\n",
            "88 block_9_project_BN\n",
            "89 block_9_add\n",
            "90 block_10_expand\n",
            "91 block_10_expand_BN\n",
            "92 block_10_expand_relu\n",
            "93 block_10_depthwise\n",
            "94 block_10_depthwise_BN\n",
            "95 block_10_depthwise_relu\n",
            "96 block_10_project\n",
            "97 block_10_project_BN\n",
            "98 block_11_expand\n",
            "99 block_11_expand_BN\n",
            "100 block_11_expand_relu\n",
            "101 block_11_depthwise\n",
            "102 block_11_depthwise_BN\n",
            "103 block_11_depthwise_relu\n",
            "104 block_11_project\n",
            "105 block_11_project_BN\n",
            "106 block_11_add\n",
            "107 block_12_expand\n",
            "108 block_12_expand_BN\n",
            "109 block_12_expand_relu\n",
            "110 block_12_depthwise\n",
            "111 block_12_depthwise_BN\n",
            "112 block_12_depthwise_relu\n",
            "113 block_12_project\n",
            "114 block_12_project_BN\n",
            "115 block_12_add\n",
            "116 block_13_expand\n",
            "117 block_13_expand_BN\n",
            "118 block_13_expand_relu\n",
            "119 block_13_pad\n",
            "120 block_13_depthwise\n",
            "121 block_13_depthwise_BN\n",
            "122 block_13_depthwise_relu\n",
            "123 block_13_project\n",
            "124 block_13_project_BN\n",
            "125 block_14_expand\n",
            "126 block_14_expand_BN\n",
            "127 block_14_expand_relu\n",
            "128 block_14_depthwise\n",
            "129 block_14_depthwise_BN\n",
            "130 block_14_depthwise_relu\n",
            "131 block_14_project\n",
            "132 block_14_project_BN\n",
            "133 block_14_add\n",
            "134 block_15_expand\n",
            "135 block_15_expand_BN\n",
            "136 block_15_expand_relu\n",
            "137 block_15_depthwise\n",
            "138 block_15_depthwise_BN\n",
            "139 block_15_depthwise_relu\n",
            "140 block_15_project\n",
            "141 block_15_project_BN\n",
            "142 block_15_add\n",
            "143 block_16_expand\n",
            "144 block_16_expand_BN\n",
            "145 block_16_expand_relu\n",
            "146 block_16_depthwise\n",
            "147 block_16_depthwise_BN\n",
            "148 block_16_depthwise_relu\n",
            "149 block_16_project\n",
            "150 block_16_project_BN\n",
            "151 Conv_1\n",
            "152 Conv_1_bn\n",
            "153 out_relu\n"
          ]
        }
      ],
      "source": [
        "for i, layer in enumerate(base_model.layers):\n",
        "   print(i, layer.name)"
      ]
    },
    {
      "cell_type": "markdown",
      "metadata": {
        "id": "QWZalqaTb1vR"
      },
      "source": [
        "We can choose to freeze the bottom layers and train the remaining top layers, or finetune the entire model. The hyperparameter `n_freezes` in the script below is used to **control how many layers from the MobileNetV2 we would like to train**.\n",
        "\n",
        "For example,\n",
        "\n",
        "*   If we choose to train only the half blocks of the MobileNetV2 (i.e., freeze the first 144 layers and unfreeze the rest), we can set `n_freezes = 144`.\n",
        "*   If we choose to train the entire model, we can set `n_freezes = 0`."
      ]
    },
    {
      "cell_type": "code",
      "execution_count": 25,
      "metadata": {
        "id": "Dhk0HSGRY7lT"
      },
      "outputs": [],
      "source": [
        "n_freezes = 0 #fine tuning to train entire model \n",
        "\n",
        "for layer in base_model.layers[:n_freezes]:\n",
        "   layer.trainable = False\n",
        "for layer in base_model.layers[n_freezes:]:\n",
        "   layer.trainable = True"
      ]
    },
    {
      "cell_type": "markdown",
      "metadata": {
        "id": "qYa4vk78cZcR"
      },
      "source": [
        "Next, we need to recompile the model for these modifications to take effect.\n",
        "\n",
        "**Note**: During fine-tuning, it is a common practice to use a low learning rate."
      ]
    },
    {
      "cell_type": "code",
      "execution_count": 26,
      "metadata": {
        "colab": {
          "base_uri": "https://localhost:8080/"
        },
        "id": "gokqRvXEZb7E",
        "outputId": "005783c7-906f-4017-c4f6-62f6845bdbae"
      },
      "outputs": [
        {
          "output_type": "stream",
          "name": "stderr",
          "text": [
            "/usr/local/lib/python3.7/dist-packages/keras/optimizer_v2/gradient_descent.py:102: UserWarning: The `lr` argument is deprecated, use `learning_rate` instead.\n",
            "  super(SGD, self).__init__(name, **kwargs)\n"
          ]
        }
      ],
      "source": [
        "epochs = 100 \n",
        "batch_size = 25\n",
        "learning_rate = 0.001\n",
        "\n",
        "# We use SGD with a lower learning rate, compared to the training above\n",
        "optimizer = keras.optimizers.SGD(lr=learning_rate)\n",
        "\n",
        "# Cross-entropy loss\n",
        "loss = tf.keras.losses.SparseCategoricalCrossentropy(from_logits=False)\n",
        "\n",
        "# Compile the model\n",
        "model.compile(\n",
        "    loss=loss,\n",
        "    optimizer=optimizer,\n",
        "    metrics=['accuracy'])"
      ]
    },
    {
      "cell_type": "markdown",
      "metadata": {
        "id": "vnCDfdN7c0oW"
      },
      "source": [
        "We train our model again (this time fine-tuning some layers in MobileNetV2 as well)."
      ]
    },
    {
      "cell_type": "code",
      "execution_count": 27,
      "metadata": {
        "colab": {
          "base_uri": "https://localhost:8080/"
        },
        "id": "KtiaHoBdZtiT",
        "outputId": "09496c31-d0e4-46e8-e5cb-bd5a70068136"
      },
      "outputs": [
        {
          "output_type": "stream",
          "name": "stdout",
          "text": [
            "Epoch 1/100\n",
            "2/2 [==============================] - 8s 2s/step - loss: 0.8165 - accuracy: 0.7083 - val_loss: 1.2892 - val_accuracy: 0.1667\n",
            "Epoch 2/100\n",
            "2/2 [==============================] - 1s 317ms/step - loss: 0.7427 - accuracy: 0.7917 - val_loss: 1.2721 - val_accuracy: 0.1667\n",
            "Epoch 3/100\n",
            "2/2 [==============================] - 1s 351ms/step - loss: 0.7225 - accuracy: 0.7917 - val_loss: 1.2560 - val_accuracy: 0.1667\n",
            "Epoch 4/100\n",
            "2/2 [==============================] - 1s 320ms/step - loss: 0.6491 - accuracy: 0.8333 - val_loss: 1.2346 - val_accuracy: 0.1667\n",
            "Epoch 5/100\n",
            "2/2 [==============================] - 1s 315ms/step - loss: 0.5699 - accuracy: 0.8958 - val_loss: 1.2264 - val_accuracy: 0.1667\n",
            "Epoch 6/100\n",
            "2/2 [==============================] - 1s 315ms/step - loss: 0.5508 - accuracy: 0.8958 - val_loss: 1.2239 - val_accuracy: 0.1667\n",
            "Epoch 7/100\n",
            "2/2 [==============================] - 1s 314ms/step - loss: 0.6090 - accuracy: 0.8750 - val_loss: 1.2274 - val_accuracy: 0.1667\n",
            "Epoch 8/100\n",
            "2/2 [==============================] - 1s 315ms/step - loss: 0.5512 - accuracy: 0.9375 - val_loss: 1.2199 - val_accuracy: 0.1667\n",
            "Epoch 9/100\n",
            "2/2 [==============================] - 1s 316ms/step - loss: 0.4506 - accuracy: 0.9583 - val_loss: 1.2128 - val_accuracy: 0.1667\n",
            "Epoch 10/100\n",
            "2/2 [==============================] - 1s 325ms/step - loss: 0.4356 - accuracy: 0.9792 - val_loss: 1.2104 - val_accuracy: 0.1667\n",
            "Epoch 11/100\n",
            "2/2 [==============================] - 1s 314ms/step - loss: 0.3851 - accuracy: 1.0000 - val_loss: 1.2067 - val_accuracy: 0.1667\n",
            "Epoch 12/100\n",
            "2/2 [==============================] - 1s 327ms/step - loss: 0.4130 - accuracy: 0.9792 - val_loss: 1.2045 - val_accuracy: 0.1667\n",
            "Epoch 13/100\n",
            "2/2 [==============================] - 1s 318ms/step - loss: 0.3797 - accuracy: 1.0000 - val_loss: 1.1980 - val_accuracy: 0.3333\n",
            "Epoch 14/100\n",
            "2/2 [==============================] - 1s 313ms/step - loss: 0.3386 - accuracy: 1.0000 - val_loss: 1.1946 - val_accuracy: 0.3333\n",
            "Epoch 15/100\n",
            "2/2 [==============================] - 1s 331ms/step - loss: 0.3306 - accuracy: 1.0000 - val_loss: 1.1914 - val_accuracy: 0.3333\n",
            "Epoch 16/100\n",
            "2/2 [==============================] - 1s 318ms/step - loss: 0.2898 - accuracy: 1.0000 - val_loss: 1.1900 - val_accuracy: 0.3333\n",
            "Epoch 17/100\n",
            "2/2 [==============================] - 1s 321ms/step - loss: 0.2834 - accuracy: 1.0000 - val_loss: 1.1899 - val_accuracy: 0.3333\n",
            "Epoch 18/100\n",
            "2/2 [==============================] - 1s 314ms/step - loss: 0.2920 - accuracy: 1.0000 - val_loss: 1.1887 - val_accuracy: 0.3333\n",
            "Epoch 19/100\n",
            "2/2 [==============================] - 1s 311ms/step - loss: 0.2731 - accuracy: 1.0000 - val_loss: 1.1905 - val_accuracy: 0.3333\n",
            "Epoch 20/100\n",
            "2/2 [==============================] - 1s 318ms/step - loss: 0.2482 - accuracy: 1.0000 - val_loss: 1.1886 - val_accuracy: 0.5000\n",
            "Epoch 21/100\n",
            "2/2 [==============================] - 1s 311ms/step - loss: 0.2412 - accuracy: 1.0000 - val_loss: 1.1869 - val_accuracy: 0.5000\n",
            "Epoch 22/100\n",
            "2/2 [==============================] - 1s 315ms/step - loss: 0.2171 - accuracy: 1.0000 - val_loss: 1.1859 - val_accuracy: 0.5000\n",
            "Epoch 23/100\n",
            "2/2 [==============================] - 1s 315ms/step - loss: 0.2101 - accuracy: 1.0000 - val_loss: 1.1839 - val_accuracy: 0.5000\n",
            "Epoch 24/100\n",
            "2/2 [==============================] - 1s 318ms/step - loss: 0.2180 - accuracy: 1.0000 - val_loss: 1.1824 - val_accuracy: 0.5000\n",
            "Epoch 25/100\n",
            "2/2 [==============================] - 1s 314ms/step - loss: 0.2104 - accuracy: 1.0000 - val_loss: 1.1817 - val_accuracy: 0.5000\n",
            "Epoch 26/100\n",
            "2/2 [==============================] - 1s 318ms/step - loss: 0.2095 - accuracy: 1.0000 - val_loss: 1.1829 - val_accuracy: 0.5000\n",
            "Epoch 27/100\n",
            "2/2 [==============================] - 1s 322ms/step - loss: 0.1933 - accuracy: 1.0000 - val_loss: 1.1828 - val_accuracy: 0.5000\n",
            "Epoch 28/100\n",
            "2/2 [==============================] - 1s 315ms/step - loss: 0.1758 - accuracy: 1.0000 - val_loss: 1.1826 - val_accuracy: 0.5000\n",
            "Epoch 29/100\n",
            "2/2 [==============================] - 1s 356ms/step - loss: 0.1952 - accuracy: 1.0000 - val_loss: 1.1847 - val_accuracy: 0.5000\n",
            "Epoch 30/100\n",
            "2/2 [==============================] - 1s 305ms/step - loss: 0.1709 - accuracy: 1.0000 - val_loss: 1.1819 - val_accuracy: 0.5000\n",
            "Epoch 31/100\n",
            "2/2 [==============================] - 1s 326ms/step - loss: 0.1618 - accuracy: 1.0000 - val_loss: 1.1804 - val_accuracy: 0.5000\n",
            "Epoch 32/100\n",
            "2/2 [==============================] - 1s 324ms/step - loss: 0.1765 - accuracy: 1.0000 - val_loss: 1.1777 - val_accuracy: 0.5000\n",
            "Epoch 33/100\n",
            "2/2 [==============================] - 1s 316ms/step - loss: 0.1609 - accuracy: 1.0000 - val_loss: 1.1773 - val_accuracy: 0.5000\n",
            "Epoch 34/100\n",
            "2/2 [==============================] - 1s 310ms/step - loss: 0.1583 - accuracy: 1.0000 - val_loss: 1.1773 - val_accuracy: 0.5000\n",
            "Epoch 35/100\n",
            "2/2 [==============================] - 1s 313ms/step - loss: 0.1504 - accuracy: 1.0000 - val_loss: 1.1775 - val_accuracy: 0.5000\n",
            "Epoch 36/100\n",
            "2/2 [==============================] - 1s 311ms/step - loss: 0.1447 - accuracy: 1.0000 - val_loss: 1.1766 - val_accuracy: 0.5000\n",
            "Epoch 37/100\n",
            "2/2 [==============================] - 1s 318ms/step - loss: 0.1616 - accuracy: 1.0000 - val_loss: 1.1765 - val_accuracy: 0.5000\n",
            "Epoch 38/100\n",
            "2/2 [==============================] - 1s 320ms/step - loss: 0.1283 - accuracy: 1.0000 - val_loss: 1.1772 - val_accuracy: 0.5000\n",
            "Epoch 39/100\n",
            "2/2 [==============================] - 1s 303ms/step - loss: 0.1255 - accuracy: 1.0000 - val_loss: 1.1788 - val_accuracy: 0.5000\n",
            "Epoch 40/100\n",
            "2/2 [==============================] - 1s 312ms/step - loss: 0.1289 - accuracy: 1.0000 - val_loss: 1.1773 - val_accuracy: 0.5000\n",
            "Epoch 41/100\n",
            "2/2 [==============================] - 1s 313ms/step - loss: 0.1271 - accuracy: 1.0000 - val_loss: 1.1767 - val_accuracy: 0.5000\n",
            "Epoch 42/100\n",
            "2/2 [==============================] - 1s 314ms/step - loss: 0.1140 - accuracy: 1.0000 - val_loss: 1.1768 - val_accuracy: 0.5000\n",
            "Epoch 43/100\n",
            "2/2 [==============================] - 1s 312ms/step - loss: 0.1325 - accuracy: 1.0000 - val_loss: 1.1752 - val_accuracy: 0.5000\n",
            "Epoch 44/100\n",
            "2/2 [==============================] - 1s 323ms/step - loss: 0.1283 - accuracy: 1.0000 - val_loss: 1.1747 - val_accuracy: 0.5000\n",
            "Epoch 45/100\n",
            "2/2 [==============================] - 1s 413ms/step - loss: 0.1110 - accuracy: 1.0000 - val_loss: 1.1736 - val_accuracy: 0.5000\n",
            "Epoch 46/100\n",
            "2/2 [==============================] - 1s 363ms/step - loss: 0.1311 - accuracy: 1.0000 - val_loss: 1.1704 - val_accuracy: 0.5000\n",
            "Epoch 47/100\n",
            "2/2 [==============================] - 1s 414ms/step - loss: 0.1106 - accuracy: 1.0000 - val_loss: 1.1685 - val_accuracy: 0.5000\n",
            "Epoch 48/100\n",
            "2/2 [==============================] - 1s 315ms/step - loss: 0.1018 - accuracy: 1.0000 - val_loss: 1.1690 - val_accuracy: 0.5000\n",
            "Epoch 49/100\n",
            "2/2 [==============================] - 1s 421ms/step - loss: 0.1050 - accuracy: 1.0000 - val_loss: 1.1700 - val_accuracy: 0.5000\n",
            "Epoch 50/100\n",
            "2/2 [==============================] - 1s 349ms/step - loss: 0.0990 - accuracy: 1.0000 - val_loss: 1.1702 - val_accuracy: 0.5000\n",
            "Epoch 51/100\n",
            "2/2 [==============================] - 1s 320ms/step - loss: 0.0919 - accuracy: 1.0000 - val_loss: 1.1698 - val_accuracy: 0.5000\n",
            "Epoch 52/100\n",
            "2/2 [==============================] - 1s 314ms/step - loss: 0.1072 - accuracy: 1.0000 - val_loss: 1.1703 - val_accuracy: 0.5000\n",
            "Epoch 53/100\n",
            "2/2 [==============================] - 1s 314ms/step - loss: 0.0983 - accuracy: 1.0000 - val_loss: 1.1711 - val_accuracy: 0.5000\n",
            "Epoch 54/100\n",
            "2/2 [==============================] - 1s 314ms/step - loss: 0.1006 - accuracy: 1.0000 - val_loss: 1.1716 - val_accuracy: 0.5000\n",
            "Epoch 55/100\n",
            "2/2 [==============================] - 1s 314ms/step - loss: 0.0875 - accuracy: 1.0000 - val_loss: 1.1715 - val_accuracy: 0.5000\n",
            "Epoch 56/100\n",
            "2/2 [==============================] - 1s 328ms/step - loss: 0.0912 - accuracy: 1.0000 - val_loss: 1.1717 - val_accuracy: 0.5000\n",
            "Epoch 57/100\n",
            "2/2 [==============================] - 1s 322ms/step - loss: 0.1006 - accuracy: 1.0000 - val_loss: 1.1718 - val_accuracy: 0.5000\n",
            "Epoch 58/100\n",
            "2/2 [==============================] - 1s 319ms/step - loss: 0.1055 - accuracy: 1.0000 - val_loss: 1.1718 - val_accuracy: 0.5000\n",
            "Epoch 59/100\n",
            "2/2 [==============================] - 1s 309ms/step - loss: 0.0855 - accuracy: 1.0000 - val_loss: 1.1724 - val_accuracy: 0.5000\n",
            "Epoch 60/100\n",
            "2/2 [==============================] - 1s 320ms/step - loss: 0.0718 - accuracy: 1.0000 - val_loss: 1.1732 - val_accuracy: 0.5000\n",
            "Epoch 61/100\n",
            "2/2 [==============================] - 1s 328ms/step - loss: 0.1146 - accuracy: 1.0000 - val_loss: 1.1733 - val_accuracy: 0.5000\n",
            "Epoch 62/100\n",
            "2/2 [==============================] - 1s 312ms/step - loss: 0.0901 - accuracy: 1.0000 - val_loss: 1.1723 - val_accuracy: 0.5000\n",
            "Epoch 63/100\n",
            "2/2 [==============================] - 1s 313ms/step - loss: 0.1010 - accuracy: 1.0000 - val_loss: 1.1730 - val_accuracy: 0.5000\n",
            "Epoch 64/100\n",
            "2/2 [==============================] - 1s 317ms/step - loss: 0.0875 - accuracy: 1.0000 - val_loss: 1.1724 - val_accuracy: 0.5000\n",
            "Epoch 65/100\n",
            "2/2 [==============================] - 1s 311ms/step - loss: 0.1039 - accuracy: 1.0000 - val_loss: 1.1759 - val_accuracy: 0.5000\n",
            "Epoch 66/100\n",
            "2/2 [==============================] - 1s 323ms/step - loss: 0.0787 - accuracy: 1.0000 - val_loss: 1.1765 - val_accuracy: 0.5000\n",
            "Epoch 67/100\n",
            "2/2 [==============================] - 1s 314ms/step - loss: 0.0688 - accuracy: 1.0000 - val_loss: 1.1760 - val_accuracy: 0.5000\n",
            "Epoch 68/100\n",
            "2/2 [==============================] - 1s 312ms/step - loss: 0.1325 - accuracy: 1.0000 - val_loss: 1.1773 - val_accuracy: 0.5000\n",
            "Epoch 69/100\n",
            "2/2 [==============================] - 1s 312ms/step - loss: 0.0680 - accuracy: 1.0000 - val_loss: 1.1775 - val_accuracy: 0.5000\n",
            "Epoch 70/100\n",
            "2/2 [==============================] - 1s 311ms/step - loss: 0.0749 - accuracy: 1.0000 - val_loss: 1.1782 - val_accuracy: 0.5000\n",
            "Epoch 71/100\n",
            "2/2 [==============================] - 1s 310ms/step - loss: 0.0774 - accuracy: 1.0000 - val_loss: 1.1770 - val_accuracy: 0.5000\n",
            "Epoch 72/100\n",
            "2/2 [==============================] - 1s 314ms/step - loss: 0.0689 - accuracy: 1.0000 - val_loss: 1.1774 - val_accuracy: 0.5000\n",
            "Epoch 73/100\n",
            "2/2 [==============================] - 1s 315ms/step - loss: 0.0611 - accuracy: 1.0000 - val_loss: 1.1773 - val_accuracy: 0.5000\n",
            "Epoch 74/100\n",
            "2/2 [==============================] - 1s 318ms/step - loss: 0.0702 - accuracy: 1.0000 - val_loss: 1.1770 - val_accuracy: 0.5000\n",
            "Epoch 75/100\n",
            "2/2 [==============================] - 1s 318ms/step - loss: 0.0595 - accuracy: 1.0000 - val_loss: 1.1771 - val_accuracy: 0.5000\n",
            "Epoch 76/100\n",
            "2/2 [==============================] - 1s 356ms/step - loss: 0.0616 - accuracy: 1.0000 - val_loss: 1.1765 - val_accuracy: 0.5000\n",
            "Epoch 77/100\n",
            "2/2 [==============================] - 1s 317ms/step - loss: 0.0573 - accuracy: 1.0000 - val_loss: 1.1763 - val_accuracy: 0.5000\n",
            "Epoch 78/100\n",
            "2/2 [==============================] - 1s 316ms/step - loss: 0.0564 - accuracy: 1.0000 - val_loss: 1.1759 - val_accuracy: 0.5000\n",
            "Epoch 79/100\n",
            "2/2 [==============================] - 1s 352ms/step - loss: 0.0595 - accuracy: 1.0000 - val_loss: 1.1752 - val_accuracy: 0.5000\n",
            "Epoch 80/100\n",
            "2/2 [==============================] - 1s 312ms/step - loss: 0.0586 - accuracy: 1.0000 - val_loss: 1.1742 - val_accuracy: 0.5000\n",
            "Epoch 81/100\n",
            "2/2 [==============================] - 1s 313ms/step - loss: 0.0590 - accuracy: 1.0000 - val_loss: 1.1737 - val_accuracy: 0.5000\n",
            "Epoch 82/100\n",
            "2/2 [==============================] - 1s 316ms/step - loss: 0.0539 - accuracy: 1.0000 - val_loss: 1.1734 - val_accuracy: 0.5000\n",
            "Epoch 83/100\n",
            "2/2 [==============================] - 1s 317ms/step - loss: 0.0556 - accuracy: 1.0000 - val_loss: 1.1735 - val_accuracy: 0.5000\n",
            "Epoch 84/100\n",
            "2/2 [==============================] - 1s 308ms/step - loss: 0.0726 - accuracy: 1.0000 - val_loss: 1.1739 - val_accuracy: 0.5000\n",
            "Epoch 85/100\n",
            "2/2 [==============================] - 1s 314ms/step - loss: 0.0537 - accuracy: 1.0000 - val_loss: 1.1736 - val_accuracy: 0.5000\n",
            "Epoch 86/100\n",
            "2/2 [==============================] - 1s 313ms/step - loss: 0.0540 - accuracy: 1.0000 - val_loss: 1.1738 - val_accuracy: 0.5000\n",
            "Epoch 87/100\n",
            "2/2 [==============================] - 1s 309ms/step - loss: 0.0543 - accuracy: 1.0000 - val_loss: 1.1745 - val_accuracy: 0.5000\n",
            "Epoch 88/100\n",
            "2/2 [==============================] - 1s 315ms/step - loss: 0.0512 - accuracy: 1.0000 - val_loss: 1.1746 - val_accuracy: 0.5000\n",
            "Epoch 89/100\n",
            "2/2 [==============================] - 1s 318ms/step - loss: 0.0535 - accuracy: 1.0000 - val_loss: 1.1746 - val_accuracy: 0.5000\n",
            "Epoch 90/100\n",
            "2/2 [==============================] - 1s 310ms/step - loss: 0.0458 - accuracy: 1.0000 - val_loss: 1.1750 - val_accuracy: 0.3333\n",
            "Epoch 91/100\n",
            "2/2 [==============================] - 1s 324ms/step - loss: 0.0497 - accuracy: 1.0000 - val_loss: 1.1751 - val_accuracy: 0.3333\n",
            "Epoch 92/100\n",
            "2/2 [==============================] - 1s 323ms/step - loss: 0.0526 - accuracy: 1.0000 - val_loss: 1.1755 - val_accuracy: 0.3333\n",
            "Epoch 93/100\n",
            "2/2 [==============================] - 1s 317ms/step - loss: 0.0495 - accuracy: 1.0000 - val_loss: 1.1745 - val_accuracy: 0.3333\n",
            "Epoch 94/100\n",
            "2/2 [==============================] - 1s 310ms/step - loss: 0.0685 - accuracy: 1.0000 - val_loss: 1.1730 - val_accuracy: 0.3333\n",
            "Epoch 95/100\n",
            "2/2 [==============================] - 1s 321ms/step - loss: 0.0507 - accuracy: 1.0000 - val_loss: 1.1732 - val_accuracy: 0.3333\n",
            "Epoch 96/100\n",
            "2/2 [==============================] - 1s 328ms/step - loss: 0.0455 - accuracy: 1.0000 - val_loss: 1.1732 - val_accuracy: 0.3333\n",
            "Epoch 97/100\n",
            "2/2 [==============================] - 1s 315ms/step - loss: 0.0529 - accuracy: 1.0000 - val_loss: 1.1734 - val_accuracy: 0.3333\n",
            "Epoch 98/100\n",
            "2/2 [==============================] - 1s 315ms/step - loss: 0.0469 - accuracy: 1.0000 - val_loss: 1.1723 - val_accuracy: 0.3333\n",
            "Epoch 99/100\n",
            "2/2 [==============================] - 1s 318ms/step - loss: 0.0467 - accuracy: 1.0000 - val_loss: 1.1718 - val_accuracy: 0.3333\n",
            "Epoch 100/100\n",
            "2/2 [==============================] - 1s 324ms/step - loss: 0.0505 - accuracy: 1.0000 - val_loss: 1.1720 - val_accuracy: 0.3333\n"
          ]
        }
      ],
      "source": [
        "hist = model.fit(\n",
        "    X_train, y_train,\n",
        "    batch_size=batch_size,\n",
        "    epochs=epochs,\n",
        "    validation_data=(X_valid, y_valid),\n",
        "    verbose=1)"
      ]
    },
    {
      "cell_type": "markdown",
      "metadata": {
        "id": "HdzhHXXsZHUN"
      },
      "source": [
        "With the fine-tuning from the pretrained MobileNetV2, the performance on the test set should be better compared to starting from scratch."
      ]
    },
    {
      "cell_type": "code",
      "execution_count": 28,
      "metadata": {
        "colab": {
          "base_uri": "https://localhost:8080/"
        },
        "id": "DvEROYJL63HY",
        "outputId": "c0458fd4-9d71-43e7-ccd8-738a4fbf4fcd"
      },
      "outputs": [
        {
          "output_type": "stream",
          "name": "stdout",
          "text": [
            "(6, 3)\n",
            "(6,)\n"
          ]
        }
      ],
      "source": [
        "# Predict the probability of each image\n",
        "y_hat_valid_probs = model.predict(X_valid)\n",
        "\n",
        "# Select the class with the highest probability as the predicted class.\n",
        "y_hat_valid = np.argmax(y_hat_valid_probs, axis=-1)\n",
        "\n",
        "print(y_hat_valid_probs.shape)\n",
        "print(y_hat_valid.shape)"
      ]
    },
    {
      "cell_type": "code",
      "execution_count": 29,
      "metadata": {
        "colab": {
          "base_uri": "https://localhost:8080/"
        },
        "id": "bcX-Tnl6lXe4",
        "outputId": "09ce0d79-1ef7-46cf-b059-a2643aac8910"
      },
      "outputs": [
        {
          "output_type": "stream",
          "name": "stdout",
          "text": [
            "Validation Set\n",
            "[[0 0 2]\n",
            " [1 1 1]\n",
            " [0 0 1]]\n",
            "Accuracy: 0.33\n",
            "Macro F1-score: 0.30\n"
          ]
        }
      ],
      "source": [
        "print('Validation Set')\n",
        "print(confusion_matrix(y_true=y_valid, y_pred=y_hat_valid))\n",
        "print(f'Accuracy: {accuracy_score(y_true=y_valid, y_pred=y_hat_valid):.2f}')\n",
        "print(f'Macro F1-score: {f1_score(y_true=y_valid, y_pred=y_hat_valid, average=\"macro\"):.2f}')"
      ]
    },
    {
      "cell_type": "code",
      "execution_count": 30,
      "metadata": {
        "colab": {
          "base_uri": "https://localhost:8080/"
        },
        "id": "XGyRZay2la8B",
        "outputId": "a5589a0e-9bcd-456b-9d99-b9a31734952b"
      },
      "outputs": [
        {
          "output_type": "stream",
          "name": "stdout",
          "text": [
            "(6, 3)\n",
            "(6,)\n"
          ]
        }
      ],
      "source": [
        "# Predict the probability of each image\n",
        "y_hat_test_probs = model.predict(X_test)\n",
        "\n",
        "# Select the class with the highest probability as the predicted class.\n",
        "y_hat_test = np.argmax(y_hat_test_probs, axis=-1)\n",
        "\n",
        "print(y_hat_test_probs.shape)\n",
        "print(y_hat_test.shape)"
      ]
    },
    {
      "cell_type": "code",
      "execution_count": 31,
      "metadata": {
        "colab": {
          "base_uri": "https://localhost:8080/"
        },
        "id": "3iI_XA2bla1O",
        "outputId": "4d0d64c9-3a9a-4669-9578-f2eb917ca92d"
      },
      "outputs": [
        {
          "output_type": "stream",
          "name": "stdout",
          "text": [
            "Test Set\n",
            "[[2 0 0]\n",
            " [0 2 0]\n",
            " [1 1 0]]\n",
            "Accuracy: 0.67\n",
            "Macro F1-score: 0.53\n"
          ]
        }
      ],
      "source": [
        "print('Test Set')\n",
        "print(confusion_matrix(y_true=y_test, y_pred=y_hat_test))\n",
        "print(f'Accuracy: {accuracy_score(y_true=y_test, y_pred=y_hat_test):.2f}')\n",
        "print(f'Macro F1-score: {f1_score(y_true=y_test, y_pred=y_hat_test, average=\"macro\"):.2f}')"
      ]
    },
    {
      "cell_type": "markdown",
      "metadata": {
        "id": "nIeBlSDEdH0T"
      },
      "source": [
        "# Test on Newly Downloaded Images\n",
        "\n",
        "In this section, we will use our model to test on the new images that we are going to download from the Internet."
      ]
    },
    {
      "cell_type": "markdown",
      "metadata": {
        "id": "nYz47ACAZyse"
      },
      "source": [
        "## Upload Files\n",
        "\n",
        "The `upload_files` function below can be used to upload files."
      ]
    },
    {
      "cell_type": "code",
      "execution_count": 32,
      "metadata": {
        "id": "lp2O6-XYdIzF"
      },
      "outputs": [],
      "source": [
        "from google.colab import files\n",
        "\n",
        "def upload_files():\n",
        "    uploaded = files.upload()\n",
        "    for k, v in uploaded.items():\n",
        "        open(k, 'wb').write(v)\n",
        "    return list(uploaded.keys())"
      ]
    },
    {
      "cell_type": "markdown",
      "metadata": {
        "id": "isNDonAlZ3AX"
      },
      "source": [
        "Run the following code block to upload your image files. This function returns a list of image paths which will be stored in `files`."
      ]
    },
    {
      "cell_type": "code",
      "execution_count": 33,
      "metadata": {
        "colab": {
          "base_uri": "https://localhost:8080/",
          "height": 74,
          "resources": {
            "http://localhost:8080/nbextensions/google.colab/files.js": {
              "data": "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",
              "headers": [
                [
                  "content-type",
                  "application/javascript"
                ]
              ],
              "ok": true,
              "status": 200,
              "status_text": ""
            }
          }
        },
        "id": "TZ5C4Zg5Zjm7",
        "outputId": "60681c19-2985-451d-d0c6-61979d48ab6c"
      },
      "outputs": [
        {
          "output_type": "display_data",
          "data": {
            "text/plain": [
              "<IPython.core.display.HTML object>"
            ],
            "text/html": [
              "\n",
              "     <input type=\"file\" id=\"files-8daeb0e3-5f5e-45bc-91a9-59d32ae5cf72\" name=\"files[]\" multiple disabled\n",
              "        style=\"border:none\" />\n",
              "     <output id=\"result-8daeb0e3-5f5e-45bc-91a9-59d32ae5cf72\">\n",
              "      Upload widget is only available when the cell has been executed in the\n",
              "      current browser session. Please rerun this cell to enable.\n",
              "      </output>\n",
              "      <script src=\"/nbextensions/google.colab/files.js\"></script> "
            ]
          },
          "metadata": {}
        },
        {
          "output_type": "stream",
          "name": "stdout",
          "text": [
            "Saving Keema-Curry-1343-I-500x500.jpg to Keema-Curry-1343-I-500x500 (2).jpg\n"
          ]
        }
      ],
      "source": [
        "files = upload_files()"
      ]
    },
    {
      "cell_type": "markdown",
      "metadata": {
        "id": "cb55cVbPa2H2"
      },
      "source": [
        "## Preprocessing\n",
        "\n",
        "Before we can feed the images into the existing pretrained models, we need to preprocess such images into the format that such pretrained models have been trained on, which is `MobileNetV2` in this example."
      ]
    },
    {
      "cell_type": "code",
      "execution_count": 34,
      "metadata": {
        "colab": {
          "base_uri": "https://localhost:8080/",
          "height": 286
        },
        "id": "0kIJC1EAZ_kl",
        "outputId": "20d93b75-6bfd-4f43-9047-275f124c2449"
      },
      "outputs": [
        {
          "output_type": "stream",
          "name": "stdout",
          "text": [
            "[image Keema-Curry-1343-I-500x500.jpg]\n"
          ]
        },
        {
          "output_type": "display_data",
          "data": {
            "text/plain": [
              "<Figure size 432x288 with 1 Axes>"
            ],
            "image/png": "[encoded data removed]"
          },
          "metadata": {
            "needs_background": "light"
          }
        }
      ],
      "source": [
        "from keras.preprocessing import image\n",
        "from keras.applications.mobilenet_v2 import preprocess_input\n",
        "\n",
        "images = []\n",
        "for f in files:\n",
        "    # Load and resize the image\n",
        "    img = image.load_img(f, target_size=IMG_SIZE)\n",
        "\n",
        "    # Convert the Image object into a numpy array\n",
        "    img = image.img_to_array(img)\n",
        "\n",
        "    # Add to a list of images\n",
        "    images.append(img)\n",
        "\n",
        "    # Visualize the resize image\n",
        "    print(f'[image {f}]')\n",
        "    plt.imshow(image.img_to_array(img).astype('uint8'))\n",
        "    plt.show()\n",
        "    plt.close(\"all\")\n",
        "images = np.asarray(images)\n",
        "\n",
        "# Preprocess the input array\n",
        "x = preprocess_input(images)\n",
        "\n",
        "print(f\"Image shape: {x.shape}\")"
      ]
    },
    {
      "cell_type": "markdown",
      "metadata": {
        "id": "1Jx-S5MmbNM8"
      },
      "source": [
        "## Classify Images\n",
        "\n",
        "Then we use the finetuned `MobileNetV2` to determine the probabilities of food types that we defined."
      ]
    },
    {
      "cell_type": "code",
      "execution_count": 35,
      "metadata": {
        "colab": {
          "base_uri": "https://localhost:8080/"
        },
        "id": "de9in7xpaMpa",
        "outputId": "83b7dbcc-a03c-4b76-e5e3-6b4587d7e7a9"
      },
      "outputs": [
        {
          "output_type": "stream",
          "name": "stdout",
          "text": [
            "Image shape: (1, 224, 224, 3)\n",
            "[image Keema-Curry-1343-I-500x500.jpg]\n",
            "Omurice (6.42%)\n",
            "Curry (88.81%)\n",
            "Ramen (4.77%)\n",
            "\n"
          ]
        }
      ],
      "source": [
        "from keras.applications.mobilenet_v2 import decode_predictions\n",
        "\n",
        "# Feed the preprocessed, downloaded image to the pretrained VGG-16.\n",
        "# The outputs are the probabilities of classes defined in ImageNet.\n",
        "probs = model.predict(x)\n",
        "\n",
        "# Display the results\n",
        "for i in range(len(files)):\n",
        "    print(f'[image {files[i]}]')\n",
        "    for c in range(num_classes):\n",
        "        print(f'{class2text[c]} ({probs[i][c]*100:.2f}%)')\n",
        "    print('')"
      ]
    },
    {
      "cell_type": "code",
      "source": [
        "print(hist.history.keys())\n",
        "\n",
        "plt.plot(hist.history[\"loss\"], label =\"Train Loss\")\n",
        "plt.plot(hist.history[\"val_loss\"], label =\"Validation Loss\")\n",
        "plt.legend()\n",
        "plt.show()\n",
        "plt.figure()\n",
        "plt.plot(hist.history[\"accuracy\"], label =\"Train accuracy\")\n",
        "plt.plot(hist.history[\"val_accuracy\"], label =\"Validation accuracy\")\n",
        "plt.legend()\n",
        "plt.show()"
      ],
      "metadata": {
        "colab": {
          "base_uri": "https://localhost:8080/",
          "height": 530
        },
        "id": "xa7yur2dLvTE",
        "outputId": "3b4992a2-735e-4eb4-f3d8-7cff1af20142"
      },
      "execution_count": 36,
      "outputs": [
        {
          "output_type": "stream",
          "name": "stdout",
          "text": [
            "dict_keys(['loss', 'accuracy', 'val_loss', 'val_accuracy'])\n"
          ]
        },
        {
          "output_type": "display_data",
          "data": {
            "text/plain": [
              "<Figure size 432x288 with 1 Axes>"
            ],
            "image/png": "[encoded data removed]"
          },
          "metadata": {
            "needs_background": "light"
          }
        },
        {
          "output_type": "display_data",
          "data": {
            "text/plain": [
              "<Figure size 432x288 with 1 Axes>"
            ],
            "image/png": "[encoded data removed]"
          },
          "metadata": {
            "needs_background": "light"
          }
        }
      ]
    },
    {
      "cell_type": "markdown",
      "source": [
        "## Adjust the Existing Model for Classification: ResNet50 version.\n"
      ],
      "metadata": {
        "id": "I2Z_qlzIDLMf"
      }
    },
    {
      "cell_type": "code",
      "source": [
        "# Load dataset\n",
        "data_df = pd.read_csv(os.path.join(data_dir, 'dataset.csv'))\n",
        "X, y = load_dataset(data_df)\n",
        "\n",
        "X_train, X_test, y_train, y_test = train_test_split(\n",
        "    X, y, \n",
        "    random_state=42,\n",
        "    test_size=0.2)\n",
        "\n",
        "X_valid, X_test, y_valid, y_test = train_test_split(\n",
        "    X_test, y_test, \n",
        "    random_state=42,\n",
        "    test_size=0.5)\n",
        "\n",
        "print(f'Training set: {X_train.shape}, {y_train.shape}')\n",
        "print(f'Validation set: {X_valid.shape}, {y_valid.shape}')\n",
        "print(f'Test set: {X_test.shape}, {y_test.shape}')\n",
        "\n",
        "# Preprocess the input array\n",
        "X_train = preprocess_input(X_train)\n",
        "X_valid = preprocess_input(X_valid)\n",
        "X_test = preprocess_input(X_test)\n",
        "\n",
        "# Convert the preprocessing images into `float32`\n",
        "X_train = X_train.astype(np.float32)\n",
        "X_valid = X_valid.astype(np.float32)\n",
        "X_test = X_test.astype(np.float32)\n",
        "\n",
        "# Convert the one-hot vector into `int`\n",
        "y_train = y_train.astype(np.int)\n",
        "X_valid = X_valid.astype(np.int)\n",
        "y_test = y_test.astype(np.int)\n",
        "\n",
        "print(f'Training Set: {X_train.shape}, {y_train.shape}')\n",
        "print(f'Validation Set: {X_valid.shape}, {y_valid.shape}')\n",
        "print(f'Test Set: {X_test.shape}, {y_test.shape}')"
      ],
      "metadata": {
        "colab": {
          "base_uri": "https://localhost:8080/"
        },
        "id": "JddEyWljIFfL",
        "outputId": "c6f5b7ab-92c9-45da-8d16-d663e9af8bf3"
      },
      "execution_count": 37,
      "outputs": [
        {
          "output_type": "stream",
          "name": "stdout",
          "text": [
            "Training set: (48, 224, 224, 3), (48,)\n",
            "Validation set: (6, 224, 224, 3), (6,)\n",
            "Test set: (6, 224, 224, 3), (6,)\n",
            "Training Set: (48, 224, 224, 3), (48,)\n",
            "Validation Set: (6, 224, 224, 3), (6,)\n",
            "Test Set: (6, 224, 224, 3), (6,)\n"
          ]
        },
        {
          "output_type": "stream",
          "name": "stderr",
          "text": [
            "/usr/local/lib/python3.7/dist-packages/ipykernel_launcher.py:30: DeprecationWarning: `np.int` is a deprecated alias for the builtin `int`. To silence this warning, use `int` by itself. Doing this will not modify any behavior and is safe. When replacing `np.int`, you may wish to use e.g. `np.int64` or `np.int32` to specify the precision. If you wish to review your current use, check the release note link for additional information.\n",
            "Deprecated in NumPy 1.20; for more details and guidance: https://numpy.org/devdocs/release/1.20.0-notes.html#deprecations\n",
            "/usr/local/lib/python3.7/dist-packages/ipykernel_launcher.py:31: DeprecationWarning: `np.int` is a deprecated alias for the builtin `int`. To silence this warning, use `int` by itself. Doing this will not modify any behavior and is safe. When replacing `np.int`, you may wish to use e.g. `np.int64` or `np.int32` to specify the precision. If you wish to review your current use, check the release note link for additional information.\n",
            "Deprecated in NumPy 1.20; for more details and guidance: https://numpy.org/devdocs/release/1.20.0-notes.html#deprecations\n",
            "/usr/local/lib/python3.7/dist-packages/ipykernel_launcher.py:32: DeprecationWarning: `np.int` is a deprecated alias for the builtin `int`. To silence this warning, use `int` by itself. Doing this will not modify any behavior and is safe. When replacing `np.int`, you may wish to use e.g. `np.int64` or `np.int32` to specify the precision. If you wish to review your current use, check the release note link for additional information.\n",
            "Deprecated in NumPy 1.20; for more details and guidance: https://numpy.org/devdocs/release/1.20.0-notes.html#deprecations\n"
          ]
        }
      ]
    },
    {
      "cell_type": "code",
      "source": [
        "from tensorflow.keras.applications.resnet import ResNet50\n",
        "\n",
        "# Create the base pre-trained model\n",
        "# Note: include_top=False --> do not include the top layers\n",
        "#       This allows us to replace the top with new layers for transfer learning\n",
        "base_model = ResNet50(\n",
        "    input_shape=IMG_SIZE + (3,),  # plus (3, ) for the color channel\n",
        "    weights='imagenet',\n",
        "    # weights=None,\n",
        "    include_top=False)"
      ],
      "metadata": {
        "id": "3lMq5K9IDG_6"
      },
      "execution_count": 38,
      "outputs": []
    },
    {
      "cell_type": "code",
      "source": [
        "base_model.summary()\n",
        "model = Sequential()\n",
        "\n",
        "# Start with the base_model\n",
        "model.add(base_model)\n",
        "\n",
        "# Add a global spatial average pooling layer\n",
        "model.add(keras.layers.GlobalAveragePooling2D())\n",
        "\n",
        "# A fully-connected layer\n",
        "model.add(keras.layers.Dense(1024, activation='relu'))\n",
        "\n",
        "# A softmax layer -- note that we have 5 classes\n",
        "model.add(keras.layers.Dense(num_classes, activation='softmax'))"
      ],
      "metadata": {
        "colab": {
          "base_uri": "https://localhost:8080/"
        },
        "id": "BwNwUQ-mDpCF",
        "outputId": "c3b021c8-383b-4f1d-f565-2c8b69c89652"
      },
      "execution_count": 39,
      "outputs": [
        {
          "output_type": "stream",
          "name": "stdout",
          "text": [
            "Model: \"resnet50\"\n",
            "__________________________________________________________________________________________________\n",
            " Layer (type)                   Output Shape         Param #     Connected to                     \n",
            "==================================================================================================\n",
            " input_2 (InputLayer)           [(None, 224, 224, 3  0           []                               \n",
            "                                )]                                                                \n",
            "                                                                                                  \n",
            " conv1_pad (ZeroPadding2D)      (None, 230, 230, 3)  0           ['input_2[0][0]']                \n",
            "                                                                                                  \n",
            " conv1_conv (Conv2D)            (None, 112, 112, 64  9472        ['conv1_pad[0][0]']              \n",
            "                                )                                                                 \n",
            "                                                                                                  \n",
            " conv1_bn (BatchNormalization)  (None, 112, 112, 64  256         ['conv1_conv[0][0]']             \n",
            "                                )                                                                 \n",
            "                                                                                                  \n",
            " conv1_relu (Activation)        (None, 112, 112, 64  0           ['conv1_bn[0][0]']               \n",
            "                                )                                                                 \n",
            "                                                                                                  \n",
            " pool1_pad (ZeroPadding2D)      (None, 114, 114, 64  0           ['conv1_relu[0][0]']             \n",
            "                                )                                                                 \n",
            "                                                                                                  \n",
            " pool1_pool (MaxPooling2D)      (None, 56, 56, 64)   0           ['pool1_pad[0][0]']              \n",
            "                                                                                                  \n",
            " conv2_block1_1_conv (Conv2D)   (None, 56, 56, 64)   4160        ['pool1_pool[0][0]']             \n",
            "                                                                                                  \n",
            " conv2_block1_1_bn (BatchNormal  (None, 56, 56, 64)  256         ['conv2_block1_1_conv[0][0]']    \n",
            " ization)                                                                                         \n",
            "                                                                                                  \n",
            " conv2_block1_1_relu (Activatio  (None, 56, 56, 64)  0           ['conv2_block1_1_bn[0][0]']      \n",
            " n)                                                                                               \n",
            "                                                                                                  \n",
            " conv2_block1_2_conv (Conv2D)   (None, 56, 56, 64)   36928       ['conv2_block1_1_relu[0][0]']    \n",
            "                                                                                                  \n",
            " conv2_block1_2_bn (BatchNormal  (None, 56, 56, 64)  256         ['conv2_block1_2_conv[0][0]']    \n",
            " ization)                                                                                         \n",
            "                                                                                                  \n",
            " conv2_block1_2_relu (Activatio  (None, 56, 56, 64)  0           ['conv2_block1_2_bn[0][0]']      \n",
            " n)                                                                                               \n",
            "                                                                                                  \n",
            " conv2_block1_0_conv (Conv2D)   (None, 56, 56, 256)  16640       ['pool1_pool[0][0]']             \n",
            "                                                                                                  \n",
            " conv2_block1_3_conv (Conv2D)   (None, 56, 56, 256)  16640       ['conv2_block1_2_relu[0][0]']    \n",
            "                                                                                                  \n",
            " conv2_block1_0_bn (BatchNormal  (None, 56, 56, 256)  1024       ['conv2_block1_0_conv[0][0]']    \n",
            " ization)                                                                                         \n",
            "                                                                                                  \n",
            " conv2_block1_3_bn (BatchNormal  (None, 56, 56, 256)  1024       ['conv2_block1_3_conv[0][0]']    \n",
            " ization)                                                                                         \n",
            "                                                                                                  \n",
            " conv2_block1_add (Add)         (None, 56, 56, 256)  0           ['conv2_block1_0_bn[0][0]',      \n",
            "                                                                  'conv2_block1_3_bn[0][0]']      \n",
            "                                                                                                  \n",
            " conv2_block1_out (Activation)  (None, 56, 56, 256)  0           ['conv2_block1_add[0][0]']       \n",
            "                                                                                                  \n",
            " conv2_block2_1_conv (Conv2D)   (None, 56, 56, 64)   16448       ['conv2_block1_out[0][0]']       \n",
            "                                                                                                  \n",
            " conv2_block2_1_bn (BatchNormal  (None, 56, 56, 64)  256         ['conv2_block2_1_conv[0][0]']    \n",
            " ization)                                                                                         \n",
            "                                                                                                  \n",
            " conv2_block2_1_relu (Activatio  (None, 56, 56, 64)  0           ['conv2_block2_1_bn[0][0]']      \n",
            " n)                                                                                               \n",
            "                                                                                                  \n",
            " conv2_block2_2_conv (Conv2D)   (None, 56, 56, 64)   36928       ['conv2_block2_1_relu[0][0]']    \n",
            "                                                                                                  \n",
            " conv2_block2_2_bn (BatchNormal  (None, 56, 56, 64)  256         ['conv2_block2_2_conv[0][0]']    \n",
            " ization)                                                                                         \n",
            "                                                                                                  \n",
            " conv2_block2_2_relu (Activatio  (None, 56, 56, 64)  0           ['conv2_block2_2_bn[0][0]']      \n",
            " n)                                                                                               \n",
            "                                                                                                  \n",
            " conv2_block2_3_conv (Conv2D)   (None, 56, 56, 256)  16640       ['conv2_block2_2_relu[0][0]']    \n",
            "                                                                                                  \n",
            " conv2_block2_3_bn (BatchNormal  (None, 56, 56, 256)  1024       ['conv2_block2_3_conv[0][0]']    \n",
            " ization)                                                                                         \n",
            "                                                                                                  \n",
            " conv2_block2_add (Add)         (None, 56, 56, 256)  0           ['conv2_block1_out[0][0]',       \n",
            "                                                                  'conv2_block2_3_bn[0][0]']      \n",
            "                                                                                                  \n",
            " conv2_block2_out (Activation)  (None, 56, 56, 256)  0           ['conv2_block2_add[0][0]']       \n",
            "                                                                                                  \n",
            " conv2_block3_1_conv (Conv2D)   (None, 56, 56, 64)   16448       ['conv2_block2_out[0][0]']       \n",
            "                                                                                                  \n",
            " conv2_block3_1_bn (BatchNormal  (None, 56, 56, 64)  256         ['conv2_block3_1_conv[0][0]']    \n",
            " ization)                                                                                         \n",
            "                                                                                                  \n",
            " conv2_block3_1_relu (Activatio  (None, 56, 56, 64)  0           ['conv2_block3_1_bn[0][0]']      \n",
            " n)                                                                                               \n",
            "                                                                                                  \n",
            " conv2_block3_2_conv (Conv2D)   (None, 56, 56, 64)   36928       ['conv2_block3_1_relu[0][0]']    \n",
            "                                                                                                  \n",
            " conv2_block3_2_bn (BatchNormal  (None, 56, 56, 64)  256         ['conv2_block3_2_conv[0][0]']    \n",
            " ization)                                                                                         \n",
            "                                                                                                  \n",
            " conv2_block3_2_relu (Activatio  (None, 56, 56, 64)  0           ['conv2_block3_2_bn[0][0]']      \n",
            " n)                                                                                               \n",
            "                                                                                                  \n",
            " conv2_block3_3_conv (Conv2D)   (None, 56, 56, 256)  16640       ['conv2_block3_2_relu[0][0]']    \n",
            "                                                                                                  \n",
            " conv2_block3_3_bn (BatchNormal  (None, 56, 56, 256)  1024       ['conv2_block3_3_conv[0][0]']    \n",
            " ization)                                                                                         \n",
            "                                                                                                  \n",
            " conv2_block3_add (Add)         (None, 56, 56, 256)  0           ['conv2_block2_out[0][0]',       \n",
            "                                                                  'conv2_block3_3_bn[0][0]']      \n",
            "                                                                                                  \n",
            " conv2_block3_out (Activation)  (None, 56, 56, 256)  0           ['conv2_block3_add[0][0]']       \n",
            "                                                                                                  \n",
            " conv3_block1_1_conv (Conv2D)   (None, 28, 28, 128)  32896       ['conv2_block3_out[0][0]']       \n",
            "                                                                                                  \n",
            " conv3_block1_1_bn (BatchNormal  (None, 28, 28, 128)  512        ['conv3_block1_1_conv[0][0]']    \n",
            " ization)                                                                                         \n",
            "                                                                                                  \n",
            " conv3_block1_1_relu (Activatio  (None, 28, 28, 128)  0          ['conv3_block1_1_bn[0][0]']      \n",
            " n)                                                                                               \n",
            "                                                                                                  \n",
            " conv3_block1_2_conv (Conv2D)   (None, 28, 28, 128)  147584      ['conv3_block1_1_relu[0][0]']    \n",
            "                                                                                                  \n",
            " conv3_block1_2_bn (BatchNormal  (None, 28, 28, 128)  512        ['conv3_block1_2_conv[0][0]']    \n",
            " ization)                                                                                         \n",
            "                                                                                                  \n",
            " conv3_block1_2_relu (Activatio  (None, 28, 28, 128)  0          ['conv3_block1_2_bn[0][0]']      \n",
            " n)                                                                                               \n",
            "                                                                                                  \n",
            " conv3_block1_0_conv (Conv2D)   (None, 28, 28, 512)  131584      ['conv2_block3_out[0][0]']       \n",
            "                                                                                                  \n",
            " conv3_block1_3_conv (Conv2D)   (None, 28, 28, 512)  66048       ['conv3_block1_2_relu[0][0]']    \n",
            "                                                                                                  \n",
            " conv3_block1_0_bn (BatchNormal  (None, 28, 28, 512)  2048       ['conv3_block1_0_conv[0][0]']    \n",
            " ization)                                                                                         \n",
            "                                                                                                  \n",
            " conv3_block1_3_bn (BatchNormal  (None, 28, 28, 512)  2048       ['conv3_block1_3_conv[0][0]']    \n",
            " ization)                                                                                         \n",
            "                                                                                                  \n",
            " conv3_block1_add (Add)         (None, 28, 28, 512)  0           ['conv3_block1_0_bn[0][0]',      \n",
            "                                                                  'conv3_block1_3_bn[0][0]']      \n",
            "                                                                                                  \n",
            " conv3_block1_out (Activation)  (None, 28, 28, 512)  0           ['conv3_block1_add[0][0]']       \n",
            "                                                                                                  \n",
            " conv3_block2_1_conv (Conv2D)   (None, 28, 28, 128)  65664       ['conv3_block1_out[0][0]']       \n",
            "                                                                                                  \n",
            " conv3_block2_1_bn (BatchNormal  (None, 28, 28, 128)  512        ['conv3_block2_1_conv[0][0]']    \n",
            " ization)                                                                                         \n",
            "                                                                                                  \n",
            " conv3_block2_1_relu (Activatio  (None, 28, 28, 128)  0          ['conv3_block2_1_bn[0][0]']      \n",
            " n)                                                                                               \n",
            "                                                                                                  \n",
            " conv3_block2_2_conv (Conv2D)   (None, 28, 28, 128)  147584      ['conv3_block2_1_relu[0][0]']    \n",
            "                                                                                                  \n",
            " conv3_block2_2_bn (BatchNormal  (None, 28, 28, 128)  512        ['conv3_block2_2_conv[0][0]']    \n",
            " ization)                                                                                         \n",
            "                                                                                                  \n",
            " conv3_block2_2_relu (Activatio  (None, 28, 28, 128)  0          ['conv3_block2_2_bn[0][0]']      \n",
            " n)                                                                                               \n",
            "                                                                                                  \n",
            " conv3_block2_3_conv (Conv2D)   (None, 28, 28, 512)  66048       ['conv3_block2_2_relu[0][0]']    \n",
            "                                                                                                  \n",
            " conv3_block2_3_bn (BatchNormal  (None, 28, 28, 512)  2048       ['conv3_block2_3_conv[0][0]']    \n",
            " ization)                                                                                         \n",
            "                                                                                                  \n",
            " conv3_block2_add (Add)         (None, 28, 28, 512)  0           ['conv3_block1_out[0][0]',       \n",
            "                                                                  'conv3_block2_3_bn[0][0]']      \n",
            "                                                                                                  \n",
            " conv3_block2_out (Activation)  (None, 28, 28, 512)  0           ['conv3_block2_add[0][0]']       \n",
            "                                                                                                  \n",
            " conv3_block3_1_conv (Conv2D)   (None, 28, 28, 128)  65664       ['conv3_block2_out[0][0]']       \n",
            "                                                                                                  \n",
            " conv3_block3_1_bn (BatchNormal  (None, 28, 28, 128)  512        ['conv3_block3_1_conv[0][0]']    \n",
            " ization)                                                                                         \n",
            "                                                                                                  \n",
            " conv3_block3_1_relu (Activatio  (None, 28, 28, 128)  0          ['conv3_block3_1_bn[0][0]']      \n",
            " n)                                                                                               \n",
            "                                                                                                  \n",
            " conv3_block3_2_conv (Conv2D)   (None, 28, 28, 128)  147584      ['conv3_block3_1_relu[0][0]']    \n",
            "                                                                                                  \n",
            " conv3_block3_2_bn (BatchNormal  (None, 28, 28, 128)  512        ['conv3_block3_2_conv[0][0]']    \n",
            " ization)                                                                                         \n",
            "                                                                                                  \n",
            " conv3_block3_2_relu (Activatio  (None, 28, 28, 128)  0          ['conv3_block3_2_bn[0][0]']      \n",
            " n)                                                                                               \n",
            "                                                                                                  \n",
            " conv3_block3_3_conv (Conv2D)   (None, 28, 28, 512)  66048       ['conv3_block3_2_relu[0][0]']    \n",
            "                                                                                                  \n",
            " conv3_block3_3_bn (BatchNormal  (None, 28, 28, 512)  2048       ['conv3_block3_3_conv[0][0]']    \n",
            " ization)                                                                                         \n",
            "                                                                                                  \n",
            " conv3_block3_add (Add)         (None, 28, 28, 512)  0           ['conv3_block2_out[0][0]',       \n",
            "                                                                  'conv3_block3_3_bn[0][0]']      \n",
            "                                                                                                  \n",
            " conv3_block3_out (Activation)  (None, 28, 28, 512)  0           ['conv3_block3_add[0][0]']       \n",
            "                                                                                                  \n",
            " conv3_block4_1_conv (Conv2D)   (None, 28, 28, 128)  65664       ['conv3_block3_out[0][0]']       \n",
            "                                                                                                  \n",
            " conv3_block4_1_bn (BatchNormal  (None, 28, 28, 128)  512        ['conv3_block4_1_conv[0][0]']    \n",
            " ization)                                                                                         \n",
            "                                                                                                  \n",
            " conv3_block4_1_relu (Activatio  (None, 28, 28, 128)  0          ['conv3_block4_1_bn[0][0]']      \n",
            " n)                                                                                               \n",
            "                                                                                                  \n",
            " conv3_block4_2_conv (Conv2D)   (None, 28, 28, 128)  147584      ['conv3_block4_1_relu[0][0]']    \n",
            "                                                                                                  \n",
            " conv3_block4_2_bn (BatchNormal  (None, 28, 28, 128)  512        ['conv3_block4_2_conv[0][0]']    \n",
            " ization)                                                                                         \n",
            "                                                                                                  \n",
            " conv3_block4_2_relu (Activatio  (None, 28, 28, 128)  0          ['conv3_block4_2_bn[0][0]']      \n",
            " n)                                                                                               \n",
            "                                                                                                  \n",
            " conv3_block4_3_conv (Conv2D)   (None, 28, 28, 512)  66048       ['conv3_block4_2_relu[0][0]']    \n",
            "                                                                                                  \n",
            " conv3_block4_3_bn (BatchNormal  (None, 28, 28, 512)  2048       ['conv3_block4_3_conv[0][0]']    \n",
            " ization)                                                                                         \n",
            "                                                                                                  \n",
            " conv3_block4_add (Add)         (None, 28, 28, 512)  0           ['conv3_block3_out[0][0]',       \n",
            "                                                                  'conv3_block4_3_bn[0][0]']      \n",
            "                                                                                                  \n",
            " conv3_block4_out (Activation)  (None, 28, 28, 512)  0           ['conv3_block4_add[0][0]']       \n",
            "                                                                                                  \n",
            " conv4_block1_1_conv (Conv2D)   (None, 14, 14, 256)  131328      ['conv3_block4_out[0][0]']       \n",
            "                                                                                                  \n",
            " conv4_block1_1_bn (BatchNormal  (None, 14, 14, 256)  1024       ['conv4_block1_1_conv[0][0]']    \n",
            " ization)                                                                                         \n",
            "                                                                                                  \n",
            " conv4_block1_1_relu (Activatio  (None, 14, 14, 256)  0          ['conv4_block1_1_bn[0][0]']      \n",
            " n)                                                                                               \n",
            "                                                                                                  \n",
            " conv4_block1_2_conv (Conv2D)   (None, 14, 14, 256)  590080      ['conv4_block1_1_relu[0][0]']    \n",
            "                                                                                                  \n",
            " conv4_block1_2_bn (BatchNormal  (None, 14, 14, 256)  1024       ['conv4_block1_2_conv[0][0]']    \n",
            " ization)                                                                                         \n",
            "                                                                                                  \n",
            " conv4_block1_2_relu (Activatio  (None, 14, 14, 256)  0          ['conv4_block1_2_bn[0][0]']      \n",
            " n)                                                                                               \n",
            "                                                                                                  \n",
            " conv4_block1_0_conv (Conv2D)   (None, 14, 14, 1024  525312      ['conv3_block4_out[0][0]']       \n",
            "                                )                                                                 \n",
            "                                                                                                  \n",
            " conv4_block1_3_conv (Conv2D)   (None, 14, 14, 1024  263168      ['conv4_block1_2_relu[0][0]']    \n",
            "                                )                                                                 \n",
            "                                                                                                  \n",
            " conv4_block1_0_bn (BatchNormal  (None, 14, 14, 1024  4096       ['conv4_block1_0_conv[0][0]']    \n",
            " ization)                       )                                                                 \n",
            "                                                                                                  \n",
            " conv4_block1_3_bn (BatchNormal  (None, 14, 14, 1024  4096       ['conv4_block1_3_conv[0][0]']    \n",
            " ization)                       )                                                                 \n",
            "                                                                                                  \n",
            " conv4_block1_add (Add)         (None, 14, 14, 1024  0           ['conv4_block1_0_bn[0][0]',      \n",
            "                                )                                 'conv4_block1_3_bn[0][0]']      \n",
            "                                                                                                  \n",
            " conv4_block1_out (Activation)  (None, 14, 14, 1024  0           ['conv4_block1_add[0][0]']       \n",
            "                                )                                                                 \n",
            "                                                                                                  \n",
            " conv4_block2_1_conv (Conv2D)   (None, 14, 14, 256)  262400      ['conv4_block1_out[0][0]']       \n",
            "                                                                                                  \n",
            " conv4_block2_1_bn (BatchNormal  (None, 14, 14, 256)  1024       ['conv4_block2_1_conv[0][0]']    \n",
            " ization)                                                                                         \n",
            "                                                                                                  \n",
            " conv4_block2_1_relu (Activatio  (None, 14, 14, 256)  0          ['conv4_block2_1_bn[0][0]']      \n",
            " n)                                                                                               \n",
            "                                                                                                  \n",
            " conv4_block2_2_conv (Conv2D)   (None, 14, 14, 256)  590080      ['conv4_block2_1_relu[0][0]']    \n",
            "                                                                                                  \n",
            " conv4_block2_2_bn (BatchNormal  (None, 14, 14, 256)  1024       ['conv4_block2_2_conv[0][0]']    \n",
            " ization)                                                                                         \n",
            "                                                                                                  \n",
            " conv4_block2_2_relu (Activatio  (None, 14, 14, 256)  0          ['conv4_block2_2_bn[0][0]']      \n",
            " n)                                                                                               \n",
            "                                                                                                  \n",
            " conv4_block2_3_conv (Conv2D)   (None, 14, 14, 1024  263168      ['conv4_block2_2_relu[0][0]']    \n",
            "                                )                                                                 \n",
            "                                                                                                  \n",
            " conv4_block2_3_bn (BatchNormal  (None, 14, 14, 1024  4096       ['conv4_block2_3_conv[0][0]']    \n",
            " ization)                       )                                                                 \n",
            "                                                                                                  \n",
            " conv4_block2_add (Add)         (None, 14, 14, 1024  0           ['conv4_block1_out[0][0]',       \n",
            "                                )                                 'conv4_block2_3_bn[0][0]']      \n",
            "                                                                                                  \n",
            " conv4_block2_out (Activation)  (None, 14, 14, 1024  0           ['conv4_block2_add[0][0]']       \n",
            "                                )                                                                 \n",
            "                                                                                                  \n",
            " conv4_block3_1_conv (Conv2D)   (None, 14, 14, 256)  262400      ['conv4_block2_out[0][0]']       \n",
            "                                                                                                  \n",
            " conv4_block3_1_bn (BatchNormal  (None, 14, 14, 256)  1024       ['conv4_block3_1_conv[0][0]']    \n",
            " ization)                                                                                         \n",
            "                                                                                                  \n",
            " conv4_block3_1_relu (Activatio  (None, 14, 14, 256)  0          ['conv4_block3_1_bn[0][0]']      \n",
            " n)                                                                                               \n",
            "                                                                                                  \n",
            " conv4_block3_2_conv (Conv2D)   (None, 14, 14, 256)  590080      ['conv4_block3_1_relu[0][0]']    \n",
            "                                                                                                  \n",
            " conv4_block3_2_bn (BatchNormal  (None, 14, 14, 256)  1024       ['conv4_block3_2_conv[0][0]']    \n",
            " ization)                                                                                         \n",
            "                                                                                                  \n",
            " conv4_block3_2_relu (Activatio  (None, 14, 14, 256)  0          ['conv4_block3_2_bn[0][0]']      \n",
            " n)                                                                                               \n",
            "                                                                                                  \n",
            " conv4_block3_3_conv (Conv2D)   (None, 14, 14, 1024  263168      ['conv4_block3_2_relu[0][0]']    \n",
            "                                )                                                                 \n",
            "                                                                                                  \n",
            " conv4_block3_3_bn (BatchNormal  (None, 14, 14, 1024  4096       ['conv4_block3_3_conv[0][0]']    \n",
            " ization)                       )                                                                 \n",
            "                                                                                                  \n",
            " conv4_block3_add (Add)         (None, 14, 14, 1024  0           ['conv4_block2_out[0][0]',       \n",
            "                                )                                 'conv4_block3_3_bn[0][0]']      \n",
            "                                                                                                  \n",
            " conv4_block3_out (Activation)  (None, 14, 14, 1024  0           ['conv4_block3_add[0][0]']       \n",
            "                                )                                                                 \n",
            "                                                                                                  \n",
            " conv4_block4_1_conv (Conv2D)   (None, 14, 14, 256)  262400      ['conv4_block3_out[0][0]']       \n",
            "                                                                                                  \n",
            " conv4_block4_1_bn (BatchNormal  (None, 14, 14, 256)  1024       ['conv4_block4_1_conv[0][0]']    \n",
            " ization)                                                                                         \n",
            "                                                                                                  \n",
            " conv4_block4_1_relu (Activatio  (None, 14, 14, 256)  0          ['conv4_block4_1_bn[0][0]']      \n",
            " n)                                                                                               \n",
            "                                                                                                  \n",
            " conv4_block4_2_conv (Conv2D)   (None, 14, 14, 256)  590080      ['conv4_block4_1_relu[0][0]']    \n",
            "                                                                                                  \n",
            " conv4_block4_2_bn (BatchNormal  (None, 14, 14, 256)  1024       ['conv4_block4_2_conv[0][0]']    \n",
            " ization)                                                                                         \n",
            "                                                                                                  \n",
            " conv4_block4_2_relu (Activatio  (None, 14, 14, 256)  0          ['conv4_block4_2_bn[0][0]']      \n",
            " n)                                                                                               \n",
            "                                                                                                  \n",
            " conv4_block4_3_conv (Conv2D)   (None, 14, 14, 1024  263168      ['conv4_block4_2_relu[0][0]']    \n",
            "                                )                                                                 \n",
            "                                                                                                  \n",
            " conv4_block4_3_bn (BatchNormal  (None, 14, 14, 1024  4096       ['conv4_block4_3_conv[0][0]']    \n",
            " ization)                       )                                                                 \n",
            "                                                                                                  \n",
            " conv4_block4_add (Add)         (None, 14, 14, 1024  0           ['conv4_block3_out[0][0]',       \n",
            "                                )                                 'conv4_block4_3_bn[0][0]']      \n",
            "                                                                                                  \n",
            " conv4_block4_out (Activation)  (None, 14, 14, 1024  0           ['conv4_block4_add[0][0]']       \n",
            "                                )                                                                 \n",
            "                                                                                                  \n",
            " conv4_block5_1_conv (Conv2D)   (None, 14, 14, 256)  262400      ['conv4_block4_out[0][0]']       \n",
            "                                                                                                  \n",
            " conv4_block5_1_bn (BatchNormal  (None, 14, 14, 256)  1024       ['conv4_block5_1_conv[0][0]']    \n",
            " ization)                                                                                         \n",
            "                                                                                                  \n",
            " conv4_block5_1_relu (Activatio  (None, 14, 14, 256)  0          ['conv4_block5_1_bn[0][0]']      \n",
            " n)                                                                                               \n",
            "                                                                                                  \n",
            " conv4_block5_2_conv (Conv2D)   (None, 14, 14, 256)  590080      ['conv4_block5_1_relu[0][0]']    \n",
            "                                                                                                  \n",
            " conv4_block5_2_bn (BatchNormal  (None, 14, 14, 256)  1024       ['conv4_block5_2_conv[0][0]']    \n",
            " ization)                                                                                         \n",
            "                                                                                                  \n",
            " conv4_block5_2_relu (Activatio  (None, 14, 14, 256)  0          ['conv4_block5_2_bn[0][0]']      \n",
            " n)                                                                                               \n",
            "                                                                                                  \n",
            " conv4_block5_3_conv (Conv2D)   (None, 14, 14, 1024  263168      ['conv4_block5_2_relu[0][0]']    \n",
            "                                )                                                                 \n",
            "                                                                                                  \n",
            " conv4_block5_3_bn (BatchNormal  (None, 14, 14, 1024  4096       ['conv4_block5_3_conv[0][0]']    \n",
            " ization)                       )                                                                 \n",
            "                                                                                                  \n",
            " conv4_block5_add (Add)         (None, 14, 14, 1024  0           ['conv4_block4_out[0][0]',       \n",
            "                                )                                 'conv4_block5_3_bn[0][0]']      \n",
            "                                                                                                  \n",
            " conv4_block5_out (Activation)  (None, 14, 14, 1024  0           ['conv4_block5_add[0][0]']       \n",
            "                                )                                                                 \n",
            "                                                                                                  \n",
            " conv4_block6_1_conv (Conv2D)   (None, 14, 14, 256)  262400      ['conv4_block5_out[0][0]']       \n",
            "                                                                                                  \n",
            " conv4_block6_1_bn (BatchNormal  (None, 14, 14, 256)  1024       ['conv4_block6_1_conv[0][0]']    \n",
            " ization)                                                                                         \n",
            "                                                                                                  \n",
            " conv4_block6_1_relu (Activatio  (None, 14, 14, 256)  0          ['conv4_block6_1_bn[0][0]']      \n",
            " n)                                                                                               \n",
            "                                                                                                  \n",
            " conv4_block6_2_conv (Conv2D)   (None, 14, 14, 256)  590080      ['conv4_block6_1_relu[0][0]']    \n",
            "                                                                                                  \n",
            " conv4_block6_2_bn (BatchNormal  (None, 14, 14, 256)  1024       ['conv4_block6_2_conv[0][0]']    \n",
            " ization)                                                                                         \n",
            "                                                                                                  \n",
            " conv4_block6_2_relu (Activatio  (None, 14, 14, 256)  0          ['conv4_block6_2_bn[0][0]']      \n",
            " n)                                                                                               \n",
            "                                                                                                  \n",
            " conv4_block6_3_conv (Conv2D)   (None, 14, 14, 1024  263168      ['conv4_block6_2_relu[0][0]']    \n",
            "                                )                                                                 \n",
            "                                                                                                  \n",
            " conv4_block6_3_bn (BatchNormal  (None, 14, 14, 1024  4096       ['conv4_block6_3_conv[0][0]']    \n",
            " ization)                       )                                                                 \n",
            "                                                                                                  \n",
            " conv4_block6_add (Add)         (None, 14, 14, 1024  0           ['conv4_block5_out[0][0]',       \n",
            "                                )                                 'conv4_block6_3_bn[0][0]']      \n",
            "                                                                                                  \n",
            " conv4_block6_out (Activation)  (None, 14, 14, 1024  0           ['conv4_block6_add[0][0]']       \n",
            "                                )                                                                 \n",
            "                                                                                                  \n",
            " conv5_block1_1_conv (Conv2D)   (None, 7, 7, 512)    524800      ['conv4_block6_out[0][0]']       \n",
            "                                                                                                  \n",
            " conv5_block1_1_bn (BatchNormal  (None, 7, 7, 512)   2048        ['conv5_block1_1_conv[0][0]']    \n",
            " ization)                                                                                         \n",
            "                                                                                                  \n",
            " conv5_block1_1_relu (Activatio  (None, 7, 7, 512)   0           ['conv5_block1_1_bn[0][0]']      \n",
            " n)                                                                                               \n",
            "                                                                                                  \n",
            " conv5_block1_2_conv (Conv2D)   (None, 7, 7, 512)    2359808     ['conv5_block1_1_relu[0][0]']    \n",
            "                                                                                                  \n",
            " conv5_block1_2_bn (BatchNormal  (None, 7, 7, 512)   2048        ['conv5_block1_2_conv[0][0]']    \n",
            " ization)                                                                                         \n",
            "                                                                                                  \n",
            " conv5_block1_2_relu (Activatio  (None, 7, 7, 512)   0           ['conv5_block1_2_bn[0][0]']      \n",
            " n)                                                                                               \n",
            "                                                                                                  \n",
            " conv5_block1_0_conv (Conv2D)   (None, 7, 7, 2048)   2099200     ['conv4_block6_out[0][0]']       \n",
            "                                                                                                  \n",
            " conv5_block1_3_conv (Conv2D)   (None, 7, 7, 2048)   1050624     ['conv5_block1_2_relu[0][0]']    \n",
            "                                                                                                  \n",
            " conv5_block1_0_bn (BatchNormal  (None, 7, 7, 2048)  8192        ['conv5_block1_0_conv[0][0]']    \n",
            " ization)                                                                                         \n",
            "                                                                                                  \n",
            " conv5_block1_3_bn (BatchNormal  (None, 7, 7, 2048)  8192        ['conv5_block1_3_conv[0][0]']    \n",
            " ization)                                                                                         \n",
            "                                                                                                  \n",
            " conv5_block1_add (Add)         (None, 7, 7, 2048)   0           ['conv5_block1_0_bn[0][0]',      \n",
            "                                                                  'conv5_block1_3_bn[0][0]']      \n",
            "                                                                                                  \n",
            " conv5_block1_out (Activation)  (None, 7, 7, 2048)   0           ['conv5_block1_add[0][0]']       \n",
            "                                                                                                  \n",
            " conv5_block2_1_conv (Conv2D)   (None, 7, 7, 512)    1049088     ['conv5_block1_out[0][0]']       \n",
            "                                                                                                  \n",
            " conv5_block2_1_bn (BatchNormal  (None, 7, 7, 512)   2048        ['conv5_block2_1_conv[0][0]']    \n",
            " ization)                                                                                         \n",
            "                                                                                                  \n",
            " conv5_block2_1_relu (Activatio  (None, 7, 7, 512)   0           ['conv5_block2_1_bn[0][0]']      \n",
            " n)                                                                                               \n",
            "                                                                                                  \n",
            " conv5_block2_2_conv (Conv2D)   (None, 7, 7, 512)    2359808     ['conv5_block2_1_relu[0][0]']    \n",
            "                                                                                                  \n",
            " conv5_block2_2_bn (BatchNormal  (None, 7, 7, 512)   2048        ['conv5_block2_2_conv[0][0]']    \n",
            " ization)                                                                                         \n",
            "                                                                                                  \n",
            " conv5_block2_2_relu (Activatio  (None, 7, 7, 512)   0           ['conv5_block2_2_bn[0][0]']      \n",
            " n)                                                                                               \n",
            "                                                                                                  \n",
            " conv5_block2_3_conv (Conv2D)   (None, 7, 7, 2048)   1050624     ['conv5_block2_2_relu[0][0]']    \n",
            "                                                                                                  \n",
            " conv5_block2_3_bn (BatchNormal  (None, 7, 7, 2048)  8192        ['conv5_block2_3_conv[0][0]']    \n",
            " ization)                                                                                         \n",
            "                                                                                                  \n",
            " conv5_block2_add (Add)         (None, 7, 7, 2048)   0           ['conv5_block1_out[0][0]',       \n",
            "                                                                  'conv5_block2_3_bn[0][0]']      \n",
            "                                                                                                  \n",
            " conv5_block2_out (Activation)  (None, 7, 7, 2048)   0           ['conv5_block2_add[0][0]']       \n",
            "                                                                                                  \n",
            " conv5_block3_1_conv (Conv2D)   (None, 7, 7, 512)    1049088     ['conv5_block2_out[0][0]']       \n",
            "                                                                                                  \n",
            " conv5_block3_1_bn (BatchNormal  (None, 7, 7, 512)   2048        ['conv5_block3_1_conv[0][0]']    \n",
            " ization)                                                                                         \n",
            "                                                                                                  \n",
            " conv5_block3_1_relu (Activatio  (None, 7, 7, 512)   0           ['conv5_block3_1_bn[0][0]']      \n",
            " n)                                                                                               \n",
            "                                                                                                  \n",
            " conv5_block3_2_conv (Conv2D)   (None, 7, 7, 512)    2359808     ['conv5_block3_1_relu[0][0]']    \n",
            "                                                                                                  \n",
            " conv5_block3_2_bn (BatchNormal  (None, 7, 7, 512)   2048        ['conv5_block3_2_conv[0][0]']    \n",
            " ization)                                                                                         \n",
            "                                                                                                  \n",
            " conv5_block3_2_relu (Activatio  (None, 7, 7, 512)   0           ['conv5_block3_2_bn[0][0]']      \n",
            " n)                                                                                               \n",
            "                                                                                                  \n",
            " conv5_block3_3_conv (Conv2D)   (None, 7, 7, 2048)   1050624     ['conv5_block3_2_relu[0][0]']    \n",
            "                                                                                                  \n",
            " conv5_block3_3_bn (BatchNormal  (None, 7, 7, 2048)  8192        ['conv5_block3_3_conv[0][0]']    \n",
            " ization)                                                                                         \n",
            "                                                                                                  \n",
            " conv5_block3_add (Add)         (None, 7, 7, 2048)   0           ['conv5_block2_out[0][0]',       \n",
            "                                                                  'conv5_block3_3_bn[0][0]']      \n",
            "                                                                                                  \n",
            " conv5_block3_out (Activation)  (None, 7, 7, 2048)   0           ['conv5_block3_add[0][0]']       \n",
            "                                                                                                  \n",
            "==================================================================================================\n",
            "Total params: 23,587,712\n",
            "Trainable params: 23,534,592\n",
            "Non-trainable params: 53,120\n",
            "__________________________________________________________________________________________________\n"
          ]
        }
      ]
    },
    {
      "cell_type": "code",
      "source": [
        "model.summary()"
      ],
      "metadata": {
        "colab": {
          "base_uri": "https://localhost:8080/"
        },
        "id": "Gg5vexFIDxHV",
        "outputId": "72fa5e13-4a51-4c9a-97b6-ae504507c28f"
      },
      "execution_count": 40,
      "outputs": [
        {
          "output_type": "stream",
          "name": "stdout",
          "text": [
            "Model: \"sequential_1\"\n",
            "_________________________________________________________________\n",
            " Layer (type)                Output Shape              Param #   \n",
            "=================================================================\n",
            " resnet50 (Functional)       (None, 7, 7, 2048)        23587712  \n",
            "                                                                 \n",
            " global_average_pooling2d_1   (None, 2048)             0         \n",
            " (GlobalAveragePooling2D)                                        \n",
            "                                                                 \n",
            " dense_2 (Dense)             (None, 1024)              2098176   \n",
            "                                                                 \n",
            " dense_3 (Dense)             (None, 3)                 3075      \n",
            "                                                                 \n",
            "=================================================================\n",
            "Total params: 25,688,963\n",
            "Trainable params: 25,635,843\n",
            "Non-trainable params: 53,120\n",
            "_________________________________________________________________\n"
          ]
        }
      ]
    },
    {
      "cell_type": "code",
      "source": [
        "for i, layer in enumerate(model.layers):\n",
        "   print(i, layer.name)"
      ],
      "metadata": {
        "colab": {
          "base_uri": "https://localhost:8080/"
        },
        "id": "kiiCPAbcDziO",
        "outputId": "859b2710-4aa5-4455-cceb-eb7d03043382"
      },
      "execution_count": 41,
      "outputs": [
        {
          "output_type": "stream",
          "name": "stdout",
          "text": [
            "0 resnet50\n",
            "1 global_average_pooling2d_1\n",
            "2 dense_2\n",
            "3 dense_3\n"
          ]
        }
      ]
    },
    {
      "cell_type": "code",
      "source": [
        "for layer in base_model.layers:\n",
        "    layer.trainable = False"
      ],
      "metadata": {
        "id": "yYsGZpbdD1-G"
      },
      "execution_count": 42,
      "outputs": []
    },
    {
      "cell_type": "code",
      "source": [
        "epochs = 100\n",
        "batch_size = 25\n",
        "learning_rate = 0.001\n",
        "\n",
        "# SGD optimizer (you can use others)\n",
        "optimizer = keras.optimizers.SGD(lr=learning_rate)\n",
        "\n",
        "# Cross-entropy loss\n",
        "loss = tf.keras.losses.SparseCategoricalCrossentropy(from_logits=False)\n",
        "\n",
        "# Compile the model\n",
        "model.compile(\n",
        "    loss=loss,\n",
        "    optimizer=optimizer,\n",
        "    metrics=['accuracy'])"
      ],
      "metadata": {
        "colab": {
          "base_uri": "https://localhost:8080/"
        },
        "id": "eTM9VUqvD3j4",
        "outputId": "971da2b7-fe4d-46a8-c85d-ec1f3180a937"
      },
      "execution_count": 43,
      "outputs": [
        {
          "output_type": "stream",
          "name": "stderr",
          "text": [
            "/usr/local/lib/python3.7/dist-packages/keras/optimizer_v2/gradient_descent.py:102: UserWarning: The `lr` argument is deprecated, use `learning_rate` instead.\n",
            "  super(SGD, self).__init__(name, **kwargs)\n"
          ]
        }
      ]
    },
    {
      "cell_type": "code",
      "source": [
        "hist = model.fit(\n",
        "    X_train, y_train,\n",
        "    batch_size=batch_size,\n",
        "    epochs=epochs,\n",
        "    validation_data=(X_valid, y_valid),\n",
        "    verbose=1)"
      ],
      "metadata": {
        "colab": {
          "base_uri": "https://localhost:8080/"
        },
        "id": "xT_2skW8D_55",
        "outputId": "febe3a84-e6ab-4ec8-bef6-742d4adf8e79"
      },
      "execution_count": 44,
      "outputs": [
        {
          "output_type": "stream",
          "name": "stdout",
          "text": [
            "Epoch 1/100\n",
            "2/2 [==============================] - 8s 3s/step - loss: 1.2762 - accuracy: 0.3125 - val_loss: 1.1279 - val_accuracy: 0.5000\n",
            "Epoch 2/100\n",
            "2/2 [==============================] - 0s 279ms/step - loss: 1.1567 - accuracy: 0.3125 - val_loss: 1.0834 - val_accuracy: 0.5000\n",
            "Epoch 3/100\n",
            "2/2 [==============================] - 0s 264ms/step - loss: 1.1519 - accuracy: 0.2500 - val_loss: 1.0755 - val_accuracy: 0.3333\n",
            "Epoch 4/100\n",
            "2/2 [==============================] - 0s 272ms/step - loss: 1.0832 - accuracy: 0.4375 - val_loss: 1.0863 - val_accuracy: 0.3333\n",
            "Epoch 5/100\n",
            "2/2 [==============================] - 0s 266ms/step - loss: 1.0735 - accuracy: 0.4167 - val_loss: 1.0881 - val_accuracy: 0.3333\n",
            "Epoch 6/100\n",
            "2/2 [==============================] - 0s 274ms/step - loss: 1.0744 - accuracy: 0.3958 - val_loss: 1.0994 - val_accuracy: 0.3333\n",
            "Epoch 7/100\n",
            "2/2 [==============================] - 0s 269ms/step - loss: 1.0559 - accuracy: 0.5000 - val_loss: 1.1026 - val_accuracy: 0.3333\n",
            "Epoch 8/100\n",
            "2/2 [==============================] - 0s 272ms/step - loss: 1.0420 - accuracy: 0.4792 - val_loss: 1.1095 - val_accuracy: 0.3333\n",
            "Epoch 9/100\n",
            "2/2 [==============================] - 1s 343ms/step - loss: 1.0366 - accuracy: 0.4792 - val_loss: 1.1123 - val_accuracy: 0.3333\n",
            "Epoch 10/100\n",
            "2/2 [==============================] - 0s 269ms/step - loss: 1.0250 - accuracy: 0.5417 - val_loss: 1.1218 - val_accuracy: 0.3333\n",
            "Epoch 11/100\n",
            "2/2 [==============================] - 0s 265ms/step - loss: 1.0193 - accuracy: 0.5625 - val_loss: 1.1142 - val_accuracy: 0.3333\n",
            "Epoch 12/100\n",
            "2/2 [==============================] - 0s 268ms/step - loss: 1.0160 - accuracy: 0.5625 - val_loss: 1.1283 - val_accuracy: 0.3333\n",
            "Epoch 13/100\n",
            "2/2 [==============================] - 0s 269ms/step - loss: 1.0038 - accuracy: 0.5625 - val_loss: 1.1300 - val_accuracy: 0.3333\n",
            "Epoch 14/100\n",
            "2/2 [==============================] - 0s 267ms/step - loss: 0.9968 - accuracy: 0.5833 - val_loss: 1.1467 - val_accuracy: 0.3333\n",
            "Epoch 15/100\n",
            "2/2 [==============================] - 0s 275ms/step - loss: 0.9883 - accuracy: 0.6042 - val_loss: 1.1397 - val_accuracy: 0.3333\n",
            "Epoch 16/100\n",
            "2/2 [==============================] - 0s 275ms/step - loss: 0.9784 - accuracy: 0.5833 - val_loss: 1.1523 - val_accuracy: 0.3333\n",
            "Epoch 17/100\n",
            "2/2 [==============================] - 0s 268ms/step - loss: 0.9764 - accuracy: 0.5833 - val_loss: 1.1697 - val_accuracy: 0.3333\n",
            "Epoch 18/100\n",
            "2/2 [==============================] - 0s 276ms/step - loss: 0.9738 - accuracy: 0.5833 - val_loss: 1.1854 - val_accuracy: 0.3333\n",
            "Epoch 19/100\n",
            "2/2 [==============================] - 0s 267ms/step - loss: 0.9644 - accuracy: 0.5625 - val_loss: 1.1750 - val_accuracy: 0.3333\n",
            "Epoch 20/100\n",
            "2/2 [==============================] - 0s 270ms/step - loss: 0.9597 - accuracy: 0.5833 - val_loss: 1.1752 - val_accuracy: 0.3333\n",
            "Epoch 21/100\n",
            "2/2 [==============================] - 0s 267ms/step - loss: 0.9479 - accuracy: 0.6042 - val_loss: 1.1757 - val_accuracy: 0.3333\n",
            "Epoch 22/100\n",
            "2/2 [==============================] - 0s 268ms/step - loss: 0.9406 - accuracy: 0.6042 - val_loss: 1.1848 - val_accuracy: 0.3333\n",
            "Epoch 23/100\n",
            "2/2 [==============================] - 0s 270ms/step - loss: 0.9395 - accuracy: 0.6667 - val_loss: 1.2039 - val_accuracy: 0.3333\n",
            "Epoch 24/100\n",
            "2/2 [==============================] - 0s 268ms/step - loss: 0.9327 - accuracy: 0.6042 - val_loss: 1.1962 - val_accuracy: 0.3333\n",
            "Epoch 25/100\n",
            "2/2 [==============================] - 1s 341ms/step - loss: 0.9395 - accuracy: 0.6875 - val_loss: 1.2189 - val_accuracy: 0.3333\n",
            "Epoch 26/100\n",
            "2/2 [==============================] - 0s 263ms/step - loss: 0.9257 - accuracy: 0.5833 - val_loss: 1.2066 - val_accuracy: 0.3333\n",
            "Epoch 27/100\n",
            "2/2 [==============================] - 0s 271ms/step - loss: 0.9194 - accuracy: 0.6458 - val_loss: 1.2060 - val_accuracy: 0.3333\n",
            "Epoch 28/100\n",
            "2/2 [==============================] - 0s 268ms/step - loss: 0.9132 - accuracy: 0.6250 - val_loss: 1.2250 - val_accuracy: 0.3333\n",
            "Epoch 29/100\n",
            "2/2 [==============================] - 0s 269ms/step - loss: 0.9163 - accuracy: 0.6042 - val_loss: 1.2161 - val_accuracy: 0.3333\n",
            "Epoch 30/100\n",
            "2/2 [==============================] - 0s 271ms/step - loss: 0.9127 - accuracy: 0.6458 - val_loss: 1.2176 - val_accuracy: 0.3333\n",
            "Epoch 31/100\n",
            "2/2 [==============================] - 0s 271ms/step - loss: 0.9003 - accuracy: 0.6458 - val_loss: 1.2362 - val_accuracy: 0.3333\n",
            "Epoch 32/100\n",
            "2/2 [==============================] - 0s 268ms/step - loss: 0.9018 - accuracy: 0.6667 - val_loss: 1.2450 - val_accuracy: 0.3333\n",
            "Epoch 33/100\n",
            "2/2 [==============================] - 0s 263ms/step - loss: 0.9318 - accuracy: 0.5417 - val_loss: 1.2795 - val_accuracy: 0.3333\n",
            "Epoch 34/100\n",
            "2/2 [==============================] - 0s 276ms/step - loss: 0.8966 - accuracy: 0.6042 - val_loss: 1.2848 - val_accuracy: 0.3333\n",
            "Epoch 35/100\n",
            "2/2 [==============================] - 0s 270ms/step - loss: 0.8961 - accuracy: 0.6250 - val_loss: 1.2986 - val_accuracy: 0.3333\n",
            "Epoch 36/100\n",
            "2/2 [==============================] - 0s 285ms/step - loss: 0.8845 - accuracy: 0.6458 - val_loss: 1.2939 - val_accuracy: 0.3333\n",
            "Epoch 37/100\n",
            "2/2 [==============================] - 0s 276ms/step - loss: 0.8861 - accuracy: 0.7083 - val_loss: 1.2846 - val_accuracy: 0.3333\n",
            "Epoch 38/100\n",
            "2/2 [==============================] - 0s 264ms/step - loss: 0.8776 - accuracy: 0.6250 - val_loss: 1.2956 - val_accuracy: 0.3333\n",
            "Epoch 39/100\n",
            "2/2 [==============================] - 0s 272ms/step - loss: 0.8773 - accuracy: 0.6458 - val_loss: 1.2863 - val_accuracy: 0.3333\n",
            "Epoch 40/100\n",
            "2/2 [==============================] - 0s 268ms/step - loss: 0.8767 - accuracy: 0.6667 - val_loss: 1.2899 - val_accuracy: 0.3333\n",
            "Epoch 41/100\n",
            "2/2 [==============================] - 0s 274ms/step - loss: 0.8719 - accuracy: 0.6875 - val_loss: 1.3079 - val_accuracy: 0.3333\n",
            "Epoch 42/100\n",
            "2/2 [==============================] - 0s 264ms/step - loss: 0.8824 - accuracy: 0.6250 - val_loss: 1.3272 - val_accuracy: 0.3333\n",
            "Epoch 43/100\n",
            "2/2 [==============================] - 0s 272ms/step - loss: 0.8667 - accuracy: 0.6875 - val_loss: 1.3090 - val_accuracy: 0.3333\n",
            "Epoch 44/100\n",
            "2/2 [==============================] - 0s 270ms/step - loss: 0.8700 - accuracy: 0.6667 - val_loss: 1.3435 - val_accuracy: 0.3333\n",
            "Epoch 45/100\n",
            "2/2 [==============================] - 0s 281ms/step - loss: 0.8590 - accuracy: 0.6875 - val_loss: 1.3292 - val_accuracy: 0.3333\n",
            "Epoch 46/100\n",
            "2/2 [==============================] - 1s 340ms/step - loss: 0.8542 - accuracy: 0.7083 - val_loss: 1.3288 - val_accuracy: 0.3333\n",
            "Epoch 47/100\n",
            "2/2 [==============================] - 0s 268ms/step - loss: 0.8529 - accuracy: 0.6667 - val_loss: 1.3302 - val_accuracy: 0.3333\n",
            "Epoch 48/100\n",
            "2/2 [==============================] - 0s 274ms/step - loss: 0.8505 - accuracy: 0.6875 - val_loss: 1.3279 - val_accuracy: 0.3333\n",
            "Epoch 49/100\n",
            "2/2 [==============================] - 0s 272ms/step - loss: 0.8516 - accuracy: 0.7292 - val_loss: 1.3335 - val_accuracy: 0.3333\n",
            "Epoch 50/100\n",
            "2/2 [==============================] - 0s 264ms/step - loss: 0.8541 - accuracy: 0.6250 - val_loss: 1.3555 - val_accuracy: 0.3333\n",
            "Epoch 51/100\n",
            "2/2 [==============================] - 0s 274ms/step - loss: 0.8444 - accuracy: 0.7500 - val_loss: 1.3532 - val_accuracy: 0.3333\n",
            "Epoch 52/100\n",
            "2/2 [==============================] - 0s 269ms/step - loss: 0.8415 - accuracy: 0.6875 - val_loss: 1.3544 - val_accuracy: 0.3333\n",
            "Epoch 53/100\n",
            "2/2 [==============================] - 0s 270ms/step - loss: 0.8396 - accuracy: 0.6667 - val_loss: 1.3797 - val_accuracy: 0.3333\n",
            "Epoch 54/100\n",
            "2/2 [==============================] - 0s 273ms/step - loss: 0.8366 - accuracy: 0.7083 - val_loss: 1.3658 - val_accuracy: 0.3333\n",
            "Epoch 55/100\n",
            "2/2 [==============================] - 0s 277ms/step - loss: 0.8340 - accuracy: 0.7083 - val_loss: 1.3673 - val_accuracy: 0.3333\n",
            "Epoch 56/100\n",
            "2/2 [==============================] - 0s 265ms/step - loss: 0.8284 - accuracy: 0.7083 - val_loss: 1.3776 - val_accuracy: 0.3333\n",
            "Epoch 57/100\n",
            "2/2 [==============================] - 0s 271ms/step - loss: 0.8320 - accuracy: 0.7083 - val_loss: 1.4003 - val_accuracy: 0.3333\n",
            "Epoch 58/100\n",
            "2/2 [==============================] - 0s 266ms/step - loss: 0.8248 - accuracy: 0.7083 - val_loss: 1.4068 - val_accuracy: 0.3333\n",
            "Epoch 59/100\n",
            "2/2 [==============================] - 0s 268ms/step - loss: 0.8226 - accuracy: 0.7083 - val_loss: 1.4099 - val_accuracy: 0.3333\n",
            "Epoch 60/100\n",
            "2/2 [==============================] - 0s 271ms/step - loss: 0.8269 - accuracy: 0.7083 - val_loss: 1.4007 - val_accuracy: 0.3333\n",
            "Epoch 61/100\n",
            "2/2 [==============================] - 0s 268ms/step - loss: 0.8218 - accuracy: 0.7292 - val_loss: 1.4228 - val_accuracy: 0.3333\n",
            "Epoch 62/100\n",
            "2/2 [==============================] - 0s 273ms/step - loss: 0.8179 - accuracy: 0.7083 - val_loss: 1.4229 - val_accuracy: 0.3333\n",
            "Epoch 63/100\n",
            "2/2 [==============================] - 0s 268ms/step - loss: 0.8215 - accuracy: 0.7500 - val_loss: 1.4435 - val_accuracy: 0.3333\n",
            "Epoch 64/100\n",
            "2/2 [==============================] - 0s 277ms/step - loss: 0.8120 - accuracy: 0.7083 - val_loss: 1.4391 - val_accuracy: 0.3333\n",
            "Epoch 65/100\n",
            "2/2 [==============================] - 0s 270ms/step - loss: 0.8257 - accuracy: 0.6875 - val_loss: 1.4036 - val_accuracy: 0.3333\n",
            "Epoch 66/100\n",
            "2/2 [==============================] - 0s 271ms/step - loss: 0.8158 - accuracy: 0.7083 - val_loss: 1.4020 - val_accuracy: 0.3333\n",
            "Epoch 67/100\n",
            "2/2 [==============================] - 0s 267ms/step - loss: 0.8231 - accuracy: 0.6667 - val_loss: 1.4205 - val_accuracy: 0.3333\n",
            "Epoch 68/100\n",
            "2/2 [==============================] - 0s 280ms/step - loss: 0.8060 - accuracy: 0.7083 - val_loss: 1.4208 - val_accuracy: 0.3333\n",
            "Epoch 69/100\n",
            "2/2 [==============================] - 0s 275ms/step - loss: 0.8182 - accuracy: 0.7292 - val_loss: 1.4065 - val_accuracy: 0.3333\n",
            "Epoch 70/100\n",
            "2/2 [==============================] - 0s 267ms/step - loss: 0.8087 - accuracy: 0.7083 - val_loss: 1.4194 - val_accuracy: 0.3333\n",
            "Epoch 71/100\n",
            "2/2 [==============================] - 0s 265ms/step - loss: 0.8048 - accuracy: 0.7292 - val_loss: 1.4568 - val_accuracy: 0.3333\n",
            "Epoch 72/100\n",
            "2/2 [==============================] - 0s 269ms/step - loss: 0.8106 - accuracy: 0.7500 - val_loss: 1.4836 - val_accuracy: 0.3333\n",
            "Epoch 73/100\n",
            "2/2 [==============================] - 0s 273ms/step - loss: 0.7953 - accuracy: 0.7292 - val_loss: 1.4749 - val_accuracy: 0.3333\n",
            "Epoch 74/100\n",
            "2/2 [==============================] - 0s 272ms/step - loss: 0.7975 - accuracy: 0.7083 - val_loss: 1.4606 - val_accuracy: 0.3333\n",
            "Epoch 75/100\n",
            "2/2 [==============================] - 0s 275ms/step - loss: 0.7922 - accuracy: 0.7500 - val_loss: 1.4585 - val_accuracy: 0.3333\n",
            "Epoch 76/100\n",
            "2/2 [==============================] - 0s 267ms/step - loss: 0.7915 - accuracy: 0.7292 - val_loss: 1.4675 - val_accuracy: 0.3333\n",
            "Epoch 77/100\n",
            "2/2 [==============================] - 0s 266ms/step - loss: 0.7949 - accuracy: 0.7292 - val_loss: 1.4798 - val_accuracy: 0.3333\n",
            "Epoch 78/100\n",
            "2/2 [==============================] - 0s 267ms/step - loss: 0.8001 - accuracy: 0.6667 - val_loss: 1.4938 - val_accuracy: 0.3333\n",
            "Epoch 79/100\n",
            "2/2 [==============================] - 0s 273ms/step - loss: 0.8136 - accuracy: 0.6667 - val_loss: 1.5335 - val_accuracy: 0.3333\n",
            "Epoch 80/100\n",
            "2/2 [==============================] - 0s 269ms/step - loss: 0.7870 - accuracy: 0.7292 - val_loss: 1.5094 - val_accuracy: 0.3333\n",
            "Epoch 81/100\n",
            "2/2 [==============================] - 0s 280ms/step - loss: 0.7933 - accuracy: 0.6667 - val_loss: 1.5235 - val_accuracy: 0.3333\n",
            "Epoch 82/100\n",
            "2/2 [==============================] - 0s 270ms/step - loss: 0.7866 - accuracy: 0.7292 - val_loss: 1.5118 - val_accuracy: 0.3333\n",
            "Epoch 83/100\n",
            "2/2 [==============================] - 0s 272ms/step - loss: 0.7795 - accuracy: 0.7083 - val_loss: 1.5139 - val_accuracy: 0.3333\n",
            "Epoch 84/100\n",
            "2/2 [==============================] - 0s 268ms/step - loss: 0.7835 - accuracy: 0.7292 - val_loss: 1.5186 - val_accuracy: 0.3333\n",
            "Epoch 85/100\n",
            "2/2 [==============================] - 0s 272ms/step - loss: 0.7784 - accuracy: 0.7500 - val_loss: 1.5080 - val_accuracy: 0.3333\n",
            "Epoch 86/100\n",
            "2/2 [==============================] - 0s 271ms/step - loss: 0.7751 - accuracy: 0.7500 - val_loss: 1.5090 - val_accuracy: 0.3333\n",
            "Epoch 87/100\n",
            "2/2 [==============================] - 1s 339ms/step - loss: 0.7735 - accuracy: 0.7292 - val_loss: 1.5056 - val_accuracy: 0.3333\n",
            "Epoch 88/100\n",
            "2/2 [==============================] - 0s 271ms/step - loss: 0.7723 - accuracy: 0.7500 - val_loss: 1.5197 - val_accuracy: 0.3333\n",
            "Epoch 89/100\n",
            "2/2 [==============================] - 0s 265ms/step - loss: 0.7741 - accuracy: 0.7708 - val_loss: 1.5299 - val_accuracy: 0.3333\n",
            "Epoch 90/100\n",
            "2/2 [==============================] - 0s 271ms/step - loss: 0.7704 - accuracy: 0.7292 - val_loss: 1.5326 - val_accuracy: 0.3333\n",
            "Epoch 91/100\n",
            "2/2 [==============================] - 0s 273ms/step - loss: 0.7694 - accuracy: 0.7500 - val_loss: 1.5301 - val_accuracy: 0.3333\n",
            "Epoch 92/100\n",
            "2/2 [==============================] - 0s 272ms/step - loss: 0.7681 - accuracy: 0.7500 - val_loss: 1.5387 - val_accuracy: 0.3333\n",
            "Epoch 93/100\n",
            "2/2 [==============================] - 0s 270ms/step - loss: 0.7718 - accuracy: 0.7500 - val_loss: 1.5602 - val_accuracy: 0.3333\n",
            "Epoch 94/100\n",
            "2/2 [==============================] - 0s 273ms/step - loss: 0.7704 - accuracy: 0.7500 - val_loss: 1.5297 - val_accuracy: 0.3333\n",
            "Epoch 95/100\n",
            "2/2 [==============================] - 0s 271ms/step - loss: 0.7806 - accuracy: 0.7083 - val_loss: 1.4995 - val_accuracy: 0.3333\n",
            "Epoch 96/100\n",
            "2/2 [==============================] - 0s 272ms/step - loss: 0.7632 - accuracy: 0.7292 - val_loss: 1.5225 - val_accuracy: 0.3333\n",
            "Epoch 97/100\n",
            "2/2 [==============================] - 0s 270ms/step - loss: 0.7599 - accuracy: 0.7292 - val_loss: 1.5303 - val_accuracy: 0.3333\n",
            "Epoch 98/100\n",
            "2/2 [==============================] - 0s 269ms/step - loss: 0.7638 - accuracy: 0.7292 - val_loss: 1.5628 - val_accuracy: 0.3333\n",
            "Epoch 99/100\n",
            "2/2 [==============================] - 0s 271ms/step - loss: 0.7586 - accuracy: 0.7500 - val_loss: 1.5701 - val_accuracy: 0.3333\n",
            "Epoch 100/100\n",
            "2/2 [==============================] - 0s 272ms/step - loss: 0.7750 - accuracy: 0.7083 - val_loss: 1.5336 - val_accuracy: 0.3333\n"
          ]
        }
      ]
    },
    {
      "cell_type": "code",
      "source": [
        "# Predict the probability of each image\n",
        "y_hat_valid_probs = model.predict(X_valid)\n",
        "\n",
        "# Select the class with the highest probability as the predicted class.\n",
        "y_hat_valid = np.argmax(y_hat_valid_probs, axis=-1)\n",
        "\n",
        "print(y_hat_valid_probs.shape)\n",
        "print(y_hat_valid.shape)"
      ],
      "metadata": {
        "colab": {
          "base_uri": "https://localhost:8080/"
        },
        "id": "iYNC9hrZEFgS",
        "outputId": "b09ccaef-ab4e-44fd-f551-d3331c280768"
      },
      "execution_count": 45,
      "outputs": [
        {
          "output_type": "stream",
          "name": "stdout",
          "text": [
            "(6, 3)\n",
            "(6,)\n"
          ]
        }
      ]
    },
    {
      "cell_type": "code",
      "source": [
        "print('Validation Set')\n",
        "print(confusion_matrix(y_true=y_valid, y_pred=y_hat_valid))\n",
        "print(f'Accuracy: {accuracy_score(y_true=y_valid, y_pred=y_hat_valid):.2f}')\n",
        "print(f'Macro F1-score: {f1_score(y_true=y_valid, y_pred=y_hat_valid, average=\"macro\"):.2f}')"
      ],
      "metadata": {
        "colab": {
          "base_uri": "https://localhost:8080/"
        },
        "id": "eLE1sUDBEGyq",
        "outputId": "83340e66-99c6-49f1-b254-4f52056ce634"
      },
      "execution_count": 46,
      "outputs": [
        {
          "output_type": "stream",
          "name": "stdout",
          "text": [
            "Validation Set\n",
            "[[2 0 0]\n",
            " [3 0 0]\n",
            " [1 0 0]]\n",
            "Accuracy: 0.33\n",
            "Macro F1-score: 0.17\n"
          ]
        }
      ]
    },
    {
      "cell_type": "code",
      "source": [
        "for i, layer in enumerate(base_model.layers):\n",
        "   print(i, layer.name)"
      ],
      "metadata": {
        "colab": {
          "base_uri": "https://localhost:8080/"
        },
        "id": "B9R_WkqPELXP",
        "outputId": "98c45ad9-7dac-4aac-c6ee-c5e2d9d658b1"
      },
      "execution_count": 47,
      "outputs": [
        {
          "output_type": "stream",
          "name": "stdout",
          "text": [
            "0 input_2\n",
            "1 conv1_pad\n",
            "2 conv1_conv\n",
            "3 conv1_bn\n",
            "4 conv1_relu\n",
            "5 pool1_pad\n",
            "6 pool1_pool\n",
            "7 conv2_block1_1_conv\n",
            "8 conv2_block1_1_bn\n",
            "9 conv2_block1_1_relu\n",
            "10 conv2_block1_2_conv\n",
            "11 conv2_block1_2_bn\n",
            "12 conv2_block1_2_relu\n",
            "13 conv2_block1_0_conv\n",
            "14 conv2_block1_3_conv\n",
            "15 conv2_block1_0_bn\n",
            "16 conv2_block1_3_bn\n",
            "17 conv2_block1_add\n",
            "18 conv2_block1_out\n",
            "19 conv2_block2_1_conv\n",
            "20 conv2_block2_1_bn\n",
            "21 conv2_block2_1_relu\n",
            "22 conv2_block2_2_conv\n",
            "23 conv2_block2_2_bn\n",
            "24 conv2_block2_2_relu\n",
            "25 conv2_block2_3_conv\n",
            "26 conv2_block2_3_bn\n",
            "27 conv2_block2_add\n",
            "28 conv2_block2_out\n",
            "29 conv2_block3_1_conv\n",
            "30 conv2_block3_1_bn\n",
            "31 conv2_block3_1_relu\n",
            "32 conv2_block3_2_conv\n",
            "33 conv2_block3_2_bn\n",
            "34 conv2_block3_2_relu\n",
            "35 conv2_block3_3_conv\n",
            "36 conv2_block3_3_bn\n",
            "37 conv2_block3_add\n",
            "38 conv2_block3_out\n",
            "39 conv3_block1_1_conv\n",
            "40 conv3_block1_1_bn\n",
            "41 conv3_block1_1_relu\n",
            "42 conv3_block1_2_conv\n",
            "43 conv3_block1_2_bn\n",
            "44 conv3_block1_2_relu\n",
            "45 conv3_block1_0_conv\n",
            "46 conv3_block1_3_conv\n",
            "47 conv3_block1_0_bn\n",
            "48 conv3_block1_3_bn\n",
            "49 conv3_block1_add\n",
            "50 conv3_block1_out\n",
            "51 conv3_block2_1_conv\n",
            "52 conv3_block2_1_bn\n",
            "53 conv3_block2_1_relu\n",
            "54 conv3_block2_2_conv\n",
            "55 conv3_block2_2_bn\n",
            "56 conv3_block2_2_relu\n",
            "57 conv3_block2_3_conv\n",
            "58 conv3_block2_3_bn\n",
            "59 conv3_block2_add\n",
            "60 conv3_block2_out\n",
            "61 conv3_block3_1_conv\n",
            "62 conv3_block3_1_bn\n",
            "63 conv3_block3_1_relu\n",
            "64 conv3_block3_2_conv\n",
            "65 conv3_block3_2_bn\n",
            "66 conv3_block3_2_relu\n",
            "67 conv3_block3_3_conv\n",
            "68 conv3_block3_3_bn\n",
            "69 conv3_block3_add\n",
            "70 conv3_block3_out\n",
            "71 conv3_block4_1_conv\n",
            "72 conv3_block4_1_bn\n",
            "73 conv3_block4_1_relu\n",
            "74 conv3_block4_2_conv\n",
            "75 conv3_block4_2_bn\n",
            "76 conv3_block4_2_relu\n",
            "77 conv3_block4_3_conv\n",
            "78 conv3_block4_3_bn\n",
            "79 conv3_block4_add\n",
            "80 conv3_block4_out\n",
            "81 conv4_block1_1_conv\n",
            "82 conv4_block1_1_bn\n",
            "83 conv4_block1_1_relu\n",
            "84 conv4_block1_2_conv\n",
            "85 conv4_block1_2_bn\n",
            "86 conv4_block1_2_relu\n",
            "87 conv4_block1_0_conv\n",
            "88 conv4_block1_3_conv\n",
            "89 conv4_block1_0_bn\n",
            "90 conv4_block1_3_bn\n",
            "91 conv4_block1_add\n",
            "92 conv4_block1_out\n",
            "93 conv4_block2_1_conv\n",
            "94 conv4_block2_1_bn\n",
            "95 conv4_block2_1_relu\n",
            "96 conv4_block2_2_conv\n",
            "97 conv4_block2_2_bn\n",
            "98 conv4_block2_2_relu\n",
            "99 conv4_block2_3_conv\n",
            "100 conv4_block2_3_bn\n",
            "101 conv4_block2_add\n",
            "102 conv4_block2_out\n",
            "103 conv4_block3_1_conv\n",
            "104 conv4_block3_1_bn\n",
            "105 conv4_block3_1_relu\n",
            "106 conv4_block3_2_conv\n",
            "107 conv4_block3_2_bn\n",
            "108 conv4_block3_2_relu\n",
            "109 conv4_block3_3_conv\n",
            "110 conv4_block3_3_bn\n",
            "111 conv4_block3_add\n",
            "112 conv4_block3_out\n",
            "113 conv4_block4_1_conv\n",
            "114 conv4_block4_1_bn\n",
            "115 conv4_block4_1_relu\n",
            "116 conv4_block4_2_conv\n",
            "117 conv4_block4_2_bn\n",
            "118 conv4_block4_2_relu\n",
            "119 conv4_block4_3_conv\n",
            "120 conv4_block4_3_bn\n",
            "121 conv4_block4_add\n",
            "122 conv4_block4_out\n",
            "123 conv4_block5_1_conv\n",
            "124 conv4_block5_1_bn\n",
            "125 conv4_block5_1_relu\n",
            "126 conv4_block5_2_conv\n",
            "127 conv4_block5_2_bn\n",
            "128 conv4_block5_2_relu\n",
            "129 conv4_block5_3_conv\n",
            "130 conv4_block5_3_bn\n",
            "131 conv4_block5_add\n",
            "132 conv4_block5_out\n",
            "133 conv4_block6_1_conv\n",
            "134 conv4_block6_1_bn\n",
            "135 conv4_block6_1_relu\n",
            "136 conv4_block6_2_conv\n",
            "137 conv4_block6_2_bn\n",
            "138 conv4_block6_2_relu\n",
            "139 conv4_block6_3_conv\n",
            "140 conv4_block6_3_bn\n",
            "141 conv4_block6_add\n",
            "142 conv4_block6_out\n",
            "143 conv5_block1_1_conv\n",
            "144 conv5_block1_1_bn\n",
            "145 conv5_block1_1_relu\n",
            "146 conv5_block1_2_conv\n",
            "147 conv5_block1_2_bn\n",
            "148 conv5_block1_2_relu\n",
            "149 conv5_block1_0_conv\n",
            "150 conv5_block1_3_conv\n",
            "151 conv5_block1_0_bn\n",
            "152 conv5_block1_3_bn\n",
            "153 conv5_block1_add\n",
            "154 conv5_block1_out\n",
            "155 conv5_block2_1_conv\n",
            "156 conv5_block2_1_bn\n",
            "157 conv5_block2_1_relu\n",
            "158 conv5_block2_2_conv\n",
            "159 conv5_block2_2_bn\n",
            "160 conv5_block2_2_relu\n",
            "161 conv5_block2_3_conv\n",
            "162 conv5_block2_3_bn\n",
            "163 conv5_block2_add\n",
            "164 conv5_block2_out\n",
            "165 conv5_block3_1_conv\n",
            "166 conv5_block3_1_bn\n",
            "167 conv5_block3_1_relu\n",
            "168 conv5_block3_2_conv\n",
            "169 conv5_block3_2_bn\n",
            "170 conv5_block3_2_relu\n",
            "171 conv5_block3_3_conv\n",
            "172 conv5_block3_3_bn\n",
            "173 conv5_block3_add\n",
            "174 conv5_block3_out\n"
          ]
        }
      ]
    },
    {
      "cell_type": "code",
      "source": [
        "n_freezes = 0 #fine tuning to train entire model \n",
        "\n",
        "for layer in base_model.layers[:n_freezes]:\n",
        "   layer.trainable = False\n",
        "for layer in base_model.layers[n_freezes:]:\n",
        "   layer.trainable = True"
      ],
      "metadata": {
        "id": "QUTxyOEUEUvI"
      },
      "execution_count": 48,
      "outputs": []
    },
    {
      "cell_type": "code",
      "source": [
        "epochs = 100\n",
        "batch_size = 25\n",
        "learning_rate = 0.001\n",
        "\n",
        "# We use SGD with a lower learning rate, compared to the training above\n",
        "optimizer = keras.optimizers.SGD(lr=learning_rate)\n",
        "\n",
        "# Cross-entropy loss\n",
        "loss = tf.keras.losses.SparseCategoricalCrossentropy(from_logits=False)\n",
        "\n",
        "# Compile the model\n",
        "model.compile(\n",
        "    loss=loss,\n",
        "    optimizer=optimizer,\n",
        "    metrics=['accuracy'])"
      ],
      "metadata": {
        "colab": {
          "base_uri": "https://localhost:8080/"
        },
        "id": "I61WQt_qE0Eg",
        "outputId": "b340c20d-b4ec-4622-cc7e-1b963717f6a7"
      },
      "execution_count": 49,
      "outputs": [
        {
          "output_type": "stream",
          "name": "stderr",
          "text": [
            "/usr/local/lib/python3.7/dist-packages/keras/optimizer_v2/gradient_descent.py:102: UserWarning: The `lr` argument is deprecated, use `learning_rate` instead.\n",
            "  super(SGD, self).__init__(name, **kwargs)\n"
          ]
        }
      ]
    },
    {
      "cell_type": "code",
      "source": [
        "hist = model.fit(\n",
        "    X_train, y_train,\n",
        "    batch_size=batch_size,\n",
        "    epochs=epochs,\n",
        "    validation_data=(X_valid, y_valid),\n",
        "    verbose=1)"
      ],
      "metadata": {
        "colab": {
          "base_uri": "https://localhost:8080/"
        },
        "id": "kvZ7rVnvE4Uj",
        "outputId": "6c19c59a-0bbe-495a-adb1-3eb93352bb22"
      },
      "execution_count": 50,
      "outputs": [
        {
          "output_type": "stream",
          "name": "stdout",
          "text": [
            "Epoch 1/100\n",
            "2/2 [==============================] - 10s 3s/step - loss: 1.1456 - accuracy: 0.3750 - val_loss: 1.5996 - val_accuracy: 0.3333\n",
            "Epoch 2/100\n",
            "2/2 [==============================] - 1s 634ms/step - loss: 0.9705 - accuracy: 0.5000 - val_loss: 1.6401 - val_accuracy: 0.3333\n",
            "Epoch 3/100\n",
            "2/2 [==============================] - 1s 630ms/step - loss: 0.9014 - accuracy: 0.6250 - val_loss: 1.6519 - val_accuracy: 0.3333\n",
            "Epoch 4/100\n",
            "2/2 [==============================] - 1s 640ms/step - loss: 0.8100 - accuracy: 0.7292 - val_loss: 1.6418 - val_accuracy: 0.3333\n",
            "Epoch 5/100\n",
            "2/2 [==============================] - 1s 633ms/step - loss: 0.7193 - accuracy: 0.8333 - val_loss: 1.6303 - val_accuracy: 0.3333\n",
            "Epoch 6/100\n",
            "2/2 [==============================] - 1s 631ms/step - loss: 0.6708 - accuracy: 0.8542 - val_loss: 1.6084 - val_accuracy: 0.3333\n",
            "Epoch 7/100\n",
            "2/2 [==============================] - 1s 635ms/step - loss: 0.6297 - accuracy: 0.9167 - val_loss: 1.5829 - val_accuracy: 0.3333\n",
            "Epoch 8/100\n",
            "2/2 [==============================] - 1s 633ms/step - loss: 0.5284 - accuracy: 0.9583 - val_loss: 1.5534 - val_accuracy: 0.3333\n",
            "Epoch 9/100\n",
            "2/2 [==============================] - 1s 643ms/step - loss: 0.4956 - accuracy: 0.9583 - val_loss: 1.5289 - val_accuracy: 0.3333\n",
            "Epoch 10/100\n",
            "2/2 [==============================] - 1s 635ms/step - loss: 0.5351 - accuracy: 0.9583 - val_loss: 1.5025 - val_accuracy: 0.3333\n",
            "Epoch 11/100\n",
            "2/2 [==============================] - 1s 632ms/step - loss: 0.4258 - accuracy: 0.9792 - val_loss: 1.4818 - val_accuracy: 0.3333\n",
            "Epoch 12/100\n",
            "2/2 [==============================] - 1s 629ms/step - loss: 0.3968 - accuracy: 0.9583 - val_loss: 1.4644 - val_accuracy: 0.3333\n",
            "Epoch 13/100\n",
            "2/2 [==============================] - 1s 638ms/step - loss: 0.4332 - accuracy: 0.9583 - val_loss: 1.4508 - val_accuracy: 0.3333\n",
            "Epoch 14/100\n",
            "2/2 [==============================] - 1s 632ms/step - loss: 0.3792 - accuracy: 1.0000 - val_loss: 1.4332 - val_accuracy: 0.3333\n",
            "Epoch 15/100\n",
            "2/2 [==============================] - 1s 635ms/step - loss: 0.3373 - accuracy: 1.0000 - val_loss: 1.4189 - val_accuracy: 0.3333\n",
            "Epoch 16/100\n",
            "2/2 [==============================] - 1s 633ms/step - loss: 0.3429 - accuracy: 0.9583 - val_loss: 1.4037 - val_accuracy: 0.3333\n",
            "Epoch 17/100\n",
            "2/2 [==============================] - 1s 627ms/step - loss: 0.3253 - accuracy: 0.9792 - val_loss: 1.3889 - val_accuracy: 0.3333\n",
            "Epoch 18/100\n",
            "2/2 [==============================] - 1s 705ms/step - loss: 0.2887 - accuracy: 1.0000 - val_loss: 1.3763 - val_accuracy: 0.3333\n",
            "Epoch 19/100\n",
            "2/2 [==============================] - 1s 639ms/step - loss: 0.2514 - accuracy: 1.0000 - val_loss: 1.3669 - val_accuracy: 0.3333\n",
            "Epoch 20/100\n",
            "2/2 [==============================] - 1s 634ms/step - loss: 0.2448 - accuracy: 1.0000 - val_loss: 1.3559 - val_accuracy: 0.3333\n",
            "Epoch 21/100\n",
            "2/2 [==============================] - 1s 642ms/step - loss: 0.2313 - accuracy: 1.0000 - val_loss: 1.3458 - val_accuracy: 0.3333\n",
            "Epoch 22/100\n",
            "2/2 [==============================] - 1s 630ms/step - loss: 0.2550 - accuracy: 1.0000 - val_loss: 1.3354 - val_accuracy: 0.3333\n",
            "Epoch 23/100\n",
            "2/2 [==============================] - 1s 633ms/step - loss: 0.2574 - accuracy: 1.0000 - val_loss: 1.3273 - val_accuracy: 0.3333\n",
            "Epoch 24/100\n",
            "2/2 [==============================] - 1s 634ms/step - loss: 0.2044 - accuracy: 1.0000 - val_loss: 1.3203 - val_accuracy: 0.3333\n",
            "Epoch 25/100\n",
            "2/2 [==============================] - 1s 633ms/step - loss: 0.2074 - accuracy: 1.0000 - val_loss: 1.3132 - val_accuracy: 0.3333\n",
            "Epoch 26/100\n",
            "2/2 [==============================] - 1s 630ms/step - loss: 0.1841 - accuracy: 1.0000 - val_loss: 1.3084 - val_accuracy: 0.3333\n",
            "Epoch 27/100\n",
            "2/2 [==============================] - 1s 633ms/step - loss: 0.1899 - accuracy: 1.0000 - val_loss: 1.3065 - val_accuracy: 0.3333\n",
            "Epoch 28/100\n",
            "2/2 [==============================] - 1s 630ms/step - loss: 0.1673 - accuracy: 1.0000 - val_loss: 1.3040 - val_accuracy: 0.3333\n",
            "Epoch 29/100\n",
            "2/2 [==============================] - 1s 630ms/step - loss: 0.1684 - accuracy: 1.0000 - val_loss: 1.3029 - val_accuracy: 0.3333\n",
            "Epoch 30/100\n",
            "2/2 [==============================] - 1s 629ms/step - loss: 0.1881 - accuracy: 1.0000 - val_loss: 1.3039 - val_accuracy: 0.3333\n",
            "Epoch 31/100\n",
            "2/2 [==============================] - 1s 640ms/step - loss: 0.1575 - accuracy: 1.0000 - val_loss: 1.3012 - val_accuracy: 0.3333\n",
            "Epoch 32/100\n",
            "2/2 [==============================] - 1s 632ms/step - loss: 0.1497 - accuracy: 1.0000 - val_loss: 1.2991 - val_accuracy: 0.3333\n",
            "Epoch 33/100\n",
            "2/2 [==============================] - 1s 625ms/step - loss: 0.1415 - accuracy: 1.0000 - val_loss: 1.2978 - val_accuracy: 0.3333\n",
            "Epoch 34/100\n",
            "2/2 [==============================] - 1s 639ms/step - loss: 0.1330 - accuracy: 1.0000 - val_loss: 1.2982 - val_accuracy: 0.3333\n",
            "Epoch 35/100\n",
            "2/2 [==============================] - 1s 635ms/step - loss: 0.1431 - accuracy: 1.0000 - val_loss: 1.2970 - val_accuracy: 0.3333\n",
            "Epoch 36/100\n",
            "2/2 [==============================] - 1s 627ms/step - loss: 0.1341 - accuracy: 1.0000 - val_loss: 1.2940 - val_accuracy: 0.3333\n",
            "Epoch 37/100\n",
            "2/2 [==============================] - 1s 638ms/step - loss: 0.1447 - accuracy: 1.0000 - val_loss: 1.2915 - val_accuracy: 0.3333\n",
            "Epoch 38/100\n",
            "2/2 [==============================] - 1s 633ms/step - loss: 0.1431 - accuracy: 1.0000 - val_loss: 1.2864 - val_accuracy: 0.3333\n",
            "Epoch 39/100\n",
            "2/2 [==============================] - 1s 630ms/step - loss: 0.1268 - accuracy: 1.0000 - val_loss: 1.2812 - val_accuracy: 0.3333\n",
            "Epoch 40/100\n",
            "2/2 [==============================] - 1s 642ms/step - loss: 0.1222 - accuracy: 1.0000 - val_loss: 1.2762 - val_accuracy: 0.3333\n",
            "Epoch 41/100\n",
            "2/2 [==============================] - 1s 635ms/step - loss: 0.1219 - accuracy: 1.0000 - val_loss: 1.2718 - val_accuracy: 0.3333\n",
            "Epoch 42/100\n",
            "2/2 [==============================] - 1s 629ms/step - loss: 0.1101 - accuracy: 1.0000 - val_loss: 1.2680 - val_accuracy: 0.3333\n",
            "Epoch 43/100\n",
            "2/2 [==============================] - 1s 628ms/step - loss: 0.1178 - accuracy: 1.0000 - val_loss: 1.2636 - val_accuracy: 0.3333\n",
            "Epoch 44/100\n",
            "2/2 [==============================] - 1s 633ms/step - loss: 0.1041 - accuracy: 1.0000 - val_loss: 1.2605 - val_accuracy: 0.3333\n",
            "Epoch 45/100\n",
            "2/2 [==============================] - 1s 629ms/step - loss: 0.1356 - accuracy: 1.0000 - val_loss: 1.2581 - val_accuracy: 0.3333\n",
            "Epoch 46/100\n",
            "2/2 [==============================] - 1s 633ms/step - loss: 0.0941 - accuracy: 1.0000 - val_loss: 1.2542 - val_accuracy: 0.3333\n",
            "Epoch 47/100\n",
            "2/2 [==============================] - 1s 632ms/step - loss: 0.0998 - accuracy: 1.0000 - val_loss: 1.2491 - val_accuracy: 0.3333\n",
            "Epoch 48/100\n",
            "2/2 [==============================] - 1s 628ms/step - loss: 0.0993 - accuracy: 1.0000 - val_loss: 1.2452 - val_accuracy: 0.3333\n",
            "Epoch 49/100\n",
            "2/2 [==============================] - 1s 640ms/step - loss: 0.1019 - accuracy: 1.0000 - val_loss: 1.2425 - val_accuracy: 0.3333\n",
            "Epoch 50/100\n",
            "2/2 [==============================] - 1s 630ms/step - loss: 0.0974 - accuracy: 1.0000 - val_loss: 1.2417 - val_accuracy: 0.3333\n",
            "Epoch 51/100\n",
            "2/2 [==============================] - 1s 630ms/step - loss: 0.1003 - accuracy: 1.0000 - val_loss: 1.2419 - val_accuracy: 0.3333\n",
            "Epoch 52/100\n",
            "2/2 [==============================] - 1s 637ms/step - loss: 0.0815 - accuracy: 1.0000 - val_loss: 1.2408 - val_accuracy: 0.3333\n",
            "Epoch 53/100\n",
            "2/2 [==============================] - 1s 638ms/step - loss: 0.1057 - accuracy: 1.0000 - val_loss: 1.2414 - val_accuracy: 0.3333\n",
            "Epoch 54/100\n",
            "2/2 [==============================] - 1s 630ms/step - loss: 0.0777 - accuracy: 1.0000 - val_loss: 1.2413 - val_accuracy: 0.3333\n",
            "Epoch 55/100\n",
            "2/2 [==============================] - 1s 635ms/step - loss: 0.0952 - accuracy: 1.0000 - val_loss: 1.2407 - val_accuracy: 0.3333\n",
            "Epoch 56/100\n",
            "2/2 [==============================] - 1s 639ms/step - loss: 0.0889 - accuracy: 1.0000 - val_loss: 1.2413 - val_accuracy: 0.3333\n",
            "Epoch 57/100\n",
            "2/2 [==============================] - 1s 632ms/step - loss: 0.0854 - accuracy: 1.0000 - val_loss: 1.2413 - val_accuracy: 0.3333\n",
            "Epoch 58/100\n",
            "2/2 [==============================] - 1s 633ms/step - loss: 0.0771 - accuracy: 1.0000 - val_loss: 1.2425 - val_accuracy: 0.3333\n",
            "Epoch 59/100\n",
            "2/2 [==============================] - 1s 708ms/step - loss: 0.0824 - accuracy: 1.0000 - val_loss: 1.2430 - val_accuracy: 0.3333\n",
            "Epoch 60/100\n",
            "2/2 [==============================] - 1s 635ms/step - loss: 0.0718 - accuracy: 1.0000 - val_loss: 1.2421 - val_accuracy: 0.3333\n",
            "Epoch 61/100\n",
            "2/2 [==============================] - 1s 637ms/step - loss: 0.0713 - accuracy: 1.0000 - val_loss: 1.2408 - val_accuracy: 0.3333\n",
            "Epoch 62/100\n",
            "2/2 [==============================] - 1s 635ms/step - loss: 0.0642 - accuracy: 1.0000 - val_loss: 1.2414 - val_accuracy: 0.3333\n",
            "Epoch 63/100\n",
            "2/2 [==============================] - 1s 629ms/step - loss: 0.0695 - accuracy: 1.0000 - val_loss: 1.2411 - val_accuracy: 0.3333\n",
            "Epoch 64/100\n",
            "2/2 [==============================] - 1s 633ms/step - loss: 0.0656 - accuracy: 1.0000 - val_loss: 1.2414 - val_accuracy: 0.3333\n",
            "Epoch 65/100\n",
            "2/2 [==============================] - 1s 634ms/step - loss: 0.0713 - accuracy: 1.0000 - val_loss: 1.2419 - val_accuracy: 0.3333\n",
            "Epoch 66/100\n",
            "2/2 [==============================] - 1s 637ms/step - loss: 0.0688 - accuracy: 1.0000 - val_loss: 1.2420 - val_accuracy: 0.3333\n",
            "Epoch 67/100\n",
            "2/2 [==============================] - 1s 634ms/step - loss: 0.0700 - accuracy: 1.0000 - val_loss: 1.2422 - val_accuracy: 0.3333\n",
            "Epoch 68/100\n",
            "2/2 [==============================] - 1s 634ms/step - loss: 0.0644 - accuracy: 1.0000 - val_loss: 1.2419 - val_accuracy: 0.3333\n",
            "Epoch 69/100\n",
            "2/2 [==============================] - 1s 644ms/step - loss: 0.0600 - accuracy: 1.0000 - val_loss: 1.2415 - val_accuracy: 0.3333\n",
            "Epoch 70/100\n",
            "2/2 [==============================] - 1s 634ms/step - loss: 0.0698 - accuracy: 1.0000 - val_loss: 1.2396 - val_accuracy: 0.3333\n",
            "Epoch 71/100\n",
            "2/2 [==============================] - 1s 638ms/step - loss: 0.0679 - accuracy: 1.0000 - val_loss: 1.2383 - val_accuracy: 0.3333\n",
            "Epoch 72/100\n",
            "2/2 [==============================] - 1s 645ms/step - loss: 0.0653 - accuracy: 1.0000 - val_loss: 1.2369 - val_accuracy: 0.3333\n",
            "Epoch 73/100\n",
            "2/2 [==============================] - 1s 638ms/step - loss: 0.0611 - accuracy: 1.0000 - val_loss: 1.2368 - val_accuracy: 0.3333\n",
            "Epoch 74/100\n",
            "2/2 [==============================] - 1s 634ms/step - loss: 0.0680 - accuracy: 1.0000 - val_loss: 1.2358 - val_accuracy: 0.3333\n",
            "Epoch 75/100\n",
            "2/2 [==============================] - 1s 630ms/step - loss: 0.0560 - accuracy: 1.0000 - val_loss: 1.2349 - val_accuracy: 0.3333\n",
            "Epoch 76/100\n",
            "2/2 [==============================] - 1s 638ms/step - loss: 0.0757 - accuracy: 1.0000 - val_loss: 1.2342 - val_accuracy: 0.3333\n",
            "Epoch 77/100\n",
            "2/2 [==============================] - 1s 631ms/step - loss: 0.0490 - accuracy: 1.0000 - val_loss: 1.2333 - val_accuracy: 0.3333\n",
            "Epoch 78/100\n",
            "2/2 [==============================] - 1s 627ms/step - loss: 0.0578 - accuracy: 1.0000 - val_loss: 1.2316 - val_accuracy: 0.3333\n",
            "Epoch 79/100\n",
            "2/2 [==============================] - 1s 635ms/step - loss: 0.0593 - accuracy: 1.0000 - val_loss: 1.2295 - val_accuracy: 0.3333\n",
            "Epoch 80/100\n",
            "2/2 [==============================] - 1s 639ms/step - loss: 0.0576 - accuracy: 1.0000 - val_loss: 1.2270 - val_accuracy: 0.3333\n",
            "Epoch 81/100\n",
            "2/2 [==============================] - 1s 632ms/step - loss: 0.0536 - accuracy: 1.0000 - val_loss: 1.2259 - val_accuracy: 0.3333\n",
            "Epoch 82/100\n",
            "2/2 [==============================] - 1s 635ms/step - loss: 0.0551 - accuracy: 1.0000 - val_loss: 1.2240 - val_accuracy: 0.3333\n",
            "Epoch 83/100\n",
            "2/2 [==============================] - 1s 633ms/step - loss: 0.0494 - accuracy: 1.0000 - val_loss: 1.2225 - val_accuracy: 0.3333\n",
            "Epoch 84/100\n",
            "2/2 [==============================] - 1s 634ms/step - loss: 0.0548 - accuracy: 1.0000 - val_loss: 1.2212 - val_accuracy: 0.3333\n",
            "Epoch 85/100\n",
            "2/2 [==============================] - 1s 631ms/step - loss: 0.0466 - accuracy: 1.0000 - val_loss: 1.2204 - val_accuracy: 0.3333\n",
            "Epoch 86/100\n",
            "2/2 [==============================] - 1s 630ms/step - loss: 0.0505 - accuracy: 1.0000 - val_loss: 1.2191 - val_accuracy: 0.3333\n",
            "Epoch 87/100\n",
            "2/2 [==============================] - 1s 636ms/step - loss: 0.0460 - accuracy: 1.0000 - val_loss: 1.2180 - val_accuracy: 0.3333\n",
            "Epoch 88/100\n",
            "2/2 [==============================] - 1s 636ms/step - loss: 0.0439 - accuracy: 1.0000 - val_loss: 1.2173 - val_accuracy: 0.3333\n",
            "Epoch 89/100\n",
            "2/2 [==============================] - 1s 631ms/step - loss: 0.0459 - accuracy: 1.0000 - val_loss: 1.2157 - val_accuracy: 0.3333\n",
            "Epoch 90/100\n",
            "2/2 [==============================] - 1s 630ms/step - loss: 0.0505 - accuracy: 1.0000 - val_loss: 1.2148 - val_accuracy: 0.3333\n",
            "Epoch 91/100\n",
            "2/2 [==============================] - 1s 638ms/step - loss: 0.0425 - accuracy: 1.0000 - val_loss: 1.2132 - val_accuracy: 0.3333\n",
            "Epoch 92/100\n",
            "2/2 [==============================] - 1s 633ms/step - loss: 0.0435 - accuracy: 1.0000 - val_loss: 1.2120 - val_accuracy: 0.3333\n",
            "Epoch 93/100\n",
            "2/2 [==============================] - 1s 632ms/step - loss: 0.0483 - accuracy: 1.0000 - val_loss: 1.2112 - val_accuracy: 0.3333\n",
            "Epoch 94/100\n",
            "2/2 [==============================] - 1s 638ms/step - loss: 0.0452 - accuracy: 1.0000 - val_loss: 1.2112 - val_accuracy: 0.3333\n",
            "Epoch 95/100\n",
            "2/2 [==============================] - 1s 630ms/step - loss: 0.0388 - accuracy: 1.0000 - val_loss: 1.2112 - val_accuracy: 0.3333\n",
            "Epoch 96/100\n",
            "2/2 [==============================] - 1s 639ms/step - loss: 0.0443 - accuracy: 1.0000 - val_loss: 1.2111 - val_accuracy: 0.3333\n",
            "Epoch 97/100\n",
            "2/2 [==============================] - 1s 635ms/step - loss: 0.0526 - accuracy: 1.0000 - val_loss: 1.2114 - val_accuracy: 0.3333\n",
            "Epoch 98/100\n",
            "2/2 [==============================] - 1s 635ms/step - loss: 0.0513 - accuracy: 1.0000 - val_loss: 1.2115 - val_accuracy: 0.3333\n",
            "Epoch 99/100\n",
            "2/2 [==============================] - 1s 639ms/step - loss: 0.0418 - accuracy: 1.0000 - val_loss: 1.2125 - val_accuracy: 0.3333\n",
            "Epoch 100/100\n",
            "2/2 [==============================] - 1s 635ms/step - loss: 0.0402 - accuracy: 1.0000 - val_loss: 1.2129 - val_accuracy: 0.3333\n"
          ]
        }
      ]
    },
    {
      "cell_type": "code",
      "source": [
        "# Predict the probability of each image\n",
        "y_hat_valid_probs = model.predict(X_valid)\n",
        "\n",
        "# Select the class with the highest probability as the predicted class.\n",
        "y_hat_valid = np.argmax(y_hat_valid_probs, axis=-1)\n",
        "\n",
        "print(y_hat_valid_probs.shape)\n",
        "print(y_hat_valid.shape)"
      ],
      "metadata": {
        "colab": {
          "base_uri": "https://localhost:8080/"
        },
        "id": "Xzcp9cevFB9T",
        "outputId": "7ab21798-1a6c-423b-d87a-fe12404602e6"
      },
      "execution_count": 51,
      "outputs": [
        {
          "output_type": "stream",
          "name": "stdout",
          "text": [
            "WARNING:tensorflow:5 out of the last 6 calls to <function Model.make_predict_function.<locals>.predict_function at 0x7face7195e60> triggered tf.function retracing. Tracing is expensive and the excessive number of tracings could be due to (1) creating @tf.function repeatedly in a loop, (2) passing tensors with different shapes, (3) passing Python objects instead of tensors. For (1), please define your @tf.function outside of the loop. For (2), @tf.function has experimental_relax_shapes=True option that relaxes argument shapes that can avoid unnecessary retracing. For (3), please refer to https://www.tensorflow.org/guide/function#controlling_retracing and https://www.tensorflow.org/api_docs/python/tf/function for  more details.\n",
            "(6, 3)\n",
            "(6,)\n"
          ]
        }
      ]
    },
    {
      "cell_type": "code",
      "source": [
        "print('Validation Set')\n",
        "print(confusion_matrix(y_true=y_valid, y_pred=y_hat_valid))\n",
        "print(f'Accuracy: {accuracy_score(y_true=y_valid, y_pred=y_hat_valid):.2f}')\n",
        "print(f'Macro F1-score: {f1_score(y_true=y_valid, y_pred=y_hat_valid, average=\"macro\"):.2f}')"
      ],
      "metadata": {
        "colab": {
          "base_uri": "https://localhost:8080/"
        },
        "id": "116UhPJ9FFBt",
        "outputId": "322f2239-70d8-437a-ba44-74cb4c507e4b"
      },
      "execution_count": 52,
      "outputs": [
        {
          "output_type": "stream",
          "name": "stdout",
          "text": [
            "Validation Set\n",
            "[[2 0 0]\n",
            " [3 0 0]\n",
            " [1 0 0]]\n",
            "Accuracy: 0.33\n",
            "Macro F1-score: 0.17\n"
          ]
        }
      ]
    },
    {
      "cell_type": "code",
      "source": [
        "# Predict the probability of each image\n",
        "y_hat_test_probs = model.predict(X_test)\n",
        "\n",
        "# Select the class with the highest probability as the predicted class.\n",
        "y_hat_test = np.argmax(y_hat_test_probs, axis=-1)\n",
        "\n",
        "print(y_hat_test_probs.shape)\n",
        "print(y_hat_test.shape)"
      ],
      "metadata": {
        "colab": {
          "base_uri": "https://localhost:8080/"
        },
        "id": "pqXRChKKFH2S",
        "outputId": "6eb00a1a-49e0-41a1-bb6a-186c8ded8dfa"
      },
      "execution_count": 53,
      "outputs": [
        {
          "output_type": "stream",
          "name": "stdout",
          "text": [
            "WARNING:tensorflow:6 out of the last 7 calls to <function Model.make_predict_function.<locals>.predict_function at 0x7face7195e60> triggered tf.function retracing. Tracing is expensive and the excessive number of tracings could be due to (1) creating @tf.function repeatedly in a loop, (2) passing tensors with different shapes, (3) passing Python objects instead of tensors. For (1), please define your @tf.function outside of the loop. For (2), @tf.function has experimental_relax_shapes=True option that relaxes argument shapes that can avoid unnecessary retracing. For (3), please refer to https://www.tensorflow.org/guide/function#controlling_retracing and https://www.tensorflow.org/api_docs/python/tf/function for  more details.\n",
            "(6, 3)\n",
            "(6,)\n"
          ]
        }
      ]
    },
    {
      "cell_type": "code",
      "source": [
        "print('Test Set')\n",
        "print(confusion_matrix(y_true=y_test, y_pred=y_hat_test))\n",
        "print(f'Accuracy: {accuracy_score(y_true=y_test, y_pred=y_hat_test):.2f}')\n",
        "print(f'Macro F1-score: {f1_score(y_true=y_test, y_pred=y_hat_test, average=\"macro\"):.2f}')"
      ],
      "metadata": {
        "colab": {
          "base_uri": "https://localhost:8080/"
        },
        "id": "UIx8ilIoFJTd",
        "outputId": "3831fc25-047a-4e94-c8c7-fea400906e88"
      },
      "execution_count": 54,
      "outputs": [
        {
          "output_type": "stream",
          "name": "stdout",
          "text": [
            "Test Set\n",
            "[[1 0 1]\n",
            " [1 0 1]\n",
            " [0 0 2]]\n",
            "Accuracy: 0.50\n",
            "Macro F1-score: 0.39\n"
          ]
        }
      ]
    },
    {
      "cell_type": "code",
      "source": [
        "from tensorflow.keras.applications.resnet import decode_predictions\n",
        "\n",
        "images = []\n",
        "for f in files:\n",
        "    # Load and resize the image\n",
        "    img = image.load_img(f, target_size=IMG_SIZE)\n",
        "\n",
        "    # Convert the Image object into a numpy array\n",
        "    img = image.img_to_array(img)\n",
        "\n",
        "    # Add to a list of images\n",
        "    images.append(img)\n",
        "\n",
        "    # Visualize the resize image\n",
        "    print(f'[image {f}]')\n",
        "    plt.imshow(image.img_to_array(img).astype('uint8'))\n",
        "    plt.show()\n",
        "    plt.close(\"all\")\n",
        "images = np.asarray(images)\n",
        "\n",
        "# Preprocess the input array\n",
        "x = preprocess_input(images)\n",
        "\n",
        "print(f\"Image shape: {x.shape}\")\n",
        "# Feed the preprocessed, downloaded image to the pretrained VGG-16.\n",
        "# The outputs are the probabilities of classes defined in ImageNet.\n",
        "probs = model.predict(x)\n",
        "\n",
        "# Display the results\n",
        "for i in range(len(files)):\n",
        "    print(f'[image {files[i]}]')\n",
        "    for c in range(num_classes):\n",
        "        print(f'{class2text[c]} ({probs[i][c]*100:.2f}%)')\n",
        "    print('')"
      ],
      "metadata": {
        "colab": {
          "base_uri": "https://localhost:8080/",
          "height": 391
        },
        "id": "BGtCJ80VJUaH",
        "outputId": "b386e219-6abc-474d-b69e-3599f5818bfa"
      },
      "execution_count": 55,
      "outputs": [
        {
          "output_type": "stream",
          "name": "stdout",
          "text": [
            "[image Keema-Curry-1343-I-500x500.jpg]\n"
          ]
        },
        {
          "output_type": "display_data",
          "data": {
            "text/plain": [
              "<Figure size 432x288 with 1 Axes>"
            ],
            "image/png": "[encoded data removed]"
          },
          "metadata": {
            "needs_background": "light"
          }
        },
        {
          "output_type": "stream",
          "name": "stdout",
          "text": [
            "Image shape: (1, 224, 224, 3)\n",
            "[image Keema-Curry-1343-I-500x500.jpg]\n",
            "Omurice (23.93%)\n",
            "Curry (23.87%)\n",
            "Ramen (52.21%)\n",
            "\n"
          ]
        }
      ]
    },
    {
      "cell_type": "code",
      "source": [
        "print(hist.history.keys())\n",
        "\n",
        "plt.plot(hist.history[\"loss\"], label =\"Train Loss\")\n",
        "plt.plot(hist.history[\"val_loss\"], label =\"Validation Loss\")\n",
        "plt.legend()\n",
        "plt.show()\n",
        "plt.figure()\n",
        "plt.plot(hist.history[\"accuracy\"], label =\"Train accuracy\")\n",
        "plt.plot(hist.history[\"val_accuracy\"], label =\"Validation accuracy\")\n",
        "plt.legend()\n",
        "plt.show()"
      ],
      "metadata": {
        "colab": {
          "base_uri": "https://localhost:8080/",
          "height": 530
        },
        "id": "ZPL6rTi9LtQf",
        "outputId": "16bf7653-de1f-4ee6-cb95-6ad810e1e3d6"
      },
      "execution_count": 56,
      "outputs": [
        {
          "output_type": "stream",
          "name": "stdout",
          "text": [
            "dict_keys(['loss', 'accuracy', 'val_loss', 'val_accuracy'])\n"
          ]
        },
        {
          "output_type": "display_data",
          "data": {
            "text/plain": [
              "<Figure size 432x288 with 1 Axes>"
            ],
            "image/png": "[encoded data removed]"
          },
          "metadata": {
            "needs_background": "light"
          }
        },
        {
          "output_type": "display_data",
          "data": {
            "text/plain": [
              "<Figure size 432x288 with 1 Axes>"
            ],
            "image/png": "[encoded data removed]"
          },
          "metadata": {
            "needs_background": "light"
          }
        }
      ]
    },
    {
      "cell_type": "markdown",
      "source": [
        "## Adjust the Existing Model for Classification: VGG16 version."
      ],
      "metadata": {
        "id": "8wMcWHIiNbBt"
      }
    },
    {
      "cell_type": "code",
      "source": [
        "# Load dataset\n",
        "data_df = pd.read_csv(os.path.join(data_dir, 'dataset.csv'))\n",
        "X, y = load_dataset(data_df)\n",
        "\n",
        "X_train, X_test, y_train, y_test = train_test_split(\n",
        "    X, y, \n",
        "    random_state=42,\n",
        "    test_size=0.2)\n",
        "\n",
        "X_valid, X_test, y_valid, y_test = train_test_split(\n",
        "    X_test, y_test, \n",
        "    random_state=42,\n",
        "    test_size=0.5)\n",
        "\n",
        "print(f'Training set: {X_train.shape}, {y_train.shape}')\n",
        "print(f'Validation set: {X_valid.shape}, {y_valid.shape}')\n",
        "print(f'Test set: {X_test.shape}, {y_test.shape}')\n",
        "\n",
        "# Preprocess the input array\n",
        "X_train = preprocess_input(X_train)\n",
        "X_valid = preprocess_input(X_valid)\n",
        "X_test = preprocess_input(X_test)\n",
        "\n",
        "# Convert the preprocessing images into `float32`\n",
        "X_train = X_train.astype(np.float32)\n",
        "X_valid = X_valid.astype(np.float32)\n",
        "X_test = X_test.astype(np.float32)\n",
        "\n",
        "# Convert the one-hot vector into `int`\n",
        "y_train = y_train.astype(np.int)\n",
        "X_valid = X_valid.astype(np.int)\n",
        "y_test = y_test.astype(np.int)\n",
        "\n",
        "print(f'Training Set: {X_train.shape}, {y_train.shape}')\n",
        "print(f'Validation Set: {X_valid.shape}, {y_valid.shape}')\n",
        "print(f'Test Set: {X_test.shape}, {y_test.shape}')"
      ],
      "metadata": {
        "colab": {
          "base_uri": "https://localhost:8080/"
        },
        "id": "iOWAtUOANYIN",
        "outputId": "794f4236-2858-4854-ab5e-59b9c8cc8535"
      },
      "execution_count": 57,
      "outputs": [
        {
          "output_type": "stream",
          "name": "stdout",
          "text": [
            "Training set: (48, 224, 224, 3), (48,)\n",
            "Validation set: (6, 224, 224, 3), (6,)\n",
            "Test set: (6, 224, 224, 3), (6,)\n",
            "Training Set: (48, 224, 224, 3), (48,)\n",
            "Validation Set: (6, 224, 224, 3), (6,)\n",
            "Test Set: (6, 224, 224, 3), (6,)\n"
          ]
        },
        {
          "output_type": "stream",
          "name": "stderr",
          "text": [
            "/usr/local/lib/python3.7/dist-packages/ipykernel_launcher.py:30: DeprecationWarning: `np.int` is a deprecated alias for the builtin `int`. To silence this warning, use `int` by itself. Doing this will not modify any behavior and is safe. When replacing `np.int`, you may wish to use e.g. `np.int64` or `np.int32` to specify the precision. If you wish to review your current use, check the release note link for additional information.\n",
            "Deprecated in NumPy 1.20; for more details and guidance: https://numpy.org/devdocs/release/1.20.0-notes.html#deprecations\n",
            "/usr/local/lib/python3.7/dist-packages/ipykernel_launcher.py:31: DeprecationWarning: `np.int` is a deprecated alias for the builtin `int`. To silence this warning, use `int` by itself. Doing this will not modify any behavior and is safe. When replacing `np.int`, you may wish to use e.g. `np.int64` or `np.int32` to specify the precision. If you wish to review your current use, check the release note link for additional information.\n",
            "Deprecated in NumPy 1.20; for more details and guidance: https://numpy.org/devdocs/release/1.20.0-notes.html#deprecations\n",
            "/usr/local/lib/python3.7/dist-packages/ipykernel_launcher.py:32: DeprecationWarning: `np.int` is a deprecated alias for the builtin `int`. To silence this warning, use `int` by itself. Doing this will not modify any behavior and is safe. When replacing `np.int`, you may wish to use e.g. `np.int64` or `np.int32` to specify the precision. If you wish to review your current use, check the release note link for additional information.\n",
            "Deprecated in NumPy 1.20; for more details and guidance: https://numpy.org/devdocs/release/1.20.0-notes.html#deprecations\n"
          ]
        }
      ]
    },
    {
      "cell_type": "code",
      "source": [
        "from tensorflow.keras.applications.vgg16 import VGG16\n",
        "\n",
        "# Create the base pre-trained model\n",
        "# Note: include_top=False --> do not include the top layers\n",
        "#       This allows us to replace the top with new layers for transfer learning\n",
        "base_model = VGG16(\n",
        "    input_shape=IMG_SIZE + (3,),  # plus (3, ) for the color channel\n",
        "    weights='imagenet',\n",
        "    # weights=None,\n",
        "    include_top=False)"
      ],
      "metadata": {
        "id": "1jc60NTdNp2W"
      },
      "execution_count": 58,
      "outputs": []
    },
    {
      "cell_type": "code",
      "source": [
        "base_model.summary()\n",
        "model = Sequential()\n",
        "\n",
        "# Start with the base_model\n",
        "model.add(base_model)\n",
        "\n",
        "# Add a global spatial average pooling layer\n",
        "model.add(keras.layers.GlobalAveragePooling2D())\n",
        "\n",
        "# A fully-connected layer\n",
        "model.add(keras.layers.Dense(1024, activation='relu'))\n",
        "\n",
        "# A softmax layer -- note that we have 5 classes\n",
        "model.add(keras.layers.Dense(num_classes, activation='softmax'))"
      ],
      "metadata": {
        "colab": {
          "base_uri": "https://localhost:8080/"
        },
        "id": "7joKNoRVOS0j",
        "outputId": "58126101-1593-4f4b-fabf-910f9959175b"
      },
      "execution_count": 59,
      "outputs": [
        {
          "output_type": "stream",
          "name": "stdout",
          "text": [
            "Model: \"vgg16\"\n",
            "_________________________________________________________________\n",
            " Layer (type)                Output Shape              Param #   \n",
            "=================================================================\n",
            " input_3 (InputLayer)        [(None, 224, 224, 3)]     0         \n",
            "                                                                 \n",
            " block1_conv1 (Conv2D)       (None, 224, 224, 64)      1792      \n",
            "                                                                 \n",
            " block1_conv2 (Conv2D)       (None, 224, 224, 64)      36928     \n",
            "                                                                 \n",
            " block1_pool (MaxPooling2D)  (None, 112, 112, 64)      0         \n",
            "                                                                 \n",
            " block2_conv1 (Conv2D)       (None, 112, 112, 128)     73856     \n",
            "                                                                 \n",
            " block2_conv2 (Conv2D)       (None, 112, 112, 128)     147584    \n",
            "                                                                 \n",
            " block2_pool (MaxPooling2D)  (None, 56, 56, 128)       0         \n",
            "                                                                 \n",
            " block3_conv1 (Conv2D)       (None, 56, 56, 256)       295168    \n",
            "                                                                 \n",
            " block3_conv2 (Conv2D)       (None, 56, 56, 256)       590080    \n",
            "                                                                 \n",
            " block3_conv3 (Conv2D)       (None, 56, 56, 256)       590080    \n",
            "                                                                 \n",
            " block3_pool (MaxPooling2D)  (None, 28, 28, 256)       0         \n",
            "                                                                 \n",
            " block4_conv1 (Conv2D)       (None, 28, 28, 512)       1180160   \n",
            "                                                                 \n",
            " block4_conv2 (Conv2D)       (None, 28, 28, 512)       2359808   \n",
            "                                                                 \n",
            " block4_conv3 (Conv2D)       (None, 28, 28, 512)       2359808   \n",
            "                                                                 \n",
            " block4_pool (MaxPooling2D)  (None, 14, 14, 512)       0         \n",
            "                                                                 \n",
            " block5_conv1 (Conv2D)       (None, 14, 14, 512)       2359808   \n",
            "                                                                 \n",
            " block5_conv2 (Conv2D)       (None, 14, 14, 512)       2359808   \n",
            "                                                                 \n",
            " block5_conv3 (Conv2D)       (None, 14, 14, 512)       2359808   \n",
            "                                                                 \n",
            " block5_pool (MaxPooling2D)  (None, 7, 7, 512)         0         \n",
            "                                                                 \n",
            "=================================================================\n",
            "Total params: 14,714,688\n",
            "Trainable params: 14,714,688\n",
            "Non-trainable params: 0\n",
            "_________________________________________________________________\n"
          ]
        }
      ]
    },
    {
      "cell_type": "code",
      "source": [
        "model.summary()"
      ],
      "metadata": {
        "colab": {
          "base_uri": "https://localhost:8080/"
        },
        "id": "2vx9YawzOTLd",
        "outputId": "a8194602-b320-42cd-8e41-9c850821094e"
      },
      "execution_count": 60,
      "outputs": [
        {
          "output_type": "stream",
          "name": "stdout",
          "text": [
            "Model: \"sequential_2\"\n",
            "_________________________________________________________________\n",
            " Layer (type)                Output Shape              Param #   \n",
            "=================================================================\n",
            " vgg16 (Functional)          (None, 7, 7, 512)         14714688  \n",
            "                                                                 \n",
            " global_average_pooling2d_2   (None, 512)              0         \n",
            " (GlobalAveragePooling2D)                                        \n",
            "                                                                 \n",
            " dense_4 (Dense)             (None, 1024)              525312    \n",
            "                                                                 \n",
            " dense_5 (Dense)             (None, 3)                 3075      \n",
            "                                                                 \n",
            "=================================================================\n",
            "Total params: 15,243,075\n",
            "Trainable params: 15,243,075\n",
            "Non-trainable params: 0\n",
            "_________________________________________________________________\n"
          ]
        }
      ]
    },
    {
      "cell_type": "code",
      "source": [
        "for i, layer in enumerate(model.layers):\n",
        "   print(i, layer.name)"
      ],
      "metadata": {
        "colab": {
          "base_uri": "https://localhost:8080/"
        },
        "id": "pISXwlBhOgAS",
        "outputId": "741952f7-f21f-4284-c406-89b8f2c10430"
      },
      "execution_count": 61,
      "outputs": [
        {
          "output_type": "stream",
          "name": "stdout",
          "text": [
            "0 vgg16\n",
            "1 global_average_pooling2d_2\n",
            "2 dense_4\n",
            "3 dense_5\n"
          ]
        }
      ]
    },
    {
      "cell_type": "code",
      "source": [
        "for layer in base_model.layers:\n",
        "    layer.trainable = False"
      ],
      "metadata": {
        "id": "4MRNIMgjOmCQ"
      },
      "execution_count": 62,
      "outputs": []
    },
    {
      "cell_type": "code",
      "source": [
        "epochs = 100\n",
        "batch_size = 25\n",
        "learning_rate = 0.001\n",
        "\n",
        "# SGD optimizer (you can use others)\n",
        "optimizer = keras.optimizers.SGD(lr=learning_rate)\n",
        "\n",
        "# Cross-entropy loss\n",
        "loss = tf.keras.losses.SparseCategoricalCrossentropy(from_logits=False)\n",
        "\n",
        "# Compile the model\n",
        "model.compile(\n",
        "    loss=loss,\n",
        "    optimizer=optimizer,\n",
        "    metrics=['accuracy'])"
      ],
      "metadata": {
        "colab": {
          "base_uri": "https://localhost:8080/"
        },
        "id": "oFxNPstLOnn5",
        "outputId": "fa8ae388-e04a-4a7d-f61d-93806bef01cd"
      },
      "execution_count": 63,
      "outputs": [
        {
          "output_type": "stream",
          "name": "stderr",
          "text": [
            "/usr/local/lib/python3.7/dist-packages/keras/optimizer_v2/gradient_descent.py:102: UserWarning: The `lr` argument is deprecated, use `learning_rate` instead.\n",
            "  super(SGD, self).__init__(name, **kwargs)\n"
          ]
        }
      ]
    },
    {
      "cell_type": "code",
      "source": [
        "hist = model.fit(\n",
        "    X_train, y_train,\n",
        "    batch_size=batch_size,\n",
        "    epochs=epochs,\n",
        "    validation_data=(X_valid, y_valid),\n",
        "    verbose=1)"
      ],
      "metadata": {
        "colab": {
          "base_uri": "https://localhost:8080/"
        },
        "id": "8v-4sW8-OqKN",
        "outputId": "2573828a-06f8-4e72-b92a-8d69bc3aad7a"
      },
      "execution_count": 64,
      "outputs": [
        {
          "output_type": "stream",
          "name": "stdout",
          "text": [
            "Epoch 1/100\n",
            "2/2 [==============================] - 9s 4s/step - loss: 1.2260 - accuracy: 0.3125 - val_loss: 1.0644 - val_accuracy: 0.5000\n",
            "Epoch 2/100\n",
            "2/2 [==============================] - 1s 423ms/step - loss: 1.1907 - accuracy: 0.3125 - val_loss: 1.0624 - val_accuracy: 0.5000\n",
            "Epoch 3/100\n",
            "2/2 [==============================] - 1s 419ms/step - loss: 1.1656 - accuracy: 0.3125 - val_loss: 1.0629 - val_accuracy: 0.5000\n",
            "Epoch 4/100\n",
            "2/2 [==============================] - 1s 424ms/step - loss: 1.1463 - accuracy: 0.3125 - val_loss: 1.0655 - val_accuracy: 0.5000\n",
            "Epoch 5/100\n",
            "2/2 [==============================] - 1s 411ms/step - loss: 1.1305 - accuracy: 0.3125 - val_loss: 1.0697 - val_accuracy: 0.5000\n",
            "Epoch 6/100\n",
            "2/2 [==============================] - 1s 418ms/step - loss: 1.1197 - accuracy: 0.3125 - val_loss: 1.0749 - val_accuracy: 0.5000\n",
            "Epoch 7/100\n",
            "2/2 [==============================] - 1s 419ms/step - loss: 1.1112 - accuracy: 0.3333 - val_loss: 1.0796 - val_accuracy: 0.5000\n",
            "Epoch 8/100\n",
            "2/2 [==============================] - 1s 415ms/step - loss: 1.1034 - accuracy: 0.3333 - val_loss: 1.0844 - val_accuracy: 0.5000\n",
            "Epoch 9/100\n",
            "2/2 [==============================] - 1s 417ms/step - loss: 1.0975 - accuracy: 0.3750 - val_loss: 1.0886 - val_accuracy: 0.5000\n",
            "Epoch 10/100\n",
            "2/2 [==============================] - 1s 416ms/step - loss: 1.0970 - accuracy: 0.3542 - val_loss: 1.0928 - val_accuracy: 0.6667\n",
            "Epoch 11/100\n",
            "2/2 [==============================] - 1s 416ms/step - loss: 1.0892 - accuracy: 0.4375 - val_loss: 1.0969 - val_accuracy: 0.6667\n",
            "Epoch 12/100\n",
            "2/2 [==============================] - 1s 417ms/step - loss: 1.0867 - accuracy: 0.3125 - val_loss: 1.1008 - val_accuracy: 0.5000\n",
            "Epoch 13/100\n",
            "2/2 [==============================] - 1s 415ms/step - loss: 1.0838 - accuracy: 0.3125 - val_loss: 1.1044 - val_accuracy: 0.3333\n",
            "Epoch 14/100\n",
            "2/2 [==============================] - 1s 416ms/step - loss: 1.0807 - accuracy: 0.3750 - val_loss: 1.1070 - val_accuracy: 0.3333\n",
            "Epoch 15/100\n",
            "2/2 [==============================] - 1s 413ms/step - loss: 1.0818 - accuracy: 0.3958 - val_loss: 1.1082 - val_accuracy: 0.3333\n",
            "Epoch 16/100\n",
            "2/2 [==============================] - 1s 414ms/step - loss: 1.0765 - accuracy: 0.4167 - val_loss: 1.1100 - val_accuracy: 0.3333\n",
            "Epoch 17/100\n",
            "2/2 [==============================] - 1s 425ms/step - loss: 1.0750 - accuracy: 0.4167 - val_loss: 1.1122 - val_accuracy: 0.1667\n",
            "Epoch 18/100\n",
            "2/2 [==============================] - 1s 415ms/step - loss: 1.0734 - accuracy: 0.4792 - val_loss: 1.1136 - val_accuracy: 0.1667\n",
            "Epoch 19/100\n",
            "2/2 [==============================] - 1s 412ms/step - loss: 1.0714 - accuracy: 0.4792 - val_loss: 1.1142 - val_accuracy: 0.1667\n",
            "Epoch 20/100\n",
            "2/2 [==============================] - 1s 422ms/step - loss: 1.0701 - accuracy: 0.4792 - val_loss: 1.1152 - val_accuracy: 0.1667\n",
            "Epoch 21/100\n",
            "2/2 [==============================] - 1s 416ms/step - loss: 1.0671 - accuracy: 0.4792 - val_loss: 1.1160 - val_accuracy: 0.1667\n",
            "Epoch 22/100\n",
            "2/2 [==============================] - 1s 415ms/step - loss: 1.0664 - accuracy: 0.4583 - val_loss: 1.1173 - val_accuracy: 0.1667\n",
            "Epoch 23/100\n",
            "2/2 [==============================] - 1s 418ms/step - loss: 1.0641 - accuracy: 0.4583 - val_loss: 1.1177 - val_accuracy: 0.1667\n",
            "Epoch 24/100\n",
            "2/2 [==============================] - 1s 410ms/step - loss: 1.0629 - accuracy: 0.4583 - val_loss: 1.1176 - val_accuracy: 0.1667\n",
            "Epoch 25/100\n",
            "2/2 [==============================] - 1s 422ms/step - loss: 1.0616 - accuracy: 0.4792 - val_loss: 1.1180 - val_accuracy: 0.1667\n",
            "Epoch 26/100\n",
            "2/2 [==============================] - 1s 414ms/step - loss: 1.0604 - accuracy: 0.5000 - val_loss: 1.1182 - val_accuracy: 0.1667\n",
            "Epoch 27/100\n",
            "2/2 [==============================] - 1s 419ms/step - loss: 1.0589 - accuracy: 0.4792 - val_loss: 1.1183 - val_accuracy: 0.1667\n",
            "Epoch 28/100\n",
            "2/2 [==============================] - 1s 415ms/step - loss: 1.0579 - accuracy: 0.4792 - val_loss: 1.1182 - val_accuracy: 0.1667\n",
            "Epoch 29/100\n",
            "2/2 [==============================] - 1s 419ms/step - loss: 1.0560 - accuracy: 0.5000 - val_loss: 1.1182 - val_accuracy: 0.1667\n",
            "Epoch 30/100\n",
            "2/2 [==============================] - 1s 415ms/step - loss: 1.0542 - accuracy: 0.4583 - val_loss: 1.1176 - val_accuracy: 0.1667\n",
            "Epoch 31/100\n",
            "2/2 [==============================] - 1s 416ms/step - loss: 1.0525 - accuracy: 0.4792 - val_loss: 1.1174 - val_accuracy: 0.1667\n",
            "Epoch 32/100\n",
            "2/2 [==============================] - 1s 418ms/step - loss: 1.0520 - accuracy: 0.4792 - val_loss: 1.1166 - val_accuracy: 0.1667\n",
            "Epoch 33/100\n",
            "2/2 [==============================] - 1s 415ms/step - loss: 1.0537 - accuracy: 0.4583 - val_loss: 1.1154 - val_accuracy: 0.1667\n",
            "Epoch 34/100\n",
            "2/2 [==============================] - 1s 415ms/step - loss: 1.0489 - accuracy: 0.4792 - val_loss: 1.1150 - val_accuracy: 0.1667\n",
            "Epoch 35/100\n",
            "2/2 [==============================] - 1s 420ms/step - loss: 1.0481 - accuracy: 0.4792 - val_loss: 1.1147 - val_accuracy: 0.1667\n",
            "Epoch 36/100\n",
            "2/2 [==============================] - 1s 416ms/step - loss: 1.0465 - accuracy: 0.5208 - val_loss: 1.1148 - val_accuracy: 0.1667\n",
            "Epoch 37/100\n",
            "2/2 [==============================] - 1s 419ms/step - loss: 1.0468 - accuracy: 0.4583 - val_loss: 1.1136 - val_accuracy: 0.1667\n",
            "Epoch 38/100\n",
            "2/2 [==============================] - 1s 417ms/step - loss: 1.0434 - accuracy: 0.5000 - val_loss: 1.1134 - val_accuracy: 0.1667\n",
            "Epoch 39/100\n",
            "2/2 [==============================] - 1s 419ms/step - loss: 1.0430 - accuracy: 0.4792 - val_loss: 1.1126 - val_accuracy: 0.1667\n",
            "Epoch 40/100\n",
            "2/2 [==============================] - 1s 418ms/step - loss: 1.0403 - accuracy: 0.5208 - val_loss: 1.1121 - val_accuracy: 0.1667\n",
            "Epoch 41/100\n",
            "2/2 [==============================] - 1s 418ms/step - loss: 1.0401 - accuracy: 0.5417 - val_loss: 1.1110 - val_accuracy: 0.1667\n",
            "Epoch 42/100\n",
            "2/2 [==============================] - 1s 413ms/step - loss: 1.0377 - accuracy: 0.5208 - val_loss: 1.1103 - val_accuracy: 0.1667\n",
            "Epoch 43/100\n",
            "2/2 [==============================] - 1s 421ms/step - loss: 1.0369 - accuracy: 0.5417 - val_loss: 1.1097 - val_accuracy: 0.1667\n",
            "Epoch 44/100\n",
            "2/2 [==============================] - 1s 418ms/step - loss: 1.0360 - accuracy: 0.5417 - val_loss: 1.1101 - val_accuracy: 0.1667\n",
            "Epoch 45/100\n",
            "2/2 [==============================] - 1s 419ms/step - loss: 1.0337 - accuracy: 0.5208 - val_loss: 1.1099 - val_accuracy: 0.1667\n",
            "Epoch 46/100\n",
            "2/2 [==============================] - 1s 416ms/step - loss: 1.0335 - accuracy: 0.5208 - val_loss: 1.1086 - val_accuracy: 0.1667\n",
            "Epoch 47/100\n",
            "2/2 [==============================] - 1s 423ms/step - loss: 1.0320 - accuracy: 0.4792 - val_loss: 1.1078 - val_accuracy: 0.1667\n",
            "Epoch 48/100\n",
            "2/2 [==============================] - 1s 421ms/step - loss: 1.0297 - accuracy: 0.5417 - val_loss: 1.1074 - val_accuracy: 0.1667\n",
            "Epoch 49/100\n",
            "2/2 [==============================] - 1s 417ms/step - loss: 1.0302 - accuracy: 0.5417 - val_loss: 1.1080 - val_accuracy: 0.1667\n",
            "Epoch 50/100\n",
            "2/2 [==============================] - 1s 415ms/step - loss: 1.0272 - accuracy: 0.5417 - val_loss: 1.1070 - val_accuracy: 0.1667\n",
            "Epoch 51/100\n",
            "2/2 [==============================] - 1s 415ms/step - loss: 1.0258 - accuracy: 0.5833 - val_loss: 1.1067 - val_accuracy: 0.1667\n",
            "Epoch 52/100\n",
            "2/2 [==============================] - 1s 409ms/step - loss: 1.0251 - accuracy: 0.5417 - val_loss: 1.1061 - val_accuracy: 0.1667\n",
            "Epoch 53/100\n",
            "2/2 [==============================] - 1s 409ms/step - loss: 1.0233 - accuracy: 0.5625 - val_loss: 1.1053 - val_accuracy: 0.1667\n",
            "Epoch 54/100\n",
            "2/2 [==============================] - 1s 413ms/step - loss: 1.0222 - accuracy: 0.5417 - val_loss: 1.1044 - val_accuracy: 0.1667\n",
            "Epoch 55/100\n",
            "2/2 [==============================] - 1s 421ms/step - loss: 1.0229 - accuracy: 0.6042 - val_loss: 1.1047 - val_accuracy: 0.1667\n",
            "Epoch 56/100\n",
            "2/2 [==============================] - 1s 414ms/step - loss: 1.0208 - accuracy: 0.6042 - val_loss: 1.1049 - val_accuracy: 0.1667\n",
            "Epoch 57/100\n",
            "2/2 [==============================] - 1s 414ms/step - loss: 1.0183 - accuracy: 0.5833 - val_loss: 1.1038 - val_accuracy: 0.1667\n",
            "Epoch 58/100\n",
            "2/2 [==============================] - 1s 421ms/step - loss: 1.0178 - accuracy: 0.5833 - val_loss: 1.1024 - val_accuracy: 0.1667\n",
            "Epoch 59/100\n",
            "2/2 [==============================] - 1s 414ms/step - loss: 1.0156 - accuracy: 0.6250 - val_loss: 1.1018 - val_accuracy: 0.1667\n",
            "Epoch 60/100\n",
            "2/2 [==============================] - 1s 420ms/step - loss: 1.0176 - accuracy: 0.6875 - val_loss: 1.1015 - val_accuracy: 0.1667\n",
            "Epoch 61/100\n",
            "2/2 [==============================] - 1s 412ms/step - loss: 1.0136 - accuracy: 0.6250 - val_loss: 1.1013 - val_accuracy: 0.1667\n",
            "Epoch 62/100\n",
            "2/2 [==============================] - 1s 429ms/step - loss: 1.0130 - accuracy: 0.6042 - val_loss: 1.0998 - val_accuracy: 0.1667\n",
            "Epoch 63/100\n",
            "2/2 [==============================] - 1s 416ms/step - loss: 1.0112 - accuracy: 0.6250 - val_loss: 1.0993 - val_accuracy: 0.3333\n",
            "Epoch 64/100\n",
            "2/2 [==============================] - 1s 420ms/step - loss: 1.0094 - accuracy: 0.6458 - val_loss: 1.0987 - val_accuracy: 0.3333\n",
            "Epoch 65/100\n",
            "2/2 [==============================] - 1s 431ms/step - loss: 1.0128 - accuracy: 0.6250 - val_loss: 1.0990 - val_accuracy: 0.3333\n",
            "Epoch 66/100\n",
            "2/2 [==============================] - 1s 424ms/step - loss: 1.0072 - accuracy: 0.6458 - val_loss: 1.0986 - val_accuracy: 0.3333\n",
            "Epoch 67/100\n",
            "2/2 [==============================] - 1s 417ms/step - loss: 1.0070 - accuracy: 0.6458 - val_loss: 1.0979 - val_accuracy: 0.3333\n",
            "Epoch 68/100\n",
            "2/2 [==============================] - 1s 419ms/step - loss: 1.0055 - accuracy: 0.6667 - val_loss: 1.0976 - val_accuracy: 0.3333\n",
            "Epoch 69/100\n",
            "2/2 [==============================] - 1s 419ms/step - loss: 1.0051 - accuracy: 0.5833 - val_loss: 1.0960 - val_accuracy: 0.3333\n",
            "Epoch 70/100\n",
            "2/2 [==============================] - 1s 418ms/step - loss: 1.0051 - accuracy: 0.6667 - val_loss: 1.0965 - val_accuracy: 0.3333\n",
            "Epoch 71/100\n",
            "2/2 [==============================] - 1s 422ms/step - loss: 1.0028 - accuracy: 0.6667 - val_loss: 1.0967 - val_accuracy: 0.3333\n",
            "Epoch 72/100\n",
            "2/2 [==============================] - 1s 417ms/step - loss: 1.0019 - accuracy: 0.6250 - val_loss: 1.0947 - val_accuracy: 0.3333\n",
            "Epoch 73/100\n",
            "2/2 [==============================] - 1s 415ms/step - loss: 0.9991 - accuracy: 0.6875 - val_loss: 1.0945 - val_accuracy: 0.3333\n",
            "Epoch 74/100\n",
            "2/2 [==============================] - 1s 415ms/step - loss: 0.9976 - accuracy: 0.7083 - val_loss: 1.0939 - val_accuracy: 0.3333\n",
            "Epoch 75/100\n",
            "2/2 [==============================] - 1s 418ms/step - loss: 0.9963 - accuracy: 0.6875 - val_loss: 1.0926 - val_accuracy: 0.3333\n",
            "Epoch 76/100\n",
            "2/2 [==============================] - 1s 422ms/step - loss: 0.9953 - accuracy: 0.7083 - val_loss: 1.0918 - val_accuracy: 0.3333\n",
            "Epoch 77/100\n",
            "2/2 [==============================] - 1s 417ms/step - loss: 0.9940 - accuracy: 0.7292 - val_loss: 1.0912 - val_accuracy: 0.3333\n",
            "Epoch 78/100\n",
            "2/2 [==============================] - 1s 416ms/step - loss: 0.9928 - accuracy: 0.7083 - val_loss: 1.0908 - val_accuracy: 0.3333\n",
            "Epoch 79/100\n",
            "2/2 [==============================] - 1s 413ms/step - loss: 0.9936 - accuracy: 0.7292 - val_loss: 1.0899 - val_accuracy: 0.1667\n",
            "Epoch 80/100\n",
            "2/2 [==============================] - 1s 417ms/step - loss: 0.9909 - accuracy: 0.6875 - val_loss: 1.0897 - val_accuracy: 0.1667\n",
            "Epoch 81/100\n",
            "2/2 [==============================] - 1s 415ms/step - loss: 0.9899 - accuracy: 0.7083 - val_loss: 1.0886 - val_accuracy: 0.3333\n",
            "Epoch 82/100\n",
            "2/2 [==============================] - 1s 412ms/step - loss: 0.9876 - accuracy: 0.7292 - val_loss: 1.0879 - val_accuracy: 0.1667\n",
            "Epoch 83/100\n",
            "2/2 [==============================] - 1s 423ms/step - loss: 0.9875 - accuracy: 0.7083 - val_loss: 1.0865 - val_accuracy: 0.1667\n",
            "Epoch 84/100\n",
            "2/2 [==============================] - 1s 422ms/step - loss: 0.9854 - accuracy: 0.7292 - val_loss: 1.0856 - val_accuracy: 0.1667\n",
            "Epoch 85/100\n",
            "2/2 [==============================] - 1s 420ms/step - loss: 0.9840 - accuracy: 0.7292 - val_loss: 1.0851 - val_accuracy: 0.1667\n",
            "Epoch 86/100\n",
            "2/2 [==============================] - 1s 420ms/step - loss: 0.9829 - accuracy: 0.7292 - val_loss: 1.0846 - val_accuracy: 0.1667\n",
            "Epoch 87/100\n",
            "2/2 [==============================] - 1s 414ms/step - loss: 0.9824 - accuracy: 0.7292 - val_loss: 1.0835 - val_accuracy: 0.1667\n",
            "Epoch 88/100\n",
            "2/2 [==============================] - 1s 410ms/step - loss: 0.9817 - accuracy: 0.7083 - val_loss: 1.0827 - val_accuracy: 0.1667\n",
            "Epoch 89/100\n",
            "2/2 [==============================] - 1s 421ms/step - loss: 0.9800 - accuracy: 0.7083 - val_loss: 1.0823 - val_accuracy: 0.1667\n",
            "Epoch 90/100\n",
            "2/2 [==============================] - 1s 415ms/step - loss: 0.9788 - accuracy: 0.7292 - val_loss: 1.0813 - val_accuracy: 0.1667\n",
            "Epoch 91/100\n",
            "2/2 [==============================] - 1s 417ms/step - loss: 0.9819 - accuracy: 0.7292 - val_loss: 1.0824 - val_accuracy: 0.1667\n",
            "Epoch 92/100\n",
            "2/2 [==============================] - 1s 417ms/step - loss: 0.9766 - accuracy: 0.7292 - val_loss: 1.0824 - val_accuracy: 0.1667\n",
            "Epoch 93/100\n",
            "2/2 [==============================] - 1s 417ms/step - loss: 0.9793 - accuracy: 0.7292 - val_loss: 1.0818 - val_accuracy: 0.1667\n",
            "Epoch 94/100\n",
            "2/2 [==============================] - 1s 424ms/step - loss: 0.9746 - accuracy: 0.7083 - val_loss: 1.0808 - val_accuracy: 0.1667\n",
            "Epoch 95/100\n",
            "2/2 [==============================] - 1s 414ms/step - loss: 0.9756 - accuracy: 0.7292 - val_loss: 1.0805 - val_accuracy: 0.1667\n",
            "Epoch 96/100\n",
            "2/2 [==============================] - 1s 425ms/step - loss: 0.9736 - accuracy: 0.7083 - val_loss: 1.0792 - val_accuracy: 0.1667\n",
            "Epoch 97/100\n",
            "2/2 [==============================] - 1s 422ms/step - loss: 0.9720 - accuracy: 0.7292 - val_loss: 1.0791 - val_accuracy: 0.1667\n",
            "Epoch 98/100\n",
            "2/2 [==============================] - 1s 420ms/step - loss: 0.9702 - accuracy: 0.7292 - val_loss: 1.0780 - val_accuracy: 0.1667\n",
            "Epoch 99/100\n",
            "2/2 [==============================] - 1s 414ms/step - loss: 0.9697 - accuracy: 0.7292 - val_loss: 1.0772 - val_accuracy: 0.3333\n",
            "Epoch 100/100\n",
            "2/2 [==============================] - 1s 430ms/step - loss: 0.9677 - accuracy: 0.7292 - val_loss: 1.0763 - val_accuracy: 0.3333\n"
          ]
        }
      ]
    },
    {
      "cell_type": "code",
      "source": [
        "# Predict the probability of each image\n",
        "y_hat_valid_probs = model.predict(X_valid)\n",
        "\n",
        "# Select the class with the highest probability as the predicted class.\n",
        "y_hat_valid = np.argmax(y_hat_valid_probs, axis=-1)\n",
        "\n",
        "print(y_hat_valid_probs.shape)\n",
        "print(y_hat_valid.shape)"
      ],
      "metadata": {
        "colab": {
          "base_uri": "https://localhost:8080/"
        },
        "id": "9gbb3DUDOs2s",
        "outputId": "7481ada6-a82b-4c8f-eccf-67f5fb434235"
      },
      "execution_count": 65,
      "outputs": [
        {
          "output_type": "stream",
          "name": "stdout",
          "text": [
            "(6, 3)\n",
            "(6,)\n"
          ]
        }
      ]
    },
    {
      "cell_type": "code",
      "source": [
        "print('Validation Set')\n",
        "print(confusion_matrix(y_true=y_valid, y_pred=y_hat_valid))\n",
        "print(f'Accuracy: {accuracy_score(y_true=y_valid, y_pred=y_hat_valid):.2f}')\n",
        "print(f'Macro F1-score: {f1_score(y_true=y_valid, y_pred=y_hat_valid, average=\"macro\"):.2f}')"
      ],
      "metadata": {
        "colab": {
          "base_uri": "https://localhost:8080/"
        },
        "id": "mFVV9dUeOwpX",
        "outputId": "a031a71d-dd5a-4114-aaa6-347450d89f20"
      },
      "execution_count": 66,
      "outputs": [
        {
          "output_type": "stream",
          "name": "stdout",
          "text": [
            "Validation Set\n",
            "[[2 0 0]\n",
            " [3 0 0]\n",
            " [1 0 0]]\n",
            "Accuracy: 0.33\n",
            "Macro F1-score: 0.17\n"
          ]
        }
      ]
    },
    {
      "cell_type": "code",
      "source": [
        "for i, layer in enumerate(base_model.layers):\n",
        "   print(i, layer.name)"
      ],
      "metadata": {
        "colab": {
          "base_uri": "https://localhost:8080/"
        },
        "id": "_af1gKIDOxYR",
        "outputId": "6c350a1d-bf8a-4b44-cff3-ed55456070f1"
      },
      "execution_count": 67,
      "outputs": [
        {
          "output_type": "stream",
          "name": "stdout",
          "text": [
            "0 input_3\n",
            "1 block1_conv1\n",
            "2 block1_conv2\n",
            "3 block1_pool\n",
            "4 block2_conv1\n",
            "5 block2_conv2\n",
            "6 block2_pool\n",
            "7 block3_conv1\n",
            "8 block3_conv2\n",
            "9 block3_conv3\n",
            "10 block3_pool\n",
            "11 block4_conv1\n",
            "12 block4_conv2\n",
            "13 block4_conv3\n",
            "14 block4_pool\n",
            "15 block5_conv1\n",
            "16 block5_conv2\n",
            "17 block5_conv3\n",
            "18 block5_pool\n"
          ]
        }
      ]
    },
    {
      "cell_type": "code",
      "source": [
        "n_freezes = 0 #fine tuning to train entire model \n",
        "\n",
        "for layer in base_model.layers[:n_freezes]:\n",
        "   layer.trainable = False\n",
        "for layer in base_model.layers[n_freezes:]:\n",
        "   layer.trainable = True"
      ],
      "metadata": {
        "id": "SEBxDEwzO2-X"
      },
      "execution_count": 68,
      "outputs": []
    },
    {
      "cell_type": "code",
      "source": [
        "epochs = 100\n",
        "batch_size = 25\n",
        "learning_rate = 0.001\n",
        "\n",
        "# We use SGD with a lower learning rate, compared to the training above\n",
        "optimizer = keras.optimizers.SGD(lr=learning_rate)\n",
        "\n",
        "# Cross-entropy loss\n",
        "loss = tf.keras.losses.SparseCategoricalCrossentropy(from_logits=False)\n",
        "\n",
        "# Compile the model\n",
        "model.compile(\n",
        "    loss=loss,\n",
        "    optimizer=optimizer,\n",
        "    metrics=['accuracy'])"
      ],
      "metadata": {
        "colab": {
          "base_uri": "https://localhost:8080/"
        },
        "id": "BErwkKlBO78L",
        "outputId": "52af1376-8f19-418c-e447-69d0966fea14"
      },
      "execution_count": 69,
      "outputs": [
        {
          "output_type": "stream",
          "name": "stderr",
          "text": [
            "/usr/local/lib/python3.7/dist-packages/keras/optimizer_v2/gradient_descent.py:102: UserWarning: The `lr` argument is deprecated, use `learning_rate` instead.\n",
            "  super(SGD, self).__init__(name, **kwargs)\n"
          ]
        }
      ]
    },
    {
      "cell_type": "code",
      "source": [
        "hist = model.fit(\n",
        "    X_train, y_train,\n",
        "    batch_size=batch_size,\n",
        "    epochs=epochs,\n",
        "    validation_data=(X_valid, y_valid),\n",
        "    verbose=1)"
      ],
      "metadata": {
        "colab": {
          "base_uri": "https://localhost:8080/"
        },
        "id": "Zxz2DRQ3PAkJ",
        "outputId": "2c087174-14da-4c14-d5c1-bedaf70c42c9"
      },
      "execution_count": 70,
      "outputs": [
        {
          "output_type": "stream",
          "name": "stdout",
          "text": [
            "Epoch 1/100\n",
            "2/2 [==============================] - 10s 5s/step - loss: 0.9695 - accuracy: 0.6875 - val_loss: 1.0767 - val_accuracy: 0.1667\n",
            "Epoch 2/100\n",
            "2/2 [==============================] - 2s 870ms/step - loss: 0.9599 - accuracy: 0.7500 - val_loss: 1.0765 - val_accuracy: 0.3333\n",
            "Epoch 3/100\n",
            "2/2 [==============================] - 2s 874ms/step - loss: 0.9484 - accuracy: 0.7500 - val_loss: 1.0746 - val_accuracy: 0.3333\n",
            "Epoch 4/100\n",
            "2/2 [==============================] - 2s 868ms/step - loss: 0.9415 - accuracy: 0.7292 - val_loss: 1.0721 - val_accuracy: 0.3333\n",
            "Epoch 5/100\n",
            "2/2 [==============================] - 2s 878ms/step - loss: 0.9313 - accuracy: 0.8125 - val_loss: 1.0719 - val_accuracy: 0.3333\n",
            "Epoch 6/100\n",
            "2/2 [==============================] - 2s 877ms/step - loss: 0.9220 - accuracy: 0.7500 - val_loss: 1.0712 - val_accuracy: 0.3333\n",
            "Epoch 7/100\n",
            "2/2 [==============================] - 2s 876ms/step - loss: 0.9129 - accuracy: 0.8125 - val_loss: 1.0689 - val_accuracy: 0.3333\n",
            "Epoch 8/100\n",
            "2/2 [==============================] - 2s 874ms/step - loss: 0.9030 - accuracy: 0.8333 - val_loss: 1.0669 - val_accuracy: 0.3333\n",
            "Epoch 9/100\n",
            "2/2 [==============================] - 2s 878ms/step - loss: 0.8931 - accuracy: 0.8333 - val_loss: 1.0656 - val_accuracy: 0.3333\n",
            "Epoch 10/100\n",
            "2/2 [==============================] - 2s 882ms/step - loss: 0.8832 - accuracy: 0.8542 - val_loss: 1.0641 - val_accuracy: 0.3333\n",
            "Epoch 11/100\n",
            "2/2 [==============================] - 2s 875ms/step - loss: 0.8820 - accuracy: 0.8542 - val_loss: 1.0601 - val_accuracy: 0.3333\n",
            "Epoch 12/100\n",
            "2/2 [==============================] - 2s 873ms/step - loss: 0.8633 - accuracy: 0.8542 - val_loss: 1.0601 - val_accuracy: 0.3333\n",
            "Epoch 13/100\n",
            "2/2 [==============================] - 2s 881ms/step - loss: 0.8520 - accuracy: 0.8750 - val_loss: 1.0590 - val_accuracy: 0.3333\n",
            "Epoch 14/100\n",
            "2/2 [==============================] - 2s 879ms/step - loss: 0.8452 - accuracy: 0.8750 - val_loss: 1.0579 - val_accuracy: 0.5000\n",
            "Epoch 15/100\n",
            "2/2 [==============================] - 2s 884ms/step - loss: 0.8366 - accuracy: 0.8958 - val_loss: 1.0582 - val_accuracy: 0.5000\n",
            "Epoch 16/100\n",
            "2/2 [==============================] - 2s 873ms/step - loss: 0.8189 - accuracy: 0.8750 - val_loss: 1.0561 - val_accuracy: 0.5000\n",
            "Epoch 17/100\n",
            "2/2 [==============================] - 2s 869ms/step - loss: 0.8068 - accuracy: 0.9167 - val_loss: 1.0552 - val_accuracy: 0.5000\n",
            "Epoch 18/100\n",
            "2/2 [==============================] - 2s 874ms/step - loss: 0.7936 - accuracy: 0.8958 - val_loss: 1.0524 - val_accuracy: 0.5000\n",
            "Epoch 19/100\n",
            "2/2 [==============================] - 2s 877ms/step - loss: 0.7795 - accuracy: 0.8958 - val_loss: 1.0506 - val_accuracy: 0.5000\n",
            "Epoch 20/100\n",
            "2/2 [==============================] - 2s 871ms/step - loss: 0.7651 - accuracy: 0.9167 - val_loss: 1.0483 - val_accuracy: 0.5000\n",
            "Epoch 21/100\n",
            "2/2 [==============================] - 2s 873ms/step - loss: 0.7519 - accuracy: 0.9583 - val_loss: 1.0462 - val_accuracy: 0.5000\n",
            "Epoch 22/100\n",
            "2/2 [==============================] - 2s 873ms/step - loss: 0.7399 - accuracy: 0.9375 - val_loss: 1.0426 - val_accuracy: 0.5000\n",
            "Epoch 23/100\n",
            "2/2 [==============================] - 2s 876ms/step - loss: 0.7214 - accuracy: 0.9583 - val_loss: 1.0432 - val_accuracy: 0.5000\n",
            "Epoch 24/100\n",
            "2/2 [==============================] - 2s 882ms/step - loss: 0.7033 - accuracy: 0.9375 - val_loss: 1.0413 - val_accuracy: 0.5000\n",
            "Epoch 25/100\n",
            "2/2 [==============================] - 2s 872ms/step - loss: 0.6915 - accuracy: 0.9583 - val_loss: 1.0400 - val_accuracy: 0.5000\n",
            "Epoch 26/100\n",
            "2/2 [==============================] - 2s 871ms/step - loss: 0.6703 - accuracy: 0.9583 - val_loss: 1.0374 - val_accuracy: 0.5000\n",
            "Epoch 27/100\n",
            "2/2 [==============================] - 2s 869ms/step - loss: 0.6513 - accuracy: 0.9792 - val_loss: 1.0371 - val_accuracy: 0.5000\n",
            "Epoch 28/100\n",
            "2/2 [==============================] - 2s 882ms/step - loss: 0.6328 - accuracy: 1.0000 - val_loss: 1.0359 - val_accuracy: 0.5000\n",
            "Epoch 29/100\n",
            "2/2 [==============================] - 2s 873ms/step - loss: 0.6194 - accuracy: 0.9583 - val_loss: 1.0385 - val_accuracy: 0.5000\n",
            "Epoch 30/100\n",
            "2/2 [==============================] - 2s 884ms/step - loss: 0.5997 - accuracy: 0.9583 - val_loss: 1.0335 - val_accuracy: 0.5000\n",
            "Epoch 31/100\n",
            "2/2 [==============================] - 2s 874ms/step - loss: 0.5760 - accuracy: 1.0000 - val_loss: 1.0360 - val_accuracy: 0.5000\n",
            "Epoch 32/100\n",
            "2/2 [==============================] - 2s 872ms/step - loss: 0.5552 - accuracy: 0.9792 - val_loss: 1.0353 - val_accuracy: 0.5000\n",
            "Epoch 33/100\n",
            "2/2 [==============================] - 2s 883ms/step - loss: 0.5334 - accuracy: 1.0000 - val_loss: 1.0385 - val_accuracy: 0.5000\n",
            "Epoch 34/100\n",
            "2/2 [==============================] - 2s 872ms/step - loss: 0.5118 - accuracy: 1.0000 - val_loss: 1.0432 - val_accuracy: 0.5000\n",
            "Epoch 35/100\n",
            "2/2 [==============================] - 2s 869ms/step - loss: 0.4895 - accuracy: 1.0000 - val_loss: 1.0459 - val_accuracy: 0.5000\n",
            "Epoch 36/100\n",
            "2/2 [==============================] - 2s 878ms/step - loss: 0.4725 - accuracy: 1.0000 - val_loss: 1.0545 - val_accuracy: 0.5000\n",
            "Epoch 37/100\n",
            "2/2 [==============================] - 2s 878ms/step - loss: 0.4446 - accuracy: 1.0000 - val_loss: 1.0595 - val_accuracy: 0.5000\n",
            "Epoch 38/100\n",
            "2/2 [==============================] - 2s 869ms/step - loss: 0.4216 - accuracy: 1.0000 - val_loss: 1.0631 - val_accuracy: 0.3333\n",
            "Epoch 39/100\n",
            "2/2 [==============================] - 2s 871ms/step - loss: 0.4056 - accuracy: 1.0000 - val_loss: 1.0792 - val_accuracy: 0.5000\n",
            "Epoch 40/100\n",
            "2/2 [==============================] - 2s 880ms/step - loss: 0.3754 - accuracy: 1.0000 - val_loss: 1.0829 - val_accuracy: 0.3333\n",
            "Epoch 41/100\n",
            "2/2 [==============================] - 2s 874ms/step - loss: 0.3525 - accuracy: 1.0000 - val_loss: 1.0908 - val_accuracy: 0.3333\n",
            "Epoch 42/100\n",
            "2/2 [==============================] - 2s 876ms/step - loss: 0.3282 - accuracy: 1.0000 - val_loss: 1.1071 - val_accuracy: 0.3333\n",
            "Epoch 43/100\n",
            "2/2 [==============================] - 2s 875ms/step - loss: 0.3064 - accuracy: 1.0000 - val_loss: 1.1105 - val_accuracy: 0.3333\n",
            "Epoch 44/100\n",
            "2/2 [==============================] - 2s 873ms/step - loss: 0.2868 - accuracy: 1.0000 - val_loss: 1.1284 - val_accuracy: 0.3333\n",
            "Epoch 45/100\n",
            "2/2 [==============================] - 2s 871ms/step - loss: 0.2699 - accuracy: 1.0000 - val_loss: 1.1449 - val_accuracy: 0.3333\n",
            "Epoch 46/100\n",
            "2/2 [==============================] - 2s 871ms/step - loss: 0.2446 - accuracy: 1.0000 - val_loss: 1.1611 - val_accuracy: 0.3333\n",
            "Epoch 47/100\n",
            "2/2 [==============================] - 2s 884ms/step - loss: 0.2239 - accuracy: 1.0000 - val_loss: 1.1605 - val_accuracy: 0.3333\n",
            "Epoch 48/100\n",
            "2/2 [==============================] - 2s 878ms/step - loss: 0.2065 - accuracy: 1.0000 - val_loss: 1.1864 - val_accuracy: 0.3333\n",
            "Epoch 49/100\n",
            "2/2 [==============================] - 2s 877ms/step - loss: 0.1917 - accuracy: 1.0000 - val_loss: 1.1859 - val_accuracy: 0.3333\n",
            "Epoch 50/100\n",
            "2/2 [==============================] - 2s 870ms/step - loss: 0.1719 - accuracy: 1.0000 - val_loss: 1.2152 - val_accuracy: 0.3333\n",
            "Epoch 51/100\n",
            "2/2 [==============================] - 2s 872ms/step - loss: 0.1680 - accuracy: 1.0000 - val_loss: 1.2129 - val_accuracy: 0.3333\n",
            "Epoch 52/100\n",
            "2/2 [==============================] - 2s 877ms/step - loss: 0.1501 - accuracy: 1.0000 - val_loss: 1.2319 - val_accuracy: 0.3333\n",
            "Epoch 53/100\n",
            "2/2 [==============================] - 2s 878ms/step - loss: 0.1305 - accuracy: 1.0000 - val_loss: 1.2514 - val_accuracy: 0.3333\n",
            "Epoch 54/100\n",
            "2/2 [==============================] - 2s 873ms/step - loss: 0.1211 - accuracy: 1.0000 - val_loss: 1.2581 - val_accuracy: 0.3333\n",
            "Epoch 55/100\n",
            "2/2 [==============================] - 2s 874ms/step - loss: 0.1201 - accuracy: 1.0000 - val_loss: 1.2718 - val_accuracy: 0.3333\n",
            "Epoch 56/100\n",
            "2/2 [==============================] - 2s 874ms/step - loss: 0.0967 - accuracy: 1.0000 - val_loss: 1.2974 - val_accuracy: 0.3333\n",
            "Epoch 57/100\n",
            "2/2 [==============================] - 2s 873ms/step - loss: 0.0866 - accuracy: 1.0000 - val_loss: 1.3148 - val_accuracy: 0.3333\n",
            "Epoch 58/100\n",
            "2/2 [==============================] - 2s 873ms/step - loss: 0.0766 - accuracy: 1.0000 - val_loss: 1.3278 - val_accuracy: 0.3333\n",
            "Epoch 59/100\n",
            "2/2 [==============================] - 2s 869ms/step - loss: 0.0727 - accuracy: 1.0000 - val_loss: 1.3456 - val_accuracy: 0.3333\n",
            "Epoch 60/100\n",
            "2/2 [==============================] - 2s 868ms/step - loss: 0.0652 - accuracy: 1.0000 - val_loss: 1.3573 - val_accuracy: 0.3333\n",
            "Epoch 61/100\n",
            "2/2 [==============================] - 2s 870ms/step - loss: 0.0590 - accuracy: 1.0000 - val_loss: 1.3760 - val_accuracy: 0.3333\n",
            "Epoch 62/100\n",
            "2/2 [==============================] - 2s 879ms/step - loss: 0.0526 - accuracy: 1.0000 - val_loss: 1.3847 - val_accuracy: 0.3333\n",
            "Epoch 63/100\n",
            "2/2 [==============================] - 2s 877ms/step - loss: 0.0485 - accuracy: 1.0000 - val_loss: 1.4038 - val_accuracy: 0.3333\n",
            "Epoch 64/100\n",
            "2/2 [==============================] - 2s 872ms/step - loss: 0.0474 - accuracy: 1.0000 - val_loss: 1.4128 - val_accuracy: 0.3333\n",
            "Epoch 65/100\n",
            "2/2 [==============================] - 2s 878ms/step - loss: 0.0415 - accuracy: 1.0000 - val_loss: 1.4246 - val_accuracy: 0.3333\n",
            "Epoch 66/100\n",
            "2/2 [==============================] - 2s 874ms/step - loss: 0.0373 - accuracy: 1.0000 - val_loss: 1.4346 - val_accuracy: 0.3333\n",
            "Epoch 67/100\n",
            "2/2 [==============================] - 2s 873ms/step - loss: 0.0347 - accuracy: 1.0000 - val_loss: 1.4453 - val_accuracy: 0.3333\n",
            "Epoch 68/100\n",
            "2/2 [==============================] - 2s 867ms/step - loss: 0.0323 - accuracy: 1.0000 - val_loss: 1.4532 - val_accuracy: 0.3333\n",
            "Epoch 69/100\n",
            "2/2 [==============================] - 2s 878ms/step - loss: 0.0293 - accuracy: 1.0000 - val_loss: 1.4643 - val_accuracy: 0.3333\n",
            "Epoch 70/100\n",
            "2/2 [==============================] - 2s 876ms/step - loss: 0.0275 - accuracy: 1.0000 - val_loss: 1.4740 - val_accuracy: 0.3333\n",
            "Epoch 71/100\n",
            "2/2 [==============================] - 2s 874ms/step - loss: 0.0257 - accuracy: 1.0000 - val_loss: 1.4822 - val_accuracy: 0.3333\n",
            "Epoch 72/100\n",
            "2/2 [==============================] - 2s 871ms/step - loss: 0.0242 - accuracy: 1.0000 - val_loss: 1.4918 - val_accuracy: 0.3333\n",
            "Epoch 73/100\n",
            "2/2 [==============================] - 2s 873ms/step - loss: 0.0222 - accuracy: 1.0000 - val_loss: 1.5006 - val_accuracy: 0.3333\n",
            "Epoch 74/100\n",
            "2/2 [==============================] - 2s 876ms/step - loss: 0.0212 - accuracy: 1.0000 - val_loss: 1.5074 - val_accuracy: 0.3333\n",
            "Epoch 75/100\n",
            "2/2 [==============================] - 2s 875ms/step - loss: 0.0195 - accuracy: 1.0000 - val_loss: 1.5162 - val_accuracy: 0.3333\n",
            "Epoch 76/100\n",
            "2/2 [==============================] - 2s 871ms/step - loss: 0.0184 - accuracy: 1.0000 - val_loss: 1.5234 - val_accuracy: 0.3333\n",
            "Epoch 77/100\n",
            "2/2 [==============================] - 2s 874ms/step - loss: 0.0176 - accuracy: 1.0000 - val_loss: 1.5303 - val_accuracy: 0.3333\n",
            "Epoch 78/100\n",
            "2/2 [==============================] - 2s 873ms/step - loss: 0.0166 - accuracy: 1.0000 - val_loss: 1.5392 - val_accuracy: 0.3333\n",
            "Epoch 79/100\n",
            "2/2 [==============================] - 2s 880ms/step - loss: 0.0157 - accuracy: 1.0000 - val_loss: 1.5449 - val_accuracy: 0.3333\n",
            "Epoch 80/100\n",
            "2/2 [==============================] - 2s 869ms/step - loss: 0.0147 - accuracy: 1.0000 - val_loss: 1.5508 - val_accuracy: 0.3333\n",
            "Epoch 81/100\n",
            "2/2 [==============================] - 2s 876ms/step - loss: 0.0141 - accuracy: 1.0000 - val_loss: 1.5571 - val_accuracy: 0.3333\n",
            "Epoch 82/100\n",
            "2/2 [==============================] - 2s 877ms/step - loss: 0.0133 - accuracy: 1.0000 - val_loss: 1.5635 - val_accuracy: 0.3333\n",
            "Epoch 83/100\n",
            "2/2 [==============================] - 2s 874ms/step - loss: 0.0130 - accuracy: 1.0000 - val_loss: 1.5710 - val_accuracy: 0.3333\n",
            "Epoch 84/100\n",
            "2/2 [==============================] - 2s 875ms/step - loss: 0.0125 - accuracy: 1.0000 - val_loss: 1.5764 - val_accuracy: 0.3333\n",
            "Epoch 85/100\n",
            "2/2 [==============================] - 2s 879ms/step - loss: 0.0120 - accuracy: 1.0000 - val_loss: 1.5811 - val_accuracy: 0.3333\n",
            "Epoch 86/100\n",
            "2/2 [==============================] - 2s 880ms/step - loss: 0.0111 - accuracy: 1.0000 - val_loss: 1.5868 - val_accuracy: 0.3333\n",
            "Epoch 87/100\n",
            "2/2 [==============================] - 2s 872ms/step - loss: 0.0105 - accuracy: 1.0000 - val_loss: 1.5927 - val_accuracy: 0.3333\n",
            "Epoch 88/100\n",
            "2/2 [==============================] - 2s 879ms/step - loss: 0.0101 - accuracy: 1.0000 - val_loss: 1.5985 - val_accuracy: 0.3333\n",
            "Epoch 89/100\n",
            "2/2 [==============================] - 2s 882ms/step - loss: 0.0098 - accuracy: 1.0000 - val_loss: 1.6044 - val_accuracy: 0.1667\n",
            "Epoch 90/100\n",
            "2/2 [==============================] - 2s 876ms/step - loss: 0.0093 - accuracy: 1.0000 - val_loss: 1.6094 - val_accuracy: 0.1667\n",
            "Epoch 91/100\n",
            "2/2 [==============================] - 2s 873ms/step - loss: 0.0091 - accuracy: 1.0000 - val_loss: 1.6149 - val_accuracy: 0.1667\n",
            "Epoch 92/100\n",
            "2/2 [==============================] - 2s 888ms/step - loss: 0.0089 - accuracy: 1.0000 - val_loss: 1.6199 - val_accuracy: 0.3333\n",
            "Epoch 93/100\n",
            "2/2 [==============================] - 2s 876ms/step - loss: 0.0083 - accuracy: 1.0000 - val_loss: 1.6248 - val_accuracy: 0.3333\n",
            "Epoch 94/100\n",
            "2/2 [==============================] - 2s 879ms/step - loss: 0.0083 - accuracy: 1.0000 - val_loss: 1.6300 - val_accuracy: 0.3333\n",
            "Epoch 95/100\n",
            "2/2 [==============================] - 2s 875ms/step - loss: 0.0077 - accuracy: 1.0000 - val_loss: 1.6343 - val_accuracy: 0.3333\n",
            "Epoch 96/100\n",
            "2/2 [==============================] - 2s 890ms/step - loss: 0.0075 - accuracy: 1.0000 - val_loss: 1.6392 - val_accuracy: 0.3333\n",
            "Epoch 97/100\n",
            "2/2 [==============================] - 2s 873ms/step - loss: 0.0071 - accuracy: 1.0000 - val_loss: 1.6438 - val_accuracy: 0.3333\n",
            "Epoch 98/100\n",
            "2/2 [==============================] - 2s 895ms/step - loss: 0.0069 - accuracy: 1.0000 - val_loss: 1.6483 - val_accuracy: 0.3333\n",
            "Epoch 99/100\n",
            "2/2 [==============================] - 2s 877ms/step - loss: 0.0068 - accuracy: 1.0000 - val_loss: 1.6530 - val_accuracy: 0.3333\n",
            "Epoch 100/100\n",
            "2/2 [==============================] - 2s 868ms/step - loss: 0.0065 - accuracy: 1.0000 - val_loss: 1.6572 - val_accuracy: 0.3333\n"
          ]
        }
      ]
    },
    {
      "cell_type": "code",
      "source": [
        "# Predict the probability of each image\n",
        "y_hat_valid_probs = model.predict(X_valid)\n",
        "\n",
        "# Select the class with the highest probability as the predicted class.\n",
        "y_hat_valid = np.argmax(y_hat_valid_probs, axis=-1)\n",
        "\n",
        "print(y_hat_valid_probs.shape)\n",
        "print(y_hat_valid.shape)"
      ],
      "metadata": {
        "colab": {
          "base_uri": "https://localhost:8080/"
        },
        "id": "0wTIkWYOPBK-",
        "outputId": "5ea4417c-d37d-4121-8bc3-83090edee1c3"
      },
      "execution_count": 71,
      "outputs": [
        {
          "output_type": "stream",
          "name": "stdout",
          "text": [
            "(6, 3)\n",
            "(6,)\n"
          ]
        }
      ]
    },
    {
      "cell_type": "code",
      "source": [
        "print('Validation Set')\n",
        "print(confusion_matrix(y_true=y_valid, y_pred=y_hat_valid))\n",
        "print(f'Accuracy: {accuracy_score(y_true=y_valid, y_pred=y_hat_valid):.2f}')\n",
        "print(f'Macro F1-score: {f1_score(y_true=y_valid, y_pred=y_hat_valid, average=\"macro\"):.2f}')"
      ],
      "metadata": {
        "colab": {
          "base_uri": "https://localhost:8080/"
        },
        "id": "wBedc4C6PDlU",
        "outputId": "7b187521-b14a-44a8-bd01-06fb7ae8726a"
      },
      "execution_count": 72,
      "outputs": [
        {
          "output_type": "stream",
          "name": "stdout",
          "text": [
            "Validation Set\n",
            "[[2 0 0]\n",
            " [3 0 0]\n",
            " [1 0 0]]\n",
            "Accuracy: 0.33\n",
            "Macro F1-score: 0.17\n"
          ]
        }
      ]
    },
    {
      "cell_type": "code",
      "source": [
        "# Predict the probability of each image\n",
        "y_hat_test_probs = model.predict(X_test)\n",
        "\n",
        "# Select the class with the highest probability as the predicted class.\n",
        "y_hat_test = np.argmax(y_hat_test_probs, axis=-1)\n",
        "\n",
        "print(y_hat_test_probs.shape)\n",
        "print(y_hat_test.shape)"
      ],
      "metadata": {
        "colab": {
          "base_uri": "https://localhost:8080/"
        },
        "id": "E1DnRuitPF3m",
        "outputId": "949b80af-e935-4fbb-be80-ec3a065ddf1b"
      },
      "execution_count": 73,
      "outputs": [
        {
          "output_type": "stream",
          "name": "stdout",
          "text": [
            "(6, 3)\n",
            "(6,)\n"
          ]
        }
      ]
    },
    {
      "cell_type": "code",
      "source": [
        "print('Test Set')\n",
        "print(confusion_matrix(y_true=y_test, y_pred=y_hat_test))\n",
        "print(f'Accuracy: {accuracy_score(y_true=y_test, y_pred=y_hat_test):.2f}')\n",
        "print(f'Macro F1-score: {f1_score(y_true=y_test, y_pred=y_hat_test, average=\"macro\"):.2f}')"
      ],
      "metadata": {
        "colab": {
          "base_uri": "https://localhost:8080/"
        },
        "id": "BSSv6TAOPJx3",
        "outputId": "9fbfe0d7-78f2-41c8-a25c-ff4044a82183"
      },
      "execution_count": 74,
      "outputs": [
        {
          "output_type": "stream",
          "name": "stdout",
          "text": [
            "Test Set\n",
            "[[1 0 1]\n",
            " [1 1 0]\n",
            " [0 0 2]]\n",
            "Accuracy: 0.67\n",
            "Macro F1-score: 0.66\n"
          ]
        }
      ]
    },
    {
      "cell_type": "code",
      "source": [
        "from tensorflow.keras.applications.vgg16 import decode_predictions\n",
        "\n",
        "images = []\n",
        "for f in files:\n",
        "    # Load and resize the image\n",
        "    img = image.load_img(f, target_size=IMG_SIZE)\n",
        "\n",
        "    # Convert the Image object into a numpy array\n",
        "    img = image.img_to_array(img)\n",
        "\n",
        "    # Add to a list of images\n",
        "    images.append(img)\n",
        "\n",
        "    # Visualize the resize image\n",
        "    print(f'[image {f}]')\n",
        "    plt.imshow(image.img_to_array(img).astype('uint8'))\n",
        "    plt.show()\n",
        "    plt.close(\"all\")\n",
        "images = np.asarray(images)\n",
        "\n",
        "# Preprocess the input array\n",
        "x = preprocess_input(images)\n",
        "\n",
        "print(f\"Image shape: {x.shape}\")\n",
        "# Feed the preprocessed, downloaded image to the pretrained VGG-16.\n",
        "# The outputs are the probabilities of classes defined in ImageNet.\n",
        "probs = model.predict(x)\n",
        "\n",
        "# Display the results\n",
        "for i in range(len(files)):\n",
        "    print(f'[image {files[i]}]')\n",
        "    for c in range(num_classes):\n",
        "        print(f'{class2text[c]} ({probs[i][c]*100:.2f}%)')\n",
        "    print('')"
      ],
      "metadata": {
        "colab": {
          "base_uri": "https://localhost:8080/",
          "height": 391
        },
        "id": "oC82RjCEPMEz",
        "outputId": "3cbcdf70-fee5-49dd-9be0-ff94542dc7d3"
      },
      "execution_count": 75,
      "outputs": [
        {
          "output_type": "stream",
          "name": "stdout",
          "text": [
            "[image Keema-Curry-1343-I-500x500.jpg]\n"
          ]
        },
        {
          "output_type": "display_data",
          "data": {
            "text/plain": [
              "<Figure size 432x288 with 1 Axes>"
            ],
            "image/png": "[encoded data removed]"
          },
          "metadata": {
            "needs_background": "light"
          }
        },
        {
          "output_type": "stream",
          "name": "stdout",
          "text": [
            "Image shape: (1, 224, 224, 3)\n",
            "[image Keema-Curry-1343-I-500x500.jpg]\n",
            "Omurice (39.00%)\n",
            "Curry (57.08%)\n",
            "Ramen (3.92%)\n",
            "\n"
          ]
        }
      ]
    },
    {
      "cell_type": "code",
      "source": [
        "print(hist.history.keys())\n",
        "\n",
        "plt.plot(hist.history[\"loss\"], label =\"Train Loss\")\n",
        "plt.plot(hist.history[\"val_loss\"], label =\"Validation Loss\")\n",
        "plt.legend()\n",
        "plt.show()\n",
        "plt.figure()\n",
        "plt.plot(hist.history[\"accuracy\"], label =\"Train accuracy\")\n",
        "plt.plot(hist.history[\"val_accuracy\"], label =\"Validation accuracy\")\n",
        "plt.legend()\n",
        "plt.show()"
      ],
      "metadata": {
        "colab": {
          "base_uri": "https://localhost:8080/",
          "height": 530
        },
        "id": "Q1DMzcFtLrK8",
        "outputId": "4962ae43-b708-4409-ef94-8ca939674c98"
      },
      "execution_count": 76,
      "outputs": [
        {
          "output_type": "stream",
          "name": "stdout",
          "text": [
            "dict_keys(['loss', 'accuracy', 'val_loss', 'val_accuracy'])\n"
          ]
        },
        {
          "output_type": "display_data",
          "data": {
            "text/plain": [
              "<Figure size 432x288 with 1 Axes>"
            ],
            "image/png": "[encoded data removed]"
          },
          "metadata": {
            "needs_background": "light"
          }
        },
        {
          "output_type": "display_data",
          "data": {
            "text/plain": [
              "<Figure size 432x288 with 1 Axes>"
            ],
            "image/png": "[encoded data removed]"
          },
          "metadata": {
            "needs_background": "light"
          }
        }
      ]
    },
    {
      "cell_type": "markdown",
      "source": [
        "Results:\n",
        "\n",
        "* MobileNetV2 - Accuracy: 0.67 | Macro F1-score: 0.53 | Curry Picture deducted as Curry (88.81%)\n",
        "* ResNet50 - Accuracy: 0.50 | Macro F1-score: 0.39 | Curry Picture deducted as Curry (23.87%)\n",
        "* VGG16 - Accuracy: 0.67 | Macro F1-score: 0.66 | Curry Picture deducted as Curry (57.08%)"
      ],
      "metadata": {
        "id": "fEpY0OscYBGx"
      }
    },
    {
      "cell_type": "markdown",
      "source": [
        "For the parameters, I chose to use the epoches = 100, along with the batch_size = 25 as the optimum settings in order test the balance performance in each model. \n",
        "\n",
        "By doing the comparison of the classification for chosen deep learning models (MobileNetV2, ResNet50, and VGG16). I have selected the MobileNetV2 as the best model as it holds the overall better test scores compared to ResNet50 and VGG16. MobileNetV2 were preferably a lightweight model with less complexibility model size and faster accuracy to compute. "
      ],
      "metadata": {
        "id": "CTMY8ofVQTU1"
      }
    },
    {
      "cell_type": "markdown",
      "source": [
        "For the extra part, I'm going to try performing Hyperparameter optimization using optuna with the chosen model (MobileNetV2) as well."
      ],
      "metadata": {
        "id": "jS9o_9qKBbhZ"
      }
    },
    {
      "cell_type": "markdown",
      "source": [
        "# Hyperparameter Optimization with Optuna"
      ],
      "metadata": {
        "id": "kTsSmbUmPyQm"
      }
    },
    {
      "cell_type": "code",
      "source": [
        "!pip install optuna"
      ],
      "metadata": {
        "colab": {
          "base_uri": "https://localhost:8080/"
        },
        "id": "M7VQSa4PB0a_",
        "outputId": "3d04f549-ab3e-47d7-ab08-75de67a8aa02"
      },
      "execution_count": 77,
      "outputs": [
        {
          "output_type": "stream",
          "name": "stdout",
          "text": [
            "Requirement already satisfied: optuna in /usr/local/lib/python3.7/dist-packages (2.10.0)\n",
            "Requirement already satisfied: alembic in /usr/local/lib/python3.7/dist-packages (from optuna) (1.7.7)\n",
            "Requirement already satisfied: cmaes>=0.8.2 in /usr/local/lib/python3.7/dist-packages (from optuna) (0.8.2)\n",
            "Requirement already satisfied: packaging>=20.0 in /usr/local/lib/python3.7/dist-packages (from optuna) (21.3)\n",
            "Requirement already satisfied: numpy in /usr/local/lib/python3.7/dist-packages (from optuna) (1.21.5)\n",
            "Requirement already satisfied: scipy!=1.4.0 in /usr/local/lib/python3.7/dist-packages (from optuna) (1.4.1)\n",
            "Requirement already satisfied: sqlalchemy>=1.1.0 in /usr/local/lib/python3.7/dist-packages (from optuna) (1.4.32)\n",
            "Requirement already satisfied: PyYAML in /usr/local/lib/python3.7/dist-packages (from optuna) (3.13)\n",
            "Requirement already satisfied: colorlog in /usr/local/lib/python3.7/dist-packages (from optuna) (6.6.0)\n",
            "Requirement already satisfied: cliff in /usr/local/lib/python3.7/dist-packages (from optuna) (3.10.1)\n",
            "Requirement already satisfied: tqdm in /usr/local/lib/python3.7/dist-packages (from optuna) (4.63.0)\n",
            "Requirement already satisfied: pyparsing!=3.0.5,>=2.0.2 in /usr/local/lib/python3.7/dist-packages (from packaging>=20.0->optuna) (3.0.7)\n",
            "Requirement already satisfied: greenlet!=0.4.17 in /usr/local/lib/python3.7/dist-packages (from sqlalchemy>=1.1.0->optuna) (1.1.2)\n",
            "Requirement already satisfied: importlib-metadata in /usr/local/lib/python3.7/dist-packages (from sqlalchemy>=1.1.0->optuna) (4.11.3)\n",
            "Requirement already satisfied: Mako in /usr/local/lib/python3.7/dist-packages (from alembic->optuna) (1.2.0)\n",
            "Requirement already satisfied: importlib-resources in /usr/local/lib/python3.7/dist-packages (from alembic->optuna) (5.4.0)\n",
            "Requirement already satisfied: cmd2>=1.0.0 in /usr/local/lib/python3.7/dist-packages (from cliff->optuna) (2.4.0)\n",
            "Requirement already satisfied: stevedore>=2.0.1 in /usr/local/lib/python3.7/dist-packages (from cliff->optuna) (3.5.0)\n",
            "Requirement already satisfied: autopage>=0.4.0 in /usr/local/lib/python3.7/dist-packages (from cliff->optuna) (0.5.0)\n",
            "Requirement already satisfied: PrettyTable>=0.7.2 in /usr/local/lib/python3.7/dist-packages (from cliff->optuna) (3.2.0)\n",
            "Requirement already satisfied: pbr!=2.1.0,>=2.0.0 in /usr/local/lib/python3.7/dist-packages (from cliff->optuna) (5.8.1)\n",
            "Requirement already satisfied: pyperclip>=1.6 in /usr/local/lib/python3.7/dist-packages (from cmd2>=1.0.0->cliff->optuna) (1.8.2)\n",
            "Requirement already satisfied: attrs>=16.3.0 in /usr/local/lib/python3.7/dist-packages (from cmd2>=1.0.0->cliff->optuna) (21.4.0)\n",
            "Requirement already satisfied: typing-extensions in /usr/local/lib/python3.7/dist-packages (from cmd2>=1.0.0->cliff->optuna) (3.10.0.2)\n",
            "Requirement already satisfied: wcwidth>=0.1.7 in /usr/local/lib/python3.7/dist-packages (from cmd2>=1.0.0->cliff->optuna) (0.2.5)\n",
            "Requirement already satisfied: zipp>=0.5 in /usr/local/lib/python3.7/dist-packages (from importlib-metadata->sqlalchemy>=1.1.0->optuna) (3.7.0)\n",
            "Requirement already satisfied: MarkupSafe>=0.9.2 in /usr/local/lib/python3.7/dist-packages (from Mako->alembic->optuna) (2.0.1)\n"
          ]
        }
      ]
    },
    {
      "cell_type": "code",
      "source": [
        "import optuna\n",
        "from keras.models import Model\n",
        "\n",
        "def create_model(trial):\n",
        "    \n",
        "    # Hyperparameters to be tuned by Optuna.\n",
        "    learning_rate = trial.suggest_float(\"learning_rate\", 1e-4, 1e-1, log=True)\n",
        "    momentum = trial.suggest_float(\"momentum\", 0.0, 1.0)\n",
        "    \n",
        "    base_model = MobileNetV2(\n",
        "    input_shape=IMG_SIZE + (3,),  # plus (3, ) for the color channel\n",
        "    weights='imagenet',\n",
        "    # weights=None,\n",
        "    include_top=False)\n",
        "    x = base_model.output\n",
        "    x = BatchNormalization()(x)\n",
        "    x = Flatten()(x)\n",
        "    x = Dense(350, activation='relu')(x)\n",
        "    predictions = Dense(3, activation='softmax')(x)\n",
        "\n",
        "    model = Model(inputs=base_model.input, outputs=predictions)\n",
        "\n",
        "    for layer in base_model.layers:\n",
        "        layer.trainable = False\n",
        "\n",
        "    # Compile model.\n",
        "    model.compile(\n",
        "        optimizer= keras.optimizers.SGD(learning_rate=learning_rate, momentum=momentum, nesterov=True),\n",
        "        loss= tf.keras.losses.SparseCategoricalCrossentropy(from_logits=False),\n",
        "        metrics=[\"accuracy\"],\n",
        "    )\n",
        "\n",
        "    return model"
      ],
      "metadata": {
        "id": "1KnrH0MoC8-1"
      },
      "execution_count": 78,
      "outputs": []
    },
    {
      "cell_type": "code",
      "source": [
        "def objective(trial):\n",
        "\n",
        "  # Metrics to be monitored by Optuna.\n",
        "  if tf.__version__ >= \"2\":\n",
        "      monitor = \"val_accuracy\"\n",
        "  else:\n",
        "      monitor = \"val_acc\"\n",
        "\n",
        "  model = create_model(trial)\n",
        "\n",
        "  hist = model.fit(\n",
        "    X_train, y_train,\n",
        "    batch_size=batch_size,\n",
        "    epochs=epochs,\n",
        "    validation_data=(X_valid, y_valid),\n",
        "    verbose=1)\n",
        "  \n",
        "  return hist.history[monitor][-1]"
      ],
      "metadata": {
        "id": "kXSSR5e8E2Hl"
      },
      "execution_count": 79,
      "outputs": []
    },
    {
      "cell_type": "code",
      "source": [
        "if __name__ == \"__main__\":\n",
        "    study = optuna.create_study(direction=\"maximize\")\n",
        "    study.optimize(objective, n_trials=3)"
      ],
      "metadata": {
        "colab": {
          "base_uri": "https://localhost:8080/"
        },
        "id": "IJQSWoezGgrP",
        "outputId": "070d813c-932c-461f-a736-e988d04e0672"
      },
      "execution_count": 80,
      "outputs": [
        {
          "output_type": "stream",
          "name": "stderr",
          "text": [
            "\u001b[32m[I 2022-04-07 09:08:43,122]\u001b[0m A new study created in memory with name: no-name-2948e74c-9a0e-479f-a826-e8be3e2e16df\u001b[0m\n"
          ]
        },
        {
          "output_type": "stream",
          "name": "stdout",
          "text": [
            "Epoch 1/100\n",
            "2/2 [==============================] - 5s 2s/step - loss: 1.3781 - accuracy: 0.3125 - val_loss: 1.5060 - val_accuracy: 0.5000\n",
            "Epoch 2/100\n",
            "2/2 [==============================] - 0s 148ms/step - loss: 0.7605 - accuracy: 0.6875 - val_loss: 1.5456 - val_accuracy: 0.5000\n",
            "Epoch 3/100\n",
            "2/2 [==============================] - 0s 140ms/step - loss: 0.3784 - accuracy: 1.0000 - val_loss: 1.5654 - val_accuracy: 0.5000\n",
            "Epoch 4/100\n",
            "2/2 [==============================] - 0s 208ms/step - loss: 0.1790 - accuracy: 1.0000 - val_loss: 1.5783 - val_accuracy: 0.5000\n",
            "Epoch 5/100\n",
            "2/2 [==============================] - 0s 142ms/step - loss: 0.1316 - accuracy: 1.0000 - val_loss: 1.5789 - val_accuracy: 0.5000\n",
            "Epoch 6/100\n",
            "2/2 [==============================] - 0s 161ms/step - loss: 0.0925 - accuracy: 1.0000 - val_loss: 1.5753 - val_accuracy: 0.5000\n",
            "Epoch 7/100\n",
            "2/2 [==============================] - 0s 154ms/step - loss: 0.0637 - accuracy: 1.0000 - val_loss: 1.5703 - val_accuracy: 0.5000\n",
            "Epoch 8/100\n",
            "2/2 [==============================] - 0s 219ms/step - loss: 0.0561 - accuracy: 1.0000 - val_loss: 1.5658 - val_accuracy: 0.5000\n",
            "Epoch 9/100\n",
            "2/2 [==============================] - 0s 144ms/step - loss: 0.0546 - accuracy: 1.0000 - val_loss: 1.5590 - val_accuracy: 0.5000\n",
            "Epoch 10/100\n",
            "2/2 [==============================] - 0s 202ms/step - loss: 0.0429 - accuracy: 1.0000 - val_loss: 1.5505 - val_accuracy: 0.5000\n",
            "Epoch 11/100\n",
            "2/2 [==============================] - 0s 179ms/step - loss: 0.0378 - accuracy: 1.0000 - val_loss: 1.5432 - val_accuracy: 0.5000\n",
            "Epoch 12/100\n",
            "2/2 [==============================] - 0s 137ms/step - loss: 0.0328 - accuracy: 1.0000 - val_loss: 1.5366 - val_accuracy: 0.5000\n",
            "Epoch 13/100\n",
            "2/2 [==============================] - 0s 142ms/step - loss: 0.0353 - accuracy: 1.0000 - val_loss: 1.5318 - val_accuracy: 0.5000\n",
            "Epoch 14/100\n",
            "2/2 [==============================] - 0s 144ms/step - loss: 0.0298 - accuracy: 1.0000 - val_loss: 1.5259 - val_accuracy: 0.5000\n",
            "Epoch 15/100\n",
            "2/2 [==============================] - 0s 206ms/step - loss: 0.0290 - accuracy: 1.0000 - val_loss: 1.5205 - val_accuracy: 0.5000\n",
            "Epoch 16/100\n",
            "2/2 [==============================] - 0s 164ms/step - loss: 0.0263 - accuracy: 1.0000 - val_loss: 1.5157 - val_accuracy: 0.5000\n",
            "Epoch 17/100\n",
            "2/2 [==============================] - 0s 173ms/step - loss: 0.0254 - accuracy: 1.0000 - val_loss: 1.5111 - val_accuracy: 0.5000\n",
            "Epoch 18/100\n",
            "2/2 [==============================] - 0s 144ms/step - loss: 0.0242 - accuracy: 1.0000 - val_loss: 1.5057 - val_accuracy: 0.5000\n",
            "Epoch 19/100\n",
            "2/2 [==============================] - 0s 191ms/step - loss: 0.0218 - accuracy: 1.0000 - val_loss: 1.5000 - val_accuracy: 0.5000\n",
            "Epoch 20/100\n",
            "2/2 [==============================] - 0s 154ms/step - loss: 0.0232 - accuracy: 1.0000 - val_loss: 1.4947 - val_accuracy: 0.5000\n",
            "Epoch 21/100\n",
            "2/2 [==============================] - 0s 159ms/step - loss: 0.0224 - accuracy: 1.0000 - val_loss: 1.4897 - val_accuracy: 0.5000\n",
            "Epoch 22/100\n",
            "2/2 [==============================] - 0s 163ms/step - loss: 0.0217 - accuracy: 1.0000 - val_loss: 1.4843 - val_accuracy: 0.5000\n",
            "Epoch 23/100\n",
            "2/2 [==============================] - 0s 158ms/step - loss: 0.0194 - accuracy: 1.0000 - val_loss: 1.4785 - val_accuracy: 0.5000\n",
            "Epoch 24/100\n",
            "2/2 [==============================] - 0s 184ms/step - loss: 0.0181 - accuracy: 1.0000 - val_loss: 1.4727 - val_accuracy: 0.5000\n",
            "Epoch 25/100\n",
            "2/2 [==============================] - 0s 152ms/step - loss: 0.0186 - accuracy: 1.0000 - val_loss: 1.4666 - val_accuracy: 0.5000\n",
            "Epoch 26/100\n",
            "2/2 [==============================] - 0s 166ms/step - loss: 0.0153 - accuracy: 1.0000 - val_loss: 1.4608 - val_accuracy: 0.5000\n",
            "Epoch 27/100\n",
            "2/2 [==============================] - 0s 153ms/step - loss: 0.0154 - accuracy: 1.0000 - val_loss: 1.4551 - val_accuracy: 0.5000\n",
            "Epoch 28/100\n",
            "2/2 [==============================] - 0s 187ms/step - loss: 0.0159 - accuracy: 1.0000 - val_loss: 1.4488 - val_accuracy: 0.5000\n",
            "Epoch 29/100\n",
            "2/2 [==============================] - 0s 162ms/step - loss: 0.0164 - accuracy: 1.0000 - val_loss: 1.4436 - val_accuracy: 0.5000\n",
            "Epoch 30/100\n",
            "2/2 [==============================] - 0s 168ms/step - loss: 0.0147 - accuracy: 1.0000 - val_loss: 1.4376 - val_accuracy: 0.5000\n",
            "Epoch 31/100\n",
            "2/2 [==============================] - 0s 169ms/step - loss: 0.0144 - accuracy: 1.0000 - val_loss: 1.4319 - val_accuracy: 0.5000\n",
            "Epoch 32/100\n",
            "2/2 [==============================] - 0s 194ms/step - loss: 0.0182 - accuracy: 1.0000 - val_loss: 1.4263 - val_accuracy: 0.5000\n",
            "Epoch 33/100\n",
            "2/2 [==============================] - 0s 149ms/step - loss: 0.0125 - accuracy: 1.0000 - val_loss: 1.4209 - val_accuracy: 0.5000\n",
            "Epoch 34/100\n",
            "2/2 [==============================] - 0s 184ms/step - loss: 0.0134 - accuracy: 1.0000 - val_loss: 1.4158 - val_accuracy: 0.5000\n",
            "Epoch 35/100\n",
            "2/2 [==============================] - 0s 188ms/step - loss: 0.0122 - accuracy: 1.0000 - val_loss: 1.4112 - val_accuracy: 0.5000\n",
            "Epoch 36/100\n",
            "2/2 [==============================] - 0s 174ms/step - loss: 0.0132 - accuracy: 1.0000 - val_loss: 1.4070 - val_accuracy: 0.5000\n",
            "Epoch 37/100\n",
            "2/2 [==============================] - 0s 176ms/step - loss: 0.0118 - accuracy: 1.0000 - val_loss: 1.4028 - val_accuracy: 0.5000\n",
            "Epoch 38/100\n",
            "2/2 [==============================] - 0s 175ms/step - loss: 0.0124 - accuracy: 1.0000 - val_loss: 1.3979 - val_accuracy: 0.5000\n",
            "Epoch 39/100\n",
            "2/2 [==============================] - 0s 239ms/step - loss: 0.0108 - accuracy: 1.0000 - val_loss: 1.3935 - val_accuracy: 0.5000\n",
            "Epoch 40/100\n",
            "2/2 [==============================] - 0s 156ms/step - loss: 0.0112 - accuracy: 1.0000 - val_loss: 1.3894 - val_accuracy: 0.5000\n",
            "Epoch 41/100\n",
            "2/2 [==============================] - 0s 166ms/step - loss: 0.0113 - accuracy: 1.0000 - val_loss: 1.3847 - val_accuracy: 0.5000\n",
            "Epoch 42/100\n",
            "2/2 [==============================] - 0s 172ms/step - loss: 0.0110 - accuracy: 1.0000 - val_loss: 1.3808 - val_accuracy: 0.5000\n",
            "Epoch 43/100\n",
            "2/2 [==============================] - 0s 224ms/step - loss: 0.0101 - accuracy: 1.0000 - val_loss: 1.3768 - val_accuracy: 0.5000\n",
            "Epoch 44/100\n",
            "2/2 [==============================] - 0s 186ms/step - loss: 0.0120 - accuracy: 1.0000 - val_loss: 1.3730 - val_accuracy: 0.5000\n",
            "Epoch 45/100\n",
            "2/2 [==============================] - 0s 277ms/step - loss: 0.0100 - accuracy: 1.0000 - val_loss: 1.3696 - val_accuracy: 0.5000\n",
            "Epoch 46/100\n",
            "2/2 [==============================] - 0s 178ms/step - loss: 0.0103 - accuracy: 1.0000 - val_loss: 1.3659 - val_accuracy: 0.5000\n",
            "Epoch 47/100\n",
            "2/2 [==============================] - 0s 317ms/step - loss: 0.0099 - accuracy: 1.0000 - val_loss: 1.3624 - val_accuracy: 0.5000\n",
            "Epoch 48/100\n",
            "2/2 [==============================] - 0s 214ms/step - loss: 0.0093 - accuracy: 1.0000 - val_loss: 1.3583 - val_accuracy: 0.5000\n",
            "Epoch 49/100\n",
            "2/2 [==============================] - 0s 202ms/step - loss: 0.0086 - accuracy: 1.0000 - val_loss: 1.3546 - val_accuracy: 0.5000\n",
            "Epoch 50/100\n",
            "2/2 [==============================] - 0s 175ms/step - loss: 0.0098 - accuracy: 1.0000 - val_loss: 1.3514 - val_accuracy: 0.5000\n",
            "Epoch 51/100\n",
            "2/2 [==============================] - 0s 212ms/step - loss: 0.0089 - accuracy: 1.0000 - val_loss: 1.3483 - val_accuracy: 0.5000\n",
            "Epoch 52/100\n",
            "2/2 [==============================] - 0s 196ms/step - loss: 0.0095 - accuracy: 1.0000 - val_loss: 1.3458 - val_accuracy: 0.5000\n",
            "Epoch 53/100\n",
            "2/2 [==============================] - 0s 151ms/step - loss: 0.0090 - accuracy: 1.0000 - val_loss: 1.3436 - val_accuracy: 0.5000\n",
            "Epoch 54/100\n",
            "2/2 [==============================] - 0s 207ms/step - loss: 0.0086 - accuracy: 1.0000 - val_loss: 1.3412 - val_accuracy: 0.5000\n",
            "Epoch 55/100\n",
            "2/2 [==============================] - 0s 212ms/step - loss: 0.0079 - accuracy: 1.0000 - val_loss: 1.3390 - val_accuracy: 0.5000\n",
            "Epoch 56/100\n",
            "2/2 [==============================] - 0s 204ms/step - loss: 0.0091 - accuracy: 1.0000 - val_loss: 1.3367 - val_accuracy: 0.5000\n",
            "Epoch 57/100\n",
            "2/2 [==============================] - 0s 231ms/step - loss: 0.0079 - accuracy: 1.0000 - val_loss: 1.3342 - val_accuracy: 0.5000\n",
            "Epoch 58/100\n",
            "2/2 [==============================] - 0s 180ms/step - loss: 0.0088 - accuracy: 1.0000 - val_loss: 1.3322 - val_accuracy: 0.5000\n",
            "Epoch 59/100\n",
            "2/2 [==============================] - 0s 189ms/step - loss: 0.0083 - accuracy: 1.0000 - val_loss: 1.3299 - val_accuracy: 0.5000\n",
            "Epoch 60/100\n",
            "2/2 [==============================] - 0s 195ms/step - loss: 0.0080 - accuracy: 1.0000 - val_loss: 1.3277 - val_accuracy: 0.5000\n",
            "Epoch 61/100\n",
            "2/2 [==============================] - 0s 147ms/step - loss: 0.0074 - accuracy: 1.0000 - val_loss: 1.3255 - val_accuracy: 0.5000\n",
            "Epoch 62/100\n",
            "2/2 [==============================] - 0s 156ms/step - loss: 0.0070 - accuracy: 1.0000 - val_loss: 1.3232 - val_accuracy: 0.5000\n",
            "Epoch 63/100\n",
            "2/2 [==============================] - 0s 160ms/step - loss: 0.0093 - accuracy: 1.0000 - val_loss: 1.3208 - val_accuracy: 0.5000\n",
            "Epoch 64/100\n",
            "2/2 [==============================] - 0s 221ms/step - loss: 0.0084 - accuracy: 1.0000 - val_loss: 1.3182 - val_accuracy: 0.5000\n",
            "Epoch 65/100\n",
            "2/2 [==============================] - 0s 164ms/step - loss: 0.0086 - accuracy: 1.0000 - val_loss: 1.3161 - val_accuracy: 0.5000\n",
            "Epoch 66/100\n",
            "2/2 [==============================] - 0s 187ms/step - loss: 0.0068 - accuracy: 1.0000 - val_loss: 1.3137 - val_accuracy: 0.5000\n",
            "Epoch 67/100\n",
            "2/2 [==============================] - 0s 159ms/step - loss: 0.0074 - accuracy: 1.0000 - val_loss: 1.3119 - val_accuracy: 0.5000\n",
            "Epoch 68/100\n",
            "2/2 [==============================] - 0s 154ms/step - loss: 0.0071 - accuracy: 1.0000 - val_loss: 1.3102 - val_accuracy: 0.5000\n",
            "Epoch 69/100\n",
            "2/2 [==============================] - 0s 243ms/step - loss: 0.0074 - accuracy: 1.0000 - val_loss: 1.3086 - val_accuracy: 0.5000\n",
            "Epoch 70/100\n",
            "2/2 [==============================] - 0s 226ms/step - loss: 0.0070 - accuracy: 1.0000 - val_loss: 1.3075 - val_accuracy: 0.5000\n",
            "Epoch 71/100\n",
            "2/2 [==============================] - 0s 229ms/step - loss: 0.0065 - accuracy: 1.0000 - val_loss: 1.3063 - val_accuracy: 0.5000\n",
            "Epoch 72/100\n",
            "2/2 [==============================] - 0s 256ms/step - loss: 0.0069 - accuracy: 1.0000 - val_loss: 1.3054 - val_accuracy: 0.5000\n",
            "Epoch 73/100\n",
            "2/2 [==============================] - 0s 168ms/step - loss: 0.0061 - accuracy: 1.0000 - val_loss: 1.3040 - val_accuracy: 0.5000\n",
            "Epoch 74/100\n",
            "2/2 [==============================] - 0s 158ms/step - loss: 0.0064 - accuracy: 1.0000 - val_loss: 1.3023 - val_accuracy: 0.5000\n",
            "Epoch 75/100\n",
            "2/2 [==============================] - 0s 227ms/step - loss: 0.0064 - accuracy: 1.0000 - val_loss: 1.3008 - val_accuracy: 0.5000\n",
            "Epoch 76/100\n",
            "2/2 [==============================] - 0s 165ms/step - loss: 0.0060 - accuracy: 1.0000 - val_loss: 1.2996 - val_accuracy: 0.5000\n",
            "Epoch 77/100\n",
            "2/2 [==============================] - 0s 177ms/step - loss: 0.0063 - accuracy: 1.0000 - val_loss: 1.2983 - val_accuracy: 0.5000\n",
            "Epoch 78/100\n",
            "2/2 [==============================] - 0s 151ms/step - loss: 0.0055 - accuracy: 1.0000 - val_loss: 1.2972 - val_accuracy: 0.5000\n",
            "Epoch 79/100\n",
            "2/2 [==============================] - 0s 180ms/step - loss: 0.0069 - accuracy: 1.0000 - val_loss: 1.2959 - val_accuracy: 0.5000\n",
            "Epoch 80/100\n",
            "2/2 [==============================] - 0s 222ms/step - loss: 0.0066 - accuracy: 1.0000 - val_loss: 1.2950 - val_accuracy: 0.5000\n",
            "Epoch 81/100\n",
            "2/2 [==============================] - 0s 167ms/step - loss: 0.0066 - accuracy: 1.0000 - val_loss: 1.2942 - val_accuracy: 0.5000\n",
            "Epoch 82/100\n",
            "2/2 [==============================] - 0s 239ms/step - loss: 0.0057 - accuracy: 1.0000 - val_loss: 1.2935 - val_accuracy: 0.5000\n",
            "Epoch 83/100\n",
            "2/2 [==============================] - 0s 170ms/step - loss: 0.0055 - accuracy: 1.0000 - val_loss: 1.2924 - val_accuracy: 0.5000\n",
            "Epoch 84/100\n",
            "2/2 [==============================] - 0s 178ms/step - loss: 0.0054 - accuracy: 1.0000 - val_loss: 1.2911 - val_accuracy: 0.5000\n",
            "Epoch 85/100\n",
            "2/2 [==============================] - 0s 251ms/step - loss: 0.0057 - accuracy: 1.0000 - val_loss: 1.2900 - val_accuracy: 0.5000\n",
            "Epoch 86/100\n",
            "2/2 [==============================] - 0s 150ms/step - loss: 0.0056 - accuracy: 1.0000 - val_loss: 1.2887 - val_accuracy: 0.5000\n",
            "Epoch 87/100\n",
            "2/2 [==============================] - 0s 150ms/step - loss: 0.0054 - accuracy: 1.0000 - val_loss: 1.2876 - val_accuracy: 0.5000\n",
            "Epoch 88/100\n",
            "2/2 [==============================] - 0s 193ms/step - loss: 0.0063 - accuracy: 1.0000 - val_loss: 1.2863 - val_accuracy: 0.5000\n",
            "Epoch 89/100\n",
            "2/2 [==============================] - 0s 142ms/step - loss: 0.0052 - accuracy: 1.0000 - val_loss: 1.2853 - val_accuracy: 0.5000\n",
            "Epoch 90/100\n",
            "2/2 [==============================] - 0s 159ms/step - loss: 0.0054 - accuracy: 1.0000 - val_loss: 1.2842 - val_accuracy: 0.5000\n",
            "Epoch 91/100\n",
            "2/2 [==============================] - 0s 160ms/step - loss: 0.0055 - accuracy: 1.0000 - val_loss: 1.2830 - val_accuracy: 0.5000\n",
            "Epoch 92/100\n",
            "2/2 [==============================] - 0s 165ms/step - loss: 0.0050 - accuracy: 1.0000 - val_loss: 1.2820 - val_accuracy: 0.5000\n",
            "Epoch 93/100\n",
            "2/2 [==============================] - 0s 152ms/step - loss: 0.0048 - accuracy: 1.0000 - val_loss: 1.2808 - val_accuracy: 0.5000\n",
            "Epoch 94/100\n",
            "2/2 [==============================] - 0s 184ms/step - loss: 0.0054 - accuracy: 1.0000 - val_loss: 1.2798 - val_accuracy: 0.5000\n",
            "Epoch 95/100\n",
            "2/2 [==============================] - 0s 181ms/step - loss: 0.0048 - accuracy: 1.0000 - val_loss: 1.2787 - val_accuracy: 0.5000\n",
            "Epoch 96/100\n",
            "2/2 [==============================] - 0s 167ms/step - loss: 0.0052 - accuracy: 1.0000 - val_loss: 1.2777 - val_accuracy: 0.5000\n",
            "Epoch 97/100\n",
            "2/2 [==============================] - 0s 170ms/step - loss: 0.0052 - accuracy: 1.0000 - val_loss: 1.2766 - val_accuracy: 0.5000\n",
            "Epoch 98/100\n",
            "2/2 [==============================] - 0s 162ms/step - loss: 0.0058 - accuracy: 1.0000 - val_loss: 1.2757 - val_accuracy: 0.5000\n",
            "Epoch 99/100\n",
            "2/2 [==============================] - 0s 197ms/step - loss: 0.0055 - accuracy: 1.0000 - val_loss: 1.2753 - val_accuracy: 0.5000\n",
            "Epoch 100/100\n",
            "2/2 [==============================] - 0s 166ms/step - loss: 0.0047 - accuracy: 1.0000 - val_loss: 1.2749 - val_accuracy: 0.5000\n"
          ]
        },
        {
          "output_type": "stream",
          "name": "stderr",
          "text": [
            "\u001b[32m[I 2022-04-07 09:09:30,030]\u001b[0m Trial 0 finished with value: 0.5 and parameters: {'learning_rate': 0.00013188094987546143, 'momentum': 0.7439151629707293}. Best is trial 0 with value: 0.5.\u001b[0m\n"
          ]
        },
        {
          "output_type": "stream",
          "name": "stdout",
          "text": [
            "Epoch 1/100\n",
            "2/2 [==============================] - 5s 1s/step - loss: 4.8326 - accuracy: 0.3750 - val_loss: 15.0135 - val_accuracy: 0.5000\n",
            "Epoch 2/100\n",
            "2/2 [==============================] - 0s 137ms/step - loss: 1.0205 - accuracy: 0.9375 - val_loss: 12.8726 - val_accuracy: 0.5000\n",
            "Epoch 3/100\n",
            "2/2 [==============================] - 0s 127ms/step - loss: 0.0116 - accuracy: 1.0000 - val_loss: 13.2240 - val_accuracy: 0.5000\n",
            "Epoch 4/100\n",
            "2/2 [==============================] - 0s 127ms/step - loss: 0.0033 - accuracy: 1.0000 - val_loss: 13.2717 - val_accuracy: 0.5000\n",
            "Epoch 5/100\n",
            "2/2 [==============================] - 0s 162ms/step - loss: 0.0013 - accuracy: 1.0000 - val_loss: 13.2275 - val_accuracy: 0.5000\n",
            "Epoch 6/100\n",
            "2/2 [==============================] - 0s 124ms/step - loss: 9.2638e-04 - accuracy: 1.0000 - val_loss: 13.1544 - val_accuracy: 0.5000\n",
            "Epoch 7/100\n",
            "2/2 [==============================] - 0s 128ms/step - loss: 7.1209e-04 - accuracy: 1.0000 - val_loss: 13.0767 - val_accuracy: 0.5000\n",
            "Epoch 8/100\n",
            "2/2 [==============================] - 0s 133ms/step - loss: 6.4588e-04 - accuracy: 1.0000 - val_loss: 12.9971 - val_accuracy: 0.5000\n",
            "Epoch 9/100\n",
            "2/2 [==============================] - 0s 124ms/step - loss: 7.6458e-04 - accuracy: 1.0000 - val_loss: 12.9191 - val_accuracy: 0.5000\n",
            "Epoch 10/100\n",
            "2/2 [==============================] - 0s 124ms/step - loss: 4.9016e-04 - accuracy: 1.0000 - val_loss: 12.8479 - val_accuracy: 0.5000\n",
            "Epoch 11/100\n",
            "2/2 [==============================] - 0s 129ms/step - loss: 8.1941e-04 - accuracy: 1.0000 - val_loss: 12.7819 - val_accuracy: 0.5000\n",
            "Epoch 12/100\n",
            "2/2 [==============================] - 0s 124ms/step - loss: 3.5114e-04 - accuracy: 1.0000 - val_loss: 12.7173 - val_accuracy: 0.5000\n",
            "Epoch 13/100\n",
            "2/2 [==============================] - 0s 130ms/step - loss: 3.7524e-04 - accuracy: 1.0000 - val_loss: 12.6583 - val_accuracy: 0.5000\n",
            "Epoch 14/100\n",
            "2/2 [==============================] - 0s 120ms/step - loss: 3.0289e-04 - accuracy: 1.0000 - val_loss: 12.5994 - val_accuracy: 0.5000\n",
            "Epoch 15/100\n",
            "2/2 [==============================] - 0s 123ms/step - loss: 3.3222e-04 - accuracy: 1.0000 - val_loss: 12.5449 - val_accuracy: 0.5000\n",
            "Epoch 16/100\n",
            "2/2 [==============================] - 0s 128ms/step - loss: 3.1126e-04 - accuracy: 1.0000 - val_loss: 12.4908 - val_accuracy: 0.5000\n",
            "Epoch 17/100\n",
            "2/2 [==============================] - 0s 122ms/step - loss: 2.4874e-04 - accuracy: 1.0000 - val_loss: 12.4432 - val_accuracy: 0.5000\n",
            "Epoch 18/100\n",
            "2/2 [==============================] - 0s 126ms/step - loss: 1.7481e-04 - accuracy: 1.0000 - val_loss: 12.4002 - val_accuracy: 0.5000\n",
            "Epoch 19/100\n",
            "2/2 [==============================] - 0s 121ms/step - loss: 1.8841e-04 - accuracy: 1.0000 - val_loss: 12.3596 - val_accuracy: 0.5000\n",
            "Epoch 20/100\n",
            "2/2 [==============================] - 0s 130ms/step - loss: 3.1240e-04 - accuracy: 1.0000 - val_loss: 12.3214 - val_accuracy: 0.5000\n",
            "Epoch 21/100\n",
            "2/2 [==============================] - 0s 122ms/step - loss: 2.3278e-04 - accuracy: 1.0000 - val_loss: 12.2843 - val_accuracy: 0.5000\n",
            "Epoch 22/100\n",
            "2/2 [==============================] - 0s 122ms/step - loss: 1.1173e-04 - accuracy: 1.0000 - val_loss: 12.2503 - val_accuracy: 0.5000\n",
            "Epoch 23/100\n",
            "2/2 [==============================] - 0s 127ms/step - loss: 1.7684e-04 - accuracy: 1.0000 - val_loss: 12.2202 - val_accuracy: 0.5000\n",
            "Epoch 24/100\n",
            "2/2 [==============================] - 0s 125ms/step - loss: 1.6450e-04 - accuracy: 1.0000 - val_loss: 12.1880 - val_accuracy: 0.5000\n",
            "Epoch 25/100\n",
            "2/2 [==============================] - 0s 125ms/step - loss: 1.8526e-04 - accuracy: 1.0000 - val_loss: 12.1602 - val_accuracy: 0.5000\n",
            "Epoch 26/100\n",
            "2/2 [==============================] - 0s 165ms/step - loss: 1.2853e-04 - accuracy: 1.0000 - val_loss: 12.1351 - val_accuracy: 0.5000\n",
            "Epoch 27/100\n",
            "2/2 [==============================] - 0s 125ms/step - loss: 1.0674e-04 - accuracy: 1.0000 - val_loss: 12.1116 - val_accuracy: 0.5000\n",
            "Epoch 28/100\n",
            "2/2 [==============================] - 0s 125ms/step - loss: 1.4547e-04 - accuracy: 1.0000 - val_loss: 12.0886 - val_accuracy: 0.5000\n",
            "Epoch 29/100\n",
            "2/2 [==============================] - 0s 120ms/step - loss: 1.8153e-04 - accuracy: 1.0000 - val_loss: 12.0694 - val_accuracy: 0.5000\n",
            "Epoch 30/100\n",
            "2/2 [==============================] - 0s 126ms/step - loss: 1.1761e-04 - accuracy: 1.0000 - val_loss: 12.0490 - val_accuracy: 0.5000\n",
            "Epoch 31/100\n",
            "2/2 [==============================] - 0s 125ms/step - loss: 1.6391e-04 - accuracy: 1.0000 - val_loss: 12.0304 - val_accuracy: 0.5000\n",
            "Epoch 32/100\n",
            "2/2 [==============================] - 0s 127ms/step - loss: 1.8185e-04 - accuracy: 1.0000 - val_loss: 12.0149 - val_accuracy: 0.5000\n",
            "Epoch 33/100\n",
            "2/2 [==============================] - 0s 123ms/step - loss: 1.2148e-04 - accuracy: 1.0000 - val_loss: 11.9973 - val_accuracy: 0.5000\n",
            "Epoch 34/100\n",
            "2/2 [==============================] - 0s 160ms/step - loss: 1.1963e-04 - accuracy: 1.0000 - val_loss: 11.9844 - val_accuracy: 0.5000\n",
            "Epoch 35/100\n",
            "2/2 [==============================] - 0s 128ms/step - loss: 9.9174e-05 - accuracy: 1.0000 - val_loss: 11.9724 - val_accuracy: 0.5000\n",
            "Epoch 36/100\n",
            "2/2 [==============================] - 0s 126ms/step - loss: 1.0437e-04 - accuracy: 1.0000 - val_loss: 11.9589 - val_accuracy: 0.5000\n",
            "Epoch 37/100\n",
            "2/2 [==============================] - 0s 124ms/step - loss: 9.0518e-05 - accuracy: 1.0000 - val_loss: 11.9492 - val_accuracy: 0.5000\n",
            "Epoch 38/100\n",
            "2/2 [==============================] - 0s 122ms/step - loss: 1.0904e-04 - accuracy: 1.0000 - val_loss: 11.9413 - val_accuracy: 0.5000\n",
            "Epoch 39/100\n",
            "2/2 [==============================] - 0s 137ms/step - loss: 9.3684e-05 - accuracy: 1.0000 - val_loss: 11.9319 - val_accuracy: 0.5000\n",
            "Epoch 40/100\n",
            "2/2 [==============================] - 0s 126ms/step - loss: 7.7053e-05 - accuracy: 1.0000 - val_loss: 11.9237 - val_accuracy: 0.5000\n",
            "Epoch 41/100\n",
            "2/2 [==============================] - 0s 124ms/step - loss: 1.3557e-04 - accuracy: 1.0000 - val_loss: 11.9157 - val_accuracy: 0.5000\n",
            "Epoch 42/100\n",
            "2/2 [==============================] - 0s 128ms/step - loss: 1.2162e-04 - accuracy: 1.0000 - val_loss: 11.9090 - val_accuracy: 0.5000\n",
            "Epoch 43/100\n",
            "2/2 [==============================] - 0s 123ms/step - loss: 9.3619e-05 - accuracy: 1.0000 - val_loss: 11.9039 - val_accuracy: 0.5000\n",
            "Epoch 44/100\n",
            "2/2 [==============================] - 0s 123ms/step - loss: 7.1167e-05 - accuracy: 1.0000 - val_loss: 11.9005 - val_accuracy: 0.5000\n",
            "Epoch 45/100\n",
            "2/2 [==============================] - 0s 125ms/step - loss: 9.8714e-05 - accuracy: 1.0000 - val_loss: 11.8972 - val_accuracy: 0.5000\n",
            "Epoch 46/100\n",
            "2/2 [==============================] - 0s 124ms/step - loss: 1.0459e-04 - accuracy: 1.0000 - val_loss: 11.8949 - val_accuracy: 0.5000\n",
            "Epoch 47/100\n",
            "2/2 [==============================] - 0s 126ms/step - loss: 8.6147e-05 - accuracy: 1.0000 - val_loss: 11.8928 - val_accuracy: 0.5000\n",
            "Epoch 48/100\n",
            "2/2 [==============================] - 0s 128ms/step - loss: 6.4380e-05 - accuracy: 1.0000 - val_loss: 11.8922 - val_accuracy: 0.5000\n",
            "Epoch 49/100\n",
            "2/2 [==============================] - 0s 129ms/step - loss: 1.2134e-04 - accuracy: 1.0000 - val_loss: 11.8913 - val_accuracy: 0.5000\n",
            "Epoch 50/100\n",
            "2/2 [==============================] - 0s 127ms/step - loss: 7.0648e-05 - accuracy: 1.0000 - val_loss: 11.8929 - val_accuracy: 0.5000\n",
            "Epoch 51/100\n",
            "2/2 [==============================] - 0s 126ms/step - loss: 7.2977e-05 - accuracy: 1.0000 - val_loss: 11.8936 - val_accuracy: 0.5000\n",
            "Epoch 52/100\n",
            "2/2 [==============================] - 0s 128ms/step - loss: 7.7257e-05 - accuracy: 1.0000 - val_loss: 11.8952 - val_accuracy: 0.5000\n",
            "Epoch 53/100\n",
            "2/2 [==============================] - 0s 128ms/step - loss: 7.6363e-05 - accuracy: 1.0000 - val_loss: 11.8996 - val_accuracy: 0.5000\n",
            "Epoch 54/100\n",
            "2/2 [==============================] - 0s 126ms/step - loss: 5.4856e-05 - accuracy: 1.0000 - val_loss: 11.9022 - val_accuracy: 0.5000\n",
            "Epoch 55/100\n",
            "2/2 [==============================] - 0s 132ms/step - loss: 6.5564e-05 - accuracy: 1.0000 - val_loss: 11.9054 - val_accuracy: 0.5000\n",
            "Epoch 56/100\n",
            "2/2 [==============================] - 0s 136ms/step - loss: 6.5873e-05 - accuracy: 1.0000 - val_loss: 11.9093 - val_accuracy: 0.5000\n",
            "Epoch 57/100\n",
            "2/2 [==============================] - 0s 126ms/step - loss: 6.0839e-05 - accuracy: 1.0000 - val_loss: 11.9151 - val_accuracy: 0.5000\n",
            "Epoch 58/100\n",
            "2/2 [==============================] - 0s 127ms/step - loss: 5.8139e-05 - accuracy: 1.0000 - val_loss: 11.9202 - val_accuracy: 0.5000\n",
            "Epoch 59/100\n",
            "2/2 [==============================] - 0s 124ms/step - loss: 6.8046e-05 - accuracy: 1.0000 - val_loss: 11.9295 - val_accuracy: 0.5000\n",
            "Epoch 60/100\n",
            "2/2 [==============================] - 0s 125ms/step - loss: 5.3245e-05 - accuracy: 1.0000 - val_loss: 11.9362 - val_accuracy: 0.5000\n",
            "Epoch 61/100\n",
            "2/2 [==============================] - 0s 123ms/step - loss: 6.1828e-05 - accuracy: 1.0000 - val_loss: 11.9446 - val_accuracy: 0.5000\n",
            "Epoch 62/100\n",
            "2/2 [==============================] - 0s 124ms/step - loss: 6.8977e-05 - accuracy: 1.0000 - val_loss: 11.9548 - val_accuracy: 0.5000\n",
            "Epoch 63/100\n",
            "2/2 [==============================] - 0s 125ms/step - loss: 6.4699e-05 - accuracy: 1.0000 - val_loss: 11.9623 - val_accuracy: 0.5000\n",
            "Epoch 64/100\n",
            "2/2 [==============================] - 0s 125ms/step - loss: 8.5273e-05 - accuracy: 1.0000 - val_loss: 11.9688 - val_accuracy: 0.5000\n",
            "Epoch 65/100\n",
            "2/2 [==============================] - 0s 128ms/step - loss: 5.5953e-05 - accuracy: 1.0000 - val_loss: 11.9763 - val_accuracy: 0.5000\n",
            "Epoch 66/100\n",
            "2/2 [==============================] - 0s 131ms/step - loss: 5.0031e-05 - accuracy: 1.0000 - val_loss: 11.9858 - val_accuracy: 0.5000\n",
            "Epoch 67/100\n",
            "2/2 [==============================] - 0s 127ms/step - loss: 6.0384e-05 - accuracy: 1.0000 - val_loss: 11.9952 - val_accuracy: 0.5000\n",
            "Epoch 68/100\n",
            "2/2 [==============================] - 0s 127ms/step - loss: 5.6823e-05 - accuracy: 1.0000 - val_loss: 12.0057 - val_accuracy: 0.5000\n",
            "Epoch 69/100\n",
            "2/2 [==============================] - 0s 126ms/step - loss: 7.5098e-05 - accuracy: 1.0000 - val_loss: 12.0185 - val_accuracy: 0.5000\n",
            "Epoch 70/100\n",
            "2/2 [==============================] - 0s 126ms/step - loss: 7.0532e-05 - accuracy: 1.0000 - val_loss: 12.0291 - val_accuracy: 0.5000\n",
            "Epoch 71/100\n",
            "2/2 [==============================] - 0s 128ms/step - loss: 8.9544e-05 - accuracy: 1.0000 - val_loss: 12.0378 - val_accuracy: 0.5000\n",
            "Epoch 72/100\n",
            "2/2 [==============================] - 0s 130ms/step - loss: 6.4520e-05 - accuracy: 1.0000 - val_loss: 12.0508 - val_accuracy: 0.5000\n",
            "Epoch 73/100\n",
            "2/2 [==============================] - 0s 128ms/step - loss: 4.6610e-05 - accuracy: 1.0000 - val_loss: 12.0644 - val_accuracy: 0.5000\n",
            "Epoch 74/100\n",
            "2/2 [==============================] - 0s 128ms/step - loss: 5.0159e-05 - accuracy: 1.0000 - val_loss: 12.0758 - val_accuracy: 0.5000\n",
            "Epoch 75/100\n",
            "2/2 [==============================] - 0s 127ms/step - loss: 3.5183e-05 - accuracy: 1.0000 - val_loss: 12.0870 - val_accuracy: 0.5000\n",
            "Epoch 76/100\n",
            "2/2 [==============================] - 0s 128ms/step - loss: 4.2718e-05 - accuracy: 1.0000 - val_loss: 12.0977 - val_accuracy: 0.5000\n",
            "Epoch 77/100\n",
            "2/2 [==============================] - 0s 126ms/step - loss: 3.4682e-05 - accuracy: 1.0000 - val_loss: 12.1087 - val_accuracy: 0.5000\n",
            "Epoch 78/100\n",
            "2/2 [==============================] - 0s 123ms/step - loss: 4.6999e-05 - accuracy: 1.0000 - val_loss: 12.1223 - val_accuracy: 0.5000\n",
            "Epoch 79/100\n",
            "2/2 [==============================] - 0s 124ms/step - loss: 5.0744e-05 - accuracy: 1.0000 - val_loss: 12.1335 - val_accuracy: 0.5000\n",
            "Epoch 80/100\n",
            "2/2 [==============================] - 0s 137ms/step - loss: 4.1095e-05 - accuracy: 1.0000 - val_loss: 12.1468 - val_accuracy: 0.5000\n",
            "Epoch 81/100\n",
            "2/2 [==============================] - 0s 127ms/step - loss: 3.7658e-05 - accuracy: 1.0000 - val_loss: 12.1620 - val_accuracy: 0.5000\n",
            "Epoch 82/100\n",
            "2/2 [==============================] - 0s 126ms/step - loss: 5.2388e-05 - accuracy: 1.0000 - val_loss: 12.1756 - val_accuracy: 0.5000\n",
            "Epoch 83/100\n",
            "2/2 [==============================] - 0s 128ms/step - loss: 4.4715e-05 - accuracy: 1.0000 - val_loss: 12.1898 - val_accuracy: 0.5000\n",
            "Epoch 84/100\n",
            "2/2 [==============================] - 0s 124ms/step - loss: 5.1398e-05 - accuracy: 1.0000 - val_loss: 12.2065 - val_accuracy: 0.5000\n",
            "Epoch 85/100\n",
            "2/2 [==============================] - 0s 126ms/step - loss: 5.6722e-05 - accuracy: 1.0000 - val_loss: 12.2220 - val_accuracy: 0.5000\n",
            "Epoch 86/100\n",
            "2/2 [==============================] - 0s 131ms/step - loss: 4.1228e-05 - accuracy: 1.0000 - val_loss: 12.2356 - val_accuracy: 0.5000\n",
            "Epoch 87/100\n",
            "2/2 [==============================] - 0s 133ms/step - loss: 4.5858e-05 - accuracy: 1.0000 - val_loss: 12.2506 - val_accuracy: 0.5000\n",
            "Epoch 88/100\n",
            "2/2 [==============================] - 0s 129ms/step - loss: 4.2386e-05 - accuracy: 1.0000 - val_loss: 12.2655 - val_accuracy: 0.5000\n",
            "Epoch 89/100\n",
            "2/2 [==============================] - 0s 130ms/step - loss: 2.5191e-05 - accuracy: 1.0000 - val_loss: 12.2789 - val_accuracy: 0.5000\n",
            "Epoch 90/100\n",
            "2/2 [==============================] - 0s 129ms/step - loss: 3.7647e-05 - accuracy: 1.0000 - val_loss: 12.2945 - val_accuracy: 0.5000\n",
            "Epoch 91/100\n",
            "2/2 [==============================] - 0s 125ms/step - loss: 4.6526e-05 - accuracy: 1.0000 - val_loss: 12.3081 - val_accuracy: 0.5000\n",
            "Epoch 92/100\n",
            "2/2 [==============================] - 0s 128ms/step - loss: 4.8335e-05 - accuracy: 1.0000 - val_loss: 12.3248 - val_accuracy: 0.5000\n",
            "Epoch 93/100\n",
            "2/2 [==============================] - 0s 125ms/step - loss: 4.7580e-05 - accuracy: 1.0000 - val_loss: 12.3371 - val_accuracy: 0.5000\n",
            "Epoch 94/100\n",
            "2/2 [==============================] - 0s 136ms/step - loss: 5.3131e-05 - accuracy: 1.0000 - val_loss: 12.3511 - val_accuracy: 0.5000\n",
            "Epoch 95/100\n",
            "2/2 [==============================] - 0s 130ms/step - loss: 4.2694e-05 - accuracy: 1.0000 - val_loss: 12.3660 - val_accuracy: 0.5000\n",
            "Epoch 96/100\n",
            "2/2 [==============================] - 0s 134ms/step - loss: 3.9432e-05 - accuracy: 1.0000 - val_loss: 12.3811 - val_accuracy: 0.5000\n",
            "Epoch 97/100\n",
            "2/2 [==============================] - 0s 126ms/step - loss: 4.6107e-05 - accuracy: 1.0000 - val_loss: 12.4005 - val_accuracy: 0.5000\n",
            "Epoch 98/100\n",
            "2/2 [==============================] - 0s 162ms/step - loss: 3.7752e-05 - accuracy: 1.0000 - val_loss: 12.4158 - val_accuracy: 0.5000\n",
            "Epoch 99/100\n",
            "2/2 [==============================] - 0s 128ms/step - loss: 4.3499e-05 - accuracy: 1.0000 - val_loss: 12.4295 - val_accuracy: 0.5000\n",
            "Epoch 100/100\n",
            "2/2 [==============================] - 0s 124ms/step - loss: 4.0311e-05 - accuracy: 1.0000 - val_loss: 12.4442 - val_accuracy: 0.5000\n"
          ]
        },
        {
          "output_type": "stream",
          "name": "stderr",
          "text": [
            "\u001b[32m[I 2022-04-07 09:10:15,809]\u001b[0m Trial 1 finished with value: 0.5 and parameters: {'learning_rate': 0.019141982664879147, 'momentum': 0.5889466101421929}. Best is trial 0 with value: 0.5.\u001b[0m\n"
          ]
        },
        {
          "output_type": "stream",
          "name": "stdout",
          "text": [
            "Epoch 1/100\n",
            "2/2 [==============================] - 4s 1s/step - loss: 9.4443 - accuracy: 0.4375 - val_loss: 65.3443 - val_accuracy: 0.3333\n",
            "Epoch 2/100\n",
            "2/2 [==============================] - 0s 144ms/step - loss: 24.5339 - accuracy: 0.6667 - val_loss: 52.2003 - val_accuracy: 0.5000\n",
            "Epoch 3/100\n",
            "2/2 [==============================] - 0s 138ms/step - loss: 33.7329 - accuracy: 0.7708 - val_loss: 764.9816 - val_accuracy: 0.1667\n",
            "Epoch 4/100\n",
            "2/2 [==============================] - 0s 133ms/step - loss: 0.0000e+00 - accuracy: 1.0000 - val_loss: 1212.4562 - val_accuracy: 0.1667\n",
            "Epoch 5/100\n",
            "2/2 [==============================] - 0s 128ms/step - loss: 0.0000e+00 - accuracy: 1.0000 - val_loss: 1537.7196 - val_accuracy: 0.1667\n",
            "Epoch 6/100\n",
            "2/2 [==============================] - 0s 132ms/step - loss: 0.0000e+00 - accuracy: 1.0000 - val_loss: 1756.6705 - val_accuracy: 0.1667\n",
            "Epoch 7/100\n",
            "2/2 [==============================] - 0s 124ms/step - loss: 0.0000e+00 - accuracy: 1.0000 - val_loss: 1895.3739 - val_accuracy: 0.1667\n",
            "Epoch 8/100\n",
            "2/2 [==============================] - 0s 126ms/step - loss: 2.1698 - accuracy: 0.9583 - val_loss: 2083.1548 - val_accuracy: 0.1667\n",
            "Epoch 9/100\n",
            "2/2 [==============================] - 0s 126ms/step - loss: 0.0000e+00 - accuracy: 1.0000 - val_loss: 2097.3333 - val_accuracy: 0.1667\n",
            "Epoch 10/100\n",
            "2/2 [==============================] - 0s 125ms/step - loss: 0.0000e+00 - accuracy: 1.0000 - val_loss: 2101.3386 - val_accuracy: 0.1667\n",
            "Epoch 11/100\n",
            "2/2 [==============================] - 0s 122ms/step - loss: 0.0000e+00 - accuracy: 1.0000 - val_loss: 2097.9856 - val_accuracy: 0.1667\n",
            "Epoch 12/100\n",
            "2/2 [==============================] - 0s 128ms/step - loss: 0.0000e+00 - accuracy: 1.0000 - val_loss: 2087.5398 - val_accuracy: 0.1667\n",
            "Epoch 13/100\n",
            "2/2 [==============================] - 0s 124ms/step - loss: 0.0000e+00 - accuracy: 1.0000 - val_loss: 2073.1140 - val_accuracy: 0.1667\n",
            "Epoch 14/100\n",
            "2/2 [==============================] - 0s 125ms/step - loss: 0.0000e+00 - accuracy: 1.0000 - val_loss: 2058.1882 - val_accuracy: 0.0000e+00\n",
            "Epoch 15/100\n",
            "2/2 [==============================] - 0s 129ms/step - loss: 0.0000e+00 - accuracy: 1.0000 - val_loss: 2042.2881 - val_accuracy: 0.0000e+00\n",
            "Epoch 16/100\n",
            "2/2 [==============================] - 0s 123ms/step - loss: 0.0000e+00 - accuracy: 1.0000 - val_loss: 2026.3013 - val_accuracy: 0.0000e+00\n",
            "Epoch 17/100\n",
            "2/2 [==============================] - 0s 128ms/step - loss: 0.0000e+00 - accuracy: 1.0000 - val_loss: 2010.7157 - val_accuracy: 0.0000e+00\n",
            "Epoch 18/100\n",
            "2/2 [==============================] - 0s 125ms/step - loss: 0.0000e+00 - accuracy: 1.0000 - val_loss: 1994.0537 - val_accuracy: 0.0000e+00\n",
            "Epoch 19/100\n",
            "2/2 [==============================] - 0s 127ms/step - loss: 0.0000e+00 - accuracy: 1.0000 - val_loss: 1977.4503 - val_accuracy: 0.0000e+00\n",
            "Epoch 20/100\n",
            "2/2 [==============================] - 0s 125ms/step - loss: 0.0000e+00 - accuracy: 1.0000 - val_loss: 1962.3622 - val_accuracy: 0.0000e+00\n",
            "Epoch 21/100\n",
            "2/2 [==============================] - 0s 127ms/step - loss: 0.0000e+00 - accuracy: 1.0000 - val_loss: 1947.0840 - val_accuracy: 0.0000e+00\n",
            "Epoch 22/100\n",
            "2/2 [==============================] - 0s 124ms/step - loss: 0.0000e+00 - accuracy: 1.0000 - val_loss: 1932.4775 - val_accuracy: 0.0000e+00\n",
            "Epoch 23/100\n",
            "2/2 [==============================] - 0s 124ms/step - loss: 0.0000e+00 - accuracy: 1.0000 - val_loss: 1918.7031 - val_accuracy: 0.0000e+00\n",
            "Epoch 24/100\n",
            "2/2 [==============================] - 0s 121ms/step - loss: 0.0000e+00 - accuracy: 1.0000 - val_loss: 1905.1107 - val_accuracy: 0.0000e+00\n",
            "Epoch 25/100\n",
            "2/2 [==============================] - 0s 125ms/step - loss: 0.0000e+00 - accuracy: 1.0000 - val_loss: 1891.5973 - val_accuracy: 0.0000e+00\n",
            "Epoch 26/100\n",
            "2/2 [==============================] - 0s 168ms/step - loss: 0.0000e+00 - accuracy: 1.0000 - val_loss: 1878.7780 - val_accuracy: 0.0000e+00\n",
            "Epoch 27/100\n",
            "2/2 [==============================] - 0s 124ms/step - loss: 0.0000e+00 - accuracy: 1.0000 - val_loss: 1867.0939 - val_accuracy: 0.0000e+00\n",
            "Epoch 28/100\n",
            "2/2 [==============================] - 0s 126ms/step - loss: 0.0000e+00 - accuracy: 1.0000 - val_loss: 1854.9982 - val_accuracy: 0.0000e+00\n",
            "Epoch 29/100\n",
            "2/2 [==============================] - 0s 127ms/step - loss: 0.0000e+00 - accuracy: 1.0000 - val_loss: 1843.9432 - val_accuracy: 0.0000e+00\n",
            "Epoch 30/100\n",
            "2/2 [==============================] - 0s 134ms/step - loss: 0.0000e+00 - accuracy: 1.0000 - val_loss: 1832.8932 - val_accuracy: 0.0000e+00\n",
            "Epoch 31/100\n",
            "2/2 [==============================] - 0s 124ms/step - loss: 0.0000e+00 - accuracy: 1.0000 - val_loss: 1822.0062 - val_accuracy: 0.0000e+00\n",
            "Epoch 32/100\n",
            "2/2 [==============================] - 0s 123ms/step - loss: 0.0000e+00 - accuracy: 1.0000 - val_loss: 1812.1547 - val_accuracy: 0.0000e+00\n",
            "Epoch 33/100\n",
            "2/2 [==============================] - 0s 127ms/step - loss: 0.0000e+00 - accuracy: 1.0000 - val_loss: 1802.2533 - val_accuracy: 0.0000e+00\n",
            "Epoch 34/100\n",
            "2/2 [==============================] - 0s 130ms/step - loss: 0.0000e+00 - accuracy: 1.0000 - val_loss: 1793.3947 - val_accuracy: 0.0000e+00\n",
            "Epoch 35/100\n",
            "2/2 [==============================] - 0s 126ms/step - loss: 0.0000e+00 - accuracy: 1.0000 - val_loss: 1784.0565 - val_accuracy: 0.0000e+00\n",
            "Epoch 36/100\n",
            "2/2 [==============================] - 0s 164ms/step - loss: 0.0000e+00 - accuracy: 1.0000 - val_loss: 1776.1334 - val_accuracy: 0.0000e+00\n",
            "Epoch 37/100\n",
            "2/2 [==============================] - 0s 123ms/step - loss: 0.0000e+00 - accuracy: 1.0000 - val_loss: 1767.9222 - val_accuracy: 0.0000e+00\n",
            "Epoch 38/100\n",
            "2/2 [==============================] - 0s 129ms/step - loss: 0.0000e+00 - accuracy: 1.0000 - val_loss: 1760.4199 - val_accuracy: 0.0000e+00\n",
            "Epoch 39/100\n",
            "2/2 [==============================] - 0s 123ms/step - loss: 0.0000e+00 - accuracy: 1.0000 - val_loss: 1752.9814 - val_accuracy: 0.0000e+00\n",
            "Epoch 40/100\n",
            "2/2 [==============================] - 0s 128ms/step - loss: 0.0000e+00 - accuracy: 1.0000 - val_loss: 1746.1410 - val_accuracy: 0.0000e+00\n",
            "Epoch 41/100\n",
            "2/2 [==============================] - 0s 126ms/step - loss: 0.0000e+00 - accuracy: 1.0000 - val_loss: 1739.6685 - val_accuracy: 0.0000e+00\n",
            "Epoch 42/100\n",
            "2/2 [==============================] - 0s 124ms/step - loss: 0.0000e+00 - accuracy: 1.0000 - val_loss: 1733.7067 - val_accuracy: 0.0000e+00\n",
            "Epoch 43/100\n",
            "2/2 [==============================] - 0s 124ms/step - loss: 0.0000e+00 - accuracy: 1.0000 - val_loss: 1727.5262 - val_accuracy: 0.0000e+00\n",
            "Epoch 44/100\n",
            "2/2 [==============================] - 0s 125ms/step - loss: 0.0000e+00 - accuracy: 1.0000 - val_loss: 1721.8737 - val_accuracy: 0.0000e+00\n",
            "Epoch 45/100\n",
            "2/2 [==============================] - 0s 127ms/step - loss: 0.0000e+00 - accuracy: 1.0000 - val_loss: 1716.7378 - val_accuracy: 0.0000e+00\n",
            "Epoch 46/100\n",
            "2/2 [==============================] - 0s 130ms/step - loss: 0.0000e+00 - accuracy: 1.0000 - val_loss: 1711.4238 - val_accuracy: 0.0000e+00\n",
            "Epoch 47/100\n",
            "2/2 [==============================] - 0s 129ms/step - loss: 0.0000e+00 - accuracy: 1.0000 - val_loss: 1706.3096 - val_accuracy: 0.0000e+00\n",
            "Epoch 48/100\n",
            "2/2 [==============================] - 0s 125ms/step - loss: 0.0000e+00 - accuracy: 1.0000 - val_loss: 1701.7780 - val_accuracy: 0.0000e+00\n",
            "Epoch 49/100\n",
            "2/2 [==============================] - 0s 132ms/step - loss: 0.0000e+00 - accuracy: 1.0000 - val_loss: 1697.3325 - val_accuracy: 0.0000e+00\n",
            "Epoch 50/100\n",
            "2/2 [==============================] - 0s 127ms/step - loss: 0.0000e+00 - accuracy: 1.0000 - val_loss: 1693.4459 - val_accuracy: 0.0000e+00\n",
            "Epoch 51/100\n",
            "2/2 [==============================] - 0s 126ms/step - loss: 0.0000e+00 - accuracy: 1.0000 - val_loss: 1689.6520 - val_accuracy: 0.0000e+00\n",
            "Epoch 52/100\n",
            "2/2 [==============================] - 0s 126ms/step - loss: 0.0000e+00 - accuracy: 1.0000 - val_loss: 1686.2603 - val_accuracy: 0.0000e+00\n",
            "Epoch 53/100\n",
            "2/2 [==============================] - 0s 129ms/step - loss: 0.0000e+00 - accuracy: 1.0000 - val_loss: 1682.9501 - val_accuracy: 0.0000e+00\n",
            "Epoch 54/100\n",
            "2/2 [==============================] - 0s 127ms/step - loss: 0.0000e+00 - accuracy: 1.0000 - val_loss: 1680.0498 - val_accuracy: 0.0000e+00\n",
            "Epoch 55/100\n",
            "2/2 [==============================] - 0s 131ms/step - loss: 0.0000e+00 - accuracy: 1.0000 - val_loss: 1676.9786 - val_accuracy: 0.0000e+00\n",
            "Epoch 56/100\n",
            "2/2 [==============================] - 0s 129ms/step - loss: 0.0000e+00 - accuracy: 1.0000 - val_loss: 1674.4850 - val_accuracy: 0.0000e+00\n",
            "Epoch 57/100\n",
            "2/2 [==============================] - 0s 129ms/step - loss: 0.0000e+00 - accuracy: 1.0000 - val_loss: 1672.1371 - val_accuracy: 0.0000e+00\n",
            "Epoch 58/100\n",
            "2/2 [==============================] - 0s 124ms/step - loss: 0.0000e+00 - accuracy: 1.0000 - val_loss: 1669.5786 - val_accuracy: 0.0000e+00\n",
            "Epoch 59/100\n",
            "2/2 [==============================] - 0s 127ms/step - loss: 0.0000e+00 - accuracy: 1.0000 - val_loss: 1667.7936 - val_accuracy: 0.0000e+00\n",
            "Epoch 60/100\n",
            "2/2 [==============================] - 0s 121ms/step - loss: 0.0000e+00 - accuracy: 1.0000 - val_loss: 1666.3087 - val_accuracy: 0.0000e+00\n",
            "Epoch 61/100\n",
            "2/2 [==============================] - 0s 135ms/step - loss: 0.0000e+00 - accuracy: 1.0000 - val_loss: 1664.8452 - val_accuracy: 0.0000e+00\n",
            "Epoch 62/100\n",
            "2/2 [==============================] - 0s 123ms/step - loss: 0.0000e+00 - accuracy: 1.0000 - val_loss: 1663.9269 - val_accuracy: 0.0000e+00\n",
            "Epoch 63/100\n",
            "2/2 [==============================] - 0s 124ms/step - loss: 0.0000e+00 - accuracy: 1.0000 - val_loss: 1662.5983 - val_accuracy: 0.0000e+00\n",
            "Epoch 64/100\n",
            "2/2 [==============================] - 0s 126ms/step - loss: 0.0000e+00 - accuracy: 1.0000 - val_loss: 1662.3202 - val_accuracy: 0.0000e+00\n",
            "Epoch 65/100\n",
            "2/2 [==============================] - 0s 124ms/step - loss: 0.0000e+00 - accuracy: 1.0000 - val_loss: 1662.0815 - val_accuracy: 0.0000e+00\n",
            "Epoch 66/100\n",
            "2/2 [==============================] - 0s 128ms/step - loss: 0.0000e+00 - accuracy: 1.0000 - val_loss: 1661.4633 - val_accuracy: 0.0000e+00\n",
            "Epoch 67/100\n",
            "2/2 [==============================] - 0s 126ms/step - loss: 0.0000e+00 - accuracy: 1.0000 - val_loss: 1660.4391 - val_accuracy: 0.0000e+00\n",
            "Epoch 68/100\n",
            "2/2 [==============================] - 0s 126ms/step - loss: 0.0000e+00 - accuracy: 1.0000 - val_loss: 1660.0171 - val_accuracy: 0.0000e+00\n",
            "Epoch 69/100\n",
            "2/2 [==============================] - 0s 124ms/step - loss: 0.0000e+00 - accuracy: 1.0000 - val_loss: 1659.3356 - val_accuracy: 0.0000e+00\n",
            "Epoch 70/100\n",
            "2/2 [==============================] - 0s 124ms/step - loss: 0.0000e+00 - accuracy: 1.0000 - val_loss: 1659.1722 - val_accuracy: 0.1667\n",
            "Epoch 71/100\n",
            "2/2 [==============================] - 0s 126ms/step - loss: 0.0000e+00 - accuracy: 1.0000 - val_loss: 1659.9703 - val_accuracy: 0.1667\n",
            "Epoch 72/100\n",
            "2/2 [==============================] - 0s 124ms/step - loss: 0.0000e+00 - accuracy: 1.0000 - val_loss: 1660.1949 - val_accuracy: 0.1667\n",
            "Epoch 73/100\n",
            "2/2 [==============================] - 0s 129ms/step - loss: 0.0000e+00 - accuracy: 1.0000 - val_loss: 1661.8851 - val_accuracy: 0.1667\n",
            "Epoch 74/100\n",
            "2/2 [==============================] - 0s 124ms/step - loss: 0.0000e+00 - accuracy: 1.0000 - val_loss: 1662.4390 - val_accuracy: 0.1667\n",
            "Epoch 75/100\n",
            "2/2 [==============================] - 0s 123ms/step - loss: 0.0000e+00 - accuracy: 1.0000 - val_loss: 1664.1071 - val_accuracy: 0.1667\n",
            "Epoch 76/100\n",
            "2/2 [==============================] - 0s 127ms/step - loss: 0.0000e+00 - accuracy: 1.0000 - val_loss: 1665.1543 - val_accuracy: 0.1667\n",
            "Epoch 77/100\n",
            "2/2 [==============================] - 0s 126ms/step - loss: 0.0000e+00 - accuracy: 1.0000 - val_loss: 1665.6211 - val_accuracy: 0.1667\n",
            "Epoch 78/100\n",
            "2/2 [==============================] - 0s 170ms/step - loss: 0.0000e+00 - accuracy: 1.0000 - val_loss: 1666.8942 - val_accuracy: 0.1667\n",
            "Epoch 79/100\n",
            "2/2 [==============================] - 0s 130ms/step - loss: 0.0000e+00 - accuracy: 1.0000 - val_loss: 1669.1019 - val_accuracy: 0.1667\n",
            "Epoch 80/100\n",
            "2/2 [==============================] - 0s 125ms/step - loss: 0.0000e+00 - accuracy: 1.0000 - val_loss: 1670.8314 - val_accuracy: 0.1667\n",
            "Epoch 81/100\n",
            "2/2 [==============================] - 0s 164ms/step - loss: 0.0000e+00 - accuracy: 1.0000 - val_loss: 1672.7694 - val_accuracy: 0.1667\n",
            "Epoch 82/100\n",
            "2/2 [==============================] - 0s 127ms/step - loss: 0.0000e+00 - accuracy: 1.0000 - val_loss: 1674.8799 - val_accuracy: 0.1667\n",
            "Epoch 83/100\n",
            "2/2 [==============================] - 0s 127ms/step - loss: 0.0000e+00 - accuracy: 1.0000 - val_loss: 1677.2808 - val_accuracy: 0.1667\n",
            "Epoch 84/100\n",
            "2/2 [==============================] - 0s 129ms/step - loss: 0.0000e+00 - accuracy: 1.0000 - val_loss: 1679.5482 - val_accuracy: 0.1667\n",
            "Epoch 85/100\n",
            "2/2 [==============================] - 0s 130ms/step - loss: 0.0000e+00 - accuracy: 1.0000 - val_loss: 1682.4186 - val_accuracy: 0.1667\n",
            "Epoch 86/100\n",
            "2/2 [==============================] - 0s 131ms/step - loss: 0.0000e+00 - accuracy: 1.0000 - val_loss: 1684.4430 - val_accuracy: 0.1667\n",
            "Epoch 87/100\n",
            "2/2 [==============================] - 0s 134ms/step - loss: 0.0000e+00 - accuracy: 1.0000 - val_loss: 1686.6724 - val_accuracy: 0.1667\n",
            "Epoch 88/100\n",
            "2/2 [==============================] - 0s 127ms/step - loss: 0.0000e+00 - accuracy: 1.0000 - val_loss: 1689.1431 - val_accuracy: 0.1667\n",
            "Epoch 89/100\n",
            "2/2 [==============================] - 0s 127ms/step - loss: 0.0000e+00 - accuracy: 1.0000 - val_loss: 1691.4818 - val_accuracy: 0.1667\n",
            "Epoch 90/100\n",
            "2/2 [==============================] - 0s 121ms/step - loss: 0.0000e+00 - accuracy: 1.0000 - val_loss: 1693.9686 - val_accuracy: 0.1667\n",
            "Epoch 91/100\n",
            "2/2 [==============================] - 0s 127ms/step - loss: 0.0000e+00 - accuracy: 1.0000 - val_loss: 1696.6133 - val_accuracy: 0.1667\n",
            "Epoch 92/100\n",
            "2/2 [==============================] - 0s 126ms/step - loss: 0.0000e+00 - accuracy: 1.0000 - val_loss: 1700.6227 - val_accuracy: 0.1667\n",
            "Epoch 93/100\n",
            "2/2 [==============================] - 0s 125ms/step - loss: 0.0000e+00 - accuracy: 1.0000 - val_loss: 1703.6860 - val_accuracy: 0.1667\n",
            "Epoch 94/100\n",
            "2/2 [==============================] - 0s 133ms/step - loss: 0.0000e+00 - accuracy: 1.0000 - val_loss: 1706.6713 - val_accuracy: 0.1667\n",
            "Epoch 95/100\n",
            "2/2 [==============================] - 0s 123ms/step - loss: 0.0000e+00 - accuracy: 1.0000 - val_loss: 1709.4645 - val_accuracy: 0.1667\n",
            "Epoch 96/100\n",
            "2/2 [==============================] - 0s 128ms/step - loss: 0.0000e+00 - accuracy: 1.0000 - val_loss: 1711.5289 - val_accuracy: 0.1667\n",
            "Epoch 97/100\n",
            "2/2 [==============================] - 0s 128ms/step - loss: 0.0000e+00 - accuracy: 1.0000 - val_loss: 1714.9716 - val_accuracy: 0.1667\n",
            "Epoch 98/100\n",
            "2/2 [==============================] - 0s 128ms/step - loss: 0.0000e+00 - accuracy: 1.0000 - val_loss: 1718.4258 - val_accuracy: 0.1667\n",
            "Epoch 99/100\n",
            "2/2 [==============================] - 0s 124ms/step - loss: 0.0000e+00 - accuracy: 1.0000 - val_loss: 1721.5718 - val_accuracy: 0.1667\n",
            "Epoch 100/100\n",
            "2/2 [==============================] - 0s 125ms/step - loss: 0.0000e+00 - accuracy: 1.0000 - val_loss: 1724.9183 - val_accuracy: 0.1667\n"
          ]
        },
        {
          "output_type": "stream",
          "name": "stderr",
          "text": [
            "\u001b[32m[I 2022-04-07 09:11:01,167]\u001b[0m Trial 2 finished with value: 0.1666666716337204 and parameters: {'learning_rate': 0.04772382657828746, 'momentum': 0.8087750512124767}. Best is trial 0 with value: 0.5.\u001b[0m\n"
          ]
        }
      ]
    },
    {
      "cell_type": "code",
      "source": [
        "print(study.best_trial)"
      ],
      "metadata": {
        "colab": {
          "base_uri": "https://localhost:8080/"
        },
        "id": "xOUzv50xO3Ou",
        "outputId": "589daea4-0fab-44a8-b53f-af07ccccee99"
      },
      "execution_count": 81,
      "outputs": [
        {
          "output_type": "stream",
          "name": "stdout",
          "text": [
            "FrozenTrial(number=0, values=[0.5], datetime_start=datetime.datetime(2022, 4, 7, 9, 8, 43, 131225), datetime_complete=datetime.datetime(2022, 4, 7, 9, 9, 30, 30010), params={'learning_rate': 0.00013188094987546143, 'momentum': 0.7439151629707293}, distributions={'learning_rate': LogUniformDistribution(high=0.1, low=0.0001), 'momentum': UniformDistribution(high=1.0, low=0.0)}, user_attrs={}, system_attrs={}, intermediate_values={}, trial_id=0, state=TrialState.COMPLETE, value=None)\n"
          ]
        }
      ]
    },
    {
      "cell_type": "code",
      "source": [
        "#best parameter combination\n",
        "print(study.best_params)\n",
        "\n",
        "#score achieved with best parameter combination\n",
        "print(study.best_value)"
      ],
      "metadata": {
        "colab": {
          "base_uri": "https://localhost:8080/"
        },
        "id": "wP38ItzgGvbJ",
        "outputId": "6c449db5-4967-45e0-cec1-5d4821c96e96"
      },
      "execution_count": 82,
      "outputs": [
        {
          "output_type": "stream",
          "name": "stdout",
          "text": [
            "{'learning_rate': 0.00013188094987546143, 'momentum': 0.7439151629707293}\n",
            "0.5\n"
          ]
        }
      ]
    },
    {
      "cell_type": "markdown",
      "source": [
        "Shared dataset folder: https://drive.google.com/drive/folders/1aevls6GX8bkQb2QYkR26VAPbOfIGV8qy?usp=sharing"
      ],
      "metadata": {
        "id": "6Ngx9bdDhCq6"
      }
    }
  ],
  "metadata": {
    "accelerator": "GPU",
    "colab": {
      "collapsed_sections": [
        "Fe_A6XrhGiJ8",
        "6_oljLqAE5bs"
      ],
      "name": "6288156_W10.3 - Transfer Learning.ipynb",
      "provenance": []
    },
    "kernelspec": {
      "display_name": "Python 3",
      "name": "python3"
    }
  },
  "nbformat": 4,
  "nbformat_minor": 0
}